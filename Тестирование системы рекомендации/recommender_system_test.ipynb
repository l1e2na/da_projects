{
 "cells": [
  {
   "cell_type": "markdown",
   "metadata": {},
   "source": [
    "# Анализ результатов А/В - теста по внедрению улучшенной рекомендательной системы"
   ]
  },
  {
   "cell_type": "markdown",
   "metadata": {},
   "source": [
    "**Цель:** Оценить результаты изменений, связанных с внедрением улучшенной рекомендательной системы; \n",
    "\n",
    "**Описание данных:**  \n",
    "Имеется несколько датасетов:  \n",
    "`ab_project_marketing_events.csv` — календарь маркетинговых событий на 2020 год.\n",
    "\n",
    "- `name` — название маркетингового события;\n",
    "- `regions` — регионы, в которых будет проводиться рекламная кампания;\n",
    "- `start_dt` — дата начала кампании;\n",
    "- `finish_dt` — дата завершения кампании.\n",
    "\n",
    "`final_ab_new_users.csv` — данные о регистрациях пользователей с 7 до 21 декабря 2020 года.\n",
    "\n",
    "- `user_id` — идентификатор пользователя;\n",
    "- `first_date` — дата регистрации;\n",
    "- `region` — регион пользователя;\n",
    "- `device` — устройство, с которого происходила регистрация.\n",
    "\n",
    "`final_ab_events.csv` — действия новых пользователей в период с 7 декабря 2020 по 4 января 2021 года.\n",
    "\n",
    "- `user_id` — идентификатор пользователя;\n",
    "- `event_dt` — дата и время события;\n",
    "- `event_name` — тип события;\n",
    "- `details` — дополнительные данные о событии. Например, для покупок, `purchase,` в этом поле хранится стоимость покупки в долларах.\n",
    "\n",
    "`final_ab_participants.csv` — таблица участников тестов.\n",
    "\n",
    "- `user_id` — идентификатор пользователя;\n",
    "- `ab_test` — название теста;\n",
    "- `group` — группа пользователя.\n",
    "\n",
    "**Техническое задание**\n",
    "\n",
    "- Название теста: `recommender_system_test`;\n",
    "- группы: А — контрольная, B — новая платёжная воронка;\n",
    "- дата запуска: 2020-12-07;\n",
    "- дата остановки набора новых пользователей: 2020-12-21;\n",
    "- дата остановки: 2021-01-04;\n",
    "- аудитория: в тест должно быть отобрано 15% новых пользователей из региона EU;\n",
    "- назначение теста: тестирование изменений, связанных с внедрением улучшенной рекомендательной системы;\n",
    "- ожидаемое количество участников теста: 6000.\n",
    "- ожидаемый эффект: за 14 дней с момента регистрации пользователи покажут улучшение каждой метрики не менее, чем на 10%:\n",
    "    - конверсии в просмотр карточек товаров — событие `product_page`,\n",
    "    - просмотры корзины — `product_cart`,\n",
    "    - покупки — `purchase`.\n",
    "    \n",
    "**Ход исследования:**\n",
    "1) [Загрузка и обзор данных](#first); <br>\n",
    "2) [Предобработка данных](#second); <br>\n",
    "3) [Оценка корректности проведения теста](#third): <br> \n",
    "   - [Проверка данных на соответствие ТЗ, приведение к соответствию](#tz);<br>\n",
    "   - [Проверка пересечения аудитории с конкурирующим тестом](#two_tests);<br>\n",
    "   - [Проверка пересечения времени проведения теста с маркетинговыми событиями](#m_events);<br>\n",
    "   - [Проверка равномерности распределения по тестовым группам](#groups);<br>\n",
    "   \n",
    "4) [Исследовательский анализ](#fourth);<br>\n",
    "5) [Анализ результатов А/В-теста](#fifth);<br>\n",
    "6) [Общий вывод](#sixth).  "
   ]
  },
  {
   "cell_type": "markdown",
   "metadata": {},
   "source": [
    "<a id='first'></a>\n",
    "## Загрузка и обзор данных"
   ]
  },
  {
   "cell_type": "code",
   "execution_count": 1,
   "metadata": {},
   "outputs": [],
   "source": [
    "import pandas as pd\n",
    "import numpy as np\n",
    "import seaborn as sns\n",
    "import matplotlib.pyplot as plt\n",
    "import datetime\n",
    "from datetime import timedelta\n",
    "from statsmodels.stats.proportion import proportions_ztest\n",
    "from plotly import graph_objects as go"
   ]
  },
  {
   "cell_type": "code",
   "execution_count": 2,
   "metadata": {},
   "outputs": [],
   "source": [
    "try:\n",
    "    m_events = pd.read_csv('/datasets/ab_project_marketing_events.csv')\n",
    "    users = pd.read_csv('/datasets/final_ab_new_users.csv')\n",
    "    events = pd.read_csv('/datasets/final_ab_events.csv')\n",
    "    participants = pd.read_csv('/datasets/final_ab_participants.csv')\n",
    "except:\n",
    "    m_events = pd.read_csv('https://code.s3.yandex.net/datasets/ab_project_marketing_events.csv')\n",
    "    users = pd.read_csv('https://code.s3.yandex.net/datasets/final_ab_new_users.csv')\n",
    "    events = pd.read_csv('https://code.s3.yandex.net/datasets/final_ab_events.csv')\n",
    "    participants = pd.read_csv('https://code.s3.yandex.net/datasets/final_ab_participants.csv')"
   ]
  },
  {
   "cell_type": "code",
   "execution_count": 3,
   "metadata": {
    "scrolled": false
   },
   "outputs": [
    {
     "data": {
      "text/html": [
       "<div>\n",
       "<style scoped>\n",
       "    .dataframe tbody tr th:only-of-type {\n",
       "        vertical-align: middle;\n",
       "    }\n",
       "\n",
       "    .dataframe tbody tr th {\n",
       "        vertical-align: top;\n",
       "    }\n",
       "\n",
       "    .dataframe thead th {\n",
       "        text-align: right;\n",
       "    }\n",
       "</style>\n",
       "<table border=\"1\" class=\"dataframe\">\n",
       "  <thead>\n",
       "    <tr style=\"text-align: right;\">\n",
       "      <th></th>\n",
       "      <th>name</th>\n",
       "      <th>regions</th>\n",
       "      <th>start_dt</th>\n",
       "      <th>finish_dt</th>\n",
       "    </tr>\n",
       "  </thead>\n",
       "  <tbody>\n",
       "    <tr>\n",
       "      <th>0</th>\n",
       "      <td>Christmas&amp;New Year Promo</td>\n",
       "      <td>EU, N.America</td>\n",
       "      <td>2020-12-25</td>\n",
       "      <td>2021-01-03</td>\n",
       "    </tr>\n",
       "    <tr>\n",
       "      <th>1</th>\n",
       "      <td>St. Valentine's Day Giveaway</td>\n",
       "      <td>EU, CIS, APAC, N.America</td>\n",
       "      <td>2020-02-14</td>\n",
       "      <td>2020-02-16</td>\n",
       "    </tr>\n",
       "    <tr>\n",
       "      <th>2</th>\n",
       "      <td>St. Patric's Day Promo</td>\n",
       "      <td>EU, N.America</td>\n",
       "      <td>2020-03-17</td>\n",
       "      <td>2020-03-19</td>\n",
       "    </tr>\n",
       "    <tr>\n",
       "      <th>3</th>\n",
       "      <td>Easter Promo</td>\n",
       "      <td>EU, CIS, APAC, N.America</td>\n",
       "      <td>2020-04-12</td>\n",
       "      <td>2020-04-19</td>\n",
       "    </tr>\n",
       "    <tr>\n",
       "      <th>4</th>\n",
       "      <td>4th of July Promo</td>\n",
       "      <td>N.America</td>\n",
       "      <td>2020-07-04</td>\n",
       "      <td>2020-07-11</td>\n",
       "    </tr>\n",
       "    <tr>\n",
       "      <th>5</th>\n",
       "      <td>Black Friday Ads Campaign</td>\n",
       "      <td>EU, CIS, APAC, N.America</td>\n",
       "      <td>2020-11-26</td>\n",
       "      <td>2020-12-01</td>\n",
       "    </tr>\n",
       "    <tr>\n",
       "      <th>6</th>\n",
       "      <td>Chinese New Year Promo</td>\n",
       "      <td>APAC</td>\n",
       "      <td>2020-01-25</td>\n",
       "      <td>2020-02-07</td>\n",
       "    </tr>\n",
       "    <tr>\n",
       "      <th>7</th>\n",
       "      <td>Labor day (May 1st) Ads Campaign</td>\n",
       "      <td>EU, CIS, APAC</td>\n",
       "      <td>2020-05-01</td>\n",
       "      <td>2020-05-03</td>\n",
       "    </tr>\n",
       "    <tr>\n",
       "      <th>8</th>\n",
       "      <td>International Women's Day Promo</td>\n",
       "      <td>EU, CIS, APAC</td>\n",
       "      <td>2020-03-08</td>\n",
       "      <td>2020-03-10</td>\n",
       "    </tr>\n",
       "    <tr>\n",
       "      <th>9</th>\n",
       "      <td>Victory Day CIS (May 9th) Event</td>\n",
       "      <td>CIS</td>\n",
       "      <td>2020-05-09</td>\n",
       "      <td>2020-05-11</td>\n",
       "    </tr>\n",
       "    <tr>\n",
       "      <th>10</th>\n",
       "      <td>CIS New Year Gift Lottery</td>\n",
       "      <td>CIS</td>\n",
       "      <td>2020-12-30</td>\n",
       "      <td>2021-01-07</td>\n",
       "    </tr>\n",
       "    <tr>\n",
       "      <th>11</th>\n",
       "      <td>Dragon Boat Festival Giveaway</td>\n",
       "      <td>APAC</td>\n",
       "      <td>2020-06-25</td>\n",
       "      <td>2020-07-01</td>\n",
       "    </tr>\n",
       "    <tr>\n",
       "      <th>12</th>\n",
       "      <td>Single's Day Gift Promo</td>\n",
       "      <td>APAC</td>\n",
       "      <td>2020-11-11</td>\n",
       "      <td>2020-11-12</td>\n",
       "    </tr>\n",
       "    <tr>\n",
       "      <th>13</th>\n",
       "      <td>Chinese Moon Festival</td>\n",
       "      <td>APAC</td>\n",
       "      <td>2020-10-01</td>\n",
       "      <td>2020-10-07</td>\n",
       "    </tr>\n",
       "  </tbody>\n",
       "</table>\n",
       "</div>"
      ],
      "text/plain": [
       "                                name                   regions    start_dt  \\\n",
       "0           Christmas&New Year Promo             EU, N.America  2020-12-25   \n",
       "1       St. Valentine's Day Giveaway  EU, CIS, APAC, N.America  2020-02-14   \n",
       "2             St. Patric's Day Promo             EU, N.America  2020-03-17   \n",
       "3                       Easter Promo  EU, CIS, APAC, N.America  2020-04-12   \n",
       "4                  4th of July Promo                 N.America  2020-07-04   \n",
       "5          Black Friday Ads Campaign  EU, CIS, APAC, N.America  2020-11-26   \n",
       "6             Chinese New Year Promo                      APAC  2020-01-25   \n",
       "7   Labor day (May 1st) Ads Campaign             EU, CIS, APAC  2020-05-01   \n",
       "8    International Women's Day Promo             EU, CIS, APAC  2020-03-08   \n",
       "9    Victory Day CIS (May 9th) Event                       CIS  2020-05-09   \n",
       "10         CIS New Year Gift Lottery                       CIS  2020-12-30   \n",
       "11     Dragon Boat Festival Giveaway                      APAC  2020-06-25   \n",
       "12           Single's Day Gift Promo                      APAC  2020-11-11   \n",
       "13             Chinese Moon Festival                      APAC  2020-10-01   \n",
       "\n",
       "     finish_dt  \n",
       "0   2021-01-03  \n",
       "1   2020-02-16  \n",
       "2   2020-03-19  \n",
       "3   2020-04-19  \n",
       "4   2020-07-11  \n",
       "5   2020-12-01  \n",
       "6   2020-02-07  \n",
       "7   2020-05-03  \n",
       "8   2020-03-10  \n",
       "9   2020-05-11  \n",
       "10  2021-01-07  \n",
       "11  2020-07-01  \n",
       "12  2020-11-12  \n",
       "13  2020-10-07  "
      ]
     },
     "execution_count": 3,
     "metadata": {},
     "output_type": "execute_result"
    }
   ],
   "source": [
    "m_events"
   ]
  },
  {
   "cell_type": "code",
   "execution_count": 4,
   "metadata": {},
   "outputs": [
    {
     "name": "stdout",
     "output_type": "stream",
     "text": [
      "<class 'pandas.core.frame.DataFrame'>\n",
      "RangeIndex: 14 entries, 0 to 13\n",
      "Data columns (total 4 columns):\n",
      " #   Column     Non-Null Count  Dtype \n",
      "---  ------     --------------  ----- \n",
      " 0   name       14 non-null     object\n",
      " 1   regions    14 non-null     object\n",
      " 2   start_dt   14 non-null     object\n",
      " 3   finish_dt  14 non-null     object\n",
      "dtypes: object(4)\n",
      "memory usage: 576.0+ bytes\n"
     ]
    }
   ],
   "source": [
    "m_events.info()"
   ]
  },
  {
   "cell_type": "code",
   "execution_count": 5,
   "metadata": {},
   "outputs": [
    {
     "data": {
      "text/html": [
       "<div>\n",
       "<style scoped>\n",
       "    .dataframe tbody tr th:only-of-type {\n",
       "        vertical-align: middle;\n",
       "    }\n",
       "\n",
       "    .dataframe tbody tr th {\n",
       "        vertical-align: top;\n",
       "    }\n",
       "\n",
       "    .dataframe thead th {\n",
       "        text-align: right;\n",
       "    }\n",
       "</style>\n",
       "<table border=\"1\" class=\"dataframe\">\n",
       "  <thead>\n",
       "    <tr style=\"text-align: right;\">\n",
       "      <th></th>\n",
       "      <th>user_id</th>\n",
       "      <th>first_date</th>\n",
       "      <th>region</th>\n",
       "      <th>device</th>\n",
       "    </tr>\n",
       "  </thead>\n",
       "  <tbody>\n",
       "    <tr>\n",
       "      <th>0</th>\n",
       "      <td>D72A72121175D8BE</td>\n",
       "      <td>2020-12-07</td>\n",
       "      <td>EU</td>\n",
       "      <td>PC</td>\n",
       "    </tr>\n",
       "    <tr>\n",
       "      <th>1</th>\n",
       "      <td>F1C668619DFE6E65</td>\n",
       "      <td>2020-12-07</td>\n",
       "      <td>N.America</td>\n",
       "      <td>Android</td>\n",
       "    </tr>\n",
       "    <tr>\n",
       "      <th>2</th>\n",
       "      <td>2E1BF1D4C37EA01F</td>\n",
       "      <td>2020-12-07</td>\n",
       "      <td>EU</td>\n",
       "      <td>PC</td>\n",
       "    </tr>\n",
       "    <tr>\n",
       "      <th>3</th>\n",
       "      <td>50734A22C0C63768</td>\n",
       "      <td>2020-12-07</td>\n",
       "      <td>EU</td>\n",
       "      <td>iPhone</td>\n",
       "    </tr>\n",
       "    <tr>\n",
       "      <th>4</th>\n",
       "      <td>E1BDDCE0DAFA2679</td>\n",
       "      <td>2020-12-07</td>\n",
       "      <td>N.America</td>\n",
       "      <td>iPhone</td>\n",
       "    </tr>\n",
       "  </tbody>\n",
       "</table>\n",
       "</div>"
      ],
      "text/plain": [
       "            user_id  first_date     region   device\n",
       "0  D72A72121175D8BE  2020-12-07         EU       PC\n",
       "1  F1C668619DFE6E65  2020-12-07  N.America  Android\n",
       "2  2E1BF1D4C37EA01F  2020-12-07         EU       PC\n",
       "3  50734A22C0C63768  2020-12-07         EU   iPhone\n",
       "4  E1BDDCE0DAFA2679  2020-12-07  N.America   iPhone"
      ]
     },
     "execution_count": 5,
     "metadata": {},
     "output_type": "execute_result"
    }
   ],
   "source": [
    "users.head()"
   ]
  },
  {
   "cell_type": "code",
   "execution_count": 6,
   "metadata": {},
   "outputs": [
    {
     "name": "stdout",
     "output_type": "stream",
     "text": [
      "<class 'pandas.core.frame.DataFrame'>\n",
      "RangeIndex: 61733 entries, 0 to 61732\n",
      "Data columns (total 4 columns):\n",
      " #   Column      Non-Null Count  Dtype \n",
      "---  ------      --------------  ----- \n",
      " 0   user_id     61733 non-null  object\n",
      " 1   first_date  61733 non-null  object\n",
      " 2   region      61733 non-null  object\n",
      " 3   device      61733 non-null  object\n",
      "dtypes: object(4)\n",
      "memory usage: 1.9+ MB\n"
     ]
    }
   ],
   "source": [
    "users.info()"
   ]
  },
  {
   "cell_type": "code",
   "execution_count": 7,
   "metadata": {},
   "outputs": [
    {
     "data": {
      "text/html": [
       "<div>\n",
       "<style scoped>\n",
       "    .dataframe tbody tr th:only-of-type {\n",
       "        vertical-align: middle;\n",
       "    }\n",
       "\n",
       "    .dataframe tbody tr th {\n",
       "        vertical-align: top;\n",
       "    }\n",
       "\n",
       "    .dataframe thead th {\n",
       "        text-align: right;\n",
       "    }\n",
       "</style>\n",
       "<table border=\"1\" class=\"dataframe\">\n",
       "  <thead>\n",
       "    <tr style=\"text-align: right;\">\n",
       "      <th></th>\n",
       "      <th>user_id</th>\n",
       "      <th>event_dt</th>\n",
       "      <th>event_name</th>\n",
       "      <th>details</th>\n",
       "    </tr>\n",
       "  </thead>\n",
       "  <tbody>\n",
       "    <tr>\n",
       "      <th>0</th>\n",
       "      <td>E1BDDCE0DAFA2679</td>\n",
       "      <td>2020-12-07 20:22:03</td>\n",
       "      <td>purchase</td>\n",
       "      <td>99.99</td>\n",
       "    </tr>\n",
       "    <tr>\n",
       "      <th>1</th>\n",
       "      <td>7B6452F081F49504</td>\n",
       "      <td>2020-12-07 09:22:53</td>\n",
       "      <td>purchase</td>\n",
       "      <td>9.99</td>\n",
       "    </tr>\n",
       "    <tr>\n",
       "      <th>2</th>\n",
       "      <td>9CD9F34546DF254C</td>\n",
       "      <td>2020-12-07 12:59:29</td>\n",
       "      <td>purchase</td>\n",
       "      <td>4.99</td>\n",
       "    </tr>\n",
       "    <tr>\n",
       "      <th>3</th>\n",
       "      <td>96F27A054B191457</td>\n",
       "      <td>2020-12-07 04:02:40</td>\n",
       "      <td>purchase</td>\n",
       "      <td>4.99</td>\n",
       "    </tr>\n",
       "    <tr>\n",
       "      <th>4</th>\n",
       "      <td>1FD7660FDF94CA1F</td>\n",
       "      <td>2020-12-07 10:15:09</td>\n",
       "      <td>purchase</td>\n",
       "      <td>4.99</td>\n",
       "    </tr>\n",
       "  </tbody>\n",
       "</table>\n",
       "</div>"
      ],
      "text/plain": [
       "            user_id             event_dt event_name  details\n",
       "0  E1BDDCE0DAFA2679  2020-12-07 20:22:03   purchase    99.99\n",
       "1  7B6452F081F49504  2020-12-07 09:22:53   purchase     9.99\n",
       "2  9CD9F34546DF254C  2020-12-07 12:59:29   purchase     4.99\n",
       "3  96F27A054B191457  2020-12-07 04:02:40   purchase     4.99\n",
       "4  1FD7660FDF94CA1F  2020-12-07 10:15:09   purchase     4.99"
      ]
     },
     "execution_count": 7,
     "metadata": {},
     "output_type": "execute_result"
    }
   ],
   "source": [
    "events.head()"
   ]
  },
  {
   "cell_type": "code",
   "execution_count": 8,
   "metadata": {},
   "outputs": [
    {
     "name": "stdout",
     "output_type": "stream",
     "text": [
      "<class 'pandas.core.frame.DataFrame'>\n",
      "RangeIndex: 440317 entries, 0 to 440316\n",
      "Data columns (total 4 columns):\n",
      " #   Column      Non-Null Count   Dtype  \n",
      "---  ------      --------------   -----  \n",
      " 0   user_id     440317 non-null  object \n",
      " 1   event_dt    440317 non-null  object \n",
      " 2   event_name  440317 non-null  object \n",
      " 3   details     62740 non-null   float64\n",
      "dtypes: float64(1), object(3)\n",
      "memory usage: 13.4+ MB\n"
     ]
    }
   ],
   "source": [
    "events.info()"
   ]
  },
  {
   "cell_type": "code",
   "execution_count": 9,
   "metadata": {},
   "outputs": [
    {
     "data": {
      "text/html": [
       "<div>\n",
       "<style scoped>\n",
       "    .dataframe tbody tr th:only-of-type {\n",
       "        vertical-align: middle;\n",
       "    }\n",
       "\n",
       "    .dataframe tbody tr th {\n",
       "        vertical-align: top;\n",
       "    }\n",
       "\n",
       "    .dataframe thead th {\n",
       "        text-align: right;\n",
       "    }\n",
       "</style>\n",
       "<table border=\"1\" class=\"dataframe\">\n",
       "  <thead>\n",
       "    <tr style=\"text-align: right;\">\n",
       "      <th></th>\n",
       "      <th>user_id</th>\n",
       "      <th>group</th>\n",
       "      <th>ab_test</th>\n",
       "    </tr>\n",
       "  </thead>\n",
       "  <tbody>\n",
       "    <tr>\n",
       "      <th>0</th>\n",
       "      <td>D1ABA3E2887B6A73</td>\n",
       "      <td>A</td>\n",
       "      <td>recommender_system_test</td>\n",
       "    </tr>\n",
       "    <tr>\n",
       "      <th>1</th>\n",
       "      <td>A7A3664BD6242119</td>\n",
       "      <td>A</td>\n",
       "      <td>recommender_system_test</td>\n",
       "    </tr>\n",
       "    <tr>\n",
       "      <th>2</th>\n",
       "      <td>DABC14FDDFADD29E</td>\n",
       "      <td>A</td>\n",
       "      <td>recommender_system_test</td>\n",
       "    </tr>\n",
       "    <tr>\n",
       "      <th>3</th>\n",
       "      <td>04988C5DF189632E</td>\n",
       "      <td>A</td>\n",
       "      <td>recommender_system_test</td>\n",
       "    </tr>\n",
       "    <tr>\n",
       "      <th>4</th>\n",
       "      <td>482F14783456D21B</td>\n",
       "      <td>B</td>\n",
       "      <td>recommender_system_test</td>\n",
       "    </tr>\n",
       "  </tbody>\n",
       "</table>\n",
       "</div>"
      ],
      "text/plain": [
       "            user_id group                  ab_test\n",
       "0  D1ABA3E2887B6A73     A  recommender_system_test\n",
       "1  A7A3664BD6242119     A  recommender_system_test\n",
       "2  DABC14FDDFADD29E     A  recommender_system_test\n",
       "3  04988C5DF189632E     A  recommender_system_test\n",
       "4  482F14783456D21B     B  recommender_system_test"
      ]
     },
     "execution_count": 9,
     "metadata": {},
     "output_type": "execute_result"
    }
   ],
   "source": [
    "participants.head()"
   ]
  },
  {
   "cell_type": "code",
   "execution_count": 10,
   "metadata": {},
   "outputs": [
    {
     "name": "stdout",
     "output_type": "stream",
     "text": [
      "<class 'pandas.core.frame.DataFrame'>\n",
      "RangeIndex: 18268 entries, 0 to 18267\n",
      "Data columns (total 3 columns):\n",
      " #   Column   Non-Null Count  Dtype \n",
      "---  ------   --------------  ----- \n",
      " 0   user_id  18268 non-null  object\n",
      " 1   group    18268 non-null  object\n",
      " 2   ab_test  18268 non-null  object\n",
      "dtypes: object(3)\n",
      "memory usage: 428.3+ KB\n"
     ]
    }
   ],
   "source": [
    "participants.info()"
   ]
  },
  {
   "cell_type": "markdown",
   "metadata": {},
   "source": [
    "Есть пропуски в таблице событий пользователей в столбце details. Даты храняться в формате object, необходимо привести их к соответствующему типу. "
   ]
  },
  {
   "cell_type": "markdown",
   "metadata": {},
   "source": [
    "<a id='second'></a>\n",
    "## Предобработка данных"
   ]
  },
  {
   "cell_type": "code",
   "execution_count": 11,
   "metadata": {},
   "outputs": [],
   "source": [
    "m_events['start_dt'] = pd.to_datetime(m_events['start_dt'])\n",
    "m_events['finish_dt'] = pd.to_datetime(m_events['finish_dt'])\n",
    "\n",
    "users['first_date'] = pd.to_datetime(users['first_date'])\n",
    "\n",
    "events['event_dt'] = pd.to_datetime(events['event_dt'])"
   ]
  },
  {
   "cell_type": "code",
   "execution_count": 12,
   "metadata": {},
   "outputs": [],
   "source": [
    "events['event_date'] = events['event_dt'].dt.normalize()"
   ]
  },
  {
   "cell_type": "code",
   "execution_count": 13,
   "metadata": {},
   "outputs": [
    {
     "name": "stdout",
     "output_type": "stream",
     "text": [
      "<class 'pandas.core.frame.DataFrame'>\n",
      "RangeIndex: 440317 entries, 0 to 440316\n",
      "Data columns (total 5 columns):\n",
      " #   Column      Non-Null Count   Dtype         \n",
      "---  ------      --------------   -----         \n",
      " 0   user_id     440317 non-null  object        \n",
      " 1   event_dt    440317 non-null  datetime64[ns]\n",
      " 2   event_name  440317 non-null  object        \n",
      " 3   details     62740 non-null   float64       \n",
      " 4   event_date  440317 non-null  datetime64[ns]\n",
      "dtypes: datetime64[ns](2), float64(1), object(2)\n",
      "memory usage: 16.8+ MB\n"
     ]
    }
   ],
   "source": [
    "events.info()"
   ]
  },
  {
   "cell_type": "markdown",
   "metadata": {},
   "source": [
    "### Анализ дубликатов"
   ]
  },
  {
   "cell_type": "code",
   "execution_count": 14,
   "metadata": {},
   "outputs": [
    {
     "data": {
      "text/plain": [
       "0"
      ]
     },
     "execution_count": 14,
     "metadata": {},
     "output_type": "execute_result"
    }
   ],
   "source": [
    "users['user_id'].duplicated().sum()"
   ]
  },
  {
   "cell_type": "code",
   "execution_count": 15,
   "metadata": {},
   "outputs": [
    {
     "data": {
      "text/plain": [
       "0"
      ]
     },
     "execution_count": 15,
     "metadata": {},
     "output_type": "execute_result"
    }
   ],
   "source": [
    "users['user_id'].str.lower().duplicated().sum()"
   ]
  },
  {
   "cell_type": "code",
   "execution_count": 16,
   "metadata": {},
   "outputs": [
    {
     "data": {
      "text/plain": [
       "EU           46270\n",
       "N.America     9155\n",
       "CIS           3155\n",
       "APAC          3153\n",
       "Name: region, dtype: int64"
      ]
     },
     "execution_count": 16,
     "metadata": {},
     "output_type": "execute_result"
    }
   ],
   "source": [
    "users['region'].value_counts()"
   ]
  },
  {
   "cell_type": "code",
   "execution_count": 17,
   "metadata": {},
   "outputs": [
    {
     "data": {
      "text/plain": [
       "Android    27520\n",
       "PC         15599\n",
       "iPhone     12530\n",
       "Mac         6084\n",
       "Name: device, dtype: int64"
      ]
     },
     "execution_count": 17,
     "metadata": {},
     "output_type": "execute_result"
    }
   ],
   "source": [
    "users['device'].value_counts()"
   ]
  },
  {
   "cell_type": "code",
   "execution_count": 18,
   "metadata": {},
   "outputs": [
    {
     "data": {
      "text/plain": [
       "0"
      ]
     },
     "execution_count": 18,
     "metadata": {},
     "output_type": "execute_result"
    }
   ],
   "source": [
    "events.duplicated().sum()"
   ]
  },
  {
   "cell_type": "code",
   "execution_count": 19,
   "metadata": {},
   "outputs": [
    {
     "data": {
      "text/plain": [
       "4.99      46362\n",
       "9.99       9530\n",
       "99.99      5631\n",
       "499.99     1217\n",
       "Name: details, dtype: int64"
      ]
     },
     "execution_count": 19,
     "metadata": {},
     "output_type": "execute_result"
    }
   ],
   "source": [
    "events['details'].value_counts()"
   ]
  },
  {
   "cell_type": "code",
   "execution_count": 20,
   "metadata": {},
   "outputs": [
    {
     "data": {
      "text/plain": [
       "login           189552\n",
       "product_page    125563\n",
       "purchase         62740\n",
       "product_cart     62462\n",
       "Name: event_name, dtype: int64"
      ]
     },
     "execution_count": 20,
     "metadata": {},
     "output_type": "execute_result"
    }
   ],
   "source": [
    "events['event_name'].value_counts()"
   ]
  },
  {
   "cell_type": "code",
   "execution_count": 21,
   "metadata": {},
   "outputs": [
    {
     "data": {
      "text/plain": [
       "A    9655\n",
       "B    8613\n",
       "Name: group, dtype: int64"
      ]
     },
     "execution_count": 21,
     "metadata": {},
     "output_type": "execute_result"
    }
   ],
   "source": [
    "participants['group'].value_counts()"
   ]
  },
  {
   "cell_type": "code",
   "execution_count": 22,
   "metadata": {},
   "outputs": [
    {
     "data": {
      "text/plain": [
       "interface_eu_test          11567\n",
       "recommender_system_test     6701\n",
       "Name: ab_test, dtype: int64"
      ]
     },
     "execution_count": 22,
     "metadata": {},
     "output_type": "execute_result"
    }
   ],
   "source": [
    "participants['ab_test'].value_counts()"
   ]
  },
  {
   "cell_type": "markdown",
   "metadata": {},
   "source": [
    "В таблице участников теста обнаружено 2 теста."
   ]
  },
  {
   "cell_type": "code",
   "execution_count": 23,
   "metadata": {},
   "outputs": [
    {
     "data": {
      "text/plain": [
       "1602"
      ]
     },
     "execution_count": 23,
     "metadata": {},
     "output_type": "execute_result"
    }
   ],
   "source": [
    "participants['user_id'].str.lower().duplicated().sum()"
   ]
  },
  {
   "cell_type": "markdown",
   "metadata": {},
   "source": [
    "Обнаружены дублирующиеся user_id в таблице участников тестов, значит возможно пользователи участвовали в обоих тестах или группах одновременно. "
   ]
  },
  {
   "cell_type": "code",
   "execution_count": 24,
   "metadata": {},
   "outputs": [
    {
     "data": {
      "text/plain": [
       "0"
      ]
     },
     "execution_count": 24,
     "metadata": {},
     "output_type": "execute_result"
    }
   ],
   "source": [
    "(\n",
    "    participants[participants['ab_test'] == 'recommender_system_test']['user_id']\n",
    "    .str.lower().duplicated().sum()\n",
    ")"
   ]
  },
  {
   "cell_type": "markdown",
   "metadata": {},
   "source": [
    "Нет дублирующихся user_id в нашем тесте."
   ]
  },
  {
   "cell_type": "markdown",
   "metadata": {},
   "source": [
    "### Анализ пропусков"
   ]
  },
  {
   "cell_type": "code",
   "execution_count": 25,
   "metadata": {},
   "outputs": [
    {
     "data": {
      "text/plain": [
       "user_id       0.000000\n",
       "event_dt      0.000000\n",
       "event_name    0.000000\n",
       "details       0.857512\n",
       "event_date    0.000000\n",
       "dtype: float64"
      ]
     },
     "execution_count": 25,
     "metadata": {},
     "output_type": "execute_result"
    }
   ],
   "source": [
    "events.isna().mean()"
   ]
  },
  {
   "cell_type": "code",
   "execution_count": 26,
   "metadata": {},
   "outputs": [
    {
     "name": "stdout",
     "output_type": "stream",
     "text": [
      "<class 'pandas.core.frame.DataFrame'>\n",
      "RangeIndex: 440317 entries, 0 to 440316\n",
      "Data columns (total 5 columns):\n",
      " #   Column      Non-Null Count   Dtype         \n",
      "---  ------      --------------   -----         \n",
      " 0   user_id     440317 non-null  object        \n",
      " 1   event_dt    440317 non-null  datetime64[ns]\n",
      " 2   event_name  440317 non-null  object        \n",
      " 3   details     62740 non-null   float64       \n",
      " 4   event_date  440317 non-null  datetime64[ns]\n",
      "dtypes: datetime64[ns](2), float64(1), object(2)\n",
      "memory usage: 16.8+ MB\n"
     ]
    }
   ],
   "source": [
    "events.info()"
   ]
  },
  {
   "cell_type": "markdown",
   "metadata": {},
   "source": [
    "В таблице событий 86% пропусков в столбце details, заполнено 62740 значений."
   ]
  },
  {
   "cell_type": "code",
   "execution_count": 27,
   "metadata": {},
   "outputs": [
    {
     "data": {
      "text/plain": [
       "purchase    62740\n",
       "Name: event_name, dtype: int64"
      ]
     },
     "execution_count": 27,
     "metadata": {},
     "output_type": "execute_result"
    }
   ],
   "source": [
    "events[~events['details'].isna()]['event_name'].value_counts()"
   ]
  },
  {
   "cell_type": "markdown",
   "metadata": {},
   "source": [
    "Значения в столбце details заполнены только для событий purchase. Это полезная дополнительная информация, пропуски оставляем."
   ]
  },
  {
   "cell_type": "markdown",
   "metadata": {},
   "source": [
    "<a id='third'></a>\n",
    "## Оценка корректности проведения теста"
   ]
  },
  {
   "cell_type": "markdown",
   "metadata": {},
   "source": [
    "<a id='tz'></a>\n",
    "### Проверка данных на соответствие ТЗ"
   ]
  },
  {
   "cell_type": "markdown",
   "metadata": {},
   "source": [
    "Проверим данные на соответствие дат:\n",
    "- дата запуска: 2020-12-07;\n",
    "- дата остановки набора новых пользователей: 2020-12-21;\n",
    "- дата остановки: 2021-01-04."
   ]
  },
  {
   "cell_type": "code",
   "execution_count": 28,
   "metadata": {},
   "outputs": [
    {
     "data": {
      "text/html": [
       "<div>\n",
       "<style scoped>\n",
       "    .dataframe tbody tr th:only-of-type {\n",
       "        vertical-align: middle;\n",
       "    }\n",
       "\n",
       "    .dataframe tbody tr th {\n",
       "        vertical-align: top;\n",
       "    }\n",
       "\n",
       "    .dataframe thead th {\n",
       "        text-align: right;\n",
       "    }\n",
       "</style>\n",
       "<table border=\"1\" class=\"dataframe\">\n",
       "  <thead>\n",
       "    <tr style=\"text-align: right;\">\n",
       "      <th></th>\n",
       "      <th>user_id</th>\n",
       "      <th>group</th>\n",
       "      <th>ab_test</th>\n",
       "      <th>first_date</th>\n",
       "      <th>region</th>\n",
       "      <th>device</th>\n",
       "    </tr>\n",
       "  </thead>\n",
       "  <tbody>\n",
       "    <tr>\n",
       "      <th>0</th>\n",
       "      <td>D1ABA3E2887B6A73</td>\n",
       "      <td>A</td>\n",
       "      <td>recommender_system_test</td>\n",
       "      <td>2020-12-07</td>\n",
       "      <td>EU</td>\n",
       "      <td>PC</td>\n",
       "    </tr>\n",
       "    <tr>\n",
       "      <th>1</th>\n",
       "      <td>A7A3664BD6242119</td>\n",
       "      <td>A</td>\n",
       "      <td>recommender_system_test</td>\n",
       "      <td>2020-12-20</td>\n",
       "      <td>EU</td>\n",
       "      <td>iPhone</td>\n",
       "    </tr>\n",
       "    <tr>\n",
       "      <th>2</th>\n",
       "      <td>DABC14FDDFADD29E</td>\n",
       "      <td>A</td>\n",
       "      <td>recommender_system_test</td>\n",
       "      <td>2020-12-08</td>\n",
       "      <td>EU</td>\n",
       "      <td>Mac</td>\n",
       "    </tr>\n",
       "    <tr>\n",
       "      <th>3</th>\n",
       "      <td>04988C5DF189632E</td>\n",
       "      <td>A</td>\n",
       "      <td>recommender_system_test</td>\n",
       "      <td>2020-12-14</td>\n",
       "      <td>EU</td>\n",
       "      <td>iPhone</td>\n",
       "    </tr>\n",
       "    <tr>\n",
       "      <th>4</th>\n",
       "      <td>482F14783456D21B</td>\n",
       "      <td>B</td>\n",
       "      <td>recommender_system_test</td>\n",
       "      <td>2020-12-14</td>\n",
       "      <td>EU</td>\n",
       "      <td>PC</td>\n",
       "    </tr>\n",
       "    <tr>\n",
       "      <th>...</th>\n",
       "      <td>...</td>\n",
       "      <td>...</td>\n",
       "      <td>...</td>\n",
       "      <td>...</td>\n",
       "      <td>...</td>\n",
       "      <td>...</td>\n",
       "    </tr>\n",
       "    <tr>\n",
       "      <th>6696</th>\n",
       "      <td>053FB26D6D49EDDC</td>\n",
       "      <td>A</td>\n",
       "      <td>recommender_system_test</td>\n",
       "      <td>2020-12-10</td>\n",
       "      <td>N.America</td>\n",
       "      <td>Android</td>\n",
       "    </tr>\n",
       "    <tr>\n",
       "      <th>6697</th>\n",
       "      <td>9D263B8EF15CF188</td>\n",
       "      <td>B</td>\n",
       "      <td>recommender_system_test</td>\n",
       "      <td>2020-12-16</td>\n",
       "      <td>N.America</td>\n",
       "      <td>Mac</td>\n",
       "    </tr>\n",
       "    <tr>\n",
       "      <th>6698</th>\n",
       "      <td>F2FBBA33F37DEC46</td>\n",
       "      <td>A</td>\n",
       "      <td>recommender_system_test</td>\n",
       "      <td>2020-12-18</td>\n",
       "      <td>APAC</td>\n",
       "      <td>Mac</td>\n",
       "    </tr>\n",
       "    <tr>\n",
       "      <th>6699</th>\n",
       "      <td>29C92313A98B1176</td>\n",
       "      <td>B</td>\n",
       "      <td>recommender_system_test</td>\n",
       "      <td>2020-12-07</td>\n",
       "      <td>APAC</td>\n",
       "      <td>Android</td>\n",
       "    </tr>\n",
       "    <tr>\n",
       "      <th>6700</th>\n",
       "      <td>6715343AFBA285AE</td>\n",
       "      <td>B</td>\n",
       "      <td>recommender_system_test</td>\n",
       "      <td>2020-12-07</td>\n",
       "      <td>CIS</td>\n",
       "      <td>Android</td>\n",
       "    </tr>\n",
       "  </tbody>\n",
       "</table>\n",
       "<p>6701 rows × 6 columns</p>\n",
       "</div>"
      ],
      "text/plain": [
       "               user_id group                  ab_test first_date     region  \\\n",
       "0     D1ABA3E2887B6A73     A  recommender_system_test 2020-12-07         EU   \n",
       "1     A7A3664BD6242119     A  recommender_system_test 2020-12-20         EU   \n",
       "2     DABC14FDDFADD29E     A  recommender_system_test 2020-12-08         EU   \n",
       "3     04988C5DF189632E     A  recommender_system_test 2020-12-14         EU   \n",
       "4     482F14783456D21B     B  recommender_system_test 2020-12-14         EU   \n",
       "...                ...   ...                      ...        ...        ...   \n",
       "6696  053FB26D6D49EDDC     A  recommender_system_test 2020-12-10  N.America   \n",
       "6697  9D263B8EF15CF188     B  recommender_system_test 2020-12-16  N.America   \n",
       "6698  F2FBBA33F37DEC46     A  recommender_system_test 2020-12-18       APAC   \n",
       "6699  29C92313A98B1176     B  recommender_system_test 2020-12-07       APAC   \n",
       "6700  6715343AFBA285AE     B  recommender_system_test 2020-12-07        CIS   \n",
       "\n",
       "       device  \n",
       "0          PC  \n",
       "1      iPhone  \n",
       "2         Mac  \n",
       "3      iPhone  \n",
       "4          PC  \n",
       "...       ...  \n",
       "6696  Android  \n",
       "6697      Mac  \n",
       "6698      Mac  \n",
       "6699  Android  \n",
       "6700  Android  \n",
       "\n",
       "[6701 rows x 6 columns]"
      ]
     },
     "execution_count": 28,
     "metadata": {},
     "output_type": "execute_result"
    }
   ],
   "source": [
    "users_test = (\n",
    "    participants[participants['ab_test'] == 'recommender_system_test']\n",
    "    .merge(users, on='user_id')\n",
    ")\n",
    "users_test"
   ]
  },
  {
   "cell_type": "code",
   "execution_count": 29,
   "metadata": {},
   "outputs": [
    {
     "name": "stdout",
     "output_type": "stream",
     "text": [
      "2020-12-07 00:00:00 2020-12-21 00:00:00\n"
     ]
    }
   ],
   "source": [
    "print(users_test['first_date'].min(), users_test['first_date'].max())"
   ]
  },
  {
   "cell_type": "markdown",
   "metadata": {},
   "source": [
    "Даты регистрации новых пользователей нашего теста соответствуют временному диапазону от запуска теста до остановки набора пользователей."
   ]
  },
  {
   "cell_type": "code",
   "execution_count": 30,
   "metadata": {},
   "outputs": [
    {
     "name": "stdout",
     "output_type": "stream",
     "text": [
      "2020-12-07 00:00:00 2020-12-23 00:00:00\n"
     ]
    }
   ],
   "source": [
    "print(users['first_date'].min(), users['first_date'].max())"
   ]
  },
  {
   "cell_type": "markdown",
   "metadata": {},
   "source": [
    "В таблице с данными о регистрации новых пользователей оставляем только пользователей, зарегистрировавшихся до даты остановки набора новых пользователей.  "
   ]
  },
  {
   "cell_type": "code",
   "execution_count": 31,
   "metadata": {},
   "outputs": [],
   "source": [
    "users = users[users['first_date'] <= '2020-12-21']"
   ]
  },
  {
   "cell_type": "code",
   "execution_count": 32,
   "metadata": {},
   "outputs": [
    {
     "name": "stdout",
     "output_type": "stream",
     "text": [
      "2020-12-07 00:00:33 2020-12-30 23:36:33\n"
     ]
    }
   ],
   "source": [
    "print(events['event_dt'].min(), events['event_dt'].max())"
   ]
  },
  {
   "cell_type": "markdown",
   "metadata": {},
   "source": [
    "Последняя дата событий 2020-12-30, а тест остановлен 2021-01-04. "
   ]
  },
  {
   "cell_type": "code",
   "execution_count": 33,
   "metadata": {},
   "outputs": [
    {
     "data": {
      "text/plain": [
       "6701"
      ]
     },
     "execution_count": 33,
     "metadata": {},
     "output_type": "execute_result"
    }
   ],
   "source": [
    "users_test['user_id'].nunique()"
   ]
  },
  {
   "cell_type": "markdown",
   "metadata": {},
   "source": [
    "Набрали в тест 6701 пользователей, соответствует требованию по количеству участников."
   ]
  },
  {
   "cell_type": "code",
   "execution_count": 34,
   "metadata": {},
   "outputs": [
    {
     "data": {
      "text/plain": [
       "EU           0.947769\n",
       "N.America    0.033279\n",
       "APAC         0.010745\n",
       "CIS          0.008208\n",
       "Name: region, dtype: float64"
      ]
     },
     "execution_count": 34,
     "metadata": {},
     "output_type": "execute_result"
    }
   ],
   "source": [
    "users_test['region'].value_counts(normalize=True)"
   ]
  },
  {
   "cell_type": "markdown",
   "metadata": {},
   "source": [
    "В тест попали 5% пользователей не из Европы. Удалим пользователей из других регионов."
   ]
  },
  {
   "cell_type": "code",
   "execution_count": 35,
   "metadata": {},
   "outputs": [],
   "source": [
    "users_notEU = users_test[users_test['region'] != \"EU\"]['user_id']"
   ]
  },
  {
   "cell_type": "code",
   "execution_count": 36,
   "metadata": {},
   "outputs": [],
   "source": [
    "participants = participants[~participants['user_id'].isin(users_notEU)]"
   ]
  },
  {
   "cell_type": "code",
   "execution_count": 37,
   "metadata": {},
   "outputs": [
    {
     "data": {
      "text/plain": [
       "6351"
      ]
     },
     "execution_count": 37,
     "metadata": {},
     "output_type": "execute_result"
    }
   ],
   "source": [
    "participants[participants['ab_test'] == 'recommender_system_test']['user_id'].count()"
   ]
  },
  {
   "cell_type": "code",
   "execution_count": 38,
   "metadata": {},
   "outputs": [
    {
     "data": {
      "text/plain": [
       "6351"
      ]
     },
     "execution_count": 38,
     "metadata": {},
     "output_type": "execute_result"
    }
   ],
   "source": [
    "users_test = users_test[users_test['region'] == 'EU']\n",
    "users_test['user_id'].count()"
   ]
  },
  {
   "cell_type": "markdown",
   "metadata": {},
   "source": [
    "Осталось более 6000 пользователей, соответствует ТЗ."
   ]
  },
  {
   "cell_type": "code",
   "execution_count": 39,
   "metadata": {
    "scrolled": true
   },
   "outputs": [
    {
     "data": {
      "text/plain": [
       "15.0"
      ]
     },
     "execution_count": 39,
     "metadata": {},
     "output_type": "execute_result"
    }
   ],
   "source": [
    "(\n",
    "    users_test[users_test['region'] == 'EU']['user_id'].count() / \n",
    "    users[users['region'] == 'EU']['user_id'].count() \n",
    "    * 100\n",
    ")"
   ]
  },
  {
   "cell_type": "markdown",
   "metadata": {},
   "source": [
    "Соответствует требованию: отобрано 15% новых пользователей из региона EU"
   ]
  },
  {
   "cell_type": "markdown",
   "metadata": {},
   "source": [
    "<a id='two_tests'></a>\n",
    "Проверим на пересечение участников 2х тестов:"
   ]
  },
  {
   "cell_type": "code",
   "execution_count": 40,
   "metadata": {},
   "outputs": [
    {
     "data": {
      "text/plain": [
       "1602"
      ]
     },
     "execution_count": 40,
     "metadata": {},
     "output_type": "execute_result"
    }
   ],
   "source": [
    "ids_rs_test = set(participants[participants['ab_test'] == 'recommender_system_test']['user_id'])\n",
    "ids_another_test = set(participants[participants['ab_test'] == 'interface_eu_test']['user_id'])\n",
    "\n",
    "len(ids_rs_test & ids_another_test)"
   ]
  },
  {
   "cell_type": "code",
   "execution_count": 41,
   "metadata": {},
   "outputs": [
    {
     "data": {
      "text/plain": [
       "25.22437411431271"
      ]
     },
     "execution_count": 41,
     "metadata": {},
     "output_type": "execute_result"
    }
   ],
   "source": [
    "len(ids_rs_test & ids_another_test) / len(ids_rs_test) * 100"
   ]
  },
  {
   "cell_type": "markdown",
   "metadata": {},
   "source": [
    "1602 пользователя участвовали в обоих тестах, что составляет 25% участников нашего теста."
   ]
  },
  {
   "cell_type": "code",
   "execution_count": 42,
   "metadata": {},
   "outputs": [
    {
     "data": {
      "text/plain": [
       "A    819\n",
       "B    783\n",
       "Name: group, dtype: int64"
      ]
     },
     "execution_count": 42,
     "metadata": {},
     "output_type": "execute_result"
    }
   ],
   "source": [
    "participants[\n",
    "    (participants['ab_test'] == 'interface_eu_test') &\n",
    "    (participants['user_id'].isin(ids_rs_test & ids_another_test))\n",
    "     ]['group'].value_counts()"
   ]
  },
  {
   "cell_type": "code",
   "execution_count": 43,
   "metadata": {},
   "outputs": [
    {
     "data": {
      "text/plain": [
       "0.1232876712328767"
      ]
     },
     "execution_count": 43,
     "metadata": {},
     "output_type": "execute_result"
    }
   ],
   "source": [
    "(\n",
    "    participants[\n",
    "        (participants['ab_test'] == 'interface_eu_test') &\n",
    "        (participants['user_id'].isin(ids_rs_test & ids_another_test)) &\n",
    "        (participants['group'] == 'B')\n",
    "         ]['user_id'].count() / \n",
    "    participants[participants['ab_test'] == 'recommender_system_test']['user_id'].count()\n",
    ")"
   ]
  },
  {
   "cell_type": "markdown",
   "metadata": {},
   "source": [
    "Оставляем участников нашего теста, которые попали в контрольную группу конкурирующего теста, поскольку на них не оказывалось никакого иного влияния.\n",
    "Доля участников нашего теста, попавших в тестовую группу конкурирующего теста, составляет 12%. Теперь рассмотрим как они распределены по группам в нашем тесте."
   ]
  },
  {
   "cell_type": "code",
   "execution_count": 44,
   "metadata": {},
   "outputs": [],
   "source": [
    "ids_B = participants[\n",
    "    (participants['ab_test'] == 'interface_eu_test') &\n",
    "    (participants['user_id'].isin(ids_rs_test & ids_another_test)) &\n",
    "    (participants['group'] == 'B')\n",
    "     ]['user_id']"
   ]
  },
  {
   "cell_type": "code",
   "execution_count": 45,
   "metadata": {},
   "outputs": [
    {
     "data": {
      "text/plain": [
       "0.12080352228948817"
      ]
     },
     "execution_count": 45,
     "metadata": {},
     "output_type": "execute_result"
    }
   ],
   "source": [
    "(\n",
    "    participants[\n",
    "        (participants['ab_test'] == 'recommender_system_test') &\n",
    "        (participants['user_id'].isin(ids_B)) &\n",
    "        (participants['group'] == 'A')\n",
    "        ]['user_id'].count() / \n",
    "    participants[\n",
    "        (participants['ab_test'] == 'recommender_system_test') & \n",
    "        (participants['group'] == 'A')\n",
    "    ]['user_id'].count()\n",
    ")"
   ]
  },
  {
   "cell_type": "code",
   "execution_count": 46,
   "metadata": {},
   "outputs": [
    {
     "data": {
      "text/plain": [
       "0.12661023187338977"
      ]
     },
     "execution_count": 46,
     "metadata": {},
     "output_type": "execute_result"
    }
   ],
   "source": [
    "(\n",
    "    participants[\n",
    "        (participants['ab_test'] == 'recommender_system_test') &\n",
    "        (participants['user_id'].isin(ids_B)) &\n",
    "        (participants['group'] == 'B')\n",
    "        ]['user_id'].count() / \n",
    "    participants[\n",
    "        (participants['ab_test'] == 'recommender_system_test') & \n",
    "        (participants['group'] == 'B')\n",
    "    ]['user_id'].count()\n",
    ")"
   ]
  },
  {
   "cell_type": "markdown",
   "metadata": {},
   "source": [
    "Участники нашего теста, попавшие в группу В конкурирующего теста, одинаково распределены по группам в нашем тесте. Можно допустить, что влияние этих пользователей одинаково в контрольной и тестовой группе, поэтому оставим их."
   ]
  },
  {
   "cell_type": "markdown",
   "metadata": {},
   "source": [
    "Проверим, что пользователи за 14 дней прошли воронку"
   ]
  },
  {
   "cell_type": "code",
   "execution_count": 47,
   "metadata": {},
   "outputs": [
    {
     "data": {
      "text/plain": [
       "6351"
      ]
     },
     "execution_count": 47,
     "metadata": {},
     "output_type": "execute_result"
    }
   ],
   "source": [
    "users_test['user_id'].nunique()"
   ]
  },
  {
   "cell_type": "code",
   "execution_count": 48,
   "metadata": {
    "scrolled": true
   },
   "outputs": [
    {
     "data": {
      "text/plain": [
       "3481"
      ]
     },
     "execution_count": 48,
     "metadata": {},
     "output_type": "execute_result"
    }
   ],
   "source": [
    "events[events['user_id'].isin(users_test['user_id'])]['user_id'].nunique()"
   ]
  },
  {
   "cell_type": "code",
   "execution_count": 49,
   "metadata": {},
   "outputs": [
    {
     "data": {
      "text/plain": [
       "0.548102660998268"
      ]
     },
     "execution_count": 49,
     "metadata": {},
     "output_type": "execute_result"
    }
   ],
   "source": [
    "(\n",
    "    events[events['user_id'].isin(users_test['user_id'])]['user_id'].nunique() / \n",
    "    users_test['user_id'].nunique()\n",
    ")"
   ]
  },
  {
   "cell_type": "markdown",
   "metadata": {},
   "source": [
    "Только 3481 (55%) участников теста совершали события. "
   ]
  },
  {
   "cell_type": "code",
   "execution_count": 50,
   "metadata": {},
   "outputs": [
    {
     "data": {
      "text/html": [
       "<div>\n",
       "<style scoped>\n",
       "    .dataframe tbody tr th:only-of-type {\n",
       "        vertical-align: middle;\n",
       "    }\n",
       "\n",
       "    .dataframe tbody tr th {\n",
       "        vertical-align: top;\n",
       "    }\n",
       "\n",
       "    .dataframe thead th {\n",
       "        text-align: right;\n",
       "    }\n",
       "</style>\n",
       "<table border=\"1\" class=\"dataframe\">\n",
       "  <thead>\n",
       "    <tr style=\"text-align: right;\">\n",
       "      <th></th>\n",
       "      <th>user_id</th>\n",
       "      <th>event_dt</th>\n",
       "      <th>event_name</th>\n",
       "      <th>details</th>\n",
       "      <th>event_date</th>\n",
       "      <th>group</th>\n",
       "      <th>ab_test</th>\n",
       "      <th>first_date</th>\n",
       "      <th>region</th>\n",
       "      <th>device</th>\n",
       "    </tr>\n",
       "  </thead>\n",
       "  <tbody>\n",
       "    <tr>\n",
       "      <th>0</th>\n",
       "      <td>831887FE7F2D6CBA</td>\n",
       "      <td>2020-12-07 06:50:29</td>\n",
       "      <td>purchase</td>\n",
       "      <td>4.99</td>\n",
       "      <td>2020-12-07</td>\n",
       "      <td>A</td>\n",
       "      <td>recommender_system_test</td>\n",
       "      <td>2020-12-07</td>\n",
       "      <td>EU</td>\n",
       "      <td>Android</td>\n",
       "    </tr>\n",
       "    <tr>\n",
       "      <th>1</th>\n",
       "      <td>831887FE7F2D6CBA</td>\n",
       "      <td>2020-12-09 02:19:17</td>\n",
       "      <td>purchase</td>\n",
       "      <td>99.99</td>\n",
       "      <td>2020-12-09</td>\n",
       "      <td>A</td>\n",
       "      <td>recommender_system_test</td>\n",
       "      <td>2020-12-07</td>\n",
       "      <td>EU</td>\n",
       "      <td>Android</td>\n",
       "    </tr>\n",
       "    <tr>\n",
       "      <th>2</th>\n",
       "      <td>831887FE7F2D6CBA</td>\n",
       "      <td>2020-12-07 06:50:30</td>\n",
       "      <td>product_cart</td>\n",
       "      <td>NaN</td>\n",
       "      <td>2020-12-07</td>\n",
       "      <td>A</td>\n",
       "      <td>recommender_system_test</td>\n",
       "      <td>2020-12-07</td>\n",
       "      <td>EU</td>\n",
       "      <td>Android</td>\n",
       "    </tr>\n",
       "    <tr>\n",
       "      <th>3</th>\n",
       "      <td>831887FE7F2D6CBA</td>\n",
       "      <td>2020-12-08 10:52:27</td>\n",
       "      <td>product_cart</td>\n",
       "      <td>NaN</td>\n",
       "      <td>2020-12-08</td>\n",
       "      <td>A</td>\n",
       "      <td>recommender_system_test</td>\n",
       "      <td>2020-12-07</td>\n",
       "      <td>EU</td>\n",
       "      <td>Android</td>\n",
       "    </tr>\n",
       "    <tr>\n",
       "      <th>4</th>\n",
       "      <td>831887FE7F2D6CBA</td>\n",
       "      <td>2020-12-09 02:19:17</td>\n",
       "      <td>product_cart</td>\n",
       "      <td>NaN</td>\n",
       "      <td>2020-12-09</td>\n",
       "      <td>A</td>\n",
       "      <td>recommender_system_test</td>\n",
       "      <td>2020-12-07</td>\n",
       "      <td>EU</td>\n",
       "      <td>Android</td>\n",
       "    </tr>\n",
       "    <tr>\n",
       "      <th>...</th>\n",
       "      <td>...</td>\n",
       "      <td>...</td>\n",
       "      <td>...</td>\n",
       "      <td>...</td>\n",
       "      <td>...</td>\n",
       "      <td>...</td>\n",
       "      <td>...</td>\n",
       "      <td>...</td>\n",
       "      <td>...</td>\n",
       "      <td>...</td>\n",
       "    </tr>\n",
       "    <tr>\n",
       "      <th>26285</th>\n",
       "      <td>C5E1BD2400840B30</td>\n",
       "      <td>NaT</td>\n",
       "      <td>NaN</td>\n",
       "      <td>NaN</td>\n",
       "      <td>NaT</td>\n",
       "      <td>B</td>\n",
       "      <td>recommender_system_test</td>\n",
       "      <td>2020-12-17</td>\n",
       "      <td>EU</td>\n",
       "      <td>iPhone</td>\n",
       "    </tr>\n",
       "    <tr>\n",
       "      <th>26286</th>\n",
       "      <td>EA29547AB3C0CB9C</td>\n",
       "      <td>NaT</td>\n",
       "      <td>NaN</td>\n",
       "      <td>NaN</td>\n",
       "      <td>NaT</td>\n",
       "      <td>B</td>\n",
       "      <td>recommender_system_test</td>\n",
       "      <td>2020-12-14</td>\n",
       "      <td>EU</td>\n",
       "      <td>iPhone</td>\n",
       "    </tr>\n",
       "    <tr>\n",
       "      <th>26287</th>\n",
       "      <td>9A44E27079666291</td>\n",
       "      <td>NaT</td>\n",
       "      <td>NaN</td>\n",
       "      <td>NaN</td>\n",
       "      <td>NaT</td>\n",
       "      <td>B</td>\n",
       "      <td>recommender_system_test</td>\n",
       "      <td>2020-12-08</td>\n",
       "      <td>EU</td>\n",
       "      <td>Android</td>\n",
       "    </tr>\n",
       "    <tr>\n",
       "      <th>26288</th>\n",
       "      <td>9C2D0067A991213E</td>\n",
       "      <td>NaT</td>\n",
       "      <td>NaN</td>\n",
       "      <td>NaN</td>\n",
       "      <td>NaT</td>\n",
       "      <td>B</td>\n",
       "      <td>recommender_system_test</td>\n",
       "      <td>2020-12-07</td>\n",
       "      <td>EU</td>\n",
       "      <td>PC</td>\n",
       "    </tr>\n",
       "    <tr>\n",
       "      <th>26289</th>\n",
       "      <td>A23B0A7FFF375BFF</td>\n",
       "      <td>NaT</td>\n",
       "      <td>NaN</td>\n",
       "      <td>NaN</td>\n",
       "      <td>NaT</td>\n",
       "      <td>B</td>\n",
       "      <td>recommender_system_test</td>\n",
       "      <td>2020-12-12</td>\n",
       "      <td>EU</td>\n",
       "      <td>Android</td>\n",
       "    </tr>\n",
       "  </tbody>\n",
       "</table>\n",
       "<p>26290 rows × 10 columns</p>\n",
       "</div>"
      ],
      "text/plain": [
       "                user_id            event_dt    event_name  details event_date  \\\n",
       "0      831887FE7F2D6CBA 2020-12-07 06:50:29      purchase     4.99 2020-12-07   \n",
       "1      831887FE7F2D6CBA 2020-12-09 02:19:17      purchase    99.99 2020-12-09   \n",
       "2      831887FE7F2D6CBA 2020-12-07 06:50:30  product_cart      NaN 2020-12-07   \n",
       "3      831887FE7F2D6CBA 2020-12-08 10:52:27  product_cart      NaN 2020-12-08   \n",
       "4      831887FE7F2D6CBA 2020-12-09 02:19:17  product_cart      NaN 2020-12-09   \n",
       "...                 ...                 ...           ...      ...        ...   \n",
       "26285  C5E1BD2400840B30                 NaT           NaN      NaN        NaT   \n",
       "26286  EA29547AB3C0CB9C                 NaT           NaN      NaN        NaT   \n",
       "26287  9A44E27079666291                 NaT           NaN      NaN        NaT   \n",
       "26288  9C2D0067A991213E                 NaT           NaN      NaN        NaT   \n",
       "26289  A23B0A7FFF375BFF                 NaT           NaN      NaN        NaT   \n",
       "\n",
       "      group                  ab_test first_date region   device  \n",
       "0         A  recommender_system_test 2020-12-07     EU  Android  \n",
       "1         A  recommender_system_test 2020-12-07     EU  Android  \n",
       "2         A  recommender_system_test 2020-12-07     EU  Android  \n",
       "3         A  recommender_system_test 2020-12-07     EU  Android  \n",
       "4         A  recommender_system_test 2020-12-07     EU  Android  \n",
       "...     ...                      ...        ...    ...      ...  \n",
       "26285     B  recommender_system_test 2020-12-17     EU   iPhone  \n",
       "26286     B  recommender_system_test 2020-12-14     EU   iPhone  \n",
       "26287     B  recommender_system_test 2020-12-08     EU  Android  \n",
       "26288     B  recommender_system_test 2020-12-07     EU       PC  \n",
       "26289     B  recommender_system_test 2020-12-12     EU  Android  \n",
       "\n",
       "[26290 rows x 10 columns]"
      ]
     },
     "execution_count": 50,
     "metadata": {},
     "output_type": "execute_result"
    }
   ],
   "source": [
    "test = (\n",
    "    events[events['user_id'].isin(users_test['user_id'])]\n",
    "    .merge(users_test, on='user_id', how='outer')\n",
    ")\n",
    "test"
   ]
  },
  {
   "cell_type": "code",
   "execution_count": 51,
   "metadata": {},
   "outputs": [],
   "source": [
    "test['first_event'] = (test['event_date'] - test['first_date']).dt.days"
   ]
  },
  {
   "cell_type": "code",
   "execution_count": 52,
   "metadata": {
    "scrolled": false
   },
   "outputs": [
    {
     "data": {
      "image/png": "[encoded data removed]",
      "text/plain": [
       "<Figure size 640x480 with 1 Axes>"
      ]
     },
     "metadata": {},
     "output_type": "display_data"
    }
   ],
   "source": [
    "plt.figure()\n",
    "test['first_event'].hist(bins=20)\n",
    "plt.xlabel('количество дней с момента регистрации')\n",
    "plt.ylabel('количество событий')\n",
    "plt.title('Распределение событий по дням с момента регистрации');"
   ]
  },
  {
   "cell_type": "markdown",
   "metadata": {},
   "source": [
    "В основном пользователи совершают события в первые дни после регистрации."
   ]
  },
  {
   "cell_type": "code",
   "execution_count": 53,
   "metadata": {},
   "outputs": [],
   "source": [
    "test = test[\n",
    "    (test['event_date'].isna()) | \n",
    "    (test['event_date'] <= (test['first_date'] + timedelta(days=14)))\n",
    "]"
   ]
  },
  {
   "cell_type": "markdown",
   "metadata": {},
   "source": [
    "Удалили события, происходящие позже чем через 14 дней после регистрации"
   ]
  },
  {
   "cell_type": "code",
   "execution_count": 54,
   "metadata": {},
   "outputs": [
    {
     "data": {
      "text/plain": [
       "25698"
      ]
     },
     "execution_count": 54,
     "metadata": {},
     "output_type": "execute_result"
    }
   ],
   "source": [
    "len(test)"
   ]
  },
  {
   "cell_type": "code",
   "execution_count": 55,
   "metadata": {},
   "outputs": [
    {
     "data": {
      "text/plain": [
       "6351"
      ]
     },
     "execution_count": 55,
     "metadata": {},
     "output_type": "execute_result"
    }
   ],
   "source": [
    "test['user_id'].nunique()"
   ]
  },
  {
   "cell_type": "markdown",
   "metadata": {},
   "source": [
    "<a id='m_events'></a>\n",
    "### Проверка совпадения времени проведения теста с маркетинговыми событиями"
   ]
  },
  {
   "cell_type": "code",
   "execution_count": 56,
   "metadata": {},
   "outputs": [
    {
     "data": {
      "text/html": [
       "<div>\n",
       "<style scoped>\n",
       "    .dataframe tbody tr th:only-of-type {\n",
       "        vertical-align: middle;\n",
       "    }\n",
       "\n",
       "    .dataframe tbody tr th {\n",
       "        vertical-align: top;\n",
       "    }\n",
       "\n",
       "    .dataframe thead th {\n",
       "        text-align: right;\n",
       "    }\n",
       "</style>\n",
       "<table border=\"1\" class=\"dataframe\">\n",
       "  <thead>\n",
       "    <tr style=\"text-align: right;\">\n",
       "      <th></th>\n",
       "      <th>name</th>\n",
       "      <th>regions</th>\n",
       "      <th>start_dt</th>\n",
       "      <th>finish_dt</th>\n",
       "      <th>start_test</th>\n",
       "      <th>end_test</th>\n",
       "    </tr>\n",
       "  </thead>\n",
       "  <tbody>\n",
       "    <tr>\n",
       "      <th>0</th>\n",
       "      <td>Christmas&amp;New Year Promo</td>\n",
       "      <td>EU, N.America</td>\n",
       "      <td>2020-12-25</td>\n",
       "      <td>2021-01-03</td>\n",
       "      <td>2020-12-07</td>\n",
       "      <td>2021-01-04</td>\n",
       "    </tr>\n",
       "    <tr>\n",
       "      <th>1</th>\n",
       "      <td>St. Valentine's Day Giveaway</td>\n",
       "      <td>EU, CIS, APAC, N.America</td>\n",
       "      <td>2020-02-14</td>\n",
       "      <td>2020-02-16</td>\n",
       "      <td>2020-12-07</td>\n",
       "      <td>2021-01-04</td>\n",
       "    </tr>\n",
       "    <tr>\n",
       "      <th>2</th>\n",
       "      <td>St. Patric's Day Promo</td>\n",
       "      <td>EU, N.America</td>\n",
       "      <td>2020-03-17</td>\n",
       "      <td>2020-03-19</td>\n",
       "      <td>2020-12-07</td>\n",
       "      <td>2021-01-04</td>\n",
       "    </tr>\n",
       "    <tr>\n",
       "      <th>3</th>\n",
       "      <td>Easter Promo</td>\n",
       "      <td>EU, CIS, APAC, N.America</td>\n",
       "      <td>2020-04-12</td>\n",
       "      <td>2020-04-19</td>\n",
       "      <td>2020-12-07</td>\n",
       "      <td>2021-01-04</td>\n",
       "    </tr>\n",
       "    <tr>\n",
       "      <th>4</th>\n",
       "      <td>4th of July Promo</td>\n",
       "      <td>N.America</td>\n",
       "      <td>2020-07-04</td>\n",
       "      <td>2020-07-11</td>\n",
       "      <td>2020-12-07</td>\n",
       "      <td>2021-01-04</td>\n",
       "    </tr>\n",
       "    <tr>\n",
       "      <th>5</th>\n",
       "      <td>Black Friday Ads Campaign</td>\n",
       "      <td>EU, CIS, APAC, N.America</td>\n",
       "      <td>2020-11-26</td>\n",
       "      <td>2020-12-01</td>\n",
       "      <td>2020-12-07</td>\n",
       "      <td>2021-01-04</td>\n",
       "    </tr>\n",
       "    <tr>\n",
       "      <th>6</th>\n",
       "      <td>Chinese New Year Promo</td>\n",
       "      <td>APAC</td>\n",
       "      <td>2020-01-25</td>\n",
       "      <td>2020-02-07</td>\n",
       "      <td>2020-12-07</td>\n",
       "      <td>2021-01-04</td>\n",
       "    </tr>\n",
       "    <tr>\n",
       "      <th>7</th>\n",
       "      <td>Labor day (May 1st) Ads Campaign</td>\n",
       "      <td>EU, CIS, APAC</td>\n",
       "      <td>2020-05-01</td>\n",
       "      <td>2020-05-03</td>\n",
       "      <td>2020-12-07</td>\n",
       "      <td>2021-01-04</td>\n",
       "    </tr>\n",
       "    <tr>\n",
       "      <th>8</th>\n",
       "      <td>International Women's Day Promo</td>\n",
       "      <td>EU, CIS, APAC</td>\n",
       "      <td>2020-03-08</td>\n",
       "      <td>2020-03-10</td>\n",
       "      <td>2020-12-07</td>\n",
       "      <td>2021-01-04</td>\n",
       "    </tr>\n",
       "    <tr>\n",
       "      <th>9</th>\n",
       "      <td>Victory Day CIS (May 9th) Event</td>\n",
       "      <td>CIS</td>\n",
       "      <td>2020-05-09</td>\n",
       "      <td>2020-05-11</td>\n",
       "      <td>2020-12-07</td>\n",
       "      <td>2021-01-04</td>\n",
       "    </tr>\n",
       "    <tr>\n",
       "      <th>10</th>\n",
       "      <td>CIS New Year Gift Lottery</td>\n",
       "      <td>CIS</td>\n",
       "      <td>2020-12-30</td>\n",
       "      <td>2021-01-07</td>\n",
       "      <td>2020-12-07</td>\n",
       "      <td>2021-01-04</td>\n",
       "    </tr>\n",
       "    <tr>\n",
       "      <th>11</th>\n",
       "      <td>Dragon Boat Festival Giveaway</td>\n",
       "      <td>APAC</td>\n",
       "      <td>2020-06-25</td>\n",
       "      <td>2020-07-01</td>\n",
       "      <td>2020-12-07</td>\n",
       "      <td>2021-01-04</td>\n",
       "    </tr>\n",
       "    <tr>\n",
       "      <th>12</th>\n",
       "      <td>Single's Day Gift Promo</td>\n",
       "      <td>APAC</td>\n",
       "      <td>2020-11-11</td>\n",
       "      <td>2020-11-12</td>\n",
       "      <td>2020-12-07</td>\n",
       "      <td>2021-01-04</td>\n",
       "    </tr>\n",
       "    <tr>\n",
       "      <th>13</th>\n",
       "      <td>Chinese Moon Festival</td>\n",
       "      <td>APAC</td>\n",
       "      <td>2020-10-01</td>\n",
       "      <td>2020-10-07</td>\n",
       "      <td>2020-12-07</td>\n",
       "      <td>2021-01-04</td>\n",
       "    </tr>\n",
       "  </tbody>\n",
       "</table>\n",
       "</div>"
      ],
      "text/plain": [
       "                                name                   regions   start_dt  \\\n",
       "0           Christmas&New Year Promo             EU, N.America 2020-12-25   \n",
       "1       St. Valentine's Day Giveaway  EU, CIS, APAC, N.America 2020-02-14   \n",
       "2             St. Patric's Day Promo             EU, N.America 2020-03-17   \n",
       "3                       Easter Promo  EU, CIS, APAC, N.America 2020-04-12   \n",
       "4                  4th of July Promo                 N.America 2020-07-04   \n",
       "5          Black Friday Ads Campaign  EU, CIS, APAC, N.America 2020-11-26   \n",
       "6             Chinese New Year Promo                      APAC 2020-01-25   \n",
       "7   Labor day (May 1st) Ads Campaign             EU, CIS, APAC 2020-05-01   \n",
       "8    International Women's Day Promo             EU, CIS, APAC 2020-03-08   \n",
       "9    Victory Day CIS (May 9th) Event                       CIS 2020-05-09   \n",
       "10         CIS New Year Gift Lottery                       CIS 2020-12-30   \n",
       "11     Dragon Boat Festival Giveaway                      APAC 2020-06-25   \n",
       "12           Single's Day Gift Promo                      APAC 2020-11-11   \n",
       "13             Chinese Moon Festival                      APAC 2020-10-01   \n",
       "\n",
       "    finish_dt start_test   end_test  \n",
       "0  2021-01-03 2020-12-07 2021-01-04  \n",
       "1  2020-02-16 2020-12-07 2021-01-04  \n",
       "2  2020-03-19 2020-12-07 2021-01-04  \n",
       "3  2020-04-19 2020-12-07 2021-01-04  \n",
       "4  2020-07-11 2020-12-07 2021-01-04  \n",
       "5  2020-12-01 2020-12-07 2021-01-04  \n",
       "6  2020-02-07 2020-12-07 2021-01-04  \n",
       "7  2020-05-03 2020-12-07 2021-01-04  \n",
       "8  2020-03-10 2020-12-07 2021-01-04  \n",
       "9  2020-05-11 2020-12-07 2021-01-04  \n",
       "10 2021-01-07 2020-12-07 2021-01-04  \n",
       "11 2020-07-01 2020-12-07 2021-01-04  \n",
       "12 2020-11-12 2020-12-07 2021-01-04  \n",
       "13 2020-10-07 2020-12-07 2021-01-04  "
      ]
     },
     "execution_count": 56,
     "metadata": {},
     "output_type": "execute_result"
    }
   ],
   "source": [
    "m_events['start_test'] = datetime.datetime(2020, 12, 7)\n",
    "m_events['end_test'] = datetime.datetime(2021, 1, 4)\n",
    "\n",
    "m_events"
   ]
  },
  {
   "cell_type": "markdown",
   "metadata": {},
   "source": [
    "События, начавшиеся до периода и закончившиеся во время проведения теста:"
   ]
  },
  {
   "cell_type": "code",
   "execution_count": 57,
   "metadata": {},
   "outputs": [
    {
     "data": {
      "text/html": [
       "<div>\n",
       "<style scoped>\n",
       "    .dataframe tbody tr th:only-of-type {\n",
       "        vertical-align: middle;\n",
       "    }\n",
       "\n",
       "    .dataframe tbody tr th {\n",
       "        vertical-align: top;\n",
       "    }\n",
       "\n",
       "    .dataframe thead th {\n",
       "        text-align: right;\n",
       "    }\n",
       "</style>\n",
       "<table border=\"1\" class=\"dataframe\">\n",
       "  <thead>\n",
       "    <tr style=\"text-align: right;\">\n",
       "      <th></th>\n",
       "      <th>name</th>\n",
       "      <th>regions</th>\n",
       "      <th>start_dt</th>\n",
       "      <th>finish_dt</th>\n",
       "      <th>start_test</th>\n",
       "      <th>end_test</th>\n",
       "    </tr>\n",
       "  </thead>\n",
       "  <tbody>\n",
       "  </tbody>\n",
       "</table>\n",
       "</div>"
      ],
      "text/plain": [
       "Empty DataFrame\n",
       "Columns: [name, regions, start_dt, finish_dt, start_test, end_test]\n",
       "Index: []"
      ]
     },
     "execution_count": 57,
     "metadata": {},
     "output_type": "execute_result"
    }
   ],
   "source": [
    "m_events.query('start_dt < start_test and finish_dt >= start_test and finish_dt <= end_test')"
   ]
  },
  {
   "cell_type": "markdown",
   "metadata": {},
   "source": [
    "События, начавшиеся до периода и закончившиеся после проведения теста:"
   ]
  },
  {
   "cell_type": "code",
   "execution_count": 58,
   "metadata": {},
   "outputs": [
    {
     "data": {
      "text/html": [
       "<div>\n",
       "<style scoped>\n",
       "    .dataframe tbody tr th:only-of-type {\n",
       "        vertical-align: middle;\n",
       "    }\n",
       "\n",
       "    .dataframe tbody tr th {\n",
       "        vertical-align: top;\n",
       "    }\n",
       "\n",
       "    .dataframe thead th {\n",
       "        text-align: right;\n",
       "    }\n",
       "</style>\n",
       "<table border=\"1\" class=\"dataframe\">\n",
       "  <thead>\n",
       "    <tr style=\"text-align: right;\">\n",
       "      <th></th>\n",
       "      <th>name</th>\n",
       "      <th>regions</th>\n",
       "      <th>start_dt</th>\n",
       "      <th>finish_dt</th>\n",
       "      <th>start_test</th>\n",
       "      <th>end_test</th>\n",
       "    </tr>\n",
       "  </thead>\n",
       "  <tbody>\n",
       "  </tbody>\n",
       "</table>\n",
       "</div>"
      ],
      "text/plain": [
       "Empty DataFrame\n",
       "Columns: [name, regions, start_dt, finish_dt, start_test, end_test]\n",
       "Index: []"
      ]
     },
     "execution_count": 58,
     "metadata": {},
     "output_type": "execute_result"
    }
   ],
   "source": [
    "m_events.query('start_dt < start_test and finish_dt > end_test')"
   ]
  },
  {
   "cell_type": "markdown",
   "metadata": {},
   "source": [
    "События, начавшиеся и закончившиеся во время проведения теста:"
   ]
  },
  {
   "cell_type": "code",
   "execution_count": 59,
   "metadata": {},
   "outputs": [
    {
     "data": {
      "text/html": [
       "<div>\n",
       "<style scoped>\n",
       "    .dataframe tbody tr th:only-of-type {\n",
       "        vertical-align: middle;\n",
       "    }\n",
       "\n",
       "    .dataframe tbody tr th {\n",
       "        vertical-align: top;\n",
       "    }\n",
       "\n",
       "    .dataframe thead th {\n",
       "        text-align: right;\n",
       "    }\n",
       "</style>\n",
       "<table border=\"1\" class=\"dataframe\">\n",
       "  <thead>\n",
       "    <tr style=\"text-align: right;\">\n",
       "      <th></th>\n",
       "      <th>name</th>\n",
       "      <th>regions</th>\n",
       "      <th>start_dt</th>\n",
       "      <th>finish_dt</th>\n",
       "      <th>start_test</th>\n",
       "      <th>end_test</th>\n",
       "    </tr>\n",
       "  </thead>\n",
       "  <tbody>\n",
       "    <tr>\n",
       "      <th>0</th>\n",
       "      <td>Christmas&amp;New Year Promo</td>\n",
       "      <td>EU, N.America</td>\n",
       "      <td>2020-12-25</td>\n",
       "      <td>2021-01-03</td>\n",
       "      <td>2020-12-07</td>\n",
       "      <td>2021-01-04</td>\n",
       "    </tr>\n",
       "  </tbody>\n",
       "</table>\n",
       "</div>"
      ],
      "text/plain": [
       "                       name        regions   start_dt  finish_dt start_test  \\\n",
       "0  Christmas&New Year Promo  EU, N.America 2020-12-25 2021-01-03 2020-12-07   \n",
       "\n",
       "    end_test  \n",
       "0 2021-01-04  "
      ]
     },
     "execution_count": 59,
     "metadata": {},
     "output_type": "execute_result"
    }
   ],
   "source": [
    "m_events.query(\n",
    "    'start_dt >= start_test and start_dt <= end_test and finish_dt >= start_test and finish_dt <= end_test'\n",
    ")"
   ]
  },
  {
   "cell_type": "markdown",
   "metadata": {},
   "source": [
    "События, начавшиеся во время и закончившиеся после проведения теста:"
   ]
  },
  {
   "cell_type": "code",
   "execution_count": 60,
   "metadata": {},
   "outputs": [
    {
     "data": {
      "text/html": [
       "<div>\n",
       "<style scoped>\n",
       "    .dataframe tbody tr th:only-of-type {\n",
       "        vertical-align: middle;\n",
       "    }\n",
       "\n",
       "    .dataframe tbody tr th {\n",
       "        vertical-align: top;\n",
       "    }\n",
       "\n",
       "    .dataframe thead th {\n",
       "        text-align: right;\n",
       "    }\n",
       "</style>\n",
       "<table border=\"1\" class=\"dataframe\">\n",
       "  <thead>\n",
       "    <tr style=\"text-align: right;\">\n",
       "      <th></th>\n",
       "      <th>name</th>\n",
       "      <th>regions</th>\n",
       "      <th>start_dt</th>\n",
       "      <th>finish_dt</th>\n",
       "      <th>start_test</th>\n",
       "      <th>end_test</th>\n",
       "    </tr>\n",
       "  </thead>\n",
       "  <tbody>\n",
       "    <tr>\n",
       "      <th>10</th>\n",
       "      <td>CIS New Year Gift Lottery</td>\n",
       "      <td>CIS</td>\n",
       "      <td>2020-12-30</td>\n",
       "      <td>2021-01-07</td>\n",
       "      <td>2020-12-07</td>\n",
       "      <td>2021-01-04</td>\n",
       "    </tr>\n",
       "  </tbody>\n",
       "</table>\n",
       "</div>"
      ],
      "text/plain": [
       "                         name regions   start_dt  finish_dt start_test  \\\n",
       "10  CIS New Year Gift Lottery     CIS 2020-12-30 2021-01-07 2020-12-07   \n",
       "\n",
       "     end_test  \n",
       "10 2021-01-04  "
      ]
     },
     "execution_count": 60,
     "metadata": {},
     "output_type": "execute_result"
    }
   ],
   "source": [
    "m_events.query('start_dt >= start_test and start_dt <= end_test and finish_dt > end_test')"
   ]
  },
  {
   "cell_type": "markdown",
   "metadata": {},
   "source": [
    "Последнее событие не проводилось в Европе, поэтому его не учитываем. Итого во время проведения теста происходило одно событие. Посмотрим на распределение пользовательских событий по датам:"
   ]
  },
  {
   "cell_type": "code",
   "execution_count": 61,
   "metadata": {},
   "outputs": [
    {
     "data": {
      "text/plain": [
       "Timedelta('22 days 00:00:00')"
      ]
     },
     "execution_count": 61,
     "metadata": {},
     "output_type": "execute_result"
    }
   ],
   "source": [
    "test['event_date'].max() - test['event_date'].min()"
   ]
  },
  {
   "cell_type": "code",
   "execution_count": 62,
   "metadata": {},
   "outputs": [
    {
     "data": {
      "image/png": "[encoded data removed]",
      "text/plain": [
       "<Figure size 900x600 with 1 Axes>"
      ]
     },
     "metadata": {},
     "output_type": "display_data"
    }
   ],
   "source": [
    "test['event_date'].hist(figsize=(9,6), bins=22)\n",
    "plt.title('Распределение событий по дням');"
   ]
  },
  {
   "cell_type": "markdown",
   "metadata": {},
   "source": [
    "Маркетинговое событие не влияет на количество пользовательских событий. Увеличение количества событий до 21 декабря вероятно связано с увеличением количества новых пользователей, поскольку до этой даты совершался набор."
   ]
  },
  {
   "cell_type": "markdown",
   "metadata": {},
   "source": [
    "<a id='groups'></a>\n",
    "### Проверка распределения участников теста по группам"
   ]
  },
  {
   "cell_type": "code",
   "execution_count": 63,
   "metadata": {},
   "outputs": [
    {
     "data": {
      "text/plain": [
       "0"
      ]
     },
     "execution_count": 63,
     "metadata": {},
     "output_type": "execute_result"
    }
   ],
   "source": [
    "len(\n",
    "    set(users_test[users_test['group'] == 'A']['user_id']) &\n",
    "    set(users_test[users_test['group'] == 'B']['user_id'])\n",
    ")"
   ]
  },
  {
   "cell_type": "markdown",
   "metadata": {},
   "source": [
    "Нет участников, попавших в обе группы."
   ]
  },
  {
   "cell_type": "code",
   "execution_count": 64,
   "metadata": {},
   "outputs": [
    {
     "data": {
      "text/plain": [
       "A    0.572193\n",
       "B    0.427807\n",
       "Name: group, dtype: float64"
      ]
     },
     "execution_count": 64,
     "metadata": {},
     "output_type": "execute_result"
    }
   ],
   "source": [
    "users_test['group'].value_counts(normalize=True)"
   ]
  },
  {
   "cell_type": "markdown",
   "metadata": {},
   "source": [
    "57% участников относятся к контрольной группе, 43% - к тестовой."
   ]
  },
  {
   "cell_type": "code",
   "execution_count": 65,
   "metadata": {},
   "outputs": [
    {
     "name": "stdout",
     "output_type": "stream",
     "text": [
      "p-value 1.5386058814776924e-59\n",
      "Отвергаем нулевую гипотезу: между долями есть статистически значимая разница\n"
     ]
    }
   ],
   "source": [
    "alpha = 0.05\n",
    "count = np.array([\n",
    "    users_test[users_test['group'] == 'A']['user_id'].count(), \n",
    "    users_test[users_test['group'] == 'B']['user_id'].count()\n",
    "])\n",
    "nobs = users_test['user_id'].count()\n",
    "st, p_value = proportions_ztest(count, nobs)\n",
    "\n",
    "print('p-value', p_value)\n",
    "if p_value < alpha:\n",
    "    print('Отвергаем нулевую гипотезу: между долями есть статистически значимая разница')\n",
    "else:\n",
    "    print('Не удалось отвергнуть нулевую гипотезу: нет оснований считать доли разными')"
   ]
  },
  {
   "cell_type": "markdown",
   "metadata": {},
   "source": [
    "Количество участников между группами распределено неравномерно. "
   ]
  },
  {
   "cell_type": "markdown",
   "metadata": {},
   "source": [
    "<a id='fourth'></a>\n",
    "## Исследовательский анализ"
   ]
  },
  {
   "cell_type": "markdown",
   "metadata": {},
   "source": [
    "### Изучение аудитории теста по группам"
   ]
  },
  {
   "cell_type": "code",
   "execution_count": 66,
   "metadata": {},
   "outputs": [
    {
     "data": {
      "image/png": "[encoded data removed]",
      "text/plain": [
       "<Figure size 900x600 with 1 Axes>"
      ]
     },
     "metadata": {},
     "output_type": "display_data"
    }
   ],
   "source": [
    "plt.figure(figsize=(9,6))\n",
    "sns.lineplot(\n",
    "    data=test.groupby(['first_date', 'group'], as_index=False)['user_id'].nunique(),\n",
    "    x='first_date',\n",
    "    y='user_id',\n",
    "    hue='group'\n",
    ")\n",
    "plt.title('Количество зарегистрировавшихся пользователей по дням в группах')\n",
    "plt.ylabel('количество пользователей')\n",
    "plt.xlabel('дата');"
   ]
  },
  {
   "cell_type": "markdown",
   "metadata": {},
   "source": [
    "Участники групп А и В регистрировались по дням одинаково. Максимум регистраций пришелся на первый, последний дни и 14 декабря."
   ]
  },
  {
   "cell_type": "code",
   "execution_count": 67,
   "metadata": {},
   "outputs": [
    {
     "data": {
      "text/html": [
       "<div>\n",
       "<style scoped>\n",
       "    .dataframe tbody tr th:only-of-type {\n",
       "        vertical-align: middle;\n",
       "    }\n",
       "\n",
       "    .dataframe tbody tr th {\n",
       "        vertical-align: top;\n",
       "    }\n",
       "\n",
       "    .dataframe thead th {\n",
       "        text-align: right;\n",
       "    }\n",
       "</style>\n",
       "<table border=\"1\" class=\"dataframe\">\n",
       "  <thead>\n",
       "    <tr style=\"text-align: right;\">\n",
       "      <th></th>\n",
       "      <th>group</th>\n",
       "      <th>device</th>\n",
       "      <th>user_id</th>\n",
       "    </tr>\n",
       "  </thead>\n",
       "  <tbody>\n",
       "    <tr>\n",
       "      <th>0</th>\n",
       "      <td>A</td>\n",
       "      <td>Android</td>\n",
       "      <td>1590</td>\n",
       "    </tr>\n",
       "    <tr>\n",
       "      <th>1</th>\n",
       "      <td>A</td>\n",
       "      <td>Mac</td>\n",
       "      <td>354</td>\n",
       "    </tr>\n",
       "    <tr>\n",
       "      <th>2</th>\n",
       "      <td>A</td>\n",
       "      <td>PC</td>\n",
       "      <td>964</td>\n",
       "    </tr>\n",
       "    <tr>\n",
       "      <th>3</th>\n",
       "      <td>A</td>\n",
       "      <td>iPhone</td>\n",
       "      <td>726</td>\n",
       "    </tr>\n",
       "    <tr>\n",
       "      <th>4</th>\n",
       "      <td>B</td>\n",
       "      <td>Android</td>\n",
       "      <td>1228</td>\n",
       "    </tr>\n",
       "    <tr>\n",
       "      <th>5</th>\n",
       "      <td>B</td>\n",
       "      <td>Mac</td>\n",
       "      <td>250</td>\n",
       "    </tr>\n",
       "    <tr>\n",
       "      <th>6</th>\n",
       "      <td>B</td>\n",
       "      <td>PC</td>\n",
       "      <td>657</td>\n",
       "    </tr>\n",
       "    <tr>\n",
       "      <th>7</th>\n",
       "      <td>B</td>\n",
       "      <td>iPhone</td>\n",
       "      <td>582</td>\n",
       "    </tr>\n",
       "  </tbody>\n",
       "</table>\n",
       "</div>"
      ],
      "text/plain": [
       "  group   device  user_id\n",
       "0     A  Android     1590\n",
       "1     A      Mac      354\n",
       "2     A       PC      964\n",
       "3     A   iPhone      726\n",
       "4     B  Android     1228\n",
       "5     B      Mac      250\n",
       "6     B       PC      657\n",
       "7     B   iPhone      582"
      ]
     },
     "execution_count": 67,
     "metadata": {},
     "output_type": "execute_result"
    }
   ],
   "source": [
    "test.groupby(['group', 'device'], as_index=False)['user_id'].nunique()"
   ]
  },
  {
   "cell_type": "code",
   "execution_count": 68,
   "metadata": {},
   "outputs": [
    {
     "data": {
      "image/png": "[encoded data removed]",
      "text/plain": [
       "<Figure size 640x480 with 1 Axes>"
      ]
     },
     "metadata": {},
     "output_type": "display_data"
    }
   ],
   "source": [
    "plt.figure()\n",
    "sns.barplot(\n",
    "    data=(\n",
    "        test.groupby(['group', 'device'], as_index=False)['user_id'].nunique()\n",
    "        .sort_values('user_id', ascending=False)\n",
    "    ), \n",
    "    x='user_id', \n",
    "    y='device', \n",
    "    hue='group'\n",
    ")\n",
    "plt.title('Распределение пользователей устройствам')\n",
    "plt.ylabel('')\n",
    "plt.xlabel('количество пользователей');"
   ]
  },
  {
   "cell_type": "markdown",
   "metadata": {},
   "source": [
    "Участники группы А и В одинаково распределены по устройствам, с которых они регистрировались. Больше всего пользователей регистрировались с Android."
   ]
  },
  {
   "cell_type": "code",
   "execution_count": 69,
   "metadata": {},
   "outputs": [
    {
     "data": {
      "text/html": [
       "<div>\n",
       "<style scoped>\n",
       "    .dataframe tbody tr th:only-of-type {\n",
       "        vertical-align: middle;\n",
       "    }\n",
       "\n",
       "    .dataframe tbody tr th {\n",
       "        vertical-align: top;\n",
       "    }\n",
       "\n",
       "    .dataframe thead th {\n",
       "        text-align: right;\n",
       "    }\n",
       "</style>\n",
       "<table border=\"1\" class=\"dataframe\">\n",
       "  <thead>\n",
       "    <tr style=\"text-align: right;\">\n",
       "      <th></th>\n",
       "      <th>event_name</th>\n",
       "      <th>group</th>\n",
       "      <th>user_id</th>\n",
       "    </tr>\n",
       "  </thead>\n",
       "  <tbody>\n",
       "    <tr>\n",
       "      <th>0</th>\n",
       "      <td>login</td>\n",
       "      <td>A</td>\n",
       "      <td>2604</td>\n",
       "    </tr>\n",
       "    <tr>\n",
       "      <th>1</th>\n",
       "      <td>login</td>\n",
       "      <td>B</td>\n",
       "      <td>876</td>\n",
       "    </tr>\n",
       "    <tr>\n",
       "      <th>2</th>\n",
       "      <td>product_cart</td>\n",
       "      <td>A</td>\n",
       "      <td>782</td>\n",
       "    </tr>\n",
       "    <tr>\n",
       "      <th>3</th>\n",
       "      <td>product_cart</td>\n",
       "      <td>B</td>\n",
       "      <td>244</td>\n",
       "    </tr>\n",
       "    <tr>\n",
       "      <th>4</th>\n",
       "      <td>product_page</td>\n",
       "      <td>A</td>\n",
       "      <td>1685</td>\n",
       "    </tr>\n",
       "    <tr>\n",
       "      <th>5</th>\n",
       "      <td>product_page</td>\n",
       "      <td>B</td>\n",
       "      <td>493</td>\n",
       "    </tr>\n",
       "    <tr>\n",
       "      <th>6</th>\n",
       "      <td>purchase</td>\n",
       "      <td>A</td>\n",
       "      <td>833</td>\n",
       "    </tr>\n",
       "    <tr>\n",
       "      <th>7</th>\n",
       "      <td>purchase</td>\n",
       "      <td>B</td>\n",
       "      <td>249</td>\n",
       "    </tr>\n",
       "  </tbody>\n",
       "</table>\n",
       "</div>"
      ],
      "text/plain": [
       "     event_name group  user_id\n",
       "0         login     A     2604\n",
       "1         login     B      876\n",
       "2  product_cart     A      782\n",
       "3  product_cart     B      244\n",
       "4  product_page     A     1685\n",
       "5  product_page     B      493\n",
       "6      purchase     A      833\n",
       "7      purchase     B      249"
      ]
     },
     "execution_count": 69,
     "metadata": {},
     "output_type": "execute_result"
    }
   ],
   "source": [
    "test.dropna(subset=['event_name']).groupby(['event_name','group'], as_index=False)['user_id'].nunique()"
   ]
  },
  {
   "cell_type": "code",
   "execution_count": 70,
   "metadata": {},
   "outputs": [
    {
     "data": {
      "image/png": "[encoded data removed]",
      "text/plain": [
       "<Figure size 640x480 with 1 Axes>"
      ]
     },
     "metadata": {},
     "output_type": "display_data"
    }
   ],
   "source": [
    "plt.figure()\n",
    "sns.barplot(\n",
    "    data=(\n",
    "        test.dropna(subset=['event_name'])\n",
    "        .groupby(['event_name','group'], as_index=False)['user_id'].nunique()\n",
    "        .sort_values('user_id', ascending=False)\n",
    "    ),\n",
    "    x='user_id',\n",
    "    y='event_name',\n",
    "    hue='group'\n",
    ")\n",
    "plt.title('Распределение пользователей по событиям')\n",
    "plt.ylabel('')\n",
    "plt.xlabel('количество пользователей');"
   ]
  },
  {
   "cell_type": "markdown",
   "metadata": {},
   "source": [
    "Распределение пользователей групп А и В по событиям одинаково."
   ]
  },
  {
   "cell_type": "code",
   "execution_count": 71,
   "metadata": {},
   "outputs": [
    {
     "data": {
      "text/html": [
       "<div>\n",
       "<style scoped>\n",
       "    .dataframe tbody tr th:only-of-type {\n",
       "        vertical-align: middle;\n",
       "    }\n",
       "\n",
       "    .dataframe tbody tr th {\n",
       "        vertical-align: top;\n",
       "    }\n",
       "\n",
       "    .dataframe thead th {\n",
       "        text-align: right;\n",
       "    }\n",
       "</style>\n",
       "<table border=\"1\" class=\"dataframe\">\n",
       "  <thead>\n",
       "    <tr style=\"text-align: right;\">\n",
       "      <th></th>\n",
       "      <th>details</th>\n",
       "      <th>group</th>\n",
       "      <th>user_id</th>\n",
       "    </tr>\n",
       "  </thead>\n",
       "  <tbody>\n",
       "    <tr>\n",
       "      <th>0</th>\n",
       "      <td>4.99</td>\n",
       "      <td>A</td>\n",
       "      <td>1858</td>\n",
       "    </tr>\n",
       "    <tr>\n",
       "      <th>1</th>\n",
       "      <td>4.99</td>\n",
       "      <td>B</td>\n",
       "      <td>469</td>\n",
       "    </tr>\n",
       "    <tr>\n",
       "      <th>2</th>\n",
       "      <td>9.99</td>\n",
       "      <td>A</td>\n",
       "      <td>374</td>\n",
       "    </tr>\n",
       "    <tr>\n",
       "      <th>3</th>\n",
       "      <td>9.99</td>\n",
       "      <td>B</td>\n",
       "      <td>93</td>\n",
       "    </tr>\n",
       "    <tr>\n",
       "      <th>4</th>\n",
       "      <td>99.99</td>\n",
       "      <td>A</td>\n",
       "      <td>222</td>\n",
       "    </tr>\n",
       "    <tr>\n",
       "      <th>5</th>\n",
       "      <td>99.99</td>\n",
       "      <td>B</td>\n",
       "      <td>50</td>\n",
       "    </tr>\n",
       "    <tr>\n",
       "      <th>6</th>\n",
       "      <td>499.99</td>\n",
       "      <td>A</td>\n",
       "      <td>45</td>\n",
       "    </tr>\n",
       "    <tr>\n",
       "      <th>7</th>\n",
       "      <td>499.99</td>\n",
       "      <td>B</td>\n",
       "      <td>12</td>\n",
       "    </tr>\n",
       "  </tbody>\n",
       "</table>\n",
       "</div>"
      ],
      "text/plain": [
       "   details group  user_id\n",
       "0     4.99     A     1858\n",
       "1     4.99     B      469\n",
       "2     9.99     A      374\n",
       "3     9.99     B       93\n",
       "4    99.99     A      222\n",
       "5    99.99     B       50\n",
       "6   499.99     A       45\n",
       "7   499.99     B       12"
      ]
     },
     "execution_count": 71,
     "metadata": {},
     "output_type": "execute_result"
    }
   ],
   "source": [
    "test.dropna(subset=['details']).groupby(['details','group'], as_index=False)['user_id'].count()"
   ]
  },
  {
   "cell_type": "code",
   "execution_count": 72,
   "metadata": {},
   "outputs": [
    {
     "data": {
      "image/png": "[encoded data removed]",
      "text/plain": [
       "<Figure size 640x480 with 1 Axes>"
      ]
     },
     "metadata": {},
     "output_type": "display_data"
    }
   ],
   "source": [
    "plt.figure()\n",
    "sns.barplot(\n",
    "    data=test.dropna(subset=['details']).groupby(['details','group'], as_index=False)['user_id'].count(),\n",
    "    x='details',\n",
    "    y='user_id',\n",
    "    hue='group'\n",
    ")\n",
    "plt.title('Распределение покупок по стоимости в группах')\n",
    "plt.ylabel('количество покупок')\n",
    "plt.xlabel('стоимость');"
   ]
  },
  {
   "cell_type": "markdown",
   "metadata": {},
   "source": [
    "Распределение стоимости покупок в группах одинаково."
   ]
  },
  {
   "cell_type": "code",
   "execution_count": 73,
   "metadata": {},
   "outputs": [
    {
     "data": {
      "image/png": "[encoded data removed]",
      "text/plain": [
       "<Figure size 900x600 with 1 Axes>"
      ]
     },
     "metadata": {},
     "output_type": "display_data"
    }
   ],
   "source": [
    "plt.figure(figsize=(9,6))\n",
    "sns.lineplot(\n",
    "    data=(\n",
    "        test.dropna(subset=['event_name'])\n",
    "        .groupby(['event_date','group'], as_index=False)['user_id'].count()\n",
    "    ),\n",
    "    x='event_date',\n",
    "    y='user_id',\n",
    "    hue='group'\n",
    ")\n",
    "plt.title('Количество событий по дням в группах')\n",
    "plt.ylabel('количество событий')\n",
    "plt.xlabel('дата');"
   ]
  },
  {
   "cell_type": "markdown",
   "metadata": {},
   "source": [
    "В группе А количество событий резко возросло с 2020-12-13, снижалось с 2020-12-21. В эти дни было максимальное количество регистраций. В группе В количество событий менялось незначительно в разные дни, к концу периода снижалось, как и в группе А."
   ]
  },
  {
   "cell_type": "code",
   "execution_count": 74,
   "metadata": {},
   "outputs": [],
   "source": [
    "events_by_day = (\n",
    "    test.dropna(subset=['event_name'])\n",
    "    .groupby(['event_date','group'], as_index=False)['user_id'].agg(['count', 'nunique'])\n",
    ")\n",
    "events_by_day['events_per_user'] = events_by_day['count'] / events_by_day['nunique']"
   ]
  },
  {
   "cell_type": "code",
   "execution_count": 75,
   "metadata": {},
   "outputs": [
    {
     "data": {
      "image/png": "[encoded data removed]",
      "text/plain": [
       "<Figure size 900x600 with 1 Axes>"
      ]
     },
     "metadata": {},
     "output_type": "display_data"
    }
   ],
   "source": [
    "plt.figure(figsize=(9,6))\n",
    "sns.lineplot(\n",
    "    data=events_by_day,\n",
    "    x='event_date',\n",
    "    y='events_per_user',\n",
    "    hue='group'\n",
    ")\n",
    "plt.title('Среднее количество событий на пользователя по дням в группах')\n",
    "plt.ylabel('среднее количество событий на пользователя')\n",
    "plt.xlabel('дата');"
   ]
  },
  {
   "cell_type": "markdown",
   "metadata": {},
   "source": [
    "С середины периода проведения теста разница между количеством событий в группах становится больше."
   ]
  },
  {
   "cell_type": "markdown",
   "metadata": {},
   "source": [
    "### Распределение количества событий на пользователя в выборках"
   ]
  },
  {
   "cell_type": "markdown",
   "metadata": {},
   "source": [
    "Ранее уже определили, что не все пользователи совершали события, а только 3481 (55%) участников. Посмотрим в разрезе групп как распределены количества событий на пользователя."
   ]
  },
  {
   "cell_type": "code",
   "execution_count": 76,
   "metadata": {},
   "outputs": [
    {
     "data": {
      "text/plain": [
       "A    0.787498\n",
       "B    0.212502\n",
       "Name: group, dtype: float64"
      ]
     },
     "execution_count": 76,
     "metadata": {},
     "output_type": "execute_result"
    }
   ],
   "source": [
    "test.dropna(subset=['event_name'])['group'].value_counts(normalize=True)"
   ]
  },
  {
   "cell_type": "markdown",
   "metadata": {},
   "source": [
    "79% событий приходится на группу А, 21% событий на группу В."
   ]
  },
  {
   "cell_type": "code",
   "execution_count": 77,
   "metadata": {
    "scrolled": true
   },
   "outputs": [
    {
     "data": {
      "text/plain": [
       "group\n",
       "A    2604\n",
       "B     877\n",
       "Name: user_id, dtype: int64"
      ]
     },
     "execution_count": 77,
     "metadata": {},
     "output_type": "execute_result"
    }
   ],
   "source": [
    "test.dropna(subset=['event_name']).groupby('group')['user_id'].nunique()"
   ]
  },
  {
   "cell_type": "code",
   "execution_count": 78,
   "metadata": {},
   "outputs": [
    {
     "data": {
      "text/plain": [
       "group\n",
       "A    0.748061\n",
       "B    0.251939\n",
       "Name: user_id, dtype: float64"
      ]
     },
     "execution_count": 78,
     "metadata": {},
     "output_type": "execute_result"
    }
   ],
   "source": [
    "(\n",
    "    test.dropna(subset=['event_name']).groupby('group')['user_id'].nunique() /\n",
    "    test.dropna(subset=['event_name'])['user_id'].nunique()\n",
    ")"
   ]
  },
  {
   "cell_type": "code",
   "execution_count": 79,
   "metadata": {},
   "outputs": [
    {
     "data": {
      "text/plain": [
       "group\n",
       "A    0.716566\n",
       "B    0.322782\n",
       "dtype: float64"
      ]
     },
     "execution_count": 79,
     "metadata": {},
     "output_type": "execute_result"
    }
   ],
   "source": [
    "test.dropna(subset=['event_name']).groupby('group')['user_id'].nunique() / users_test['group'].value_counts()"
   ]
  },
  {
   "cell_type": "markdown",
   "metadata": {},
   "source": [
    "Из всех пользователей, совершавших события, 75% из группы А, 25% из группы В.  \n",
    "Из всех пользователей группы А 72% совершали события, из группы В совершали события 32% пользователей."
   ]
  },
  {
   "cell_type": "code",
   "execution_count": 80,
   "metadata": {},
   "outputs": [],
   "source": [
    "events_per_user = (\n",
    "    test.dropna(subset=['event_name'])\n",
    "    .groupby(['user_id', 'group'], as_index=False)['event_name'].count()\n",
    ")"
   ]
  },
  {
   "cell_type": "code",
   "execution_count": 81,
   "metadata": {},
   "outputs": [
    {
     "data": {
      "image/png": "[encoded data removed]",
      "text/plain": [
       "<Figure size 640x480 with 1 Axes>"
      ]
     },
     "metadata": {},
     "output_type": "display_data"
    }
   ],
   "source": [
    "plt.figure()\n",
    "sns.histplot(\n",
    "    data=events_per_user,\n",
    "    x='event_name',\n",
    "    hue='group',\n",
    "    stat='density', common_norm=False,\n",
    "    bins=24\n",
    "\n",
    ")\n",
    "plt.title('Распределение количества событий на пользователя в группах')\n",
    "plt.xlabel('количество событий на пользователя');"
   ]
  },
  {
   "cell_type": "markdown",
   "metadata": {},
   "source": [
    "В группе В на пользователя приходится меньше событий, чем в группе А. "
   ]
  },
  {
   "cell_type": "code",
   "execution_count": 82,
   "metadata": {},
   "outputs": [
    {
     "data": {
      "text/plain": [
       "6.0"
      ]
     },
     "execution_count": 82,
     "metadata": {},
     "output_type": "execute_result"
    }
   ],
   "source": [
    "events_per_user.query('group == \"A\"')['event_name'].median()"
   ]
  },
  {
   "cell_type": "code",
   "execution_count": 83,
   "metadata": {},
   "outputs": [
    {
     "data": {
      "text/plain": [
       "4.0"
      ]
     },
     "execution_count": 83,
     "metadata": {},
     "output_type": "execute_result"
    }
   ],
   "source": [
    "events_per_user.query('group == \"B\"')['event_name'].median()"
   ]
  },
  {
   "cell_type": "code",
   "execution_count": 84,
   "metadata": {},
   "outputs": [
    {
     "data": {
      "text/plain": [
       "4.0"
      ]
     },
     "execution_count": 84,
     "metadata": {},
     "output_type": "execute_result"
    }
   ],
   "source": [
    "test.query('group == \"A\"').groupby('user_id')['event_name'].count().median()"
   ]
  },
  {
   "cell_type": "code",
   "execution_count": 85,
   "metadata": {},
   "outputs": [
    {
     "data": {
      "text/plain": [
       "0.0"
      ]
     },
     "execution_count": 85,
     "metadata": {},
     "output_type": "execute_result"
    }
   ],
   "source": [
    "test.query('group == \"B\"').groupby('user_id')['event_name'].count().median()"
   ]
  },
  {
   "cell_type": "markdown",
   "metadata": {},
   "source": [
    "В среднем на пользователя (только среди пользователей, совершавших события) приходится 6 событий в группе А и 4 события в группе В.\n",
    "\n",
    "Среди всех пользователей группы А в среднем на одного приходится 4 события, пользователи группы В в среднем не совершают ни одного события."
   ]
  },
  {
   "cell_type": "markdown",
   "metadata": {},
   "source": [
    "### Воронка событий"
   ]
  },
  {
   "cell_type": "code",
   "execution_count": 86,
   "metadata": {},
   "outputs": [
    {
     "data": {
      "text/html": [
       "<div>\n",
       "<style scoped>\n",
       "    .dataframe tbody tr th:only-of-type {\n",
       "        vertical-align: middle;\n",
       "    }\n",
       "\n",
       "    .dataframe tbody tr th {\n",
       "        vertical-align: top;\n",
       "    }\n",
       "\n",
       "    .dataframe thead th {\n",
       "        text-align: right;\n",
       "    }\n",
       "</style>\n",
       "<table border=\"1\" class=\"dataframe\">\n",
       "  <thead>\n",
       "    <tr style=\"text-align: right;\">\n",
       "      <th>group</th>\n",
       "      <th>A</th>\n",
       "      <th>B</th>\n",
       "    </tr>\n",
       "    <tr>\n",
       "      <th>event_name</th>\n",
       "      <th></th>\n",
       "      <th></th>\n",
       "    </tr>\n",
       "  </thead>\n",
       "  <tbody>\n",
       "    <tr>\n",
       "      <th>login</th>\n",
       "      <td>2604</td>\n",
       "      <td>876</td>\n",
       "    </tr>\n",
       "    <tr>\n",
       "      <th>product_page</th>\n",
       "      <td>1685</td>\n",
       "      <td>493</td>\n",
       "    </tr>\n",
       "    <tr>\n",
       "      <th>product_cart</th>\n",
       "      <td>782</td>\n",
       "      <td>244</td>\n",
       "    </tr>\n",
       "    <tr>\n",
       "      <th>purchase</th>\n",
       "      <td>833</td>\n",
       "      <td>249</td>\n",
       "    </tr>\n",
       "  </tbody>\n",
       "</table>\n",
       "</div>"
      ],
      "text/plain": [
       "group            A    B\n",
       "event_name             \n",
       "login         2604  876\n",
       "product_page  1685  493\n",
       "product_cart   782  244\n",
       "purchase       833  249"
      ]
     },
     "execution_count": 86,
     "metadata": {},
     "output_type": "execute_result"
    }
   ],
   "source": [
    "funnel = (\n",
    "    test.dropna(subset=['event_name'])\n",
    "    .pivot_table(index='event_name', columns='group', values='user_id', aggfunc='nunique')\n",
    ")\n",
    "funnel = funnel.reindex(['login', 'product_page', 'product_cart', 'purchase'])\n",
    "funnel"
   ]
  },
  {
   "cell_type": "code",
   "execution_count": 87,
   "metadata": {},
   "outputs": [],
   "source": [
    "funnel['conv_A'] = funnel['A'].div(funnel.loc['login', 'A']).round(3)\n",
    "funnel['conv_B'] = funnel['B'].div(funnel.loc['login', 'B']).round(3)"
   ]
  },
  {
   "cell_type": "code",
   "execution_count": 88,
   "metadata": {},
   "outputs": [
    {
     "data": {
      "text/html": [
       "<div>\n",
       "<style scoped>\n",
       "    .dataframe tbody tr th:only-of-type {\n",
       "        vertical-align: middle;\n",
       "    }\n",
       "\n",
       "    .dataframe tbody tr th {\n",
       "        vertical-align: top;\n",
       "    }\n",
       "\n",
       "    .dataframe thead th {\n",
       "        text-align: right;\n",
       "    }\n",
       "</style>\n",
       "<table border=\"1\" class=\"dataframe\">\n",
       "  <thead>\n",
       "    <tr style=\"text-align: right;\">\n",
       "      <th>group</th>\n",
       "      <th>A</th>\n",
       "      <th>B</th>\n",
       "      <th>conv_A</th>\n",
       "      <th>conv_B</th>\n",
       "    </tr>\n",
       "    <tr>\n",
       "      <th>event_name</th>\n",
       "      <th></th>\n",
       "      <th></th>\n",
       "      <th></th>\n",
       "      <th></th>\n",
       "    </tr>\n",
       "  </thead>\n",
       "  <tbody>\n",
       "    <tr>\n",
       "      <th>login</th>\n",
       "      <td>2604</td>\n",
       "      <td>876</td>\n",
       "      <td>1.000</td>\n",
       "      <td>1.000</td>\n",
       "    </tr>\n",
       "    <tr>\n",
       "      <th>product_page</th>\n",
       "      <td>1685</td>\n",
       "      <td>493</td>\n",
       "      <td>0.647</td>\n",
       "      <td>0.563</td>\n",
       "    </tr>\n",
       "    <tr>\n",
       "      <th>product_cart</th>\n",
       "      <td>782</td>\n",
       "      <td>244</td>\n",
       "      <td>0.300</td>\n",
       "      <td>0.279</td>\n",
       "    </tr>\n",
       "    <tr>\n",
       "      <th>purchase</th>\n",
       "      <td>833</td>\n",
       "      <td>249</td>\n",
       "      <td>0.320</td>\n",
       "      <td>0.284</td>\n",
       "    </tr>\n",
       "  </tbody>\n",
       "</table>\n",
       "</div>"
      ],
      "text/plain": [
       "group            A    B  conv_A  conv_B\n",
       "event_name                             \n",
       "login         2604  876   1.000   1.000\n",
       "product_page  1685  493   0.647   0.563\n",
       "product_cart   782  244   0.300   0.279\n",
       "purchase       833  249   0.320   0.284"
      ]
     },
     "execution_count": 88,
     "metadata": {},
     "output_type": "execute_result"
    }
   ],
   "source": [
    "funnel"
   ]
  },
  {
   "cell_type": "code",
   "execution_count": 89,
   "metadata": {},
   "outputs": [
    {
     "data": {
      "image/png": "[encoded data removed]"
     },
     "metadata": {},
     "output_type": "display_data"
    }
   ],
   "source": [
    "fig = go.Figure()\n",
    "\n",
    "fig.add_trace(go.Funnel(\n",
    "    name='A',\n",
    "    y=funnel.index, \n",
    "    x=funnel['A'], \n",
    "    textposition = \"inside\",\n",
    "    textinfo = \"value+percent initial\")\n",
    "    )\n",
    "\n",
    "fig.add_trace(go.Funnel(\n",
    "    name='B',\n",
    "    y=funnel.index, \n",
    "    x=funnel['B'], \n",
    "    textposition = \"inside\",\n",
    "    textinfo = \"value+percent initial\")\n",
    "    )\n",
    "\n",
    "fig.update_layout(title='Воронка событий', height=500, width=800)\n",
    "fig.show('png')"
   ]
  },
  {
   "cell_type": "markdown",
   "metadata": {},
   "source": [
    "В контрольной группе конверсия в просмотр страницы товара - 65%, конверсия в просмотр корзины - 30%, конверсия в покупку - 32%. \n",
    "В тестовой группе конверсия в просмотр страницы товара - 56%, конверсия в просмотр корзины - 28%, конверсия в покупку - 28%. \n",
    "Метрики ни на одном из этапов не улучшились. "
   ]
  },
  {
   "cell_type": "markdown",
   "metadata": {},
   "source": [
    "**Факторы, которые могут негативно влиять на точность теста:**\n",
    "- Нет данных о пользовательских событиях за последние 5 дней проведения теста. Последняя дата событий 30 декабря, а тест остановлен 4 января.\n",
    "- Одновременно проводилось 2 теста, участники попали в оба теста.\n",
    "- Участники между группами распределены неравномерно. В группу А попало больше пользователей. Кроме того в группе А пользователи были более активными. "
   ]
  },
  {
   "cell_type": "markdown",
   "metadata": {},
   "source": [
    "<a id='fifth'></a>\n",
    "## Оценка результатов А/В-теста"
   ]
  },
  {
   "cell_type": "markdown",
   "metadata": {},
   "source": [
    "Ожидаемый эффект не был достигнут: метрики не улучшились. Наоборот по сравнению с контрольной группой конверсия на всех этапах несколько снизилась. Нужно оценить является ли это статистически значимой разницей."
   ]
  },
  {
   "cell_type": "markdown",
   "metadata": {},
   "source": [
    "###  Расчет статистической значимости"
   ]
  },
  {
   "cell_type": "markdown",
   "metadata": {},
   "source": [
    "Н0 - Конверсия в группах А и В равна.  \n",
    "Н1 - Конверсия в группах А и В отличается. \n",
    "\n",
    "Так как проводятся множественные сравнения, для уровня статистической значимости используем поправку Бонферрони. "
   ]
  },
  {
   "cell_type": "code",
   "execution_count": 90,
   "metadata": {},
   "outputs": [
    {
     "name": "stdout",
     "output_type": "stream",
     "text": [
      "[1685  493] [2604  876]\n",
      "Сравнение конверсий в product_page\n",
      "p-value 8.195976000351998e-06\n",
      "Отвергаем нулевую гипотезу: есть статистически значимая разница в конверсии\n",
      "------------------------------------------------------------\n",
      "[782 244] [2604  876]\n",
      "Сравнение конверсий в product_cart\n",
      "p-value 0.2215941567364419\n",
      "Не удалось отвергнуть нулевую гипотезу: нет оснований считать конверсии разными\n",
      "------------------------------------------------------------\n",
      "[833 249] [2604  876]\n",
      "Сравнение конверсий в purchase\n",
      "p-value 0.0486476669504243\n",
      "Не удалось отвергнуть нулевую гипотезу: нет оснований считать конверсии разными\n",
      "------------------------------------------------------------\n"
     ]
    }
   ],
   "source": [
    "alpha = 0.05 / 3\n",
    "\n",
    "for stage in ['product_page', 'product_cart', 'purchase']:\n",
    "    count = np.array([\n",
    "        funnel.loc[stage, 'A'], \n",
    "        funnel.loc[stage, 'B']\n",
    "    ])\n",
    "    nobs = np.array([\n",
    "        funnel.loc['login', 'A'],\n",
    "        funnel.loc['login', 'B']\n",
    "    ])\n",
    "                 \n",
    "    st, p_value = proportions_ztest(count, nobs)\n",
    "    print(count, nobs)\n",
    "    \n",
    "    print(f'Сравнение конверсий в {stage}')\n",
    "    print('p-value', p_value)\n",
    "    if p_value < alpha:\n",
    "        print(f'Отвергаем нулевую гипотезу: есть статистически значимая разница в конверсии')\n",
    "    else:\n",
    "        print(f'Не удалось отвергнуть нулевую гипотезу: нет оснований считать конверсии разными')\n",
    "    print('---' * 20)"
   ]
  },
  {
   "cell_type": "markdown",
   "metadata": {},
   "source": [
    "Итак, конверсия в просмотр страницы товара в тестовой группе снизилась по сравнению с контрольной. Конверсии остальных этапов между группами не отличаются."
   ]
  },
  {
   "cell_type": "markdown",
   "metadata": {},
   "source": [
    "<a id='sixth'></a>\n",
    "## Общий вывод"
   ]
  },
  {
   "cell_type": "markdown",
   "metadata": {},
   "source": [
    "Были изучены 4 таблицы данных. Дубликатов не обнаружено, определена причина пропусков. Даты приведены к соответствующему формату.   \n",
    "Данные были проверены на соответствие ТЗ:\n",
    "- даты регистрации участников теста соответствуют периоду набора в тест;\n",
    "- количество участников 6351;  \n",
    "- для участия отобрано 15% пользователей из Европы;\n",
    "\n",
    "Данные приведены в соответствие ТЗ:  \n",
    "- исключены участники теста не из Европы; \n",
    "- исключены события выходящие за пределы 14 дней с момента регистрации.  \n",
    "\n",
    "Было обнаружено, что   \n",
    "- Нет данных о пользовательских событиях за последние 5 дней проведения теста. Последняя дата событий 30 декабря, а тест остановлен 4 января.  \n",
    "- Проводилось 2 теста одновременно и значительная часть пользователей участвовали в двух тестах. При этом участники нашего теста, попавшие в группу В конкурирующего теста, одинаково распределены по группам в нашем тесте.   \n",
    "- Только 55% участников теста совершали события.  \n",
    "- Одно маркетинговое событие попало на период проведения теста. \n",
    "\n",
    "Проверено распределение пользователей по группам. Пользователи по группам не пересекаются. Количество участников распределено неравномерно. 57% участников относятся к контрольной группе, 43% - к тестовой.  \n",
    "В целом поведение пользователей двух групп схоже, за исключением активности. В группе А пользователи совершали больше событий, чем в группе В. Из всех пользователей, совершавших события, 75% из группы А, 25% из группы В; в среднем на пользователя приходится 6 событий в группе А и 4 события в группе В. Среди всех пользователей группы А в среднем на одного приходится 4 события, медианное количество событий на пользователя группы В - 0.\n",
    "\n",
    "Построена воронка событий, посчитана конверсия на каждом шаге. В контрольной группе конверсия в просмотр страницы товара - 65%, конверсия в просмотр корзины - 30%, конверсия в покупку - 32%. В тестовой группе конверсия в просмотр страницы товара - 56%, конверсия в просмотр корзины - 28%, конверсия в покупку - 28%. \n",
    "\n",
    "Ожидаемый эффект не был достигнут: метрики не улучшились. Оценена статистическая значимость изменения конверсии. Конверсия в просмотр страницы товара снизилась, а конверсии в просмотр корзины и в покупку не изменились. \n",
    "\n",
    "Негативно повлиять на точность теста могли следующие факторы:   \n",
    "- Отсутствие данных о пользовательских событиях за последние 5 дней проведения теста; \n",
    "- Одновременное проведение 2 тестов; \n",
    "- Проведение теста в предпраздничные дни.\n",
    "\n",
    "Рекомендуется провести тест заново, поскольку тест остановлен на 5 дней раньше, не исключена \"проблема подглядывания\"."
   ]
  }
 ],
 "metadata": {
  "ExecuteTimeLog": [
   {
    "duration": 838,
    "start_time": "2023-08-01T08:21:30.727Z"
   },
   {
    "duration": 933,
    "start_time": "2023-08-01T08:22:06.230Z"
   },
   {
    "duration": 17,
    "start_time": "2023-08-01T08:22:20.852Z"
   },
   {
    "duration": 9,
    "start_time": "2023-08-01T08:22:34.135Z"
   },
   {
    "duration": 9,
    "start_time": "2023-08-01T08:22:54.156Z"
   },
   {
    "duration": 8,
    "start_time": "2023-08-01T08:23:08.511Z"
   },
   {
    "duration": 12,
    "start_time": "2023-08-01T08:23:27.491Z"
   },
   {
    "duration": 10,
    "start_time": "2023-08-01T08:23:40.138Z"
   },
   {
    "duration": 16,
    "start_time": "2023-08-01T08:23:46.222Z"
   },
   {
    "duration": 388,
    "start_time": "2023-08-01T08:24:11.382Z"
   },
   {
    "duration": 275,
    "start_time": "2023-08-01T08:24:42.868Z"
   },
   {
    "duration": 120,
    "start_time": "2023-08-01T08:25:00.055Z"
   },
   {
    "duration": 124,
    "start_time": "2023-08-01T08:25:16.782Z"
   },
   {
    "duration": 67,
    "start_time": "2023-08-01T08:25:55.097Z"
   },
   {
    "duration": 16,
    "start_time": "2023-08-01T08:26:10.910Z"
   },
   {
    "duration": 108,
    "start_time": "2023-08-01T08:28:59.432Z"
   },
   {
    "duration": 17,
    "start_time": "2023-08-01T08:30:49.712Z"
   },
   {
    "duration": 33,
    "start_time": "2023-08-01T08:30:50.800Z"
   },
   {
    "duration": 9,
    "start_time": "2023-08-01T08:30:51.859Z"
   },
   {
    "duration": 9,
    "start_time": "2023-08-01T08:30:53.463Z"
   },
   {
    "duration": 8,
    "start_time": "2023-08-01T08:33:42.197Z"
   },
   {
    "duration": 36,
    "start_time": "2023-08-01T08:33:44.335Z"
   },
   {
    "duration": 222,
    "start_time": "2023-08-01T08:34:01.539Z"
   },
   {
    "duration": 13,
    "start_time": "2023-08-01T08:35:03.792Z"
   },
   {
    "duration": 7,
    "start_time": "2023-08-01T08:35:04.939Z"
   },
   {
    "duration": 8,
    "start_time": "2023-08-01T08:35:05.791Z"
   },
   {
    "duration": 11,
    "start_time": "2023-08-01T08:38:49.280Z"
   },
   {
    "duration": 39,
    "start_time": "2023-08-01T08:40:23.320Z"
   },
   {
    "duration": 39,
    "start_time": "2023-08-01T08:40:27.457Z"
   },
   {
    "duration": 37,
    "start_time": "2023-08-01T08:40:43.676Z"
   },
   {
    "duration": 44,
    "start_time": "2023-08-01T08:41:25.361Z"
   },
   {
    "duration": 19,
    "start_time": "2023-08-01T08:43:35.553Z"
   },
   {
    "duration": 15,
    "start_time": "2023-08-01T08:43:59.044Z"
   },
   {
    "duration": 11,
    "start_time": "2023-08-01T08:44:08.678Z"
   },
   {
    "duration": 14,
    "start_time": "2023-08-01T08:44:23.756Z"
   },
   {
    "duration": 5,
    "start_time": "2023-08-01T08:47:16.194Z"
   },
   {
    "duration": 6,
    "start_time": "2023-08-01T08:48:56.884Z"
   },
   {
    "duration": 7,
    "start_time": "2023-08-01T08:51:07.464Z"
   },
   {
    "duration": 9,
    "start_time": "2023-08-01T08:52:02.228Z"
   },
   {
    "duration": 41,
    "start_time": "2023-08-01T08:52:53.049Z"
   },
   {
    "duration": 15,
    "start_time": "2023-08-01T08:53:20.967Z"
   },
   {
    "duration": 11,
    "start_time": "2023-08-01T08:53:45.568Z"
   },
   {
    "duration": 12,
    "start_time": "2023-08-01T08:57:59.619Z"
   },
   {
    "duration": 10,
    "start_time": "2023-08-01T08:58:09.194Z"
   },
   {
    "duration": 13,
    "start_time": "2023-08-01T08:59:37.894Z"
   },
   {
    "duration": 25,
    "start_time": "2023-08-01T08:59:59.068Z"
   },
   {
    "duration": 18,
    "start_time": "2023-08-01T09:00:10.115Z"
   },
   {
    "duration": 19,
    "start_time": "2023-08-01T09:02:16.284Z"
   },
   {
    "duration": 22,
    "start_time": "2023-08-01T09:02:20.951Z"
   },
   {
    "duration": 36,
    "start_time": "2023-08-01T09:02:52.389Z"
   },
   {
    "duration": 40,
    "start_time": "2023-08-01T09:03:20.657Z"
   },
   {
    "duration": 40,
    "start_time": "2023-08-01T09:05:29.797Z"
   },
   {
    "duration": 6645,
    "start_time": "2023-08-01T09:06:51.108Z"
   },
   {
    "duration": 5984,
    "start_time": "2023-08-01T09:07:05.821Z"
   },
   {
    "duration": 2151,
    "start_time": "2023-08-01T09:07:23.339Z"
   },
   {
    "duration": 7,
    "start_time": "2023-08-01T09:07:29.403Z"
   },
   {
    "duration": 8,
    "start_time": "2023-08-01T09:07:50.377Z"
   },
   {
    "duration": 0,
    "start_time": "2023-08-01T09:08:28.624Z"
   },
   {
    "duration": 7,
    "start_time": "2023-08-01T09:08:31.287Z"
   },
   {
    "duration": 6,
    "start_time": "2023-08-01T09:09:57.156Z"
   },
   {
    "duration": 16,
    "start_time": "2023-08-01T09:13:10.846Z"
   },
   {
    "duration": 6,
    "start_time": "2023-08-01T09:14:55.576Z"
   },
   {
    "duration": 4,
    "start_time": "2023-08-01T09:15:08.814Z"
   },
   {
    "duration": 633,
    "start_time": "2023-08-01T09:15:08.820Z"
   },
   {
    "duration": 11,
    "start_time": "2023-08-01T09:15:09.455Z"
   },
   {
    "duration": 91,
    "start_time": "2023-08-01T09:15:09.470Z"
   },
   {
    "duration": 31,
    "start_time": "2023-08-01T09:15:09.563Z"
   },
   {
    "duration": 31,
    "start_time": "2023-08-01T09:15:09.596Z"
   },
   {
    "duration": 17,
    "start_time": "2023-08-01T09:15:09.629Z"
   },
   {
    "duration": 89,
    "start_time": "2023-08-01T09:15:09.648Z"
   },
   {
    "duration": 8,
    "start_time": "2023-08-01T09:15:09.739Z"
   },
   {
    "duration": 42,
    "start_time": "2023-08-01T09:15:09.750Z"
   },
   {
    "duration": 149,
    "start_time": "2023-08-01T09:15:09.793Z"
   },
   {
    "duration": 15,
    "start_time": "2023-08-01T09:15:09.944Z"
   },
   {
    "duration": 54,
    "start_time": "2023-08-01T09:15:09.960Z"
   },
   {
    "duration": 17,
    "start_time": "2023-08-01T09:15:10.016Z"
   },
   {
    "duration": 57,
    "start_time": "2023-08-01T09:15:10.035Z"
   },
   {
    "duration": 46,
    "start_time": "2023-08-01T09:15:10.094Z"
   },
   {
    "duration": 56,
    "start_time": "2023-08-01T09:15:10.142Z"
   },
   {
    "duration": 60,
    "start_time": "2023-08-01T09:15:10.200Z"
   },
   {
    "duration": 50,
    "start_time": "2023-08-01T09:15:10.261Z"
   },
   {
    "duration": 36,
    "start_time": "2023-08-01T09:15:10.312Z"
   },
   {
    "duration": 52,
    "start_time": "2023-08-01T09:15:10.349Z"
   },
   {
    "duration": 96,
    "start_time": "2023-08-01T09:15:10.403Z"
   },
   {
    "duration": 55,
    "start_time": "2023-08-01T09:15:10.501Z"
   },
   {
    "duration": 15,
    "start_time": "2023-08-01T09:15:10.558Z"
   },
   {
    "duration": 30,
    "start_time": "2023-08-01T09:15:10.575Z"
   },
   {
    "duration": 27,
    "start_time": "2023-08-01T09:15:10.606Z"
   },
   {
    "duration": 38,
    "start_time": "2023-08-01T09:15:10.635Z"
   },
   {
    "duration": 56,
    "start_time": "2023-08-01T09:15:10.677Z"
   },
   {
    "duration": 89,
    "start_time": "2023-08-01T09:15:10.735Z"
   },
   {
    "duration": 7,
    "start_time": "2023-08-01T09:15:10.826Z"
   },
   {
    "duration": 45,
    "start_time": "2023-08-01T09:15:10.835Z"
   },
   {
    "duration": 6996,
    "start_time": "2023-08-01T09:16:26.286Z"
   },
   {
    "duration": 3452,
    "start_time": "2023-08-01T09:20:22.889Z"
   },
   {
    "duration": 5,
    "start_time": "2023-08-01T09:21:04.033Z"
   },
   {
    "duration": 715,
    "start_time": "2023-08-01T09:21:04.040Z"
   },
   {
    "duration": 11,
    "start_time": "2023-08-01T09:21:04.757Z"
   },
   {
    "duration": 44,
    "start_time": "2023-08-01T09:21:04.771Z"
   },
   {
    "duration": 16,
    "start_time": "2023-08-01T09:21:04.817Z"
   },
   {
    "duration": 44,
    "start_time": "2023-08-01T09:21:04.836Z"
   },
   {
    "duration": 11,
    "start_time": "2023-08-01T09:21:04.882Z"
   },
   {
    "duration": 69,
    "start_time": "2023-08-01T09:21:04.910Z"
   },
   {
    "duration": 28,
    "start_time": "2023-08-01T09:21:04.981Z"
   },
   {
    "duration": 33,
    "start_time": "2023-08-01T09:21:05.014Z"
   },
   {
    "duration": 169,
    "start_time": "2023-08-01T09:21:05.050Z"
   },
   {
    "duration": 20,
    "start_time": "2023-08-01T09:21:05.221Z"
   },
   {
    "duration": 87,
    "start_time": "2023-08-01T09:21:05.243Z"
   },
   {
    "duration": 16,
    "start_time": "2023-08-01T09:21:05.333Z"
   },
   {
    "duration": 16,
    "start_time": "2023-08-01T09:21:05.351Z"
   },
   {
    "duration": 40,
    "start_time": "2023-08-01T09:21:05.370Z"
   },
   {
    "duration": 56,
    "start_time": "2023-08-01T09:21:05.412Z"
   },
   {
    "duration": 16,
    "start_time": "2023-08-01T09:21:05.470Z"
   },
   {
    "duration": 38,
    "start_time": "2023-08-01T09:21:05.488Z"
   },
   {
    "duration": 18,
    "start_time": "2023-08-01T09:21:05.528Z"
   },
   {
    "duration": 19,
    "start_time": "2023-08-01T09:21:05.549Z"
   },
   {
    "duration": 97,
    "start_time": "2023-08-01T09:21:05.570Z"
   },
   {
    "duration": 90,
    "start_time": "2023-08-01T09:21:05.670Z"
   },
   {
    "duration": 26,
    "start_time": "2023-08-01T09:21:05.762Z"
   },
   {
    "duration": 51,
    "start_time": "2023-08-01T09:21:05.791Z"
   },
   {
    "duration": 54,
    "start_time": "2023-08-01T09:21:05.844Z"
   },
   {
    "duration": 70,
    "start_time": "2023-08-01T09:21:05.901Z"
   },
   {
    "duration": 28,
    "start_time": "2023-08-01T09:21:05.975Z"
   },
   {
    "duration": 88,
    "start_time": "2023-08-01T09:21:06.006Z"
   },
   {
    "duration": 10,
    "start_time": "2023-08-01T09:21:06.096Z"
   },
   {
    "duration": 10,
    "start_time": "2023-08-01T09:21:37.313Z"
   },
   {
    "duration": 14,
    "start_time": "2023-08-01T09:26:24.389Z"
   },
   {
    "duration": 17,
    "start_time": "2023-08-01T09:26:31.190Z"
   },
   {
    "duration": 23,
    "start_time": "2023-08-01T09:27:25.034Z"
   },
   {
    "duration": 7,
    "start_time": "2023-08-01T09:29:12.029Z"
   },
   {
    "duration": 11,
    "start_time": "2023-08-01T09:29:31.473Z"
   },
   {
    "duration": 18,
    "start_time": "2023-08-01T09:29:32.557Z"
   },
   {
    "duration": 20,
    "start_time": "2023-08-01T09:29:49.326Z"
   },
   {
    "duration": 23,
    "start_time": "2023-08-01T09:30:24.909Z"
   },
   {
    "duration": 14,
    "start_time": "2023-08-01T09:33:53.598Z"
   },
   {
    "duration": 12,
    "start_time": "2023-08-01T09:35:05.664Z"
   },
   {
    "duration": 7,
    "start_time": "2023-08-01T09:37:47.187Z"
   },
   {
    "duration": 2939,
    "start_time": "2023-08-01T09:38:30.834Z"
   },
   {
    "duration": 13,
    "start_time": "2023-08-01T09:38:52.003Z"
   },
   {
    "duration": 14,
    "start_time": "2023-08-01T09:39:02.298Z"
   },
   {
    "duration": 5,
    "start_time": "2023-08-01T09:42:58.054Z"
   },
   {
    "duration": 15,
    "start_time": "2023-08-01T09:43:03.547Z"
   },
   {
    "duration": 10,
    "start_time": "2023-08-01T09:43:12.680Z"
   },
   {
    "duration": 845,
    "start_time": "2023-08-01T09:44:37.520Z"
   },
   {
    "duration": 604,
    "start_time": "2023-08-01T09:44:38.367Z"
   },
   {
    "duration": 16,
    "start_time": "2023-08-01T09:44:38.973Z"
   },
   {
    "duration": 10,
    "start_time": "2023-08-01T09:44:38.991Z"
   },
   {
    "duration": 16,
    "start_time": "2023-08-01T09:44:39.003Z"
   },
   {
    "duration": 22,
    "start_time": "2023-08-01T09:44:39.021Z"
   },
   {
    "duration": 41,
    "start_time": "2023-08-01T09:44:39.044Z"
   },
   {
    "duration": 66,
    "start_time": "2023-08-01T09:44:39.086Z"
   },
   {
    "duration": 8,
    "start_time": "2023-08-01T09:44:39.153Z"
   },
   {
    "duration": 71,
    "start_time": "2023-08-01T09:44:39.165Z"
   },
   {
    "duration": 149,
    "start_time": "2023-08-01T09:44:39.239Z"
   },
   {
    "duration": 25,
    "start_time": "2023-08-01T09:44:39.390Z"
   },
   {
    "duration": 52,
    "start_time": "2023-08-01T09:44:39.417Z"
   },
   {
    "duration": 26,
    "start_time": "2023-08-01T09:44:39.472Z"
   },
   {
    "duration": 64,
    "start_time": "2023-08-01T09:44:39.500Z"
   },
   {
    "duration": 31,
    "start_time": "2023-08-01T09:44:39.566Z"
   },
   {
    "duration": 56,
    "start_time": "2023-08-01T09:44:39.599Z"
   },
   {
    "duration": 87,
    "start_time": "2023-08-01T09:44:39.656Z"
   },
   {
    "duration": 70,
    "start_time": "2023-08-01T09:44:39.746Z"
   },
   {
    "duration": 14,
    "start_time": "2023-08-01T09:44:39.817Z"
   },
   {
    "duration": 14,
    "start_time": "2023-08-01T09:44:39.833Z"
   },
   {
    "duration": 169,
    "start_time": "2023-08-01T09:44:39.849Z"
   },
   {
    "duration": 135,
    "start_time": "2023-08-01T09:44:40.020Z"
   },
   {
    "duration": 21,
    "start_time": "2023-08-01T09:44:40.209Z"
   },
   {
    "duration": 7,
    "start_time": "2023-08-01T09:44:40.231Z"
   },
   {
    "duration": 73,
    "start_time": "2023-08-01T09:44:40.240Z"
   },
   {
    "duration": 8,
    "start_time": "2023-08-01T09:44:40.315Z"
   },
   {
    "duration": 10,
    "start_time": "2023-08-01T09:44:40.328Z"
   },
   {
    "duration": 110,
    "start_time": "2023-08-01T09:44:40.339Z"
   },
   {
    "duration": 63,
    "start_time": "2023-08-01T09:44:40.451Z"
   },
   {
    "duration": 6,
    "start_time": "2023-08-01T09:44:40.516Z"
   },
   {
    "duration": 20,
    "start_time": "2023-08-01T09:44:40.525Z"
   },
   {
    "duration": 70,
    "start_time": "2023-08-01T09:44:40.547Z"
   },
   {
    "duration": 32,
    "start_time": "2023-08-01T09:44:40.619Z"
   },
   {
    "duration": 69,
    "start_time": "2023-08-01T09:44:40.653Z"
   },
   {
    "duration": 17,
    "start_time": "2023-08-01T09:44:40.724Z"
   },
   {
    "duration": 74,
    "start_time": "2023-08-01T09:44:40.742Z"
   },
   {
    "duration": 23,
    "start_time": "2023-08-01T09:44:40.818Z"
   },
   {
    "duration": 7,
    "start_time": "2023-08-01T09:46:02.455Z"
   },
   {
    "duration": 291,
    "start_time": "2023-08-01T09:46:43.747Z"
   },
   {
    "duration": 12,
    "start_time": "2023-08-01T09:49:58.053Z"
   },
   {
    "duration": 13,
    "start_time": "2023-08-01T09:50:12.127Z"
   },
   {
    "duration": 8,
    "start_time": "2023-08-01T09:56:22.906Z"
   },
   {
    "duration": 361,
    "start_time": "2023-08-01T09:57:50.291Z"
   },
   {
    "duration": 16,
    "start_time": "2023-08-01T09:58:00.493Z"
   },
   {
    "duration": 14,
    "start_time": "2023-08-01T09:59:22.263Z"
   },
   {
    "duration": 14,
    "start_time": "2023-08-01T10:00:11.122Z"
   },
   {
    "duration": 7,
    "start_time": "2023-08-01T10:01:58.664Z"
   },
   {
    "duration": 4,
    "start_time": "2023-08-01T10:03:06.935Z"
   },
   {
    "duration": 39,
    "start_time": "2023-08-01T10:03:22.978Z"
   },
   {
    "duration": 7,
    "start_time": "2023-08-01T10:05:48.908Z"
   },
   {
    "duration": 41,
    "start_time": "2023-08-01T10:38:19.915Z"
   },
   {
    "duration": 59,
    "start_time": "2023-08-01T10:39:40.004Z"
   },
   {
    "duration": 7,
    "start_time": "2023-08-01T10:40:15.315Z"
   },
   {
    "duration": 525,
    "start_time": "2023-08-01T10:40:24.895Z"
   },
   {
    "duration": 137,
    "start_time": "2023-08-01T10:40:31.162Z"
   },
   {
    "duration": 2960,
    "start_time": "2023-08-01T10:41:55.204Z"
   },
   {
    "duration": 12,
    "start_time": "2023-08-01T10:42:20.973Z"
   },
   {
    "duration": 32,
    "start_time": "2023-08-01T10:42:32.007Z"
   },
   {
    "duration": 914,
    "start_time": "2023-08-01T14:05:41.670Z"
   },
   {
    "duration": 1136,
    "start_time": "2023-08-01T14:05:42.594Z"
   },
   {
    "duration": 19,
    "start_time": "2023-08-01T14:05:43.731Z"
   },
   {
    "duration": 14,
    "start_time": "2023-08-01T14:05:43.752Z"
   },
   {
    "duration": 30,
    "start_time": "2023-08-01T14:05:43.769Z"
   },
   {
    "duration": 39,
    "start_time": "2023-08-01T14:05:43.801Z"
   },
   {
    "duration": 9,
    "start_time": "2023-08-01T14:05:43.842Z"
   },
   {
    "duration": 101,
    "start_time": "2023-08-01T14:05:43.853Z"
   },
   {
    "duration": 8,
    "start_time": "2023-08-01T14:05:43.956Z"
   },
   {
    "duration": 26,
    "start_time": "2023-08-01T14:05:43.965Z"
   },
   {
    "duration": 148,
    "start_time": "2023-08-01T14:05:43.992Z"
   },
   {
    "duration": 30,
    "start_time": "2023-08-01T14:05:44.142Z"
   },
   {
    "duration": 47,
    "start_time": "2023-08-01T14:05:44.173Z"
   },
   {
    "duration": 11,
    "start_time": "2023-08-01T14:05:44.223Z"
   },
   {
    "duration": 26,
    "start_time": "2023-08-01T14:05:44.236Z"
   },
   {
    "duration": 48,
    "start_time": "2023-08-01T14:05:44.263Z"
   },
   {
    "duration": 85,
    "start_time": "2023-08-01T14:05:44.313Z"
   },
   {
    "duration": 13,
    "start_time": "2023-08-01T14:05:44.400Z"
   },
   {
    "duration": 21,
    "start_time": "2023-08-01T14:05:44.415Z"
   },
   {
    "duration": 32,
    "start_time": "2023-08-01T14:05:44.437Z"
   },
   {
    "duration": 39,
    "start_time": "2023-08-01T14:05:44.471Z"
   },
   {
    "duration": 79,
    "start_time": "2023-08-01T14:05:44.512Z"
   },
   {
    "duration": 50,
    "start_time": "2023-08-01T14:05:44.593Z"
   },
   {
    "duration": 41,
    "start_time": "2023-08-01T14:05:44.644Z"
   },
   {
    "duration": 8,
    "start_time": "2023-08-01T14:05:44.686Z"
   },
   {
    "duration": 9,
    "start_time": "2023-08-01T14:05:44.696Z"
   },
   {
    "duration": 7,
    "start_time": "2023-08-01T14:05:44.707Z"
   },
   {
    "duration": 8,
    "start_time": "2023-08-01T14:05:44.715Z"
   },
   {
    "duration": 69,
    "start_time": "2023-08-01T14:05:44.724Z"
   },
   {
    "duration": 8,
    "start_time": "2023-08-01T14:05:44.795Z"
   },
   {
    "duration": 18,
    "start_time": "2023-08-01T14:05:44.805Z"
   },
   {
    "duration": 13,
    "start_time": "2023-08-01T14:05:44.825Z"
   },
   {
    "duration": 32,
    "start_time": "2023-08-01T14:05:44.840Z"
   },
   {
    "duration": 53,
    "start_time": "2023-08-01T14:05:44.874Z"
   },
   {
    "duration": 16,
    "start_time": "2023-08-01T14:05:44.929Z"
   },
   {
    "duration": 14,
    "start_time": "2023-08-01T14:05:44.947Z"
   },
   {
    "duration": 18,
    "start_time": "2023-08-01T14:05:44.963Z"
   },
   {
    "duration": 19,
    "start_time": "2023-08-01T14:05:44.982Z"
   },
   {
    "duration": 57,
    "start_time": "2023-08-01T14:05:45.004Z"
   },
   {
    "duration": 33,
    "start_time": "2023-08-01T14:05:45.063Z"
   },
   {
    "duration": 15,
    "start_time": "2023-08-01T14:05:45.101Z"
   },
   {
    "duration": 26,
    "start_time": "2023-08-01T14:05:45.117Z"
   },
   {
    "duration": 34,
    "start_time": "2023-08-01T14:05:45.145Z"
   },
   {
    "duration": 21,
    "start_time": "2023-08-01T14:05:45.184Z"
   },
   {
    "duration": 44,
    "start_time": "2023-08-01T14:05:45.207Z"
   },
   {
    "duration": 41,
    "start_time": "2023-08-01T14:05:45.252Z"
   },
   {
    "duration": 68,
    "start_time": "2023-08-01T14:05:45.294Z"
   },
   {
    "duration": 14,
    "start_time": "2023-08-01T14:05:45.363Z"
   },
   {
    "duration": 703,
    "start_time": "2023-08-01T14:05:45.384Z"
   },
   {
    "duration": 18,
    "start_time": "2023-08-01T14:05:46.090Z"
   },
   {
    "duration": 31,
    "start_time": "2023-08-01T14:05:46.110Z"
   },
   {
    "duration": 11,
    "start_time": "2023-08-01T14:25:49.596Z"
   },
   {
    "duration": 6,
    "start_time": "2023-08-01T14:27:44.648Z"
   },
   {
    "duration": 7,
    "start_time": "2023-08-01T14:27:54.530Z"
   },
   {
    "duration": 16,
    "start_time": "2023-08-01T14:46:21.322Z"
   },
   {
    "duration": 12,
    "start_time": "2023-08-01T14:49:02.955Z"
   },
   {
    "duration": 15,
    "start_time": "2023-08-01T15:04:34.837Z"
   },
   {
    "duration": 4,
    "start_time": "2023-08-01T15:05:05.558Z"
   },
   {
    "duration": 361,
    "start_time": "2023-08-01T15:19:36.642Z"
   },
   {
    "duration": 348,
    "start_time": "2023-08-01T15:19:55.006Z"
   },
   {
    "duration": 11,
    "start_time": "2023-08-01T15:20:36.494Z"
   },
   {
    "duration": 245,
    "start_time": "2023-08-01T15:21:56.682Z"
   },
   {
    "duration": 104,
    "start_time": "2023-08-01T15:22:00.378Z"
   },
   {
    "duration": 53,
    "start_time": "2023-08-01T15:23:25.933Z"
   },
   {
    "duration": 10,
    "start_time": "2023-08-01T15:23:32.650Z"
   },
   {
    "duration": 130,
    "start_time": "2023-08-01T15:56:57.345Z"
   },
   {
    "duration": 18,
    "start_time": "2023-08-01T15:57:27.273Z"
   },
   {
    "duration": 15,
    "start_time": "2023-08-01T16:00:09.889Z"
   },
   {
    "duration": 212,
    "start_time": "2023-08-01T16:08:30.381Z"
   },
   {
    "duration": 11,
    "start_time": "2023-08-01T16:08:51.469Z"
   },
   {
    "duration": 10,
    "start_time": "2023-08-01T16:12:01.966Z"
   },
   {
    "duration": 12,
    "start_time": "2023-08-01T16:15:38.232Z"
   },
   {
    "duration": 13,
    "start_time": "2023-08-01T16:19:37.836Z"
   },
   {
    "duration": 22,
    "start_time": "2023-08-01T16:29:45.010Z"
   },
   {
    "duration": 245,
    "start_time": "2023-08-01T16:32:19.032Z"
   },
   {
    "duration": 172,
    "start_time": "2023-08-01T16:32:33.576Z"
   },
   {
    "duration": 179,
    "start_time": "2023-08-01T16:32:56.953Z"
   },
   {
    "duration": 159,
    "start_time": "2023-08-01T16:33:10.836Z"
   },
   {
    "duration": 177,
    "start_time": "2023-08-01T16:33:22.305Z"
   },
   {
    "duration": 5,
    "start_time": "2023-08-01T16:34:23.102Z"
   },
   {
    "duration": 180,
    "start_time": "2023-08-01T16:34:30.198Z"
   },
   {
    "duration": 217,
    "start_time": "2023-08-01T16:35:48.856Z"
   },
   {
    "duration": 7,
    "start_time": "2023-08-01T18:34:24.007Z"
   },
   {
    "duration": 8,
    "start_time": "2023-08-01T18:34:33.453Z"
   },
   {
    "duration": 127,
    "start_time": "2023-08-01T18:36:12.817Z"
   },
   {
    "duration": 14,
    "start_time": "2023-08-01T18:36:25.283Z"
   },
   {
    "duration": 11,
    "start_time": "2023-08-01T18:36:56.755Z"
   },
   {
    "duration": 12,
    "start_time": "2023-08-01T18:39:28.746Z"
   },
   {
    "duration": 9,
    "start_time": "2023-08-01T18:49:37.641Z"
   },
   {
    "duration": 7,
    "start_time": "2023-08-01T18:50:25.540Z"
   },
   {
    "duration": 8,
    "start_time": "2023-08-01T18:50:34.909Z"
   },
   {
    "duration": 55,
    "start_time": "2023-08-02T07:48:12.807Z"
   },
   {
    "duration": 845,
    "start_time": "2023-08-02T07:48:17.118Z"
   },
   {
    "duration": 936,
    "start_time": "2023-08-02T07:48:17.964Z"
   },
   {
    "duration": 17,
    "start_time": "2023-08-02T07:48:18.902Z"
   },
   {
    "duration": 23,
    "start_time": "2023-08-02T07:48:18.922Z"
   },
   {
    "duration": 26,
    "start_time": "2023-08-02T07:48:18.947Z"
   },
   {
    "duration": 31,
    "start_time": "2023-08-02T07:48:18.975Z"
   },
   {
    "duration": 23,
    "start_time": "2023-08-02T07:48:19.008Z"
   },
   {
    "duration": 75,
    "start_time": "2023-08-02T07:48:19.033Z"
   },
   {
    "duration": 7,
    "start_time": "2023-08-02T07:48:19.110Z"
   },
   {
    "duration": 19,
    "start_time": "2023-08-02T07:48:19.121Z"
   },
   {
    "duration": 133,
    "start_time": "2023-08-02T07:48:19.141Z"
   },
   {
    "duration": 15,
    "start_time": "2023-08-02T07:48:19.276Z"
   },
   {
    "duration": 49,
    "start_time": "2023-08-02T07:48:19.292Z"
   },
   {
    "duration": 13,
    "start_time": "2023-08-02T07:48:19.343Z"
   },
   {
    "duration": 27,
    "start_time": "2023-08-02T07:48:19.357Z"
   },
   {
    "duration": 30,
    "start_time": "2023-08-02T07:48:19.385Z"
   },
   {
    "duration": 43,
    "start_time": "2023-08-02T07:48:19.417Z"
   },
   {
    "duration": 13,
    "start_time": "2023-08-02T07:48:19.462Z"
   },
   {
    "duration": 26,
    "start_time": "2023-08-02T07:48:19.477Z"
   },
   {
    "duration": 38,
    "start_time": "2023-08-02T07:48:19.504Z"
   },
   {
    "duration": 22,
    "start_time": "2023-08-02T07:48:19.543Z"
   },
   {
    "duration": 68,
    "start_time": "2023-08-02T07:48:19.567Z"
   },
   {
    "duration": 45,
    "start_time": "2023-08-02T07:48:19.637Z"
   },
   {
    "duration": 14,
    "start_time": "2023-08-02T07:48:19.684Z"
   },
   {
    "duration": 4,
    "start_time": "2023-08-02T07:48:19.700Z"
   },
   {
    "duration": 18,
    "start_time": "2023-08-02T07:48:19.705Z"
   },
   {
    "duration": 11,
    "start_time": "2023-08-02T07:48:19.725Z"
   },
   {
    "duration": 21,
    "start_time": "2023-08-02T07:48:19.739Z"
   },
   {
    "duration": 57,
    "start_time": "2023-08-02T07:48:19.762Z"
   },
   {
    "duration": 10,
    "start_time": "2023-08-02T07:48:19.820Z"
   },
   {
    "duration": 29,
    "start_time": "2023-08-02T07:48:19.831Z"
   },
   {
    "duration": 26,
    "start_time": "2023-08-02T07:48:19.861Z"
   },
   {
    "duration": 39,
    "start_time": "2023-08-02T07:48:19.889Z"
   },
   {
    "duration": 26,
    "start_time": "2023-08-02T07:48:19.929Z"
   },
   {
    "duration": 28,
    "start_time": "2023-08-02T07:48:19.957Z"
   },
   {
    "duration": 39,
    "start_time": "2023-08-02T07:48:19.987Z"
   },
   {
    "duration": 38,
    "start_time": "2023-08-02T07:48:20.028Z"
   },
   {
    "duration": 37,
    "start_time": "2023-08-02T07:48:20.067Z"
   },
   {
    "duration": 37,
    "start_time": "2023-08-02T07:48:20.106Z"
   },
   {
    "duration": 18,
    "start_time": "2023-08-02T07:48:20.145Z"
   },
   {
    "duration": 28,
    "start_time": "2023-08-02T07:48:20.164Z"
   },
   {
    "duration": 58,
    "start_time": "2023-08-02T07:48:20.194Z"
   },
   {
    "duration": 29,
    "start_time": "2023-08-02T07:48:20.254Z"
   },
   {
    "duration": 62,
    "start_time": "2023-08-02T07:48:20.285Z"
   },
   {
    "duration": 38,
    "start_time": "2023-08-02T07:48:20.349Z"
   },
   {
    "duration": 64,
    "start_time": "2023-08-02T07:48:20.388Z"
   },
   {
    "duration": 8,
    "start_time": "2023-08-02T07:48:20.454Z"
   },
   {
    "duration": 16,
    "start_time": "2023-08-02T07:48:20.464Z"
   },
   {
    "duration": 750,
    "start_time": "2023-08-02T07:48:20.482Z"
   },
   {
    "duration": 13,
    "start_time": "2023-08-02T07:48:21.234Z"
   },
   {
    "duration": 10,
    "start_time": "2023-08-02T07:48:21.249Z"
   },
   {
    "duration": 33,
    "start_time": "2023-08-02T07:48:21.261Z"
   },
   {
    "duration": 25,
    "start_time": "2023-08-02T07:48:21.295Z"
   },
   {
    "duration": 15,
    "start_time": "2023-08-02T07:48:21.321Z"
   },
   {
    "duration": 23,
    "start_time": "2023-08-02T07:48:21.338Z"
   },
   {
    "duration": 27,
    "start_time": "2023-08-02T07:48:21.363Z"
   },
   {
    "duration": 26,
    "start_time": "2023-08-02T07:48:21.392Z"
   },
   {
    "duration": 19,
    "start_time": "2023-08-02T07:48:21.420Z"
   },
   {
    "duration": 236,
    "start_time": "2023-08-02T07:48:21.440Z"
   },
   {
    "duration": 9,
    "start_time": "2023-08-02T07:48:21.678Z"
   },
   {
    "duration": 13,
    "start_time": "2023-08-02T07:48:21.688Z"
   },
   {
    "duration": 81,
    "start_time": "2023-08-02T07:48:21.703Z"
   },
   {
    "duration": 59,
    "start_time": "2023-08-02T07:48:23.934Z"
   },
   {
    "duration": 10,
    "start_time": "2023-08-02T07:48:38.882Z"
   },
   {
    "duration": 81,
    "start_time": "2023-08-02T07:48:43.146Z"
   },
   {
    "duration": 8,
    "start_time": "2023-08-02T07:53:08.443Z"
   },
   {
    "duration": 8,
    "start_time": "2023-08-02T07:53:39.783Z"
   },
   {
    "duration": 8,
    "start_time": "2023-08-02T07:54:38.502Z"
   },
   {
    "duration": 14,
    "start_time": "2023-08-02T07:55:59.626Z"
   },
   {
    "duration": 16,
    "start_time": "2023-08-02T07:59:07.671Z"
   },
   {
    "duration": 12,
    "start_time": "2023-08-02T08:05:58.278Z"
   },
   {
    "duration": 20,
    "start_time": "2023-08-02T08:06:29.096Z"
   },
   {
    "duration": 22,
    "start_time": "2023-08-02T08:12:47.399Z"
   },
   {
    "duration": 22,
    "start_time": "2023-08-02T08:13:01.962Z"
   },
   {
    "duration": 23,
    "start_time": "2023-08-02T08:13:12.594Z"
   },
   {
    "duration": 60,
    "start_time": "2023-08-02T08:14:05.035Z"
   },
   {
    "duration": 288,
    "start_time": "2023-08-02T08:14:57.957Z"
   },
   {
    "duration": 293,
    "start_time": "2023-08-02T08:17:22.252Z"
   },
   {
    "duration": 376,
    "start_time": "2023-08-02T08:18:13.023Z"
   },
   {
    "duration": 319,
    "start_time": "2023-08-02T08:19:08.681Z"
   },
   {
    "duration": 13,
    "start_time": "2023-08-02T08:19:47.087Z"
   },
   {
    "duration": 3,
    "start_time": "2023-08-02T08:20:16.221Z"
   },
   {
    "duration": 301,
    "start_time": "2023-08-02T08:20:20.063Z"
   },
   {
    "duration": 335,
    "start_time": "2023-08-02T08:25:54.181Z"
   },
   {
    "duration": 307,
    "start_time": "2023-08-02T08:26:01.370Z"
   },
   {
    "duration": 258,
    "start_time": "2023-08-02T08:26:57.107Z"
   },
   {
    "duration": 27,
    "start_time": "2023-08-02T08:27:49.290Z"
   },
   {
    "duration": 357,
    "start_time": "2023-08-02T08:28:01.579Z"
   },
   {
    "duration": 325,
    "start_time": "2023-08-02T08:29:16.149Z"
   },
   {
    "duration": 289,
    "start_time": "2023-08-02T08:31:58.480Z"
   },
   {
    "duration": 298,
    "start_time": "2023-08-02T08:32:24.747Z"
   },
   {
    "duration": 261,
    "start_time": "2023-08-02T08:32:48.535Z"
   },
   {
    "duration": 246,
    "start_time": "2023-08-02T08:33:05.179Z"
   },
   {
    "duration": 212,
    "start_time": "2023-08-02T08:33:53.285Z"
   },
   {
    "duration": 220,
    "start_time": "2023-08-02T08:35:22.830Z"
   },
   {
    "duration": 17,
    "start_time": "2023-08-02T08:37:29.999Z"
   },
   {
    "duration": 248,
    "start_time": "2023-08-02T08:37:37.368Z"
   },
   {
    "duration": 14,
    "start_time": "2023-08-02T08:37:43.271Z"
   },
   {
    "duration": 8,
    "start_time": "2023-08-02T08:38:39.842Z"
   },
   {
    "duration": 7,
    "start_time": "2023-08-02T08:38:49.445Z"
   },
   {
    "duration": 6,
    "start_time": "2023-08-02T08:39:08.158Z"
   },
   {
    "duration": 7,
    "start_time": "2023-08-02T08:39:15.977Z"
   },
   {
    "duration": 10,
    "start_time": "2023-08-02T08:39:36.519Z"
   },
   {
    "duration": 44,
    "start_time": "2023-08-02T08:41:42.951Z"
   },
   {
    "duration": 58,
    "start_time": "2023-08-02T08:46:24.845Z"
   },
   {
    "duration": 10,
    "start_time": "2023-08-02T08:47:11.093Z"
   },
   {
    "duration": 6,
    "start_time": "2023-08-02T08:47:38.811Z"
   },
   {
    "duration": 21,
    "start_time": "2023-08-02T08:47:59.393Z"
   },
   {
    "duration": 132,
    "start_time": "2023-08-02T08:48:12.272Z"
   },
   {
    "duration": 11,
    "start_time": "2023-08-02T08:50:39.544Z"
   },
   {
    "duration": 4,
    "start_time": "2023-08-02T08:50:42.713Z"
   },
   {
    "duration": 11,
    "start_time": "2023-08-02T08:50:46.283Z"
   },
   {
    "duration": 4,
    "start_time": "2023-08-02T08:51:48.787Z"
   },
   {
    "duration": 607,
    "start_time": "2023-08-02T08:51:48.793Z"
   },
   {
    "duration": 10,
    "start_time": "2023-08-02T08:51:49.403Z"
   },
   {
    "duration": 14,
    "start_time": "2023-08-02T08:51:49.414Z"
   },
   {
    "duration": 10,
    "start_time": "2023-08-02T08:51:49.430Z"
   },
   {
    "duration": 21,
    "start_time": "2023-08-02T08:51:49.442Z"
   },
   {
    "duration": 10,
    "start_time": "2023-08-02T08:51:49.470Z"
   },
   {
    "duration": 202,
    "start_time": "2023-08-02T08:51:49.482Z"
   },
   {
    "duration": 7,
    "start_time": "2023-08-02T08:51:49.686Z"
   },
   {
    "duration": 13,
    "start_time": "2023-08-02T08:51:49.694Z"
   },
   {
    "duration": 109,
    "start_time": "2023-08-02T08:51:49.709Z"
   },
   {
    "duration": 13,
    "start_time": "2023-08-02T08:51:49.820Z"
   },
   {
    "duration": 51,
    "start_time": "2023-08-02T08:51:49.834Z"
   },
   {
    "duration": 9,
    "start_time": "2023-08-02T08:51:49.887Z"
   },
   {
    "duration": 26,
    "start_time": "2023-08-02T08:51:49.898Z"
   },
   {
    "duration": 22,
    "start_time": "2023-08-02T08:51:49.925Z"
   },
   {
    "duration": 55,
    "start_time": "2023-08-02T08:51:49.948Z"
   },
   {
    "duration": 29,
    "start_time": "2023-08-02T08:51:50.005Z"
   },
   {
    "duration": 62,
    "start_time": "2023-08-02T08:51:50.036Z"
   },
   {
    "duration": 54,
    "start_time": "2023-08-02T08:51:50.100Z"
   },
   {
    "duration": 66,
    "start_time": "2023-08-02T08:51:50.156Z"
   },
   {
    "duration": 60,
    "start_time": "2023-08-02T08:51:50.224Z"
   },
   {
    "duration": 46,
    "start_time": "2023-08-02T08:51:50.286Z"
   },
   {
    "duration": 56,
    "start_time": "2023-08-02T08:51:50.333Z"
   },
   {
    "duration": 57,
    "start_time": "2023-08-02T08:51:50.391Z"
   },
   {
    "duration": 49,
    "start_time": "2023-08-02T08:51:50.450Z"
   },
   {
    "duration": 81,
    "start_time": "2023-08-02T08:51:50.501Z"
   },
   {
    "duration": 79,
    "start_time": "2023-08-02T08:51:50.584Z"
   },
   {
    "duration": 61,
    "start_time": "2023-08-02T08:51:50.667Z"
   },
   {
    "duration": 6,
    "start_time": "2023-08-02T08:51:50.730Z"
   },
   {
    "duration": 39,
    "start_time": "2023-08-02T08:51:50.738Z"
   },
   {
    "duration": 47,
    "start_time": "2023-08-02T08:51:50.779Z"
   },
   {
    "duration": 63,
    "start_time": "2023-08-02T08:51:50.828Z"
   },
   {
    "duration": 70,
    "start_time": "2023-08-02T08:51:50.893Z"
   },
   {
    "duration": 34,
    "start_time": "2023-08-02T08:51:50.964Z"
   },
   {
    "duration": 24,
    "start_time": "2023-08-02T08:51:50.999Z"
   },
   {
    "duration": 30,
    "start_time": "2023-08-02T08:51:51.025Z"
   },
   {
    "duration": 52,
    "start_time": "2023-08-02T08:51:51.057Z"
   },
   {
    "duration": 27,
    "start_time": "2023-08-02T08:51:51.111Z"
   },
   {
    "duration": 50,
    "start_time": "2023-08-02T08:51:51.140Z"
   },
   {
    "duration": 31,
    "start_time": "2023-08-02T08:51:51.192Z"
   },
   {
    "duration": 32,
    "start_time": "2023-08-02T08:51:51.225Z"
   },
   {
    "duration": 17,
    "start_time": "2023-08-02T08:51:51.259Z"
   },
   {
    "duration": 60,
    "start_time": "2023-08-02T08:51:51.278Z"
   },
   {
    "duration": 36,
    "start_time": "2023-08-02T08:51:51.340Z"
   },
   {
    "duration": 81,
    "start_time": "2023-08-02T08:51:51.378Z"
   },
   {
    "duration": 5,
    "start_time": "2023-08-02T08:51:51.461Z"
   },
   {
    "duration": 151,
    "start_time": "2023-08-02T08:51:51.467Z"
   },
   {
    "duration": 20,
    "start_time": "2023-08-02T08:52:02.439Z"
   },
   {
    "duration": 125,
    "start_time": "2023-08-02T08:57:31.931Z"
   },
   {
    "duration": 4,
    "start_time": "2023-08-02T08:57:46.771Z"
   },
   {
    "duration": 601,
    "start_time": "2023-08-02T08:57:46.778Z"
   },
   {
    "duration": 10,
    "start_time": "2023-08-02T08:57:47.380Z"
   },
   {
    "duration": 17,
    "start_time": "2023-08-02T08:57:47.391Z"
   },
   {
    "duration": 14,
    "start_time": "2023-08-02T08:57:47.411Z"
   },
   {
    "duration": 25,
    "start_time": "2023-08-02T08:57:47.426Z"
   },
   {
    "duration": 12,
    "start_time": "2023-08-02T08:57:47.453Z"
   },
   {
    "duration": 64,
    "start_time": "2023-08-02T08:57:47.470Z"
   },
   {
    "duration": 8,
    "start_time": "2023-08-02T08:57:47.536Z"
   },
   {
    "duration": 31,
    "start_time": "2023-08-02T08:57:47.545Z"
   },
   {
    "duration": 97,
    "start_time": "2023-08-02T08:57:47.579Z"
   },
   {
    "duration": 125,
    "start_time": "2023-08-02T08:57:47.678Z"
   },
   {
    "duration": 18,
    "start_time": "2023-08-02T08:57:47.805Z"
   },
   {
    "duration": 43,
    "start_time": "2023-08-02T08:57:47.825Z"
   },
   {
    "duration": 12,
    "start_time": "2023-08-02T08:57:47.870Z"
   },
   {
    "duration": 17,
    "start_time": "2023-08-02T08:57:47.883Z"
   },
   {
    "duration": 15,
    "start_time": "2023-08-02T08:57:47.901Z"
   },
   {
    "duration": 39,
    "start_time": "2023-08-02T08:57:47.918Z"
   },
   {
    "duration": 7,
    "start_time": "2023-08-02T08:57:47.971Z"
   },
   {
    "duration": 11,
    "start_time": "2023-08-02T08:57:47.980Z"
   },
   {
    "duration": 26,
    "start_time": "2023-08-02T08:57:47.992Z"
   },
   {
    "duration": 10,
    "start_time": "2023-08-02T08:57:48.020Z"
   },
   {
    "duration": 70,
    "start_time": "2023-08-02T08:57:48.031Z"
   },
   {
    "duration": 75,
    "start_time": "2023-08-02T08:57:48.103Z"
   },
   {
    "duration": 62,
    "start_time": "2023-08-02T08:57:48.179Z"
   },
   {
    "duration": 4,
    "start_time": "2023-08-02T08:57:48.242Z"
   },
   {
    "duration": 23,
    "start_time": "2023-08-02T08:57:48.248Z"
   },
   {
    "duration": 17,
    "start_time": "2023-08-02T08:57:48.273Z"
   },
   {
    "duration": 8,
    "start_time": "2023-08-02T08:57:48.293Z"
   },
   {
    "duration": 36,
    "start_time": "2023-08-02T08:57:48.302Z"
   },
   {
    "duration": 6,
    "start_time": "2023-08-02T08:57:48.340Z"
   },
   {
    "duration": 25,
    "start_time": "2023-08-02T08:57:48.347Z"
   },
   {
    "duration": 6,
    "start_time": "2023-08-02T08:57:48.374Z"
   },
   {
    "duration": 14,
    "start_time": "2023-08-02T08:57:48.382Z"
   },
   {
    "duration": 15,
    "start_time": "2023-08-02T08:57:48.398Z"
   },
   {
    "duration": 15,
    "start_time": "2023-08-02T08:57:48.415Z"
   },
   {
    "duration": 45,
    "start_time": "2023-08-02T08:57:48.432Z"
   },
   {
    "duration": 34,
    "start_time": "2023-08-02T08:57:48.479Z"
   },
   {
    "duration": 23,
    "start_time": "2023-08-02T08:57:48.515Z"
   },
   {
    "duration": 22,
    "start_time": "2023-08-02T08:57:48.540Z"
   },
   {
    "duration": 16,
    "start_time": "2023-08-02T08:57:48.564Z"
   },
   {
    "duration": 14,
    "start_time": "2023-08-02T08:57:48.582Z"
   },
   {
    "duration": 14,
    "start_time": "2023-08-02T08:57:48.597Z"
   },
   {
    "duration": 13,
    "start_time": "2023-08-02T08:57:48.613Z"
   },
   {
    "duration": 51,
    "start_time": "2023-08-02T08:57:48.627Z"
   },
   {
    "duration": 36,
    "start_time": "2023-08-02T08:57:48.680Z"
   },
   {
    "duration": 63,
    "start_time": "2023-08-02T08:57:52.326Z"
   },
   {
    "duration": 30,
    "start_time": "2023-08-02T08:58:14.937Z"
   },
   {
    "duration": 24,
    "start_time": "2023-08-02T08:59:41.125Z"
   },
   {
    "duration": 18,
    "start_time": "2023-08-02T08:59:47.455Z"
   },
   {
    "duration": 58,
    "start_time": "2023-08-02T09:00:01.346Z"
   },
   {
    "duration": 3,
    "start_time": "2023-08-02T09:01:16.613Z"
   },
   {
    "duration": 596,
    "start_time": "2023-08-02T09:01:16.618Z"
   },
   {
    "duration": 8,
    "start_time": "2023-08-02T09:01:17.216Z"
   },
   {
    "duration": 30,
    "start_time": "2023-08-02T09:01:17.226Z"
   },
   {
    "duration": 20,
    "start_time": "2023-08-02T09:01:17.257Z"
   },
   {
    "duration": 40,
    "start_time": "2023-08-02T09:01:17.278Z"
   },
   {
    "duration": 23,
    "start_time": "2023-08-02T09:01:17.320Z"
   },
   {
    "duration": 104,
    "start_time": "2023-08-02T09:01:17.345Z"
   },
   {
    "duration": 29,
    "start_time": "2023-08-02T09:01:17.450Z"
   },
   {
    "duration": 59,
    "start_time": "2023-08-02T09:01:17.480Z"
   },
   {
    "duration": 107,
    "start_time": "2023-08-02T09:01:17.541Z"
   },
   {
    "duration": 7,
    "start_time": "2023-08-02T09:01:17.650Z"
   },
   {
    "duration": 34,
    "start_time": "2023-08-02T09:01:17.659Z"
   },
   {
    "duration": 48,
    "start_time": "2023-08-02T09:01:17.695Z"
   },
   {
    "duration": 32,
    "start_time": "2023-08-02T09:01:17.745Z"
   },
   {
    "duration": 51,
    "start_time": "2023-08-02T09:01:17.779Z"
   },
   {
    "duration": 36,
    "start_time": "2023-08-02T09:01:17.832Z"
   },
   {
    "duration": 60,
    "start_time": "2023-08-02T09:01:17.870Z"
   },
   {
    "duration": 35,
    "start_time": "2023-08-02T09:01:17.932Z"
   },
   {
    "duration": 29,
    "start_time": "2023-08-02T09:01:17.968Z"
   },
   {
    "duration": 20,
    "start_time": "2023-08-02T09:01:17.998Z"
   },
   {
    "duration": 20,
    "start_time": "2023-08-02T09:01:18.020Z"
   },
   {
    "duration": 57,
    "start_time": "2023-08-02T09:01:18.042Z"
   },
   {
    "duration": 47,
    "start_time": "2023-08-02T09:01:18.101Z"
   },
   {
    "duration": 39,
    "start_time": "2023-08-02T09:01:18.150Z"
   },
   {
    "duration": 4,
    "start_time": "2023-08-02T09:01:18.191Z"
   },
   {
    "duration": 44,
    "start_time": "2023-08-02T09:01:18.197Z"
   },
   {
    "duration": 32,
    "start_time": "2023-08-02T09:01:18.242Z"
   },
   {
    "duration": 18,
    "start_time": "2023-08-02T09:01:18.278Z"
   },
   {
    "duration": 49,
    "start_time": "2023-08-02T09:01:18.297Z"
   },
   {
    "duration": 6,
    "start_time": "2023-08-02T09:01:18.348Z"
   },
   {
    "duration": 31,
    "start_time": "2023-08-02T09:01:18.356Z"
   },
   {
    "duration": 61,
    "start_time": "2023-08-02T09:01:18.389Z"
   },
   {
    "duration": 65,
    "start_time": "2023-08-02T09:01:18.451Z"
   },
   {
    "duration": 45,
    "start_time": "2023-08-02T09:01:18.517Z"
   },
   {
    "duration": 50,
    "start_time": "2023-08-02T09:01:18.563Z"
   },
   {
    "duration": 61,
    "start_time": "2023-08-02T09:01:18.615Z"
   },
   {
    "duration": 22,
    "start_time": "2023-08-02T09:01:18.678Z"
   },
   {
    "duration": 44,
    "start_time": "2023-08-02T09:01:18.701Z"
   },
   {
    "duration": 51,
    "start_time": "2023-08-02T09:01:18.747Z"
   },
   {
    "duration": 20,
    "start_time": "2023-08-02T09:01:18.800Z"
   },
   {
    "duration": 70,
    "start_time": "2023-08-02T09:01:18.822Z"
   },
   {
    "duration": 42,
    "start_time": "2023-08-02T09:01:18.893Z"
   },
   {
    "duration": 63,
    "start_time": "2023-08-02T09:01:18.936Z"
   },
   {
    "duration": 83,
    "start_time": "2023-08-02T09:01:19.001Z"
   },
   {
    "duration": 65,
    "start_time": "2023-08-02T09:01:19.086Z"
   },
   {
    "duration": 61,
    "start_time": "2023-08-02T09:01:21.394Z"
   },
   {
    "duration": 5,
    "start_time": "2023-08-02T09:01:31.125Z"
   },
   {
    "duration": 140,
    "start_time": "2023-08-02T09:01:32.818Z"
   },
   {
    "duration": 23,
    "start_time": "2023-08-02T09:19:27.264Z"
   },
   {
    "duration": 31,
    "start_time": "2023-08-02T09:21:06.414Z"
   },
   {
    "duration": 11,
    "start_time": "2023-08-02T09:21:32.881Z"
   },
   {
    "duration": 3,
    "start_time": "2023-08-02T09:21:48.882Z"
   },
   {
    "duration": 22,
    "start_time": "2023-08-02T09:22:30.521Z"
   },
   {
    "duration": 11,
    "start_time": "2023-08-02T09:22:50.383Z"
   },
   {
    "duration": 18,
    "start_time": "2023-08-02T09:23:27.098Z"
   },
   {
    "duration": 13,
    "start_time": "2023-08-02T09:24:14.360Z"
   },
   {
    "duration": 18,
    "start_time": "2023-08-02T09:24:28.091Z"
   },
   {
    "duration": 15,
    "start_time": "2023-08-02T09:24:59.063Z"
   },
   {
    "duration": 19,
    "start_time": "2023-08-02T09:25:10.922Z"
   },
   {
    "duration": 25,
    "start_time": "2023-08-02T09:25:57.031Z"
   },
   {
    "duration": 6,
    "start_time": "2023-08-02T09:26:38.212Z"
   },
   {
    "duration": 170,
    "start_time": "2023-08-02T09:26:53.333Z"
   },
   {
    "duration": 186,
    "start_time": "2023-08-02T09:26:58.716Z"
   },
   {
    "duration": 20,
    "start_time": "2023-08-02T09:28:19.690Z"
   },
   {
    "duration": 263,
    "start_time": "2023-08-02T09:28:22.831Z"
   },
   {
    "duration": 13,
    "start_time": "2023-08-02T09:28:40.186Z"
   },
   {
    "duration": 30,
    "start_time": "2023-08-02T09:29:49.270Z"
   },
   {
    "duration": 10,
    "start_time": "2023-08-02T09:29:51.714Z"
   },
   {
    "duration": 245,
    "start_time": "2023-08-02T09:29:58.435Z"
   },
   {
    "duration": 8,
    "start_time": "2023-08-02T09:30:03.948Z"
   },
   {
    "duration": 7,
    "start_time": "2023-08-02T09:30:05.305Z"
   },
   {
    "duration": 26,
    "start_time": "2023-08-02T09:33:42.183Z"
   },
   {
    "duration": 18,
    "start_time": "2023-08-02T09:35:09.841Z"
   },
   {
    "duration": 15,
    "start_time": "2023-08-02T09:35:20.443Z"
   },
   {
    "duration": 17,
    "start_time": "2023-08-02T09:35:31.507Z"
   },
   {
    "duration": 17,
    "start_time": "2023-08-02T09:35:37.340Z"
   },
   {
    "duration": 14,
    "start_time": "2023-08-02T09:35:47.752Z"
   },
   {
    "duration": 13,
    "start_time": "2023-08-02T09:35:54.350Z"
   },
   {
    "duration": 13,
    "start_time": "2023-08-02T09:35:59.401Z"
   },
   {
    "duration": 12,
    "start_time": "2023-08-02T09:36:04.142Z"
   },
   {
    "duration": 155,
    "start_time": "2023-08-02T09:37:33.739Z"
   },
   {
    "duration": 196,
    "start_time": "2023-08-02T09:37:46.390Z"
   },
   {
    "duration": 12,
    "start_time": "2023-08-02T09:38:11.527Z"
   },
   {
    "duration": 265,
    "start_time": "2023-08-02T10:03:46.073Z"
   },
   {
    "duration": 26,
    "start_time": "2023-08-02T10:04:05.952Z"
   },
   {
    "duration": 12,
    "start_time": "2023-08-02T10:06:29.287Z"
   },
   {
    "duration": 7,
    "start_time": "2023-08-02T10:11:10.439Z"
   },
   {
    "duration": 5,
    "start_time": "2023-08-02T10:11:24.079Z"
   },
   {
    "duration": 19,
    "start_time": "2023-08-02T10:12:52.253Z"
   },
   {
    "duration": 23,
    "start_time": "2023-08-02T10:22:42.078Z"
   },
   {
    "duration": 36,
    "start_time": "2023-08-02T10:25:33.870Z"
   },
   {
    "duration": 214,
    "start_time": "2023-08-02T10:27:19.491Z"
   },
   {
    "duration": 212,
    "start_time": "2023-08-02T10:27:51.757Z"
   },
   {
    "duration": 331,
    "start_time": "2023-08-02T10:30:28.030Z"
   },
   {
    "duration": 21,
    "start_time": "2023-08-02T10:33:40.541Z"
   },
   {
    "duration": 23,
    "start_time": "2023-08-02T10:33:55.707Z"
   },
   {
    "duration": 173,
    "start_time": "2023-08-02T10:35:41.275Z"
   },
   {
    "duration": 178,
    "start_time": "2023-08-02T10:35:55.491Z"
   },
   {
    "duration": 167,
    "start_time": "2023-08-02T10:36:47.501Z"
   },
   {
    "duration": 187,
    "start_time": "2023-08-02T10:37:01.111Z"
   },
   {
    "duration": 176,
    "start_time": "2023-08-02T10:37:32.715Z"
   },
   {
    "duration": 185,
    "start_time": "2023-08-02T10:38:32.454Z"
   },
   {
    "duration": 215,
    "start_time": "2023-08-02T10:38:39.189Z"
   },
   {
    "duration": 180,
    "start_time": "2023-08-02T10:38:47.334Z"
   },
   {
    "duration": 189,
    "start_time": "2023-08-02T10:38:58.648Z"
   },
   {
    "duration": 200,
    "start_time": "2023-08-02T10:40:24.227Z"
   },
   {
    "duration": 21,
    "start_time": "2023-08-02T11:10:08.618Z"
   },
   {
    "duration": 24,
    "start_time": "2023-08-02T11:12:25.218Z"
   },
   {
    "duration": 208,
    "start_time": "2023-08-02T11:16:19.193Z"
   },
   {
    "duration": 297,
    "start_time": "2023-08-02T11:16:55.974Z"
   },
   {
    "duration": 211,
    "start_time": "2023-08-02T11:19:11.204Z"
   },
   {
    "duration": 205,
    "start_time": "2023-08-02T11:19:28.543Z"
   },
   {
    "duration": 23,
    "start_time": "2023-08-02T11:21:09.078Z"
   },
   {
    "duration": 18,
    "start_time": "2023-08-02T11:23:15.684Z"
   },
   {
    "duration": 15,
    "start_time": "2023-08-02T11:23:26.741Z"
   },
   {
    "duration": 199,
    "start_time": "2023-08-02T11:25:13.056Z"
   },
   {
    "duration": 179,
    "start_time": "2023-08-02T11:25:37.845Z"
   },
   {
    "duration": 37,
    "start_time": "2023-08-02T11:27:32.298Z"
   },
   {
    "duration": 250,
    "start_time": "2023-08-02T11:28:59.670Z"
   },
   {
    "duration": 189,
    "start_time": "2023-08-02T11:34:08.654Z"
   },
   {
    "duration": 35,
    "start_time": "2023-08-02T15:40:10.148Z"
   },
   {
    "duration": 29,
    "start_time": "2023-08-02T15:40:32.012Z"
   },
   {
    "duration": 31,
    "start_time": "2023-08-02T15:47:19.505Z"
   },
   {
    "duration": 34,
    "start_time": "2023-08-02T15:47:38.773Z"
   },
   {
    "duration": 4,
    "start_time": "2023-08-02T15:52:58.161Z"
   },
   {
    "duration": 8,
    "start_time": "2023-08-02T15:53:02.599Z"
   },
   {
    "duration": 6,
    "start_time": "2023-08-02T15:54:44.580Z"
   },
   {
    "duration": 8,
    "start_time": "2023-08-02T15:54:46.466Z"
   },
   {
    "duration": 5,
    "start_time": "2023-08-02T15:54:54.425Z"
   },
   {
    "duration": 8,
    "start_time": "2023-08-02T15:54:55.726Z"
   },
   {
    "duration": 6,
    "start_time": "2023-08-02T16:06:26.156Z"
   },
   {
    "duration": 105,
    "start_time": "2023-08-02T16:10:59.890Z"
   },
   {
    "duration": 1692,
    "start_time": "2023-08-02T16:11:07.360Z"
   },
   {
    "duration": 178,
    "start_time": "2023-08-02T16:11:39.440Z"
   },
   {
    "duration": 17,
    "start_time": "2023-08-02T16:12:23.693Z"
   },
   {
    "duration": 13,
    "start_time": "2023-08-02T16:12:44.804Z"
   },
   {
    "duration": 41,
    "start_time": "2023-08-02T16:13:32.243Z"
   },
   {
    "duration": 16,
    "start_time": "2023-08-02T16:14:18.068Z"
   },
   {
    "duration": 11,
    "start_time": "2023-08-02T16:14:39.002Z"
   },
   {
    "duration": 1422,
    "start_time": "2023-08-03T07:26:01.643Z"
   },
   {
    "duration": 1949,
    "start_time": "2023-08-03T07:26:03.067Z"
   },
   {
    "duration": 16,
    "start_time": "2023-08-03T07:26:05.018Z"
   },
   {
    "duration": 16,
    "start_time": "2023-08-03T07:26:05.036Z"
   },
   {
    "duration": 41,
    "start_time": "2023-08-03T07:26:05.054Z"
   },
   {
    "duration": 37,
    "start_time": "2023-08-03T07:26:05.097Z"
   },
   {
    "duration": 29,
    "start_time": "2023-08-03T07:26:05.136Z"
   },
   {
    "duration": 64,
    "start_time": "2023-08-03T07:26:05.167Z"
   },
   {
    "duration": 8,
    "start_time": "2023-08-03T07:26:05.232Z"
   },
   {
    "duration": 62,
    "start_time": "2023-08-03T07:26:05.242Z"
   },
   {
    "duration": 124,
    "start_time": "2023-08-03T07:26:05.306Z"
   },
   {
    "duration": 8,
    "start_time": "2023-08-03T07:26:05.432Z"
   },
   {
    "duration": 56,
    "start_time": "2023-08-03T07:26:05.442Z"
   },
   {
    "duration": 13,
    "start_time": "2023-08-03T07:26:05.501Z"
   },
   {
    "duration": 63,
    "start_time": "2023-08-03T07:26:05.515Z"
   },
   {
    "duration": 31,
    "start_time": "2023-08-03T07:26:05.580Z"
   },
   {
    "duration": 75,
    "start_time": "2023-08-03T07:26:05.613Z"
   },
   {
    "duration": 16,
    "start_time": "2023-08-03T07:26:05.689Z"
   },
   {
    "duration": 48,
    "start_time": "2023-08-03T07:26:05.706Z"
   },
   {
    "duration": 14,
    "start_time": "2023-08-03T07:26:05.756Z"
   },
   {
    "duration": 20,
    "start_time": "2023-08-03T07:26:05.771Z"
   },
   {
    "duration": 41,
    "start_time": "2023-08-03T07:26:05.793Z"
   },
   {
    "duration": 42,
    "start_time": "2023-08-03T07:26:05.835Z"
   },
   {
    "duration": 57,
    "start_time": "2023-08-03T07:26:05.879Z"
   },
   {
    "duration": 41,
    "start_time": "2023-08-03T07:26:05.938Z"
   },
   {
    "duration": 20,
    "start_time": "2023-08-03T07:26:05.981Z"
   },
   {
    "duration": 4,
    "start_time": "2023-08-03T07:26:06.003Z"
   },
   {
    "duration": 36,
    "start_time": "2023-08-03T07:26:06.009Z"
   },
   {
    "duration": 9,
    "start_time": "2023-08-03T07:26:06.047Z"
   },
   {
    "duration": 11,
    "start_time": "2023-08-03T07:26:06.058Z"
   },
   {
    "duration": 60,
    "start_time": "2023-08-03T07:26:06.071Z"
   },
   {
    "duration": 8,
    "start_time": "2023-08-03T07:26:06.133Z"
   },
   {
    "duration": 21,
    "start_time": "2023-08-03T07:26:06.142Z"
   },
   {
    "duration": 11,
    "start_time": "2023-08-03T07:26:06.164Z"
   },
   {
    "duration": 24,
    "start_time": "2023-08-03T07:26:06.177Z"
   },
   {
    "duration": 21,
    "start_time": "2023-08-03T07:26:06.203Z"
   },
   {
    "duration": 12,
    "start_time": "2023-08-03T07:26:06.226Z"
   },
   {
    "duration": 20,
    "start_time": "2023-08-03T07:26:06.240Z"
   },
   {
    "duration": 4,
    "start_time": "2023-08-03T07:26:06.261Z"
   },
   {
    "duration": 29,
    "start_time": "2023-08-03T07:26:06.266Z"
   },
   {
    "duration": 14,
    "start_time": "2023-08-03T07:26:06.301Z"
   },
   {
    "duration": 8,
    "start_time": "2023-08-03T07:26:06.317Z"
   },
   {
    "duration": 20,
    "start_time": "2023-08-03T07:26:06.326Z"
   },
   {
    "duration": 21,
    "start_time": "2023-08-03T07:26:06.347Z"
   },
   {
    "duration": 15,
    "start_time": "2023-08-03T07:26:06.370Z"
   },
   {
    "duration": 45,
    "start_time": "2023-08-03T07:26:06.387Z"
   },
   {
    "duration": 44,
    "start_time": "2023-08-03T07:26:06.434Z"
   },
   {
    "duration": 62,
    "start_time": "2023-08-03T07:26:06.480Z"
   },
   {
    "duration": 6,
    "start_time": "2023-08-03T07:26:06.558Z"
   },
   {
    "duration": 152,
    "start_time": "2023-08-03T07:26:06.565Z"
   },
   {
    "duration": 23,
    "start_time": "2023-08-03T07:26:06.719Z"
   },
   {
    "duration": 25,
    "start_time": "2023-08-03T07:26:06.744Z"
   },
   {
    "duration": 26,
    "start_time": "2023-08-03T07:26:06.770Z"
   },
   {
    "duration": 21,
    "start_time": "2023-08-03T07:26:06.798Z"
   },
   {
    "duration": 22,
    "start_time": "2023-08-03T07:26:06.821Z"
   },
   {
    "duration": 16,
    "start_time": "2023-08-03T07:26:06.845Z"
   },
   {
    "duration": 11,
    "start_time": "2023-08-03T07:26:06.863Z"
   },
   {
    "duration": 46,
    "start_time": "2023-08-03T07:26:06.876Z"
   },
   {
    "duration": 39,
    "start_time": "2023-08-03T07:26:06.924Z"
   },
   {
    "duration": 24,
    "start_time": "2023-08-03T07:26:06.965Z"
   },
   {
    "duration": 232,
    "start_time": "2023-08-03T07:26:06.990Z"
   },
   {
    "duration": 10,
    "start_time": "2023-08-03T07:26:07.224Z"
   },
   {
    "duration": 25,
    "start_time": "2023-08-03T07:26:07.235Z"
   },
   {
    "duration": 10,
    "start_time": "2023-08-03T07:26:07.262Z"
   },
   {
    "duration": 22,
    "start_time": "2023-08-03T07:26:07.274Z"
   },
   {
    "duration": 255,
    "start_time": "2023-08-03T07:26:07.298Z"
   },
   {
    "duration": 21,
    "start_time": "2023-08-03T07:26:07.555Z"
   },
   {
    "duration": 209,
    "start_time": "2023-08-03T07:26:07.578Z"
   },
   {
    "duration": 26,
    "start_time": "2023-08-03T07:26:07.789Z"
   },
   {
    "duration": 198,
    "start_time": "2023-08-03T07:26:07.817Z"
   },
   {
    "duration": 14,
    "start_time": "2023-08-03T07:26:08.017Z"
   },
   {
    "duration": 270,
    "start_time": "2023-08-03T07:26:08.034Z"
   },
   {
    "duration": 226,
    "start_time": "2023-08-03T07:26:08.306Z"
   },
   {
    "duration": 13,
    "start_time": "2023-08-03T07:26:08.533Z"
   },
   {
    "duration": 25,
    "start_time": "2023-08-03T07:26:08.548Z"
   },
   {
    "duration": 23,
    "start_time": "2023-08-03T07:26:08.575Z"
   },
   {
    "duration": 15,
    "start_time": "2023-08-03T07:26:08.600Z"
   },
   {
    "duration": 13,
    "start_time": "2023-08-03T07:26:08.617Z"
   },
   {
    "duration": 46,
    "start_time": "2023-08-03T07:26:08.631Z"
   },
   {
    "duration": 261,
    "start_time": "2023-08-03T07:26:08.678Z"
   },
   {
    "duration": 8,
    "start_time": "2023-08-03T07:26:08.941Z"
   },
   {
    "duration": 17,
    "start_time": "2023-08-03T07:26:08.958Z"
   },
   {
    "duration": 26,
    "start_time": "2023-08-03T07:26:08.977Z"
   },
   {
    "duration": 20,
    "start_time": "2023-08-03T07:26:09.004Z"
   },
   {
    "duration": 43,
    "start_time": "2023-08-03T07:26:09.026Z"
   },
   {
    "duration": 17,
    "start_time": "2023-08-03T07:26:09.070Z"
   },
   {
    "duration": 57,
    "start_time": "2023-08-03T07:26:09.089Z"
   },
   {
    "duration": 196,
    "start_time": "2023-08-03T07:26:09.148Z"
   },
   {
    "duration": 10,
    "start_time": "2023-08-03T07:44:30.692Z"
   },
   {
    "duration": 5,
    "start_time": "2023-08-03T07:45:10.592Z"
   },
   {
    "duration": 2115,
    "start_time": "2023-08-03T07:55:14.821Z"
   },
   {
    "duration": 7,
    "start_time": "2023-08-03T07:55:53.278Z"
   },
   {
    "duration": 8,
    "start_time": "2023-08-03T07:58:03.872Z"
   },
   {
    "duration": 9,
    "start_time": "2023-08-03T08:15:23.023Z"
   },
   {
    "duration": 9,
    "start_time": "2023-08-03T08:19:06.862Z"
   },
   {
    "duration": 7,
    "start_time": "2023-08-03T08:51:41.076Z"
   },
   {
    "duration": 7,
    "start_time": "2023-08-03T08:52:30.273Z"
   },
   {
    "duration": 7,
    "start_time": "2023-08-03T08:52:35.001Z"
   },
   {
    "duration": 14,
    "start_time": "2023-08-03T08:54:23.276Z"
   },
   {
    "duration": 20,
    "start_time": "2023-08-03T08:54:46.352Z"
   },
   {
    "duration": 69,
    "start_time": "2023-08-03T10:15:25.454Z"
   },
   {
    "duration": 16,
    "start_time": "2023-08-03T10:17:44.373Z"
   },
   {
    "duration": 165,
    "start_time": "2023-08-03T10:19:13.385Z"
   },
   {
    "duration": 271,
    "start_time": "2023-08-03T10:46:56.050Z"
   },
   {
    "duration": 321,
    "start_time": "2023-08-03T10:48:23.950Z"
   },
   {
    "duration": 239,
    "start_time": "2023-08-03T10:48:38.822Z"
   },
   {
    "duration": 299,
    "start_time": "2023-08-03T10:50:57.125Z"
   },
   {
    "duration": 205,
    "start_time": "2023-08-03T10:51:58.883Z"
   },
   {
    "duration": 224,
    "start_time": "2023-08-03T10:52:43.489Z"
   },
   {
    "duration": 244,
    "start_time": "2023-08-03T10:53:56.879Z"
   },
   {
    "duration": 258,
    "start_time": "2023-08-03T10:55:13.089Z"
   },
   {
    "duration": 9,
    "start_time": "2023-08-03T11:06:53.809Z"
   },
   {
    "duration": 8,
    "start_time": "2023-08-03T11:07:03.200Z"
   },
   {
    "duration": 9,
    "start_time": "2023-08-03T11:07:13.456Z"
   },
   {
    "duration": 1190,
    "start_time": "2023-08-03T11:07:46.620Z"
   },
   {
    "duration": 648,
    "start_time": "2023-08-03T11:07:47.812Z"
   },
   {
    "duration": 14,
    "start_time": "2023-08-03T11:07:48.462Z"
   },
   {
    "duration": 22,
    "start_time": "2023-08-03T11:07:48.478Z"
   },
   {
    "duration": 22,
    "start_time": "2023-08-03T11:07:48.502Z"
   },
   {
    "duration": 35,
    "start_time": "2023-08-03T11:07:48.526Z"
   },
   {
    "duration": 20,
    "start_time": "2023-08-03T11:07:48.563Z"
   },
   {
    "duration": 68,
    "start_time": "2023-08-03T11:07:48.585Z"
   },
   {
    "duration": 8,
    "start_time": "2023-08-03T11:07:48.655Z"
   },
   {
    "duration": 28,
    "start_time": "2023-08-03T11:07:48.665Z"
   },
   {
    "duration": 130,
    "start_time": "2023-08-03T11:07:48.695Z"
   },
   {
    "duration": 9,
    "start_time": "2023-08-03T11:07:48.827Z"
   },
   {
    "duration": 57,
    "start_time": "2023-08-03T11:07:48.838Z"
   },
   {
    "duration": 17,
    "start_time": "2023-08-03T11:07:48.897Z"
   },
   {
    "duration": 50,
    "start_time": "2023-08-03T11:07:48.916Z"
   },
   {
    "duration": 11,
    "start_time": "2023-08-03T11:07:48.968Z"
   },
   {
    "duration": 28,
    "start_time": "2023-08-03T11:07:48.981Z"
   },
   {
    "duration": 20,
    "start_time": "2023-08-03T11:07:49.011Z"
   },
   {
    "duration": 54,
    "start_time": "2023-08-03T11:07:49.033Z"
   },
   {
    "duration": 29,
    "start_time": "2023-08-03T11:07:49.090Z"
   },
   {
    "duration": 24,
    "start_time": "2023-08-03T11:07:49.121Z"
   },
   {
    "duration": 32,
    "start_time": "2023-08-03T11:07:49.147Z"
   },
   {
    "duration": 31,
    "start_time": "2023-08-03T11:07:49.182Z"
   },
   {
    "duration": 56,
    "start_time": "2023-08-03T11:07:49.214Z"
   },
   {
    "duration": 42,
    "start_time": "2023-08-03T11:07:49.272Z"
   },
   {
    "duration": 26,
    "start_time": "2023-08-03T11:07:49.316Z"
   },
   {
    "duration": 6,
    "start_time": "2023-08-03T11:07:49.358Z"
   },
   {
    "duration": 24,
    "start_time": "2023-08-03T11:07:49.369Z"
   },
   {
    "duration": 30,
    "start_time": "2023-08-03T11:07:49.394Z"
   },
   {
    "duration": 10,
    "start_time": "2023-08-03T11:07:49.426Z"
   },
   {
    "duration": 62,
    "start_time": "2023-08-03T11:07:49.438Z"
   },
   {
    "duration": 8,
    "start_time": "2023-08-03T11:07:49.502Z"
   },
   {
    "duration": 16,
    "start_time": "2023-08-03T11:07:49.511Z"
   },
   {
    "duration": 21,
    "start_time": "2023-08-03T11:07:49.528Z"
   },
   {
    "duration": 21,
    "start_time": "2023-08-03T11:07:49.551Z"
   },
   {
    "duration": 9,
    "start_time": "2023-08-03T11:07:49.574Z"
   },
   {
    "duration": 17,
    "start_time": "2023-08-03T11:07:49.585Z"
   },
   {
    "duration": 11,
    "start_time": "2023-08-03T11:07:49.604Z"
   },
   {
    "duration": 16,
    "start_time": "2023-08-03T11:07:49.616Z"
   },
   {
    "duration": 22,
    "start_time": "2023-08-03T11:07:49.634Z"
   },
   {
    "duration": 31,
    "start_time": "2023-08-03T11:07:49.657Z"
   },
   {
    "duration": 32,
    "start_time": "2023-08-03T11:07:49.689Z"
   },
   {
    "duration": 46,
    "start_time": "2023-08-03T11:07:49.722Z"
   },
   {
    "duration": 42,
    "start_time": "2023-08-03T11:07:49.770Z"
   },
   {
    "duration": 24,
    "start_time": "2023-08-03T11:07:49.814Z"
   },
   {
    "duration": 47,
    "start_time": "2023-08-03T11:07:49.840Z"
   },
   {
    "duration": 50,
    "start_time": "2023-08-03T11:07:49.888Z"
   },
   {
    "duration": 63,
    "start_time": "2023-08-03T11:07:49.940Z"
   },
   {
    "duration": 5,
    "start_time": "2023-08-03T11:07:50.004Z"
   },
   {
    "duration": 170,
    "start_time": "2023-08-03T11:07:50.011Z"
   },
   {
    "duration": 14,
    "start_time": "2023-08-03T11:07:50.182Z"
   },
   {
    "duration": 4,
    "start_time": "2023-08-03T11:07:50.197Z"
   },
   {
    "duration": 31,
    "start_time": "2023-08-03T11:07:50.203Z"
   },
   {
    "duration": 28,
    "start_time": "2023-08-03T11:07:50.236Z"
   },
   {
    "duration": 22,
    "start_time": "2023-08-03T11:07:50.266Z"
   },
   {
    "duration": 14,
    "start_time": "2023-08-03T11:07:50.289Z"
   },
   {
    "duration": 16,
    "start_time": "2023-08-03T11:07:50.305Z"
   },
   {
    "duration": 15,
    "start_time": "2023-08-03T11:07:50.323Z"
   },
   {
    "duration": 6,
    "start_time": "2023-08-03T11:07:50.340Z"
   },
   {
    "duration": 244,
    "start_time": "2023-08-03T11:07:50.347Z"
   },
   {
    "duration": 8,
    "start_time": "2023-08-03T11:07:50.593Z"
   },
   {
    "duration": 23,
    "start_time": "2023-08-03T11:07:50.602Z"
   },
   {
    "duration": 31,
    "start_time": "2023-08-03T11:07:50.626Z"
   },
   {
    "duration": 258,
    "start_time": "2023-08-03T11:07:50.659Z"
   },
   {
    "duration": 21,
    "start_time": "2023-08-03T11:07:50.919Z"
   },
   {
    "duration": 208,
    "start_time": "2023-08-03T11:07:50.942Z"
   },
   {
    "duration": 27,
    "start_time": "2023-08-03T11:07:51.158Z"
   },
   {
    "duration": 197,
    "start_time": "2023-08-03T11:07:51.187Z"
   },
   {
    "duration": 14,
    "start_time": "2023-08-03T11:07:51.386Z"
   },
   {
    "duration": 200,
    "start_time": "2023-08-03T11:07:51.402Z"
   },
   {
    "duration": 238,
    "start_time": "2023-08-03T11:07:51.604Z"
   },
   {
    "duration": 23,
    "start_time": "2023-08-03T11:07:51.843Z"
   },
   {
    "duration": 17,
    "start_time": "2023-08-03T11:07:51.867Z"
   },
   {
    "duration": 24,
    "start_time": "2023-08-03T11:07:51.885Z"
   },
   {
    "duration": 18,
    "start_time": "2023-08-03T11:07:51.910Z"
   },
   {
    "duration": 48,
    "start_time": "2023-08-03T11:07:51.929Z"
   },
   {
    "duration": 618,
    "start_time": "2023-08-03T11:07:51.978Z"
   },
   {
    "duration": 8,
    "start_time": "2023-08-03T11:07:52.597Z"
   },
   {
    "duration": 8,
    "start_time": "2023-08-03T11:07:52.659Z"
   },
   {
    "duration": 18,
    "start_time": "2023-08-03T11:07:52.668Z"
   },
   {
    "duration": 11,
    "start_time": "2023-08-03T11:07:52.688Z"
   },
   {
    "duration": 81,
    "start_time": "2023-08-03T11:07:52.704Z"
   },
   {
    "duration": 5,
    "start_time": "2023-08-03T11:07:52.787Z"
   },
   {
    "duration": 69,
    "start_time": "2023-08-03T11:07:52.793Z"
   },
   {
    "duration": 301,
    "start_time": "2023-08-03T11:07:52.864Z"
   },
   {
    "duration": 9,
    "start_time": "2023-08-03T11:07:53.166Z"
   },
   {
    "duration": 12,
    "start_time": "2023-08-03T11:11:07.916Z"
   },
   {
    "duration": 37,
    "start_time": "2023-08-03T11:12:20.710Z"
   },
   {
    "duration": 10,
    "start_time": "2023-08-03T11:12:53.006Z"
   },
   {
    "duration": 230,
    "start_time": "2023-08-03T11:14:52.153Z"
   },
   {
    "duration": 1250,
    "start_time": "2023-08-03T11:16:24.071Z"
   },
   {
    "duration": 621,
    "start_time": "2023-08-03T11:16:25.323Z"
   },
   {
    "duration": 13,
    "start_time": "2023-08-03T11:16:25.946Z"
   },
   {
    "duration": 11,
    "start_time": "2023-08-03T11:16:25.961Z"
   },
   {
    "duration": 23,
    "start_time": "2023-08-03T11:16:25.974Z"
   },
   {
    "duration": 30,
    "start_time": "2023-08-03T11:16:25.999Z"
   },
   {
    "duration": 30,
    "start_time": "2023-08-03T11:16:26.031Z"
   },
   {
    "duration": 69,
    "start_time": "2023-08-03T11:16:26.063Z"
   },
   {
    "duration": 9,
    "start_time": "2023-08-03T11:16:26.134Z"
   },
   {
    "duration": 21,
    "start_time": "2023-08-03T11:16:26.145Z"
   },
   {
    "duration": 108,
    "start_time": "2023-08-03T11:16:26.168Z"
   },
   {
    "duration": 9,
    "start_time": "2023-08-03T11:16:26.277Z"
   },
   {
    "duration": 51,
    "start_time": "2023-08-03T11:16:26.287Z"
   },
   {
    "duration": 19,
    "start_time": "2023-08-03T11:16:26.341Z"
   },
   {
    "duration": 32,
    "start_time": "2023-08-03T11:16:26.361Z"
   },
   {
    "duration": 9,
    "start_time": "2023-08-03T11:16:26.395Z"
   },
   {
    "duration": 11,
    "start_time": "2023-08-03T11:16:26.405Z"
   },
   {
    "duration": 11,
    "start_time": "2023-08-03T11:16:26.417Z"
   },
   {
    "duration": 57,
    "start_time": "2023-08-03T11:16:26.430Z"
   },
   {
    "duration": 16,
    "start_time": "2023-08-03T11:16:26.488Z"
   },
   {
    "duration": 17,
    "start_time": "2023-08-03T11:16:26.505Z"
   },
   {
    "duration": 22,
    "start_time": "2023-08-03T11:16:26.523Z"
   },
   {
    "duration": 9,
    "start_time": "2023-08-03T11:16:26.546Z"
   },
   {
    "duration": 41,
    "start_time": "2023-08-03T11:16:26.557Z"
   },
   {
    "duration": 41,
    "start_time": "2023-08-03T11:16:26.600Z"
   },
   {
    "duration": 32,
    "start_time": "2023-08-03T11:16:26.642Z"
   },
   {
    "duration": 4,
    "start_time": "2023-08-03T11:16:26.676Z"
   },
   {
    "duration": 8,
    "start_time": "2023-08-03T11:16:26.682Z"
   },
   {
    "duration": 9,
    "start_time": "2023-08-03T11:16:26.692Z"
   },
   {
    "duration": 7,
    "start_time": "2023-08-03T11:16:26.702Z"
   },
   {
    "duration": 59,
    "start_time": "2023-08-03T11:16:26.711Z"
   },
   {
    "duration": 7,
    "start_time": "2023-08-03T11:16:26.771Z"
   },
   {
    "duration": 12,
    "start_time": "2023-08-03T11:16:26.780Z"
   },
   {
    "duration": 11,
    "start_time": "2023-08-03T11:16:26.793Z"
   },
   {
    "duration": 7,
    "start_time": "2023-08-03T11:16:26.806Z"
   },
   {
    "duration": 8,
    "start_time": "2023-08-03T11:16:26.815Z"
   },
   {
    "duration": 34,
    "start_time": "2023-08-03T11:16:26.825Z"
   },
   {
    "duration": 12,
    "start_time": "2023-08-03T11:16:26.861Z"
   },
   {
    "duration": 7,
    "start_time": "2023-08-03T11:16:26.874Z"
   },
   {
    "duration": 15,
    "start_time": "2023-08-03T11:16:26.882Z"
   },
   {
    "duration": 21,
    "start_time": "2023-08-03T11:16:26.902Z"
   },
   {
    "duration": 12,
    "start_time": "2023-08-03T11:16:26.925Z"
   },
   {
    "duration": 16,
    "start_time": "2023-08-03T11:16:26.959Z"
   },
   {
    "duration": 24,
    "start_time": "2023-08-03T11:16:26.977Z"
   },
   {
    "duration": 7,
    "start_time": "2023-08-03T11:16:27.003Z"
   },
   {
    "duration": 60,
    "start_time": "2023-08-03T11:16:27.011Z"
   },
   {
    "duration": 39,
    "start_time": "2023-08-03T11:16:27.073Z"
   },
   {
    "duration": 80,
    "start_time": "2023-08-03T11:16:27.114Z"
   },
   {
    "duration": 5,
    "start_time": "2023-08-03T11:16:27.196Z"
   },
   {
    "duration": 163,
    "start_time": "2023-08-03T11:16:27.203Z"
   },
   {
    "duration": 12,
    "start_time": "2023-08-03T11:16:27.368Z"
   },
   {
    "duration": 15,
    "start_time": "2023-08-03T11:16:27.382Z"
   },
   {
    "duration": 17,
    "start_time": "2023-08-03T11:16:27.398Z"
   },
   {
    "duration": 19,
    "start_time": "2023-08-03T11:16:27.416Z"
   },
   {
    "duration": 22,
    "start_time": "2023-08-03T11:16:27.437Z"
   },
   {
    "duration": 17,
    "start_time": "2023-08-03T11:16:27.460Z"
   },
   {
    "duration": 24,
    "start_time": "2023-08-03T11:16:27.478Z"
   },
   {
    "duration": 18,
    "start_time": "2023-08-03T11:16:27.503Z"
   },
   {
    "duration": 21,
    "start_time": "2023-08-03T11:16:27.522Z"
   },
   {
    "duration": 236,
    "start_time": "2023-08-03T11:16:27.545Z"
   },
   {
    "duration": 8,
    "start_time": "2023-08-03T11:16:27.783Z"
   },
   {
    "duration": 7,
    "start_time": "2023-08-03T11:16:27.793Z"
   },
   {
    "duration": 11,
    "start_time": "2023-08-03T11:16:27.801Z"
   },
   {
    "duration": 267,
    "start_time": "2023-08-03T11:16:27.813Z"
   },
   {
    "duration": 25,
    "start_time": "2023-08-03T11:16:28.081Z"
   },
   {
    "duration": 212,
    "start_time": "2023-08-03T11:16:28.107Z"
   },
   {
    "duration": 24,
    "start_time": "2023-08-03T11:16:28.321Z"
   },
   {
    "duration": 214,
    "start_time": "2023-08-03T11:16:28.347Z"
   },
   {
    "duration": 16,
    "start_time": "2023-08-03T11:16:28.563Z"
   },
   {
    "duration": 205,
    "start_time": "2023-08-03T11:16:28.580Z"
   },
   {
    "duration": 233,
    "start_time": "2023-08-03T11:16:28.786Z"
   },
   {
    "duration": 14,
    "start_time": "2023-08-03T11:16:29.021Z"
   },
   {
    "duration": 32,
    "start_time": "2023-08-03T11:16:29.037Z"
   },
   {
    "duration": 24,
    "start_time": "2023-08-03T11:16:29.071Z"
   },
   {
    "duration": 17,
    "start_time": "2023-08-03T11:16:29.097Z"
   },
   {
    "duration": 43,
    "start_time": "2023-08-03T11:16:29.116Z"
   },
   {
    "duration": 354,
    "start_time": "2023-08-03T11:16:29.161Z"
   },
   {
    "duration": 8,
    "start_time": "2023-08-03T11:16:29.516Z"
   },
   {
    "duration": 9,
    "start_time": "2023-08-03T11:16:29.526Z"
   },
   {
    "duration": 34,
    "start_time": "2023-08-03T11:16:29.536Z"
   },
   {
    "duration": 28,
    "start_time": "2023-08-03T11:16:29.572Z"
   },
   {
    "duration": 28,
    "start_time": "2023-08-03T11:16:29.601Z"
   },
   {
    "duration": 5,
    "start_time": "2023-08-03T11:16:29.631Z"
   },
   {
    "duration": 16,
    "start_time": "2023-08-03T11:16:29.638Z"
   },
   {
    "duration": 149,
    "start_time": "2023-08-03T11:16:29.656Z"
   },
   {
    "duration": 9,
    "start_time": "2023-08-03T11:16:29.807Z"
   },
   {
    "duration": 211,
    "start_time": "2023-08-03T11:19:16.460Z"
   },
   {
    "duration": 1227,
    "start_time": "2023-08-03T12:23:54.817Z"
   },
   {
    "duration": 546,
    "start_time": "2023-08-03T12:23:56.046Z"
   },
   {
    "duration": 12,
    "start_time": "2023-08-03T12:23:56.594Z"
   },
   {
    "duration": 11,
    "start_time": "2023-08-03T12:23:56.608Z"
   },
   {
    "duration": 10,
    "start_time": "2023-08-03T12:23:56.622Z"
   },
   {
    "duration": 24,
    "start_time": "2023-08-03T12:23:56.633Z"
   },
   {
    "duration": 8,
    "start_time": "2023-08-03T12:23:56.658Z"
   },
   {
    "duration": 58,
    "start_time": "2023-08-03T12:23:56.667Z"
   },
   {
    "duration": 7,
    "start_time": "2023-08-03T12:23:56.727Z"
   },
   {
    "duration": 11,
    "start_time": "2023-08-03T12:23:56.737Z"
   },
   {
    "duration": 109,
    "start_time": "2023-08-03T12:23:56.750Z"
   },
   {
    "duration": 9,
    "start_time": "2023-08-03T12:23:56.860Z"
   },
   {
    "duration": 50,
    "start_time": "2023-08-03T12:23:56.871Z"
   },
   {
    "duration": 12,
    "start_time": "2023-08-03T12:23:56.923Z"
   },
   {
    "duration": 39,
    "start_time": "2023-08-03T12:23:56.937Z"
   },
   {
    "duration": 8,
    "start_time": "2023-08-03T12:23:56.978Z"
   },
   {
    "duration": 23,
    "start_time": "2023-08-03T12:23:56.988Z"
   },
   {
    "duration": 173,
    "start_time": "2023-08-03T12:23:57.013Z"
   },
   {
    "duration": 11,
    "start_time": "2023-08-03T12:23:57.189Z"
   },
   {
    "duration": 65,
    "start_time": "2023-08-03T12:23:57.202Z"
   },
   {
    "duration": 11,
    "start_time": "2023-08-03T12:23:57.269Z"
   },
   {
    "duration": 11,
    "start_time": "2023-08-03T12:23:57.282Z"
   },
   {
    "duration": 12,
    "start_time": "2023-08-03T12:23:57.294Z"
   },
   {
    "duration": 11,
    "start_time": "2023-08-03T12:23:57.319Z"
   },
   {
    "duration": 40,
    "start_time": "2023-08-03T12:23:57.331Z"
   },
   {
    "duration": 48,
    "start_time": "2023-08-03T12:23:57.372Z"
   },
   {
    "duration": 19,
    "start_time": "2023-08-03T12:23:57.422Z"
   },
   {
    "duration": 4,
    "start_time": "2023-08-03T12:23:57.446Z"
   },
   {
    "duration": 12,
    "start_time": "2023-08-03T12:23:57.451Z"
   },
   {
    "duration": 6,
    "start_time": "2023-08-03T12:23:57.464Z"
   },
   {
    "duration": 9,
    "start_time": "2023-08-03T12:23:57.472Z"
   },
   {
    "duration": 50,
    "start_time": "2023-08-03T12:23:57.483Z"
   },
   {
    "duration": 7,
    "start_time": "2023-08-03T12:23:57.534Z"
   },
   {
    "duration": 7,
    "start_time": "2023-08-03T12:23:57.543Z"
   },
   {
    "duration": 6,
    "start_time": "2023-08-03T12:23:57.552Z"
   },
   {
    "duration": 13,
    "start_time": "2023-08-03T12:23:57.559Z"
   },
   {
    "duration": 10,
    "start_time": "2023-08-03T12:23:57.573Z"
   },
   {
    "duration": 21,
    "start_time": "2023-08-03T12:23:57.584Z"
   },
   {
    "duration": 19,
    "start_time": "2023-08-03T12:23:57.606Z"
   },
   {
    "duration": 7,
    "start_time": "2023-08-03T12:23:57.627Z"
   },
   {
    "duration": 11,
    "start_time": "2023-08-03T12:23:57.636Z"
   },
   {
    "duration": 14,
    "start_time": "2023-08-03T12:23:57.649Z"
   },
   {
    "duration": 7,
    "start_time": "2023-08-03T12:23:57.665Z"
   },
   {
    "duration": 19,
    "start_time": "2023-08-03T12:23:57.673Z"
   },
   {
    "duration": 12,
    "start_time": "2023-08-03T12:23:57.694Z"
   },
   {
    "duration": 11,
    "start_time": "2023-08-03T12:23:57.720Z"
   },
   {
    "duration": 36,
    "start_time": "2023-08-03T12:23:57.732Z"
   },
   {
    "duration": 33,
    "start_time": "2023-08-03T12:23:57.770Z"
   },
   {
    "duration": 56,
    "start_time": "2023-08-03T12:23:57.805Z"
   },
   {
    "duration": 4,
    "start_time": "2023-08-03T12:23:57.862Z"
   },
   {
    "duration": 128,
    "start_time": "2023-08-03T12:23:57.868Z"
   },
   {
    "duration": 22,
    "start_time": "2023-08-03T12:23:57.998Z"
   },
   {
    "duration": 5,
    "start_time": "2023-08-03T12:23:58.022Z"
   },
   {
    "duration": 25,
    "start_time": "2023-08-03T12:23:58.029Z"
   },
   {
    "duration": 17,
    "start_time": "2023-08-03T12:23:58.056Z"
   },
   {
    "duration": 21,
    "start_time": "2023-08-03T12:23:58.075Z"
   },
   {
    "duration": 22,
    "start_time": "2023-08-03T12:23:58.098Z"
   },
   {
    "duration": 20,
    "start_time": "2023-08-03T12:23:58.122Z"
   },
   {
    "duration": 52,
    "start_time": "2023-08-03T12:23:58.144Z"
   },
   {
    "duration": 28,
    "start_time": "2023-08-03T12:23:58.198Z"
   },
   {
    "duration": 217,
    "start_time": "2023-08-03T12:23:58.228Z"
   },
   {
    "duration": 7,
    "start_time": "2023-08-03T12:23:58.447Z"
   },
   {
    "duration": 18,
    "start_time": "2023-08-03T12:23:58.456Z"
   },
   {
    "duration": 50,
    "start_time": "2023-08-03T12:23:58.475Z"
   },
   {
    "duration": 223,
    "start_time": "2023-08-03T12:23:58.527Z"
   },
   {
    "duration": 16,
    "start_time": "2023-08-03T12:23:58.752Z"
   },
   {
    "duration": 184,
    "start_time": "2023-08-03T12:23:58.770Z"
   },
   {
    "duration": 23,
    "start_time": "2023-08-03T12:23:58.955Z"
   },
   {
    "duration": 181,
    "start_time": "2023-08-03T12:23:58.980Z"
   },
   {
    "duration": 16,
    "start_time": "2023-08-03T12:23:59.163Z"
   },
   {
    "duration": 173,
    "start_time": "2023-08-03T12:23:59.180Z"
   },
   {
    "duration": 209,
    "start_time": "2023-08-03T12:23:59.355Z"
   },
   {
    "duration": 12,
    "start_time": "2023-08-03T12:23:59.566Z"
   },
   {
    "duration": 16,
    "start_time": "2023-08-03T12:23:59.580Z"
   },
   {
    "duration": 38,
    "start_time": "2023-08-03T12:23:59.597Z"
   },
   {
    "duration": 15,
    "start_time": "2023-08-03T12:23:59.636Z"
   },
   {
    "duration": 19,
    "start_time": "2023-08-03T12:23:59.654Z"
   },
   {
    "duration": 300,
    "start_time": "2023-08-03T12:23:59.674Z"
   },
   {
    "duration": 7,
    "start_time": "2023-08-03T12:23:59.975Z"
   },
   {
    "duration": 8,
    "start_time": "2023-08-03T12:23:59.984Z"
   },
   {
    "duration": 33,
    "start_time": "2023-08-03T12:23:59.993Z"
   },
   {
    "duration": 42,
    "start_time": "2023-08-03T12:24:00.032Z"
   },
   {
    "duration": 43,
    "start_time": "2023-08-03T12:24:00.076Z"
   },
   {
    "duration": 6,
    "start_time": "2023-08-03T12:24:00.120Z"
   },
   {
    "duration": 70,
    "start_time": "2023-08-03T12:24:00.128Z"
   },
   {
    "duration": 990,
    "start_time": "2023-08-03T12:24:00.200Z"
   },
   {
    "duration": 32,
    "start_time": "2023-08-03T12:24:01.193Z"
   },
   {
    "duration": 1164,
    "start_time": "2023-08-03T12:30:40.202Z"
   },
   {
    "duration": 548,
    "start_time": "2023-08-03T12:30:41.368Z"
   },
   {
    "duration": 12,
    "start_time": "2023-08-03T12:30:41.918Z"
   },
   {
    "duration": 12,
    "start_time": "2023-08-03T12:30:41.933Z"
   },
   {
    "duration": 10,
    "start_time": "2023-08-03T12:30:41.947Z"
   },
   {
    "duration": 18,
    "start_time": "2023-08-03T12:30:41.958Z"
   },
   {
    "duration": 8,
    "start_time": "2023-08-03T12:30:41.978Z"
   },
   {
    "duration": 77,
    "start_time": "2023-08-03T12:30:41.987Z"
   },
   {
    "duration": 7,
    "start_time": "2023-08-03T12:30:42.065Z"
   },
   {
    "duration": 12,
    "start_time": "2023-08-03T12:30:42.074Z"
   },
   {
    "duration": 113,
    "start_time": "2023-08-03T12:30:42.087Z"
   },
   {
    "duration": 8,
    "start_time": "2023-08-03T12:30:42.201Z"
   },
   {
    "duration": 38,
    "start_time": "2023-08-03T12:30:42.219Z"
   },
   {
    "duration": 13,
    "start_time": "2023-08-03T12:30:42.258Z"
   },
   {
    "duration": 36,
    "start_time": "2023-08-03T12:30:42.272Z"
   },
   {
    "duration": 9,
    "start_time": "2023-08-03T12:30:42.320Z"
   },
   {
    "duration": 14,
    "start_time": "2023-08-03T12:30:42.330Z"
   },
   {
    "duration": 162,
    "start_time": "2023-08-03T12:30:42.345Z"
   },
   {
    "duration": 14,
    "start_time": "2023-08-03T12:30:42.508Z"
   },
   {
    "duration": 33,
    "start_time": "2023-08-03T12:30:42.524Z"
   },
   {
    "duration": 9,
    "start_time": "2023-08-03T12:30:42.558Z"
   },
   {
    "duration": 8,
    "start_time": "2023-08-03T12:30:42.569Z"
   },
   {
    "duration": 13,
    "start_time": "2023-08-03T12:30:42.579Z"
   },
   {
    "duration": 28,
    "start_time": "2023-08-03T12:30:42.594Z"
   },
   {
    "duration": 39,
    "start_time": "2023-08-03T12:30:42.624Z"
   },
   {
    "duration": 37,
    "start_time": "2023-08-03T12:30:42.664Z"
   },
   {
    "duration": 28,
    "start_time": "2023-08-03T12:30:42.703Z"
   },
   {
    "duration": 4,
    "start_time": "2023-08-03T12:30:42.736Z"
   },
   {
    "duration": 9,
    "start_time": "2023-08-03T12:30:42.741Z"
   },
   {
    "duration": 7,
    "start_time": "2023-08-03T12:30:42.751Z"
   },
   {
    "duration": 8,
    "start_time": "2023-08-03T12:30:42.759Z"
   },
   {
    "duration": 53,
    "start_time": "2023-08-03T12:30:42.768Z"
   },
   {
    "duration": 7,
    "start_time": "2023-08-03T12:30:42.822Z"
   },
   {
    "duration": 5,
    "start_time": "2023-08-03T12:30:42.830Z"
   },
   {
    "duration": 6,
    "start_time": "2023-08-03T12:30:42.836Z"
   },
   {
    "duration": 7,
    "start_time": "2023-08-03T12:30:42.844Z"
   },
   {
    "duration": 5,
    "start_time": "2023-08-03T12:30:42.852Z"
   },
   {
    "duration": 13,
    "start_time": "2023-08-03T12:30:42.859Z"
   },
   {
    "duration": 9,
    "start_time": "2023-08-03T12:30:42.873Z"
   },
   {
    "duration": 39,
    "start_time": "2023-08-03T12:30:42.884Z"
   },
   {
    "duration": 13,
    "start_time": "2023-08-03T12:30:42.924Z"
   },
   {
    "duration": 13,
    "start_time": "2023-08-03T12:30:42.938Z"
   },
   {
    "duration": 10,
    "start_time": "2023-08-03T12:30:42.953Z"
   },
   {
    "duration": 12,
    "start_time": "2023-08-03T12:30:42.965Z"
   },
   {
    "duration": 10,
    "start_time": "2023-08-03T12:30:42.978Z"
   },
   {
    "duration": 5,
    "start_time": "2023-08-03T12:30:42.990Z"
   },
   {
    "duration": 54,
    "start_time": "2023-08-03T12:30:42.997Z"
   },
   {
    "duration": 28,
    "start_time": "2023-08-03T12:30:43.052Z"
   },
   {
    "duration": 70,
    "start_time": "2023-08-03T12:30:43.081Z"
   },
   {
    "duration": 5,
    "start_time": "2023-08-03T12:30:43.152Z"
   },
   {
    "duration": 138,
    "start_time": "2023-08-03T12:30:43.159Z"
   },
   {
    "duration": 10,
    "start_time": "2023-08-03T12:30:43.298Z"
   },
   {
    "duration": 11,
    "start_time": "2023-08-03T12:30:43.310Z"
   },
   {
    "duration": 9,
    "start_time": "2023-08-03T12:30:43.322Z"
   },
   {
    "duration": 12,
    "start_time": "2023-08-03T12:30:43.333Z"
   },
   {
    "duration": 11,
    "start_time": "2023-08-03T12:30:43.347Z"
   },
   {
    "duration": 10,
    "start_time": "2023-08-03T12:30:43.359Z"
   },
   {
    "duration": 12,
    "start_time": "2023-08-03T12:30:43.371Z"
   },
   {
    "duration": 43,
    "start_time": "2023-08-03T12:30:43.385Z"
   },
   {
    "duration": 20,
    "start_time": "2023-08-03T12:30:43.430Z"
   },
   {
    "duration": 211,
    "start_time": "2023-08-03T12:30:43.452Z"
   },
   {
    "duration": 8,
    "start_time": "2023-08-03T12:30:43.665Z"
   },
   {
    "duration": 7,
    "start_time": "2023-08-03T12:30:43.674Z"
   },
   {
    "duration": 10,
    "start_time": "2023-08-03T12:30:43.682Z"
   },
   {
    "duration": 235,
    "start_time": "2023-08-03T12:30:43.694Z"
   },
   {
    "duration": 18,
    "start_time": "2023-08-03T12:30:43.930Z"
   },
   {
    "duration": 183,
    "start_time": "2023-08-03T12:30:43.950Z"
   },
   {
    "duration": 22,
    "start_time": "2023-08-03T12:30:44.135Z"
   },
   {
    "duration": 178,
    "start_time": "2023-08-03T12:30:44.158Z"
   },
   {
    "duration": 14,
    "start_time": "2023-08-03T12:30:44.338Z"
   },
   {
    "duration": 192,
    "start_time": "2023-08-03T12:30:44.353Z"
   },
   {
    "duration": 234,
    "start_time": "2023-08-03T12:30:44.546Z"
   },
   {
    "duration": 13,
    "start_time": "2023-08-03T12:30:44.781Z"
   },
   {
    "duration": 25,
    "start_time": "2023-08-03T12:30:44.796Z"
   },
   {
    "duration": 23,
    "start_time": "2023-08-03T12:30:44.822Z"
   },
   {
    "duration": 14,
    "start_time": "2023-08-03T12:30:44.846Z"
   },
   {
    "duration": 18,
    "start_time": "2023-08-03T12:30:44.862Z"
   },
   {
    "duration": 327,
    "start_time": "2023-08-03T12:30:44.881Z"
   },
   {
    "duration": 14,
    "start_time": "2023-08-03T12:30:45.210Z"
   },
   {
    "duration": 27,
    "start_time": "2023-08-03T12:30:45.225Z"
   },
   {
    "duration": 31,
    "start_time": "2023-08-03T12:30:45.253Z"
   },
   {
    "duration": 38,
    "start_time": "2023-08-03T12:30:45.289Z"
   },
   {
    "duration": 45,
    "start_time": "2023-08-03T12:30:45.330Z"
   },
   {
    "duration": 6,
    "start_time": "2023-08-03T12:30:45.377Z"
   },
   {
    "duration": 36,
    "start_time": "2023-08-03T12:30:45.384Z"
   },
   {
    "duration": 881,
    "start_time": "2023-08-03T12:30:45.422Z"
   },
   {
    "duration": 7,
    "start_time": "2023-08-03T12:30:46.304Z"
   },
   {
    "duration": 1193,
    "start_time": "2023-08-03T12:31:13.233Z"
   },
   {
    "duration": 557,
    "start_time": "2023-08-03T12:31:14.429Z"
   },
   {
    "duration": 12,
    "start_time": "2023-08-03T12:31:14.988Z"
   },
   {
    "duration": 54,
    "start_time": "2023-08-03T12:31:15.002Z"
   },
   {
    "duration": 30,
    "start_time": "2023-08-03T12:31:15.058Z"
   },
   {
    "duration": 53,
    "start_time": "2023-08-03T12:31:15.089Z"
   },
   {
    "duration": 8,
    "start_time": "2023-08-03T12:31:15.143Z"
   },
   {
    "duration": 93,
    "start_time": "2023-08-03T12:31:15.153Z"
   },
   {
    "duration": 11,
    "start_time": "2023-08-03T12:31:15.248Z"
   },
   {
    "duration": 33,
    "start_time": "2023-08-03T12:31:15.262Z"
   },
   {
    "duration": 154,
    "start_time": "2023-08-03T12:31:15.297Z"
   },
   {
    "duration": 10,
    "start_time": "2023-08-03T12:31:15.453Z"
   },
   {
    "duration": 94,
    "start_time": "2023-08-03T12:31:15.465Z"
   },
   {
    "duration": 14,
    "start_time": "2023-08-03T12:31:15.561Z"
   },
   {
    "duration": 60,
    "start_time": "2023-08-03T12:31:15.578Z"
   },
   {
    "duration": 10,
    "start_time": "2023-08-03T12:31:15.640Z"
   },
   {
    "duration": 20,
    "start_time": "2023-08-03T12:31:15.651Z"
   },
   {
    "duration": 213,
    "start_time": "2023-08-03T12:31:15.673Z"
   },
   {
    "duration": 11,
    "start_time": "2023-08-03T12:31:15.889Z"
   },
   {
    "duration": 141,
    "start_time": "2023-08-03T12:31:15.902Z"
   },
   {
    "duration": 19,
    "start_time": "2023-08-03T12:31:16.045Z"
   },
   {
    "duration": 22,
    "start_time": "2023-08-03T12:31:16.067Z"
   },
   {
    "duration": 13,
    "start_time": "2023-08-03T12:31:16.091Z"
   },
   {
    "duration": 42,
    "start_time": "2023-08-03T12:31:16.106Z"
   },
   {
    "duration": 42,
    "start_time": "2023-08-03T12:31:16.149Z"
   },
   {
    "duration": 38,
    "start_time": "2023-08-03T12:31:16.193Z"
   },
   {
    "duration": 21,
    "start_time": "2023-08-03T12:31:16.232Z"
   },
   {
    "duration": 4,
    "start_time": "2023-08-03T12:31:16.258Z"
   },
   {
    "duration": 11,
    "start_time": "2023-08-03T12:31:16.264Z"
   },
   {
    "duration": 8,
    "start_time": "2023-08-03T12:31:16.276Z"
   },
   {
    "duration": 19,
    "start_time": "2023-08-03T12:31:16.286Z"
   },
   {
    "duration": 60,
    "start_time": "2023-08-03T12:31:16.306Z"
   },
   {
    "duration": 8,
    "start_time": "2023-08-03T12:31:16.368Z"
   },
   {
    "duration": 25,
    "start_time": "2023-08-03T12:31:16.378Z"
   },
   {
    "duration": 19,
    "start_time": "2023-08-03T12:31:16.405Z"
   },
   {
    "duration": 10,
    "start_time": "2023-08-03T12:31:16.425Z"
   },
   {
    "duration": 8,
    "start_time": "2023-08-03T12:31:16.437Z"
   },
   {
    "duration": 30,
    "start_time": "2023-08-03T12:31:16.447Z"
   },
   {
    "duration": 15,
    "start_time": "2023-08-03T12:31:16.479Z"
   },
   {
    "duration": 4,
    "start_time": "2023-08-03T12:31:16.495Z"
   },
   {
    "duration": 26,
    "start_time": "2023-08-03T12:31:16.500Z"
   },
   {
    "duration": 23,
    "start_time": "2023-08-03T12:31:16.528Z"
   },
   {
    "duration": 8,
    "start_time": "2023-08-03T12:31:16.552Z"
   },
   {
    "duration": 19,
    "start_time": "2023-08-03T12:31:16.562Z"
   },
   {
    "duration": 19,
    "start_time": "2023-08-03T12:31:16.582Z"
   },
   {
    "duration": 20,
    "start_time": "2023-08-03T12:31:16.603Z"
   },
   {
    "duration": 43,
    "start_time": "2023-08-03T12:31:16.625Z"
   },
   {
    "duration": 54,
    "start_time": "2023-08-03T12:31:16.670Z"
   },
   {
    "duration": 53,
    "start_time": "2023-08-03T12:31:16.726Z"
   },
   {
    "duration": 4,
    "start_time": "2023-08-03T12:31:16.780Z"
   },
   {
    "duration": 144,
    "start_time": "2023-08-03T12:31:16.786Z"
   },
   {
    "duration": 12,
    "start_time": "2023-08-03T12:31:16.933Z"
   },
   {
    "duration": 5,
    "start_time": "2023-08-03T12:31:16.947Z"
   },
   {
    "duration": 12,
    "start_time": "2023-08-03T12:31:16.954Z"
   },
   {
    "duration": 16,
    "start_time": "2023-08-03T12:31:16.967Z"
   },
   {
    "duration": 35,
    "start_time": "2023-08-03T12:31:16.985Z"
   },
   {
    "duration": 9,
    "start_time": "2023-08-03T12:31:17.022Z"
   },
   {
    "duration": 45,
    "start_time": "2023-08-03T12:31:17.033Z"
   },
   {
    "duration": 61,
    "start_time": "2023-08-03T12:31:17.080Z"
   },
   {
    "duration": 16,
    "start_time": "2023-08-03T12:31:17.143Z"
   },
   {
    "duration": 226,
    "start_time": "2023-08-03T12:31:17.161Z"
   },
   {
    "duration": 7,
    "start_time": "2023-08-03T12:31:17.389Z"
   },
   {
    "duration": 27,
    "start_time": "2023-08-03T12:31:17.398Z"
   },
   {
    "duration": 21,
    "start_time": "2023-08-03T12:31:17.427Z"
   },
   {
    "duration": 214,
    "start_time": "2023-08-03T12:31:17.450Z"
   },
   {
    "duration": 20,
    "start_time": "2023-08-03T12:31:17.666Z"
   },
   {
    "duration": 194,
    "start_time": "2023-08-03T12:31:17.688Z"
   },
   {
    "duration": 23,
    "start_time": "2023-08-03T12:31:17.883Z"
   },
   {
    "duration": 190,
    "start_time": "2023-08-03T12:31:17.907Z"
   },
   {
    "duration": 25,
    "start_time": "2023-08-03T12:31:18.099Z"
   },
   {
    "duration": 221,
    "start_time": "2023-08-03T12:31:18.126Z"
   },
   {
    "duration": 250,
    "start_time": "2023-08-03T12:31:18.349Z"
   },
   {
    "duration": 25,
    "start_time": "2023-08-03T12:31:18.601Z"
   },
   {
    "duration": 23,
    "start_time": "2023-08-03T12:31:18.629Z"
   },
   {
    "duration": 36,
    "start_time": "2023-08-03T12:31:18.654Z"
   },
   {
    "duration": 43,
    "start_time": "2023-08-03T12:31:18.692Z"
   },
   {
    "duration": 31,
    "start_time": "2023-08-03T12:31:18.738Z"
   },
   {
    "duration": 336,
    "start_time": "2023-08-03T12:31:18.771Z"
   },
   {
    "duration": 14,
    "start_time": "2023-08-03T12:31:19.108Z"
   },
   {
    "duration": 11,
    "start_time": "2023-08-03T12:31:19.124Z"
   },
   {
    "duration": 18,
    "start_time": "2023-08-03T12:31:19.136Z"
   },
   {
    "duration": 22,
    "start_time": "2023-08-03T12:31:19.160Z"
   },
   {
    "duration": 50,
    "start_time": "2023-08-03T12:31:19.184Z"
   },
   {
    "duration": 5,
    "start_time": "2023-08-03T12:31:19.236Z"
   },
   {
    "duration": 17,
    "start_time": "2023-08-03T12:31:19.243Z"
   },
   {
    "duration": 1039,
    "start_time": "2023-08-03T12:31:19.261Z"
   },
   {
    "duration": 25,
    "start_time": "2023-08-03T12:31:20.302Z"
   },
   {
    "duration": 21,
    "start_time": "2023-08-03T12:37:37.958Z"
   },
   {
    "duration": 9,
    "start_time": "2023-08-03T12:38:30.602Z"
   },
   {
    "duration": 49,
    "start_time": "2023-08-03T13:44:17.525Z"
   },
   {
    "duration": 1497,
    "start_time": "2023-08-03T13:44:24.145Z"
   },
   {
    "duration": 2980,
    "start_time": "2023-08-03T13:44:25.644Z"
   },
   {
    "duration": 21,
    "start_time": "2023-08-03T13:44:28.626Z"
   },
   {
    "duration": 35,
    "start_time": "2023-08-03T13:44:28.650Z"
   },
   {
    "duration": 22,
    "start_time": "2023-08-03T13:44:28.687Z"
   },
   {
    "duration": 24,
    "start_time": "2023-08-03T13:44:28.710Z"
   },
   {
    "duration": 12,
    "start_time": "2023-08-03T13:44:28.737Z"
   },
   {
    "duration": 73,
    "start_time": "2023-08-03T13:44:28.752Z"
   },
   {
    "duration": 13,
    "start_time": "2023-08-03T13:44:28.827Z"
   },
   {
    "duration": 29,
    "start_time": "2023-08-03T13:44:28.844Z"
   },
   {
    "duration": 133,
    "start_time": "2023-08-03T13:44:28.876Z"
   },
   {
    "duration": 11,
    "start_time": "2023-08-03T13:44:29.011Z"
   },
   {
    "duration": 86,
    "start_time": "2023-08-03T13:44:29.024Z"
   },
   {
    "duration": 24,
    "start_time": "2023-08-03T13:44:29.113Z"
   },
   {
    "duration": 62,
    "start_time": "2023-08-03T13:44:29.139Z"
   },
   {
    "duration": 14,
    "start_time": "2023-08-03T13:44:29.204Z"
   },
   {
    "duration": 21,
    "start_time": "2023-08-03T13:44:29.220Z"
   },
   {
    "duration": 260,
    "start_time": "2023-08-03T13:44:29.243Z"
   },
   {
    "duration": 9,
    "start_time": "2023-08-03T13:44:29.505Z"
   },
   {
    "duration": 68,
    "start_time": "2023-08-03T13:44:29.516Z"
   },
   {
    "duration": 19,
    "start_time": "2023-08-03T13:44:29.586Z"
   },
   {
    "duration": 15,
    "start_time": "2023-08-03T13:44:29.606Z"
   },
   {
    "duration": 41,
    "start_time": "2023-08-03T13:44:29.623Z"
   },
   {
    "duration": 25,
    "start_time": "2023-08-03T13:44:29.665Z"
   },
   {
    "duration": 89,
    "start_time": "2023-08-03T13:44:29.691Z"
   },
   {
    "duration": 100,
    "start_time": "2023-08-03T13:44:29.781Z"
   },
   {
    "duration": 75,
    "start_time": "2023-08-03T13:44:29.882Z"
   },
   {
    "duration": 5,
    "start_time": "2023-08-03T13:44:29.963Z"
   },
   {
    "duration": 33,
    "start_time": "2023-08-03T13:44:29.969Z"
   },
   {
    "duration": 57,
    "start_time": "2023-08-03T13:44:30.004Z"
   },
   {
    "duration": 44,
    "start_time": "2023-08-03T13:44:30.063Z"
   },
   {
    "duration": 161,
    "start_time": "2023-08-03T13:44:30.109Z"
   },
   {
    "duration": 8,
    "start_time": "2023-08-03T13:44:30.271Z"
   },
   {
    "duration": 79,
    "start_time": "2023-08-03T13:44:30.280Z"
   },
   {
    "duration": 38,
    "start_time": "2023-08-03T13:44:30.360Z"
   },
   {
    "duration": 61,
    "start_time": "2023-08-03T13:44:30.400Z"
   },
   {
    "duration": 29,
    "start_time": "2023-08-03T13:44:30.463Z"
   },
   {
    "duration": 66,
    "start_time": "2023-08-03T13:44:30.494Z"
   },
   {
    "duration": 23,
    "start_time": "2023-08-03T13:44:30.562Z"
   },
   {
    "duration": 96,
    "start_time": "2023-08-03T13:44:30.587Z"
   },
   {
    "duration": 76,
    "start_time": "2023-08-03T13:44:30.685Z"
   },
   {
    "duration": 14,
    "start_time": "2023-08-03T13:44:30.763Z"
   },
   {
    "duration": 82,
    "start_time": "2023-08-03T13:44:30.780Z"
   },
   {
    "duration": 99,
    "start_time": "2023-08-03T13:44:30.864Z"
   },
   {
    "duration": 91,
    "start_time": "2023-08-03T13:44:30.965Z"
   },
   {
    "duration": 51,
    "start_time": "2023-08-03T13:44:31.059Z"
   },
   {
    "duration": 117,
    "start_time": "2023-08-03T13:44:31.112Z"
   },
   {
    "duration": 81,
    "start_time": "2023-08-03T13:44:31.231Z"
   },
   {
    "duration": 72,
    "start_time": "2023-08-03T13:44:31.314Z"
   },
   {
    "duration": 5,
    "start_time": "2023-08-03T13:44:31.388Z"
   },
   {
    "duration": 169,
    "start_time": "2023-08-03T13:44:31.394Z"
   },
   {
    "duration": 13,
    "start_time": "2023-08-03T13:44:31.565Z"
   },
   {
    "duration": 17,
    "start_time": "2023-08-03T13:44:31.580Z"
   },
   {
    "duration": 55,
    "start_time": "2023-08-03T13:44:31.599Z"
   },
   {
    "duration": 52,
    "start_time": "2023-08-03T13:44:31.656Z"
   },
   {
    "duration": 35,
    "start_time": "2023-08-03T13:44:31.710Z"
   },
   {
    "duration": 44,
    "start_time": "2023-08-03T13:44:31.747Z"
   },
   {
    "duration": 41,
    "start_time": "2023-08-03T13:44:31.792Z"
   },
   {
    "duration": 63,
    "start_time": "2023-08-03T13:44:31.835Z"
   },
   {
    "duration": 39,
    "start_time": "2023-08-03T13:44:31.900Z"
   },
   {
    "duration": 293,
    "start_time": "2023-08-03T13:44:31.941Z"
   },
   {
    "duration": 7,
    "start_time": "2023-08-03T13:44:32.236Z"
   },
   {
    "duration": 32,
    "start_time": "2023-08-03T13:44:32.256Z"
   },
   {
    "duration": 18,
    "start_time": "2023-08-03T13:44:32.290Z"
   },
   {
    "duration": 259,
    "start_time": "2023-08-03T13:44:32.310Z"
   },
   {
    "duration": 20,
    "start_time": "2023-08-03T13:44:32.570Z"
   },
   {
    "duration": 222,
    "start_time": "2023-08-03T13:44:32.592Z"
   },
   {
    "duration": 23,
    "start_time": "2023-08-03T13:44:32.815Z"
   },
   {
    "duration": 192,
    "start_time": "2023-08-03T13:44:32.840Z"
   },
   {
    "duration": 29,
    "start_time": "2023-08-03T13:44:33.034Z"
   },
   {
    "duration": 202,
    "start_time": "2023-08-03T13:44:33.065Z"
   },
   {
    "duration": 225,
    "start_time": "2023-08-03T13:44:33.269Z"
   },
   {
    "duration": 13,
    "start_time": "2023-08-03T13:44:33.496Z"
   },
   {
    "duration": 15,
    "start_time": "2023-08-03T13:44:33.510Z"
   },
   {
    "duration": 44,
    "start_time": "2023-08-03T13:44:33.527Z"
   },
   {
    "duration": 14,
    "start_time": "2023-08-03T13:44:33.573Z"
   },
   {
    "duration": 17,
    "start_time": "2023-08-03T13:44:33.589Z"
   },
   {
    "duration": 354,
    "start_time": "2023-08-03T13:44:33.608Z"
   },
   {
    "duration": 7,
    "start_time": "2023-08-03T13:44:33.964Z"
   },
   {
    "duration": 17,
    "start_time": "2023-08-03T13:44:33.973Z"
   },
   {
    "duration": 17,
    "start_time": "2023-08-03T13:44:33.992Z"
   },
   {
    "duration": 11,
    "start_time": "2023-08-03T13:44:34.015Z"
   },
   {
    "duration": 52,
    "start_time": "2023-08-03T13:44:34.028Z"
   },
   {
    "duration": 5,
    "start_time": "2023-08-03T13:44:34.082Z"
   },
   {
    "duration": 13,
    "start_time": "2023-08-03T13:44:34.089Z"
   },
   {
    "duration": 177,
    "start_time": "2023-08-03T13:44:34.104Z"
   },
   {
    "duration": 10,
    "start_time": "2023-08-03T13:44:34.282Z"
   },
   {
    "duration": 194,
    "start_time": "2023-08-03T13:47:23.184Z"
   },
   {
    "duration": 4,
    "start_time": "2023-08-03T13:47:34.297Z"
   },
   {
    "duration": 692,
    "start_time": "2023-08-03T13:47:34.303Z"
   },
   {
    "duration": 10,
    "start_time": "2023-08-03T13:47:34.997Z"
   },
   {
    "duration": 26,
    "start_time": "2023-08-03T13:47:35.008Z"
   },
   {
    "duration": 26,
    "start_time": "2023-08-03T13:47:35.036Z"
   },
   {
    "duration": 30,
    "start_time": "2023-08-03T13:47:35.063Z"
   },
   {
    "duration": 10,
    "start_time": "2023-08-03T13:47:35.094Z"
   },
   {
    "duration": 85,
    "start_time": "2023-08-03T13:47:35.106Z"
   },
   {
    "duration": 7,
    "start_time": "2023-08-03T13:47:35.193Z"
   },
   {
    "duration": 38,
    "start_time": "2023-08-03T13:47:35.202Z"
   },
   {
    "duration": 155,
    "start_time": "2023-08-03T13:47:35.243Z"
   },
   {
    "duration": 8,
    "start_time": "2023-08-03T13:47:35.400Z"
   },
   {
    "duration": 60,
    "start_time": "2023-08-03T13:47:35.410Z"
   },
   {
    "duration": 15,
    "start_time": "2023-08-03T13:47:35.472Z"
   },
   {
    "duration": 37,
    "start_time": "2023-08-03T13:47:35.489Z"
   },
   {
    "duration": 29,
    "start_time": "2023-08-03T13:47:35.529Z"
   },
   {
    "duration": 10,
    "start_time": "2023-08-03T13:47:35.560Z"
   },
   {
    "duration": 231,
    "start_time": "2023-08-03T13:47:35.572Z"
   },
   {
    "duration": 8,
    "start_time": "2023-08-03T13:47:35.805Z"
   },
   {
    "duration": 47,
    "start_time": "2023-08-03T13:47:35.815Z"
   },
   {
    "duration": 8,
    "start_time": "2023-08-03T13:47:35.864Z"
   },
   {
    "duration": 18,
    "start_time": "2023-08-03T13:47:35.874Z"
   },
   {
    "duration": 15,
    "start_time": "2023-08-03T13:47:35.894Z"
   },
   {
    "duration": 14,
    "start_time": "2023-08-03T13:47:35.911Z"
   },
   {
    "duration": 71,
    "start_time": "2023-08-03T13:47:35.926Z"
   },
   {
    "duration": 57,
    "start_time": "2023-08-03T13:47:35.999Z"
   },
   {
    "duration": 17,
    "start_time": "2023-08-03T13:47:36.059Z"
   },
   {
    "duration": 6,
    "start_time": "2023-08-03T13:47:36.078Z"
   },
   {
    "duration": 19,
    "start_time": "2023-08-03T13:47:36.088Z"
   },
   {
    "duration": 36,
    "start_time": "2023-08-03T13:47:36.109Z"
   },
   {
    "duration": 37,
    "start_time": "2023-08-03T13:47:36.147Z"
   },
   {
    "duration": 45,
    "start_time": "2023-08-03T13:47:36.186Z"
   },
   {
    "duration": 7,
    "start_time": "2023-08-03T13:47:36.232Z"
   },
   {
    "duration": 14,
    "start_time": "2023-08-03T13:47:36.240Z"
   },
   {
    "duration": 13,
    "start_time": "2023-08-03T13:47:36.256Z"
   },
   {
    "duration": 10,
    "start_time": "2023-08-03T13:47:36.271Z"
   },
   {
    "duration": 13,
    "start_time": "2023-08-03T13:47:36.283Z"
   },
   {
    "duration": 20,
    "start_time": "2023-08-03T13:47:36.298Z"
   },
   {
    "duration": 13,
    "start_time": "2023-08-03T13:47:36.320Z"
   },
   {
    "duration": 22,
    "start_time": "2023-08-03T13:47:36.335Z"
   },
   {
    "duration": 17,
    "start_time": "2023-08-03T13:47:36.359Z"
   },
   {
    "duration": 22,
    "start_time": "2023-08-03T13:47:36.379Z"
   },
   {
    "duration": 14,
    "start_time": "2023-08-03T13:47:36.403Z"
   },
   {
    "duration": 13,
    "start_time": "2023-08-03T13:47:36.418Z"
   },
   {
    "duration": 31,
    "start_time": "2023-08-03T13:47:36.432Z"
   },
   {
    "duration": 15,
    "start_time": "2023-08-03T13:47:36.465Z"
   },
   {
    "duration": 47,
    "start_time": "2023-08-03T13:47:36.482Z"
   },
   {
    "duration": 46,
    "start_time": "2023-08-03T13:47:36.531Z"
   },
   {
    "duration": 66,
    "start_time": "2023-08-03T13:47:36.579Z"
   },
   {
    "duration": 7,
    "start_time": "2023-08-03T13:47:36.655Z"
   },
   {
    "duration": 165,
    "start_time": "2023-08-03T13:47:36.663Z"
   },
   {
    "duration": 12,
    "start_time": "2023-08-03T13:47:36.830Z"
   },
   {
    "duration": 13,
    "start_time": "2023-08-03T13:47:36.844Z"
   },
   {
    "duration": 12,
    "start_time": "2023-08-03T13:47:36.859Z"
   },
   {
    "duration": 13,
    "start_time": "2023-08-03T13:47:36.873Z"
   },
   {
    "duration": 16,
    "start_time": "2023-08-03T13:47:36.888Z"
   },
   {
    "duration": 16,
    "start_time": "2023-08-03T13:47:36.905Z"
   },
   {
    "duration": 39,
    "start_time": "2023-08-03T13:47:36.923Z"
   },
   {
    "duration": 15,
    "start_time": "2023-08-03T13:47:36.964Z"
   },
   {
    "duration": 13,
    "start_time": "2023-08-03T13:47:36.981Z"
   },
   {
    "duration": 195,
    "start_time": "2023-08-03T13:47:36.996Z"
   },
   {
    "duration": 9,
    "start_time": "2023-08-03T13:47:37.193Z"
   },
   {
    "duration": 25,
    "start_time": "2023-08-03T13:47:37.204Z"
   },
   {
    "duration": 46,
    "start_time": "2023-08-03T13:47:37.231Z"
   },
   {
    "duration": 260,
    "start_time": "2023-08-03T13:47:37.278Z"
   },
   {
    "duration": 33,
    "start_time": "2023-08-03T13:47:37.539Z"
   },
   {
    "duration": 211,
    "start_time": "2023-08-03T13:47:37.573Z"
   },
   {
    "duration": 25,
    "start_time": "2023-08-03T13:47:37.786Z"
   },
   {
    "duration": 205,
    "start_time": "2023-08-03T13:47:37.813Z"
   },
   {
    "duration": 18,
    "start_time": "2023-08-03T13:47:38.020Z"
   },
   {
    "duration": 195,
    "start_time": "2023-08-03T13:47:38.056Z"
   },
   {
    "duration": 430,
    "start_time": "2023-08-03T13:47:38.253Z"
   },
   {
    "duration": 14,
    "start_time": "2023-08-03T13:47:38.685Z"
   },
   {
    "duration": 71,
    "start_time": "2023-08-03T13:47:38.700Z"
   },
   {
    "duration": 25,
    "start_time": "2023-08-03T13:47:38.773Z"
   },
   {
    "duration": 74,
    "start_time": "2023-08-03T13:47:38.799Z"
   },
   {
    "duration": 20,
    "start_time": "2023-08-03T13:47:38.874Z"
   },
   {
    "duration": 663,
    "start_time": "2023-08-03T13:47:38.898Z"
   },
   {
    "duration": 9,
    "start_time": "2023-08-03T13:47:39.563Z"
   },
   {
    "duration": 8,
    "start_time": "2023-08-03T13:47:39.574Z"
   },
   {
    "duration": 76,
    "start_time": "2023-08-03T13:47:39.583Z"
   },
   {
    "duration": 19,
    "start_time": "2023-08-03T13:47:39.661Z"
   },
   {
    "duration": 87,
    "start_time": "2023-08-03T13:47:39.687Z"
   },
   {
    "duration": 6,
    "start_time": "2023-08-03T13:47:39.776Z"
   },
   {
    "duration": 16,
    "start_time": "2023-08-03T13:47:39.784Z"
   },
   {
    "duration": 66,
    "start_time": "2023-08-03T13:47:39.802Z"
   },
   {
    "duration": 12,
    "start_time": "2023-08-03T13:47:39.870Z"
   },
   {
    "duration": 196,
    "start_time": "2023-08-03T13:52:39.324Z"
   },
   {
    "duration": 1162,
    "start_time": "2023-08-03T13:52:55.806Z"
   },
   {
    "duration": 698,
    "start_time": "2023-08-03T13:52:56.971Z"
   },
   {
    "duration": 17,
    "start_time": "2023-08-03T13:52:57.670Z"
   },
   {
    "duration": 17,
    "start_time": "2023-08-03T13:52:57.690Z"
   },
   {
    "duration": 13,
    "start_time": "2023-08-03T13:52:57.710Z"
   },
   {
    "duration": 35,
    "start_time": "2023-08-03T13:52:57.725Z"
   },
   {
    "duration": 10,
    "start_time": "2023-08-03T13:52:57.762Z"
   },
   {
    "duration": 59,
    "start_time": "2023-08-03T13:52:57.774Z"
   },
   {
    "duration": 25,
    "start_time": "2023-08-03T13:52:57.835Z"
   },
   {
    "duration": 13,
    "start_time": "2023-08-03T13:52:57.863Z"
   },
   {
    "duration": 127,
    "start_time": "2023-08-03T13:52:57.878Z"
   },
   {
    "duration": 9,
    "start_time": "2023-08-03T13:52:58.006Z"
   },
   {
    "duration": 57,
    "start_time": "2023-08-03T13:52:58.016Z"
   },
   {
    "duration": 16,
    "start_time": "2023-08-03T13:52:58.075Z"
   },
   {
    "duration": 43,
    "start_time": "2023-08-03T13:52:58.093Z"
   },
   {
    "duration": 27,
    "start_time": "2023-08-03T13:52:58.138Z"
   },
   {
    "duration": 13,
    "start_time": "2023-08-03T13:52:58.167Z"
   },
   {
    "duration": 224,
    "start_time": "2023-08-03T13:52:58.181Z"
   },
   {
    "duration": 10,
    "start_time": "2023-08-03T13:52:58.408Z"
   },
   {
    "duration": 48,
    "start_time": "2023-08-03T13:52:58.420Z"
   },
   {
    "duration": 9,
    "start_time": "2023-08-03T13:52:58.471Z"
   },
   {
    "duration": 11,
    "start_time": "2023-08-03T13:52:58.482Z"
   },
   {
    "duration": 18,
    "start_time": "2023-08-03T13:52:58.495Z"
   },
   {
    "duration": 10,
    "start_time": "2023-08-03T13:52:58.514Z"
   },
   {
    "duration": 66,
    "start_time": "2023-08-03T13:52:58.526Z"
   },
   {
    "duration": 46,
    "start_time": "2023-08-03T13:52:58.594Z"
   },
   {
    "duration": 21,
    "start_time": "2023-08-03T13:52:58.657Z"
   },
   {
    "duration": 5,
    "start_time": "2023-08-03T13:52:58.683Z"
   },
   {
    "duration": 10,
    "start_time": "2023-08-03T13:52:58.689Z"
   },
   {
    "duration": 6,
    "start_time": "2023-08-03T13:52:58.701Z"
   },
   {
    "duration": 8,
    "start_time": "2023-08-03T13:52:58.709Z"
   },
   {
    "duration": 70,
    "start_time": "2023-08-03T13:52:58.719Z"
   },
   {
    "duration": 8,
    "start_time": "2023-08-03T13:52:58.791Z"
   },
   {
    "duration": 8,
    "start_time": "2023-08-03T13:52:58.800Z"
   },
   {
    "duration": 10,
    "start_time": "2023-08-03T13:52:58.810Z"
   },
   {
    "duration": 39,
    "start_time": "2023-08-03T13:52:58.822Z"
   },
   {
    "duration": 8,
    "start_time": "2023-08-03T13:52:58.864Z"
   },
   {
    "duration": 17,
    "start_time": "2023-08-03T13:52:58.874Z"
   },
   {
    "duration": 16,
    "start_time": "2023-08-03T13:52:58.894Z"
   },
   {
    "duration": 5,
    "start_time": "2023-08-03T13:52:58.912Z"
   },
   {
    "duration": 51,
    "start_time": "2023-08-03T13:52:58.920Z"
   },
   {
    "duration": 17,
    "start_time": "2023-08-03T13:52:58.974Z"
   },
   {
    "duration": 10,
    "start_time": "2023-08-03T13:52:58.993Z"
   },
   {
    "duration": 24,
    "start_time": "2023-08-03T13:52:59.005Z"
   },
   {
    "duration": 53,
    "start_time": "2023-08-03T13:52:59.031Z"
   },
   {
    "duration": 13,
    "start_time": "2023-08-03T13:52:59.087Z"
   },
   {
    "duration": 52,
    "start_time": "2023-08-03T13:52:59.102Z"
   },
   {
    "duration": 39,
    "start_time": "2023-08-03T13:52:59.156Z"
   },
   {
    "duration": 91,
    "start_time": "2023-08-03T13:52:59.197Z"
   },
   {
    "duration": 6,
    "start_time": "2023-08-03T13:52:59.290Z"
   },
   {
    "duration": 190,
    "start_time": "2023-08-03T13:52:59.298Z"
   },
   {
    "duration": 13,
    "start_time": "2023-08-03T13:52:59.490Z"
   },
   {
    "duration": 22,
    "start_time": "2023-08-03T13:52:59.504Z"
   },
   {
    "duration": 13,
    "start_time": "2023-08-03T13:52:59.528Z"
   },
   {
    "duration": 18,
    "start_time": "2023-08-03T13:52:59.543Z"
   },
   {
    "duration": 37,
    "start_time": "2023-08-03T13:52:59.563Z"
   },
   {
    "duration": 13,
    "start_time": "2023-08-03T13:52:59.602Z"
   },
   {
    "duration": 24,
    "start_time": "2023-08-03T13:52:59.617Z"
   },
   {
    "duration": 19,
    "start_time": "2023-08-03T13:52:59.643Z"
   },
   {
    "duration": 18,
    "start_time": "2023-08-03T13:52:59.663Z"
   },
   {
    "duration": 266,
    "start_time": "2023-08-03T13:52:59.682Z"
   },
   {
    "duration": 14,
    "start_time": "2023-08-03T13:52:59.950Z"
   },
   {
    "duration": 7,
    "start_time": "2023-08-03T13:52:59.966Z"
   },
   {
    "duration": 10,
    "start_time": "2023-08-03T13:52:59.974Z"
   },
   {
    "duration": 276,
    "start_time": "2023-08-03T13:52:59.986Z"
   },
   {
    "duration": 24,
    "start_time": "2023-08-03T13:53:00.265Z"
   },
   {
    "duration": 218,
    "start_time": "2023-08-03T13:53:00.291Z"
   },
   {
    "duration": 27,
    "start_time": "2023-08-03T13:53:00.512Z"
   },
   {
    "duration": 202,
    "start_time": "2023-08-03T13:53:00.555Z"
   },
   {
    "duration": 17,
    "start_time": "2023-08-03T13:53:00.759Z"
   },
   {
    "duration": 222,
    "start_time": "2023-08-03T13:53:00.779Z"
   },
   {
    "duration": 297,
    "start_time": "2023-08-03T13:53:01.003Z"
   },
   {
    "duration": 67,
    "start_time": "2023-08-03T13:53:01.302Z"
   },
   {
    "duration": 24,
    "start_time": "2023-08-03T13:53:01.371Z"
   },
   {
    "duration": 85,
    "start_time": "2023-08-03T13:53:01.396Z"
   },
   {
    "duration": 73,
    "start_time": "2023-08-03T13:53:01.484Z"
   },
   {
    "duration": 34,
    "start_time": "2023-08-03T13:53:01.559Z"
   },
   {
    "duration": 798,
    "start_time": "2023-08-03T13:53:01.594Z"
   },
   {
    "duration": 65,
    "start_time": "2023-08-03T13:53:02.395Z"
   },
   {
    "duration": 54,
    "start_time": "2023-08-03T13:53:02.462Z"
   },
   {
    "duration": 59,
    "start_time": "2023-08-03T13:53:02.519Z"
   },
   {
    "duration": 86,
    "start_time": "2023-08-03T13:53:02.585Z"
   },
   {
    "duration": 104,
    "start_time": "2023-08-03T13:53:02.673Z"
   },
   {
    "duration": 8,
    "start_time": "2023-08-03T13:53:02.779Z"
   },
   {
    "duration": 74,
    "start_time": "2023-08-03T13:53:02.789Z"
   },
   {
    "duration": 261,
    "start_time": "2023-08-03T13:53:02.865Z"
   },
   {
    "duration": 14,
    "start_time": "2023-08-03T13:53:03.129Z"
   },
   {
    "duration": 1518,
    "start_time": "2023-08-04T08:45:29.419Z"
   },
   {
    "duration": 2245,
    "start_time": "2023-08-04T08:45:30.940Z"
   },
   {
    "duration": 19,
    "start_time": "2023-08-04T08:45:33.187Z"
   },
   {
    "duration": 14,
    "start_time": "2023-08-04T08:45:33.209Z"
   },
   {
    "duration": 22,
    "start_time": "2023-08-04T08:45:33.225Z"
   },
   {
    "duration": 43,
    "start_time": "2023-08-04T08:45:33.250Z"
   },
   {
    "duration": 11,
    "start_time": "2023-08-04T08:45:33.294Z"
   },
   {
    "duration": 90,
    "start_time": "2023-08-04T08:45:33.307Z"
   },
   {
    "duration": 8,
    "start_time": "2023-08-04T08:45:33.399Z"
   },
   {
    "duration": 12,
    "start_time": "2023-08-04T08:45:33.409Z"
   },
   {
    "duration": 148,
    "start_time": "2023-08-04T08:45:33.423Z"
   },
   {
    "duration": 13,
    "start_time": "2023-08-04T08:45:33.574Z"
   },
   {
    "duration": 53,
    "start_time": "2023-08-04T08:45:33.589Z"
   },
   {
    "duration": 42,
    "start_time": "2023-08-04T08:45:33.644Z"
   },
   {
    "duration": 38,
    "start_time": "2023-08-04T08:45:33.688Z"
   },
   {
    "duration": 12,
    "start_time": "2023-08-04T08:45:33.729Z"
   },
   {
    "duration": 33,
    "start_time": "2023-08-04T08:45:33.743Z"
   },
   {
    "duration": 260,
    "start_time": "2023-08-04T08:45:33.780Z"
   },
   {
    "duration": 18,
    "start_time": "2023-08-04T08:45:34.043Z"
   },
   {
    "duration": 46,
    "start_time": "2023-08-04T08:45:34.066Z"
   },
   {
    "duration": 10,
    "start_time": "2023-08-04T08:45:34.114Z"
   },
   {
    "duration": 24,
    "start_time": "2023-08-04T08:45:34.126Z"
   },
   {
    "duration": 22,
    "start_time": "2023-08-04T08:45:34.160Z"
   },
   {
    "duration": 16,
    "start_time": "2023-08-04T08:45:34.184Z"
   },
   {
    "duration": 64,
    "start_time": "2023-08-04T08:45:34.203Z"
   },
   {
    "duration": 52,
    "start_time": "2023-08-04T08:45:34.270Z"
   },
   {
    "duration": 48,
    "start_time": "2023-08-04T08:45:34.326Z"
   },
   {
    "duration": 6,
    "start_time": "2023-08-04T08:45:34.379Z"
   },
   {
    "duration": 54,
    "start_time": "2023-08-04T08:45:36.171Z"
   },
   {
    "duration": 6,
    "start_time": "2023-08-04T08:46:19.008Z"
   },
   {
    "duration": 7,
    "start_time": "2023-08-04T08:54:35.727Z"
   },
   {
    "duration": 3,
    "start_time": "2023-08-04T09:00:14.701Z"
   },
   {
    "duration": 685,
    "start_time": "2023-08-04T09:00:14.706Z"
   },
   {
    "duration": 9,
    "start_time": "2023-08-04T09:00:15.393Z"
   },
   {
    "duration": 11,
    "start_time": "2023-08-04T09:00:15.404Z"
   },
   {
    "duration": 33,
    "start_time": "2023-08-04T09:00:15.417Z"
   },
   {
    "duration": 43,
    "start_time": "2023-08-04T09:00:15.451Z"
   },
   {
    "duration": 11,
    "start_time": "2023-08-04T09:00:15.496Z"
   },
   {
    "duration": 75,
    "start_time": "2023-08-04T09:00:15.509Z"
   },
   {
    "duration": 8,
    "start_time": "2023-08-04T09:00:15.586Z"
   },
   {
    "duration": 15,
    "start_time": "2023-08-04T09:00:15.596Z"
   },
   {
    "duration": 118,
    "start_time": "2023-08-04T09:00:15.614Z"
   },
   {
    "duration": 7,
    "start_time": "2023-08-04T09:00:15.733Z"
   },
   {
    "duration": 61,
    "start_time": "2023-08-04T09:00:15.742Z"
   },
   {
    "duration": 15,
    "start_time": "2023-08-04T09:00:15.805Z"
   },
   {
    "duration": 63,
    "start_time": "2023-08-04T09:00:15.822Z"
   },
   {
    "duration": 9,
    "start_time": "2023-08-04T09:00:15.887Z"
   },
   {
    "duration": 16,
    "start_time": "2023-08-04T09:00:15.897Z"
   },
   {
    "duration": 218,
    "start_time": "2023-08-04T09:00:15.915Z"
   },
   {
    "duration": 8,
    "start_time": "2023-08-04T09:00:16.134Z"
   },
   {
    "duration": 60,
    "start_time": "2023-08-04T09:00:16.144Z"
   },
   {
    "duration": 9,
    "start_time": "2023-08-04T09:00:16.206Z"
   },
   {
    "duration": 21,
    "start_time": "2023-08-04T09:00:16.218Z"
   },
   {
    "duration": 48,
    "start_time": "2023-08-04T09:00:16.241Z"
   },
   {
    "duration": 9,
    "start_time": "2023-08-04T09:00:16.291Z"
   },
   {
    "duration": 38,
    "start_time": "2023-08-04T09:00:16.302Z"
   },
   {
    "duration": 58,
    "start_time": "2023-08-04T09:00:16.342Z"
   },
   {
    "duration": 17,
    "start_time": "2023-08-04T09:00:16.401Z"
   },
   {
    "duration": 5,
    "start_time": "2023-08-04T09:00:16.420Z"
   },
   {
    "duration": 43,
    "start_time": "2023-08-04T09:00:18.298Z"
   },
   {
    "duration": 5,
    "start_time": "2023-08-04T09:00:21.450Z"
   },
   {
    "duration": 1478,
    "start_time": "2023-08-04T09:02:00.500Z"
   },
   {
    "duration": 834,
    "start_time": "2023-08-04T09:02:01.986Z"
   },
   {
    "duration": 15,
    "start_time": "2023-08-04T09:02:02.822Z"
   },
   {
    "duration": 62,
    "start_time": "2023-08-04T09:02:02.839Z"
   },
   {
    "duration": 30,
    "start_time": "2023-08-04T09:02:02.903Z"
   },
   {
    "duration": 65,
    "start_time": "2023-08-04T09:02:02.935Z"
   },
   {
    "duration": 28,
    "start_time": "2023-08-04T09:02:03.002Z"
   },
   {
    "duration": 102,
    "start_time": "2023-08-04T09:02:03.032Z"
   },
   {
    "duration": 8,
    "start_time": "2023-08-04T09:02:03.138Z"
   },
   {
    "duration": 43,
    "start_time": "2023-08-04T09:02:03.159Z"
   },
   {
    "duration": 151,
    "start_time": "2023-08-04T09:02:03.204Z"
   },
   {
    "duration": 27,
    "start_time": "2023-08-04T09:02:03.357Z"
   },
   {
    "duration": 87,
    "start_time": "2023-08-04T09:02:03.392Z"
   },
   {
    "duration": 20,
    "start_time": "2023-08-04T09:02:03.484Z"
   },
   {
    "duration": 37,
    "start_time": "2023-08-04T09:02:03.506Z"
   },
   {
    "duration": 9,
    "start_time": "2023-08-04T09:02:03.545Z"
   },
   {
    "duration": 33,
    "start_time": "2023-08-04T09:02:03.555Z"
   },
   {
    "duration": 243,
    "start_time": "2023-08-04T09:02:03.589Z"
   },
   {
    "duration": 8,
    "start_time": "2023-08-04T09:02:03.833Z"
   },
   {
    "duration": 67,
    "start_time": "2023-08-04T09:02:03.843Z"
   },
   {
    "duration": 9,
    "start_time": "2023-08-04T09:02:03.912Z"
   },
   {
    "duration": 17,
    "start_time": "2023-08-04T09:02:03.923Z"
   },
   {
    "duration": 37,
    "start_time": "2023-08-04T09:02:03.942Z"
   },
   {
    "duration": 16,
    "start_time": "2023-08-04T09:02:03.982Z"
   },
   {
    "duration": 81,
    "start_time": "2023-08-04T09:02:04.000Z"
   },
   {
    "duration": 83,
    "start_time": "2023-08-04T09:02:04.087Z"
   },
   {
    "duration": 33,
    "start_time": "2023-08-04T09:02:04.172Z"
   },
   {
    "duration": 6,
    "start_time": "2023-08-04T09:02:04.212Z"
   },
   {
    "duration": 96,
    "start_time": "2023-08-04T09:02:04.220Z"
   },
   {
    "duration": 6,
    "start_time": "2023-08-04T09:02:04.318Z"
   },
   {
    "duration": 18,
    "start_time": "2023-08-04T09:02:04.325Z"
   },
   {
    "duration": 21,
    "start_time": "2023-08-04T09:02:04.345Z"
   },
   {
    "duration": 10,
    "start_time": "2023-08-04T09:02:04.368Z"
   },
   {
    "duration": 20,
    "start_time": "2023-08-04T09:02:04.379Z"
   },
   {
    "duration": 21,
    "start_time": "2023-08-04T09:02:04.400Z"
   },
   {
    "duration": 6,
    "start_time": "2023-08-04T09:02:04.423Z"
   },
   {
    "duration": 18,
    "start_time": "2023-08-04T09:02:04.431Z"
   },
   {
    "duration": 28,
    "start_time": "2023-08-04T09:02:04.451Z"
   },
   {
    "duration": 31,
    "start_time": "2023-08-04T09:02:04.482Z"
   },
   {
    "duration": 11,
    "start_time": "2023-08-04T09:02:04.515Z"
   },
   {
    "duration": 5,
    "start_time": "2023-08-04T09:02:04.528Z"
   },
   {
    "duration": 13,
    "start_time": "2023-08-04T09:02:04.534Z"
   },
   {
    "duration": 27,
    "start_time": "2023-08-04T09:02:04.548Z"
   },
   {
    "duration": 19,
    "start_time": "2023-08-04T09:02:04.580Z"
   },
   {
    "duration": 31,
    "start_time": "2023-08-04T09:02:04.602Z"
   },
   {
    "duration": 50,
    "start_time": "2023-08-04T09:02:04.634Z"
   },
   {
    "duration": 7,
    "start_time": "2023-08-04T09:02:04.693Z"
   },
   {
    "duration": 62,
    "start_time": "2023-08-04T09:02:04.702Z"
   },
   {
    "duration": 60,
    "start_time": "2023-08-04T09:02:04.766Z"
   },
   {
    "duration": 308,
    "start_time": "2023-08-04T09:02:04.828Z"
   },
   {
    "duration": 7,
    "start_time": "2023-08-04T09:02:05.137Z"
   },
   {
    "duration": 242,
    "start_time": "2023-08-04T09:02:05.146Z"
   },
   {
    "duration": 13,
    "start_time": "2023-08-04T09:02:05.391Z"
   },
   {
    "duration": 7,
    "start_time": "2023-08-04T09:02:05.406Z"
   },
   {
    "duration": 14,
    "start_time": "2023-08-04T09:02:05.415Z"
   },
   {
    "duration": 36,
    "start_time": "2023-08-04T09:02:05.430Z"
   },
   {
    "duration": 24,
    "start_time": "2023-08-04T09:02:05.469Z"
   },
   {
    "duration": 16,
    "start_time": "2023-08-04T09:02:05.494Z"
   },
   {
    "duration": 22,
    "start_time": "2023-08-04T09:02:05.511Z"
   },
   {
    "duration": 22,
    "start_time": "2023-08-04T09:02:05.535Z"
   },
   {
    "duration": 25,
    "start_time": "2023-08-04T09:02:05.561Z"
   },
   {
    "duration": 300,
    "start_time": "2023-08-04T09:02:05.593Z"
   },
   {
    "duration": 11,
    "start_time": "2023-08-04T09:02:05.895Z"
   },
   {
    "duration": 20,
    "start_time": "2023-08-04T09:02:05.909Z"
   },
   {
    "duration": 19,
    "start_time": "2023-08-04T09:02:05.932Z"
   },
   {
    "duration": 309,
    "start_time": "2023-08-04T09:02:05.959Z"
   },
   {
    "duration": 32,
    "start_time": "2023-08-04T09:02:06.271Z"
   },
   {
    "duration": 248,
    "start_time": "2023-08-04T09:02:06.306Z"
   },
   {
    "duration": 39,
    "start_time": "2023-08-04T09:02:06.558Z"
   },
   {
    "duration": 238,
    "start_time": "2023-08-04T09:02:06.599Z"
   },
   {
    "duration": 41,
    "start_time": "2023-08-04T09:02:06.839Z"
   },
   {
    "duration": 227,
    "start_time": "2023-08-04T09:02:06.883Z"
   },
   {
    "duration": 292,
    "start_time": "2023-08-04T09:02:07.112Z"
   },
   {
    "duration": 19,
    "start_time": "2023-08-04T09:02:07.406Z"
   },
   {
    "duration": 44,
    "start_time": "2023-08-04T09:02:07.428Z"
   },
   {
    "duration": 34,
    "start_time": "2023-08-04T09:02:07.478Z"
   },
   {
    "duration": 23,
    "start_time": "2023-08-04T09:02:07.514Z"
   },
   {
    "duration": 51,
    "start_time": "2023-08-04T09:02:07.539Z"
   },
   {
    "duration": 392,
    "start_time": "2023-08-04T09:02:07.592Z"
   },
   {
    "duration": 9,
    "start_time": "2023-08-04T09:02:07.990Z"
   },
   {
    "duration": 44,
    "start_time": "2023-08-04T09:02:08.000Z"
   },
   {
    "duration": 160,
    "start_time": "2023-08-04T09:02:08.049Z"
   },
   {
    "duration": 27,
    "start_time": "2023-08-04T09:02:08.210Z"
   },
   {
    "duration": 61,
    "start_time": "2023-08-04T09:02:08.238Z"
   },
   {
    "duration": 5,
    "start_time": "2023-08-04T09:02:08.301Z"
   },
   {
    "duration": 18,
    "start_time": "2023-08-04T09:02:08.308Z"
   },
   {
    "duration": 263,
    "start_time": "2023-08-04T09:02:08.327Z"
   },
   {
    "duration": 12,
    "start_time": "2023-08-04T09:02:08.593Z"
   },
   {
    "duration": 2744,
    "start_time": "2023-08-04T10:14:46.137Z"
   },
   {
    "duration": 2935,
    "start_time": "2023-08-04T10:15:20.097Z"
   },
   {
    "duration": 24,
    "start_time": "2023-08-04T10:17:46.701Z"
   },
   {
    "duration": 132,
    "start_time": "2023-08-04T10:19:00.782Z"
   },
   {
    "duration": 28,
    "start_time": "2023-08-04T10:19:24.513Z"
   },
   {
    "duration": 36,
    "start_time": "2023-08-04T10:19:57.163Z"
   },
   {
    "duration": 30,
    "start_time": "2023-08-04T10:20:04.190Z"
   },
   {
    "duration": 47,
    "start_time": "2023-08-04T10:22:55.858Z"
   },
   {
    "duration": 235,
    "start_time": "2023-08-04T10:24:01.808Z"
   },
   {
    "duration": 21,
    "start_time": "2023-08-04T10:25:56.638Z"
   },
   {
    "duration": 576,
    "start_time": "2023-08-04T10:27:18.455Z"
   },
   {
    "duration": 250,
    "start_time": "2023-08-04T10:39:04.399Z"
   },
   {
    "duration": 1446,
    "start_time": "2023-08-04T10:51:02.183Z"
   },
   {
    "duration": 721,
    "start_time": "2023-08-04T10:51:03.632Z"
   },
   {
    "duration": 30,
    "start_time": "2023-08-04T10:51:04.355Z"
   },
   {
    "duration": 11,
    "start_time": "2023-08-04T10:51:04.388Z"
   },
   {
    "duration": 12,
    "start_time": "2023-08-04T10:51:04.401Z"
   },
   {
    "duration": 18,
    "start_time": "2023-08-04T10:51:04.415Z"
   },
   {
    "duration": 44,
    "start_time": "2023-08-04T10:51:04.435Z"
   },
   {
    "duration": 58,
    "start_time": "2023-08-04T10:51:04.482Z"
   },
   {
    "duration": 18,
    "start_time": "2023-08-04T10:51:04.542Z"
   },
   {
    "duration": 19,
    "start_time": "2023-08-04T10:51:04.572Z"
   },
   {
    "duration": 129,
    "start_time": "2023-08-04T10:51:04.593Z"
   },
   {
    "duration": 9,
    "start_time": "2023-08-04T10:51:04.724Z"
   },
   {
    "duration": 78,
    "start_time": "2023-08-04T10:51:04.735Z"
   },
   {
    "duration": 14,
    "start_time": "2023-08-04T10:51:04.815Z"
   },
   {
    "duration": 72,
    "start_time": "2023-08-04T10:51:04.831Z"
   },
   {
    "duration": 10,
    "start_time": "2023-08-04T10:51:04.905Z"
   },
   {
    "duration": 14,
    "start_time": "2023-08-04T10:51:04.916Z"
   },
   {
    "duration": 250,
    "start_time": "2023-08-04T10:51:04.932Z"
   },
   {
    "duration": 7,
    "start_time": "2023-08-04T10:51:05.184Z"
   },
   {
    "duration": 33,
    "start_time": "2023-08-04T10:51:05.193Z"
   },
   {
    "duration": 21,
    "start_time": "2023-08-04T10:51:05.227Z"
   },
   {
    "duration": 25,
    "start_time": "2023-08-04T10:51:05.250Z"
   },
   {
    "duration": 15,
    "start_time": "2023-08-04T10:51:05.280Z"
   },
   {
    "duration": 23,
    "start_time": "2023-08-04T10:51:05.296Z"
   },
   {
    "duration": 56,
    "start_time": "2023-08-04T10:51:05.321Z"
   },
   {
    "duration": 47,
    "start_time": "2023-08-04T10:51:05.380Z"
   },
   {
    "duration": 30,
    "start_time": "2023-08-04T10:51:05.429Z"
   },
   {
    "duration": 9,
    "start_time": "2023-08-04T10:51:05.466Z"
   },
   {
    "duration": 50,
    "start_time": "2023-08-04T10:51:05.479Z"
   },
   {
    "duration": 4,
    "start_time": "2023-08-04T10:51:05.532Z"
   },
   {
    "duration": 24,
    "start_time": "2023-08-04T10:51:05.538Z"
   },
   {
    "duration": 21,
    "start_time": "2023-08-04T10:51:05.564Z"
   },
   {
    "duration": 12,
    "start_time": "2023-08-04T10:51:05.587Z"
   },
   {
    "duration": 25,
    "start_time": "2023-08-04T10:51:05.601Z"
   },
   {
    "duration": 5,
    "start_time": "2023-08-04T10:51:05.628Z"
   },
   {
    "duration": 10,
    "start_time": "2023-08-04T10:51:05.635Z"
   },
   {
    "duration": 7,
    "start_time": "2023-08-04T10:51:05.647Z"
   },
   {
    "duration": 21,
    "start_time": "2023-08-04T10:51:05.659Z"
   },
   {
    "duration": 35,
    "start_time": "2023-08-04T10:51:05.681Z"
   },
   {
    "duration": 11,
    "start_time": "2023-08-04T10:51:05.717Z"
   },
   {
    "duration": 11,
    "start_time": "2023-08-04T10:51:05.730Z"
   },
   {
    "duration": 15,
    "start_time": "2023-08-04T10:51:05.743Z"
   },
   {
    "duration": 25,
    "start_time": "2023-08-04T10:51:05.761Z"
   },
   {
    "duration": 12,
    "start_time": "2023-08-04T10:51:05.789Z"
   },
   {
    "duration": 18,
    "start_time": "2023-08-04T10:51:05.803Z"
   },
   {
    "duration": 23,
    "start_time": "2023-08-04T10:51:05.823Z"
   },
   {
    "duration": 15,
    "start_time": "2023-08-04T10:51:05.861Z"
   },
   {
    "duration": 44,
    "start_time": "2023-08-04T10:51:05.879Z"
   },
   {
    "duration": 60,
    "start_time": "2023-08-04T10:51:05.925Z"
   },
   {
    "duration": 89,
    "start_time": "2023-08-04T10:51:05.986Z"
   },
   {
    "duration": 6,
    "start_time": "2023-08-04T10:51:06.083Z"
   },
   {
    "duration": 243,
    "start_time": "2023-08-04T10:51:06.091Z"
   },
   {
    "duration": 11,
    "start_time": "2023-08-04T10:51:06.336Z"
   },
   {
    "duration": 8,
    "start_time": "2023-08-04T10:51:06.356Z"
   },
   {
    "duration": 25,
    "start_time": "2023-08-04T10:51:06.366Z"
   },
   {
    "duration": 20,
    "start_time": "2023-08-04T10:51:06.393Z"
   },
   {
    "duration": 25,
    "start_time": "2023-08-04T10:51:06.415Z"
   },
   {
    "duration": 13,
    "start_time": "2023-08-04T10:51:06.441Z"
   },
   {
    "duration": 23,
    "start_time": "2023-08-04T10:51:06.459Z"
   },
   {
    "duration": 12,
    "start_time": "2023-08-04T10:51:06.485Z"
   },
   {
    "duration": 7,
    "start_time": "2023-08-04T10:51:06.499Z"
   },
   {
    "duration": 298,
    "start_time": "2023-08-04T10:51:06.508Z"
   },
   {
    "duration": 9,
    "start_time": "2023-08-04T10:51:06.808Z"
   },
   {
    "duration": 10,
    "start_time": "2023-08-04T10:51:06.818Z"
   },
   {
    "duration": 38,
    "start_time": "2023-08-04T10:51:06.830Z"
   },
   {
    "duration": 277,
    "start_time": "2023-08-04T10:51:06.875Z"
   },
   {
    "duration": 33,
    "start_time": "2023-08-04T10:51:07.158Z"
   },
   {
    "duration": 258,
    "start_time": "2023-08-04T10:51:07.193Z"
   },
   {
    "duration": 40,
    "start_time": "2023-08-04T10:51:07.453Z"
   },
   {
    "duration": 223,
    "start_time": "2023-08-04T10:51:07.494Z"
   },
   {
    "duration": 15,
    "start_time": "2023-08-04T10:51:07.718Z"
   },
   {
    "duration": 246,
    "start_time": "2023-08-04T10:51:07.735Z"
   },
   {
    "duration": 252,
    "start_time": "2023-08-04T10:51:07.983Z"
   },
   {
    "duration": 32,
    "start_time": "2023-08-04T10:51:08.237Z"
   },
   {
    "duration": 363,
    "start_time": "2023-08-04T10:51:08.277Z"
   },
   {
    "duration": 25,
    "start_time": "2023-08-04T10:51:08.642Z"
   },
   {
    "duration": 20,
    "start_time": "2023-08-04T10:51:08.671Z"
   },
   {
    "duration": 25,
    "start_time": "2023-08-04T10:51:08.693Z"
   },
   {
    "duration": 19,
    "start_time": "2023-08-04T10:51:08.720Z"
   },
   {
    "duration": 51,
    "start_time": "2023-08-04T10:51:08.741Z"
   },
   {
    "duration": 336,
    "start_time": "2023-08-04T10:51:08.794Z"
   },
   {
    "duration": 38,
    "start_time": "2023-08-04T10:51:09.138Z"
   },
   {
    "duration": 9,
    "start_time": "2023-08-04T10:51:09.180Z"
   },
   {
    "duration": 32,
    "start_time": "2023-08-04T10:51:09.192Z"
   },
   {
    "duration": 16,
    "start_time": "2023-08-04T10:51:09.226Z"
   },
   {
    "duration": 53,
    "start_time": "2023-08-04T10:51:09.243Z"
   },
   {
    "duration": 7,
    "start_time": "2023-08-04T10:51:09.298Z"
   },
   {
    "duration": 16,
    "start_time": "2023-08-04T10:51:09.307Z"
   },
   {
    "duration": 205,
    "start_time": "2023-08-04T10:51:09.325Z"
   },
   {
    "duration": 8,
    "start_time": "2023-08-04T10:51:09.532Z"
   },
   {
    "duration": 3,
    "start_time": "2023-08-04T13:14:22.094Z"
   },
   {
    "duration": 735,
    "start_time": "2023-08-04T13:14:22.099Z"
   },
   {
    "duration": 12,
    "start_time": "2023-08-04T13:14:22.836Z"
   },
   {
    "duration": 36,
    "start_time": "2023-08-04T13:14:22.850Z"
   },
   {
    "duration": 25,
    "start_time": "2023-08-04T13:14:22.892Z"
   },
   {
    "duration": 38,
    "start_time": "2023-08-04T13:14:22.919Z"
   },
   {
    "duration": 22,
    "start_time": "2023-08-04T13:14:22.959Z"
   },
   {
    "duration": 92,
    "start_time": "2023-08-04T13:14:22.988Z"
   },
   {
    "duration": 14,
    "start_time": "2023-08-04T13:14:23.083Z"
   },
   {
    "duration": 19,
    "start_time": "2023-08-04T13:14:23.099Z"
   },
   {
    "duration": 134,
    "start_time": "2023-08-04T13:14:23.121Z"
   },
   {
    "duration": 13,
    "start_time": "2023-08-04T13:14:23.257Z"
   },
   {
    "duration": 77,
    "start_time": "2023-08-04T13:14:23.277Z"
   },
   {
    "duration": 53,
    "start_time": "2023-08-04T13:14:23.356Z"
   },
   {
    "duration": 66,
    "start_time": "2023-08-04T13:14:23.411Z"
   },
   {
    "duration": 26,
    "start_time": "2023-08-04T13:14:23.485Z"
   },
   {
    "duration": 51,
    "start_time": "2023-08-04T13:14:23.513Z"
   },
   {
    "duration": 271,
    "start_time": "2023-08-04T13:14:23.566Z"
   },
   {
    "duration": 8,
    "start_time": "2023-08-04T13:14:23.839Z"
   },
   {
    "duration": 63,
    "start_time": "2023-08-04T13:14:23.861Z"
   },
   {
    "duration": 9,
    "start_time": "2023-08-04T13:14:23.926Z"
   },
   {
    "duration": 28,
    "start_time": "2023-08-04T13:14:23.937Z"
   },
   {
    "duration": 19,
    "start_time": "2023-08-04T13:14:23.968Z"
   },
   {
    "duration": 28,
    "start_time": "2023-08-04T13:14:23.990Z"
   },
   {
    "duration": 83,
    "start_time": "2023-08-04T13:14:24.021Z"
   },
   {
    "duration": 78,
    "start_time": "2023-08-04T13:14:24.106Z"
   },
   {
    "duration": 30,
    "start_time": "2023-08-04T13:14:24.187Z"
   },
   {
    "duration": 6,
    "start_time": "2023-08-04T13:14:24.220Z"
   },
   {
    "duration": 86,
    "start_time": "2023-08-04T13:14:24.228Z"
   },
   {
    "duration": 8,
    "start_time": "2023-08-04T13:14:24.316Z"
   },
   {
    "duration": 12,
    "start_time": "2023-08-04T13:14:24.330Z"
   },
   {
    "duration": 25,
    "start_time": "2023-08-04T13:14:24.346Z"
   },
   {
    "duration": 12,
    "start_time": "2023-08-04T13:14:24.376Z"
   },
   {
    "duration": 13,
    "start_time": "2023-08-04T13:14:24.394Z"
   },
   {
    "duration": 17,
    "start_time": "2023-08-04T13:14:24.414Z"
   },
   {
    "duration": 8,
    "start_time": "2023-08-04T13:14:24.437Z"
   },
   {
    "duration": 28,
    "start_time": "2023-08-04T13:14:24.447Z"
   },
   {
    "duration": 13,
    "start_time": "2023-08-04T13:14:24.481Z"
   },
   {
    "duration": 53,
    "start_time": "2023-08-04T13:14:24.498Z"
   },
   {
    "duration": 23,
    "start_time": "2023-08-04T13:14:24.554Z"
   },
   {
    "duration": 17,
    "start_time": "2023-08-04T13:14:24.578Z"
   },
   {
    "duration": 25,
    "start_time": "2023-08-04T13:14:24.605Z"
   },
   {
    "duration": 18,
    "start_time": "2023-08-04T13:14:24.632Z"
   },
   {
    "duration": 22,
    "start_time": "2023-08-04T13:14:24.653Z"
   },
   {
    "duration": 29,
    "start_time": "2023-08-04T13:14:24.681Z"
   },
   {
    "duration": 19,
    "start_time": "2023-08-04T13:14:24.716Z"
   },
   {
    "duration": 8,
    "start_time": "2023-08-04T13:14:24.737Z"
   },
   {
    "duration": 78,
    "start_time": "2023-08-04T13:14:24.747Z"
   },
   {
    "duration": 62,
    "start_time": "2023-08-04T13:14:24.827Z"
   },
   {
    "duration": 99,
    "start_time": "2023-08-04T13:14:24.902Z"
   },
   {
    "duration": 10,
    "start_time": "2023-08-04T13:14:25.004Z"
   },
   {
    "duration": 206,
    "start_time": "2023-08-04T13:14:25.016Z"
   },
   {
    "duration": 13,
    "start_time": "2023-08-04T13:14:25.224Z"
   },
   {
    "duration": 21,
    "start_time": "2023-08-04T13:14:25.239Z"
   },
   {
    "duration": 27,
    "start_time": "2023-08-04T13:14:25.272Z"
   },
   {
    "duration": 44,
    "start_time": "2023-08-04T13:14:25.301Z"
   },
   {
    "duration": 19,
    "start_time": "2023-08-04T13:14:25.348Z"
   },
   {
    "duration": 27,
    "start_time": "2023-08-04T13:14:25.372Z"
   },
   {
    "duration": 20,
    "start_time": "2023-08-04T13:14:25.406Z"
   },
   {
    "duration": 18,
    "start_time": "2023-08-04T13:14:25.431Z"
   },
   {
    "duration": 25,
    "start_time": "2023-08-04T13:14:25.451Z"
   },
   {
    "duration": 258,
    "start_time": "2023-08-04T13:14:25.478Z"
   },
   {
    "duration": 33,
    "start_time": "2023-08-04T13:14:25.738Z"
   },
   {
    "duration": 12,
    "start_time": "2023-08-04T13:14:25.788Z"
   },
   {
    "duration": 16,
    "start_time": "2023-08-04T13:14:25.802Z"
   },
   {
    "duration": 384,
    "start_time": "2023-08-04T13:14:25.823Z"
   },
   {
    "duration": 31,
    "start_time": "2023-08-04T13:14:26.213Z"
   },
   {
    "duration": 268,
    "start_time": "2023-08-04T13:14:26.247Z"
   },
   {
    "duration": 29,
    "start_time": "2023-08-04T13:14:26.518Z"
   },
   {
    "duration": 258,
    "start_time": "2023-08-04T13:14:26.549Z"
   },
   {
    "duration": 16,
    "start_time": "2023-08-04T13:14:26.809Z"
   },
   {
    "duration": 336,
    "start_time": "2023-08-04T13:14:26.826Z"
   },
   {
    "duration": 265,
    "start_time": "2023-08-04T13:14:27.164Z"
   },
   {
    "duration": 43,
    "start_time": "2023-08-04T13:14:27.431Z"
   },
   {
    "duration": 296,
    "start_time": "2023-08-04T13:14:27.480Z"
   },
   {
    "duration": 20,
    "start_time": "2023-08-04T13:14:27.778Z"
   },
   {
    "duration": 19,
    "start_time": "2023-08-04T13:14:27.800Z"
   },
   {
    "duration": 55,
    "start_time": "2023-08-04T13:14:27.821Z"
   },
   {
    "duration": 27,
    "start_time": "2023-08-04T13:14:27.878Z"
   },
   {
    "duration": 20,
    "start_time": "2023-08-04T13:14:27.907Z"
   },
   {
    "duration": 329,
    "start_time": "2023-08-04T13:14:27.929Z"
   },
   {
    "duration": 18,
    "start_time": "2023-08-04T13:14:28.262Z"
   },
   {
    "duration": 13,
    "start_time": "2023-08-04T13:14:28.282Z"
   },
   {
    "duration": 33,
    "start_time": "2023-08-04T13:14:28.300Z"
   },
   {
    "duration": 17,
    "start_time": "2023-08-04T13:14:28.335Z"
   },
   {
    "duration": 57,
    "start_time": "2023-08-04T13:14:28.354Z"
   },
   {
    "duration": 5,
    "start_time": "2023-08-04T13:14:28.412Z"
   },
   {
    "duration": 12,
    "start_time": "2023-08-04T13:14:28.419Z"
   },
   {
    "duration": 50,
    "start_time": "2023-08-04T13:14:28.433Z"
   },
   {
    "duration": 15,
    "start_time": "2023-08-04T13:14:28.487Z"
   }
  ],
  "kernelspec": {
   "display_name": "Python 3 (ipykernel)",
   "language": "python",
   "name": "python3"
  },
  "language_info": {
   "codemirror_mode": {
    "name": "ipython",
    "version": 3
   },
   "file_extension": ".py",
   "mimetype": "text/x-python",
   "name": "python",
   "nbconvert_exporter": "python",
   "pygments_lexer": "ipython3",
   "version": "3.9.16"
  },
  "toc": {
   "base_numbering": 1,
   "nav_menu": {
    "height": "359px",
    "width": "541px"
   },
   "number_sections": true,
   "sideBar": true,
   "skip_h1_title": true,
   "title_cell": "Table of Contents",
   "title_sidebar": "Contents",
   "toc_cell": false,
   "toc_position": {
    "height": "calc(100% - 180px)",
    "left": "10px",
    "top": "150px",
    "width": "190px"
   },
   "toc_section_display": true,
   "toc_window_display": true
  },
  "varInspector": {
   "cols": {
    "lenName": 16,
    "lenType": 16,
    "lenVar": 40
   },
   "kernels_config": {
    "python": {
     "delete_cmd_postfix": "",
     "delete_cmd_prefix": "del ",
     "library": "var_list.py",
     "varRefreshCmd": "print(var_dic_list())"
    },
    "r": {
     "delete_cmd_postfix": ") ",
     "delete_cmd_prefix": "rm(",
     "library": "var_list.r",
     "varRefreshCmd": "cat(var_dic_list()) "
    }
   },
   "types_to_exclude": [
    "module",
    "function",
    "builtin_function_or_method",
    "instance",
    "_Feature"
   ],
   "window_display": false
  }
 },
 "nbformat": 4,
 "nbformat_minor": 2
}
