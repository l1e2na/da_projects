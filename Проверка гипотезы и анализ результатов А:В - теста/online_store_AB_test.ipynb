{
 "cells": [
  {
   "cell_type": "markdown",
   "metadata": {},
   "source": [
    "# Проверка гипотезы  и анализ результатов А/В - теста"
   ]
  },
  {
   "cell_type": "markdown",
   "metadata": {},
   "source": [
    "**Описание проекта:**\n",
    "Совместно с отделом маркетинга крупного интернет-магазина был подготовлен список гипотез для увеличения выручки. Необходимо приоритизировать гипотезы, запустить А/В-тест и проанализировать результаты. \n",
    "\n",
    "Имеются следующие данные:  \n",
    "Файл  с гипотезами и их параметрами ```/datasets/hypothesis.csv``` \n",
    " - Hypothesis — краткое описание гипотезы;\n",
    " - Reach — охват пользователей по 10-балльной шкале;\n",
    " - Impact — влияние на пользователей по 10-балльной шкале;\n",
    " - Confidence — уверенность в гипотезе по 10-балльной шкале;\n",
    " - Efforts — затраты ресурсов на проверку гипотезы по 10-балльной шкале. Чем больше значение Efforts, тем дороже проверка гипотезы.  \n",
    " \n",
    "Файл с данными о заказах ```/datasets/orders.csv```\n",
    " - transactionId — идентификатор заказа;\n",
    " - visitorId — идентификатор пользователя, совершившего заказ;\n",
    " - date — дата, когда был совершён заказ;\n",
    " - revenue — выручка заказа;\n",
    " - group — группа A/B-теста, в которую попал заказ.  \n",
    " \n",
    "Файл с данными о посещениях ```/datasets/visitors.csv```\n",
    " - date — дата;\n",
    " - group — группа A/B-теста;\n",
    " - visitors — количество пользователей в указанную дату в указанной группе A/B-теста\n",
    "\n",
    "**Цель исследования:**\n",
    "Увеличить выручку путем определения наиболее приоритетной гипотезы и анализа результатов А/В-теста.\n",
    "\n",
    "**Ход исследования:**  \n",
    "1) Изучить данные и подготовить их для анализа;  \n",
    "2) Приоритизировать гипотезы;  \n",
    "3) Провести анализ А/В-теста:  \n",
    "   - Изучить стабильность кумулятивных метрик;\n",
    "   - Провести анализ аномалий;\n",
    "   - Посчитать статистическую значимость по \"сырым\" данным;\n",
    "   - Посчитать статистическую значимость по \"очищенным\" данным;  \n",
    "\n",
    "4) Оформить результаты в общем выводе"
   ]
  },
  {
   "cell_type": "markdown",
   "metadata": {},
   "source": [
    "## Изучение данных и подготовка к анализу"
   ]
  },
  {
   "cell_type": "code",
   "execution_count": 1,
   "metadata": {},
   "outputs": [],
   "source": [
    "import pandas as pd\n",
    "import numpy as np\n",
    "import datetime as dt\n",
    "import matplotlib.pyplot as plt\n",
    "from scipy import stats as st"
   ]
  },
  {
   "cell_type": "code",
   "execution_count": 2,
   "metadata": {},
   "outputs": [],
   "source": [
    "try:\n",
    "    hypothesis = pd.read_csv('/datasets/hypothesis.csv')\n",
    "    orders = pd.read_csv('/datasets/orders.csv')\n",
    "    visits = pd.read_csv('/datasets/visitors.csv')\n",
    "except:\n",
    "    hypothesis = pd.read_csv('https://code.s3.yandex.net/datasets/hypothesis.csv')\n",
    "    orders = pd.read_csv('https://code.s3.yandex.net/datasets/orders.csv')\n",
    "    visits = pd.read_csv('https://code.s3.yandex.net/datasets/visitors.csv')"
   ]
  },
  {
   "cell_type": "code",
   "execution_count": 3,
   "metadata": {},
   "outputs": [
    {
     "data": {
      "text/html": [
       "<div>\n",
       "<style scoped>\n",
       "    .dataframe tbody tr th:only-of-type {\n",
       "        vertical-align: middle;\n",
       "    }\n",
       "\n",
       "    .dataframe tbody tr th {\n",
       "        vertical-align: top;\n",
       "    }\n",
       "\n",
       "    .dataframe thead th {\n",
       "        text-align: right;\n",
       "    }\n",
       "</style>\n",
       "<table border=\"1\" class=\"dataframe\">\n",
       "  <thead>\n",
       "    <tr style=\"text-align: right;\">\n",
       "      <th></th>\n",
       "      <th>Hypothesis</th>\n",
       "      <th>Reach</th>\n",
       "      <th>Impact</th>\n",
       "      <th>Confidence</th>\n",
       "      <th>Efforts</th>\n",
       "    </tr>\n",
       "  </thead>\n",
       "  <tbody>\n",
       "    <tr>\n",
       "      <th>0</th>\n",
       "      <td>Добавить два новых канала привлечения трафика,...</td>\n",
       "      <td>3</td>\n",
       "      <td>10</td>\n",
       "      <td>8</td>\n",
       "      <td>6</td>\n",
       "    </tr>\n",
       "    <tr>\n",
       "      <th>1</th>\n",
       "      <td>Запустить собственную службу доставки, что сок...</td>\n",
       "      <td>2</td>\n",
       "      <td>5</td>\n",
       "      <td>4</td>\n",
       "      <td>10</td>\n",
       "    </tr>\n",
       "    <tr>\n",
       "      <th>2</th>\n",
       "      <td>Добавить блоки рекомендаций товаров на сайт ин...</td>\n",
       "      <td>8</td>\n",
       "      <td>3</td>\n",
       "      <td>7</td>\n",
       "      <td>3</td>\n",
       "    </tr>\n",
       "    <tr>\n",
       "      <th>3</th>\n",
       "      <td>Изменить структура категорий, что увеличит кон...</td>\n",
       "      <td>8</td>\n",
       "      <td>3</td>\n",
       "      <td>3</td>\n",
       "      <td>8</td>\n",
       "    </tr>\n",
       "    <tr>\n",
       "      <th>4</th>\n",
       "      <td>Изменить цвет фона главной страницы, чтобы уве...</td>\n",
       "      <td>3</td>\n",
       "      <td>1</td>\n",
       "      <td>1</td>\n",
       "      <td>1</td>\n",
       "    </tr>\n",
       "  </tbody>\n",
       "</table>\n",
       "</div>"
      ],
      "text/plain": [
       "                                          Hypothesis  Reach  Impact  \\\n",
       "0  Добавить два новых канала привлечения трафика,...      3      10   \n",
       "1  Запустить собственную службу доставки, что сок...      2       5   \n",
       "2  Добавить блоки рекомендаций товаров на сайт ин...      8       3   \n",
       "3  Изменить структура категорий, что увеличит кон...      8       3   \n",
       "4  Изменить цвет фона главной страницы, чтобы уве...      3       1   \n",
       "\n",
       "   Confidence  Efforts  \n",
       "0           8        6  \n",
       "1           4       10  \n",
       "2           7        3  \n",
       "3           3        8  \n",
       "4           1        1  "
      ]
     },
     "metadata": {},
     "output_type": "display_data"
    },
    {
     "data": {
      "text/html": [
       "<div>\n",
       "<style scoped>\n",
       "    .dataframe tbody tr th:only-of-type {\n",
       "        vertical-align: middle;\n",
       "    }\n",
       "\n",
       "    .dataframe tbody tr th {\n",
       "        vertical-align: top;\n",
       "    }\n",
       "\n",
       "    .dataframe thead th {\n",
       "        text-align: right;\n",
       "    }\n",
       "</style>\n",
       "<table border=\"1\" class=\"dataframe\">\n",
       "  <thead>\n",
       "    <tr style=\"text-align: right;\">\n",
       "      <th></th>\n",
       "      <th>transactionId</th>\n",
       "      <th>visitorId</th>\n",
       "      <th>date</th>\n",
       "      <th>revenue</th>\n",
       "      <th>group</th>\n",
       "    </tr>\n",
       "  </thead>\n",
       "  <tbody>\n",
       "    <tr>\n",
       "      <th>0</th>\n",
       "      <td>3667963787</td>\n",
       "      <td>3312258926</td>\n",
       "      <td>2019-08-15</td>\n",
       "      <td>1650</td>\n",
       "      <td>B</td>\n",
       "    </tr>\n",
       "    <tr>\n",
       "      <th>1</th>\n",
       "      <td>2804400009</td>\n",
       "      <td>3642806036</td>\n",
       "      <td>2019-08-15</td>\n",
       "      <td>730</td>\n",
       "      <td>B</td>\n",
       "    </tr>\n",
       "    <tr>\n",
       "      <th>2</th>\n",
       "      <td>2961555356</td>\n",
       "      <td>4069496402</td>\n",
       "      <td>2019-08-15</td>\n",
       "      <td>400</td>\n",
       "      <td>A</td>\n",
       "    </tr>\n",
       "    <tr>\n",
       "      <th>3</th>\n",
       "      <td>3797467345</td>\n",
       "      <td>1196621759</td>\n",
       "      <td>2019-08-15</td>\n",
       "      <td>9759</td>\n",
       "      <td>B</td>\n",
       "    </tr>\n",
       "    <tr>\n",
       "      <th>4</th>\n",
       "      <td>2282983706</td>\n",
       "      <td>2322279887</td>\n",
       "      <td>2019-08-15</td>\n",
       "      <td>2308</td>\n",
       "      <td>B</td>\n",
       "    </tr>\n",
       "  </tbody>\n",
       "</table>\n",
       "</div>"
      ],
      "text/plain": [
       "   transactionId   visitorId        date  revenue group\n",
       "0     3667963787  3312258926  2019-08-15     1650     B\n",
       "1     2804400009  3642806036  2019-08-15      730     B\n",
       "2     2961555356  4069496402  2019-08-15      400     A\n",
       "3     3797467345  1196621759  2019-08-15     9759     B\n",
       "4     2282983706  2322279887  2019-08-15     2308     B"
      ]
     },
     "metadata": {},
     "output_type": "display_data"
    },
    {
     "data": {
      "text/html": [
       "<div>\n",
       "<style scoped>\n",
       "    .dataframe tbody tr th:only-of-type {\n",
       "        vertical-align: middle;\n",
       "    }\n",
       "\n",
       "    .dataframe tbody tr th {\n",
       "        vertical-align: top;\n",
       "    }\n",
       "\n",
       "    .dataframe thead th {\n",
       "        text-align: right;\n",
       "    }\n",
       "</style>\n",
       "<table border=\"1\" class=\"dataframe\">\n",
       "  <thead>\n",
       "    <tr style=\"text-align: right;\">\n",
       "      <th></th>\n",
       "      <th>date</th>\n",
       "      <th>group</th>\n",
       "      <th>visitors</th>\n",
       "    </tr>\n",
       "  </thead>\n",
       "  <tbody>\n",
       "    <tr>\n",
       "      <th>0</th>\n",
       "      <td>2019-08-01</td>\n",
       "      <td>A</td>\n",
       "      <td>719</td>\n",
       "    </tr>\n",
       "    <tr>\n",
       "      <th>1</th>\n",
       "      <td>2019-08-02</td>\n",
       "      <td>A</td>\n",
       "      <td>619</td>\n",
       "    </tr>\n",
       "    <tr>\n",
       "      <th>2</th>\n",
       "      <td>2019-08-03</td>\n",
       "      <td>A</td>\n",
       "      <td>507</td>\n",
       "    </tr>\n",
       "    <tr>\n",
       "      <th>3</th>\n",
       "      <td>2019-08-04</td>\n",
       "      <td>A</td>\n",
       "      <td>717</td>\n",
       "    </tr>\n",
       "    <tr>\n",
       "      <th>4</th>\n",
       "      <td>2019-08-05</td>\n",
       "      <td>A</td>\n",
       "      <td>756</td>\n",
       "    </tr>\n",
       "  </tbody>\n",
       "</table>\n",
       "</div>"
      ],
      "text/plain": [
       "         date group  visitors\n",
       "0  2019-08-01     A       719\n",
       "1  2019-08-02     A       619\n",
       "2  2019-08-03     A       507\n",
       "3  2019-08-04     A       717\n",
       "4  2019-08-05     A       756"
      ]
     },
     "execution_count": 3,
     "metadata": {},
     "output_type": "execute_result"
    }
   ],
   "source": [
    "display(hypothesis.head())\n",
    "display(orders.head())\n",
    "visits.head()"
   ]
  },
  {
   "cell_type": "code",
   "execution_count": 4,
   "metadata": {},
   "outputs": [],
   "source": [
    "hypothesis.columns = hypothesis.columns.str.lower()\n",
    "orders.rename(columns = {'transactionId':'transaction_id', 'visitorId':'visitor_id'}, inplace=True)"
   ]
  },
  {
   "cell_type": "code",
   "execution_count": 5,
   "metadata": {},
   "outputs": [
    {
     "name": "stdout",
     "output_type": "stream",
     "text": [
      "<class 'pandas.core.frame.DataFrame'>\n",
      "RangeIndex: 9 entries, 0 to 8\n",
      "Data columns (total 5 columns):\n",
      " #   Column      Non-Null Count  Dtype \n",
      "---  ------      --------------  ----- \n",
      " 0   hypothesis  9 non-null      object\n",
      " 1   reach       9 non-null      int64 \n",
      " 2   impact      9 non-null      int64 \n",
      " 3   confidence  9 non-null      int64 \n",
      " 4   efforts     9 non-null      int64 \n",
      "dtypes: int64(4), object(1)\n",
      "memory usage: 488.0+ bytes\n"
     ]
    }
   ],
   "source": [
    "hypothesis.info()"
   ]
  },
  {
   "cell_type": "code",
   "execution_count": 6,
   "metadata": {},
   "outputs": [
    {
     "name": "stdout",
     "output_type": "stream",
     "text": [
      "<class 'pandas.core.frame.DataFrame'>\n",
      "RangeIndex: 1197 entries, 0 to 1196\n",
      "Data columns (total 5 columns):\n",
      " #   Column          Non-Null Count  Dtype \n",
      "---  ------          --------------  ----- \n",
      " 0   transaction_id  1197 non-null   int64 \n",
      " 1   visitor_id      1197 non-null   int64 \n",
      " 2   date            1197 non-null   object\n",
      " 3   revenue         1197 non-null   int64 \n",
      " 4   group           1197 non-null   object\n",
      "dtypes: int64(3), object(2)\n",
      "memory usage: 46.9+ KB\n"
     ]
    }
   ],
   "source": [
    "orders.info()"
   ]
  },
  {
   "cell_type": "code",
   "execution_count": 7,
   "metadata": {},
   "outputs": [
    {
     "name": "stdout",
     "output_type": "stream",
     "text": [
      "<class 'pandas.core.frame.DataFrame'>\n",
      "RangeIndex: 62 entries, 0 to 61\n",
      "Data columns (total 3 columns):\n",
      " #   Column    Non-Null Count  Dtype \n",
      "---  ------    --------------  ----- \n",
      " 0   date      62 non-null     object\n",
      " 1   group     62 non-null     object\n",
      " 2   visitors  62 non-null     int64 \n",
      "dtypes: int64(1), object(2)\n",
      "memory usage: 1.6+ KB\n"
     ]
    }
   ],
   "source": [
    "visits.info()"
   ]
  },
  {
   "cell_type": "code",
   "execution_count": 8,
   "metadata": {
    "scrolled": true
   },
   "outputs": [],
   "source": [
    "orders['date'] = orders['date'].apply(lambda x: dt.datetime.strptime(x, '%Y-%m-%d'))\n",
    "visits['date'] = visits['date'].apply(lambda x: dt.datetime.strptime(x, '%Y-%m-%d'))"
   ]
  },
  {
   "cell_type": "code",
   "execution_count": 9,
   "metadata": {},
   "outputs": [
    {
     "data": {
      "text/plain": [
       "0"
      ]
     },
     "execution_count": 9,
     "metadata": {},
     "output_type": "execute_result"
    }
   ],
   "source": [
    "hypothesis.duplicated().sum()"
   ]
  },
  {
   "cell_type": "code",
   "execution_count": 10,
   "metadata": {},
   "outputs": [
    {
     "data": {
      "text/plain": [
       "0"
      ]
     },
     "execution_count": 10,
     "metadata": {},
     "output_type": "execute_result"
    }
   ],
   "source": [
    "orders.duplicated().sum()"
   ]
  },
  {
   "cell_type": "code",
   "execution_count": 11,
   "metadata": {},
   "outputs": [
    {
     "data": {
      "text/plain": [
       "0"
      ]
     },
     "execution_count": 11,
     "metadata": {},
     "output_type": "execute_result"
    }
   ],
   "source": [
    "visits.duplicated().sum()"
   ]
  },
  {
   "cell_type": "code",
   "execution_count": 12,
   "metadata": {},
   "outputs": [
    {
     "data": {
      "text/plain": [
       "18736"
      ]
     },
     "execution_count": 12,
     "metadata": {},
     "output_type": "execute_result"
    }
   ],
   "source": [
    "# Посмотрим сколько всего посетителей в группах\n",
    "visits[visits['group'] == 'A']['visitors'].sum()"
   ]
  },
  {
   "cell_type": "code",
   "execution_count": 13,
   "metadata": {},
   "outputs": [
    {
     "data": {
      "text/plain": [
       "18916"
      ]
     },
     "execution_count": 13,
     "metadata": {},
     "output_type": "execute_result"
    }
   ],
   "source": [
    "visits[visits['group'] == 'B']['visitors'].sum()"
   ]
  },
  {
   "cell_type": "code",
   "execution_count": 14,
   "metadata": {},
   "outputs": [
    {
     "data": {
      "text/plain": [
       "58"
      ]
     },
     "execution_count": 14,
     "metadata": {},
     "output_type": "execute_result"
    }
   ],
   "source": [
    "# Проверим не попадают ли покупатели в обе группы\n",
    "len(\n",
    "    set(\n",
    "        orders[orders['group'] == \"A\"]['visitor_id']\n",
    "    ) \n",
    "    & set(\n",
    "        orders[orders['group'] == \"B\"]['visitor_id']\n",
    "    )\n",
    ")"
   ]
  },
  {
   "cell_type": "markdown",
   "metadata": {},
   "source": [
    "Пропуски и дубликаты в таблицах отстутствуют. Данные с датами приведены к соответствующему формату.  \n",
    "Количество пользователей в обеих группах приблизительно одинаково.  \n",
    "Обнаружено, что 58 покупателей попадают в обе группы, это некорректно, но так как невозможно учесть этих покупателей в данных о посещениях, придется их оставить."
   ]
  },
  {
   "cell_type": "markdown",
   "metadata": {},
   "source": [
    "## Приоритизация гипотез"
   ]
  },
  {
   "cell_type": "code",
   "execution_count": 15,
   "metadata": {},
   "outputs": [
    {
     "data": {
      "text/html": [
       "<div>\n",
       "<style scoped>\n",
       "    .dataframe tbody tr th:only-of-type {\n",
       "        vertical-align: middle;\n",
       "    }\n",
       "\n",
       "    .dataframe tbody tr th {\n",
       "        vertical-align: top;\n",
       "    }\n",
       "\n",
       "    .dataframe thead th {\n",
       "        text-align: right;\n",
       "    }\n",
       "</style>\n",
       "<table border=\"1\" class=\"dataframe\">\n",
       "  <thead>\n",
       "    <tr style=\"text-align: right;\">\n",
       "      <th></th>\n",
       "      <th>hypothesis</th>\n",
       "      <th>reach</th>\n",
       "      <th>impact</th>\n",
       "      <th>confidence</th>\n",
       "      <th>efforts</th>\n",
       "      <th>ICE</th>\n",
       "    </tr>\n",
       "  </thead>\n",
       "  <tbody>\n",
       "    <tr>\n",
       "      <th>8</th>\n",
       "      <td>Запустить акцию, дающую скидку на товар в день рождения</td>\n",
       "      <td>1</td>\n",
       "      <td>9</td>\n",
       "      <td>9</td>\n",
       "      <td>5</td>\n",
       "      <td>16.20</td>\n",
       "    </tr>\n",
       "    <tr>\n",
       "      <th>0</th>\n",
       "      <td>Добавить два новых канала привлечения трафика, что позволит привлекать на 30% больше пользователей</td>\n",
       "      <td>3</td>\n",
       "      <td>10</td>\n",
       "      <td>8</td>\n",
       "      <td>6</td>\n",
       "      <td>13.33</td>\n",
       "    </tr>\n",
       "    <tr>\n",
       "      <th>7</th>\n",
       "      <td>Добавить форму подписки на все основные страницы, чтобы собрать базу клиентов для email-рассылок</td>\n",
       "      <td>10</td>\n",
       "      <td>7</td>\n",
       "      <td>8</td>\n",
       "      <td>5</td>\n",
       "      <td>11.20</td>\n",
       "    </tr>\n",
       "    <tr>\n",
       "      <th>6</th>\n",
       "      <td>Показать на главной странице баннеры с актуальными акциями и распродажами, чтобы увеличить конверсию</td>\n",
       "      <td>5</td>\n",
       "      <td>3</td>\n",
       "      <td>8</td>\n",
       "      <td>3</td>\n",
       "      <td>8.00</td>\n",
       "    </tr>\n",
       "    <tr>\n",
       "      <th>2</th>\n",
       "      <td>Добавить блоки рекомендаций товаров на сайт интернет магазина, чтобы повысить конверсию и средний чек заказа</td>\n",
       "      <td>8</td>\n",
       "      <td>3</td>\n",
       "      <td>7</td>\n",
       "      <td>3</td>\n",
       "      <td>7.00</td>\n",
       "    </tr>\n",
       "    <tr>\n",
       "      <th>1</th>\n",
       "      <td>Запустить собственную службу доставки, что сократит срок доставки заказов</td>\n",
       "      <td>2</td>\n",
       "      <td>5</td>\n",
       "      <td>4</td>\n",
       "      <td>10</td>\n",
       "      <td>2.00</td>\n",
       "    </tr>\n",
       "    <tr>\n",
       "      <th>5</th>\n",
       "      <td>Добавить страницу отзывов клиентов о магазине, что позволит увеличить количество заказов</td>\n",
       "      <td>3</td>\n",
       "      <td>2</td>\n",
       "      <td>2</td>\n",
       "      <td>3</td>\n",
       "      <td>1.33</td>\n",
       "    </tr>\n",
       "    <tr>\n",
       "      <th>3</th>\n",
       "      <td>Изменить структура категорий, что увеличит конверсию, т.к. пользователи быстрее найдут нужный товар</td>\n",
       "      <td>8</td>\n",
       "      <td>3</td>\n",
       "      <td>3</td>\n",
       "      <td>8</td>\n",
       "      <td>1.12</td>\n",
       "    </tr>\n",
       "    <tr>\n",
       "      <th>4</th>\n",
       "      <td>Изменить цвет фона главной страницы, чтобы увеличить вовлеченность пользователей</td>\n",
       "      <td>3</td>\n",
       "      <td>1</td>\n",
       "      <td>1</td>\n",
       "      <td>1</td>\n",
       "      <td>1.00</td>\n",
       "    </tr>\n",
       "  </tbody>\n",
       "</table>\n",
       "</div>"
      ],
      "text/plain": [
       "                                                                                                     hypothesis  \\\n",
       "8                                                       Запустить акцию, дающую скидку на товар в день рождения   \n",
       "0            Добавить два новых канала привлечения трафика, что позволит привлекать на 30% больше пользователей   \n",
       "7              Добавить форму подписки на все основные страницы, чтобы собрать базу клиентов для email-рассылок   \n",
       "6          Показать на главной странице баннеры с актуальными акциями и распродажами, чтобы увеличить конверсию   \n",
       "2  Добавить блоки рекомендаций товаров на сайт интернет магазина, чтобы повысить конверсию и средний чек заказа   \n",
       "1                                     Запустить собственную службу доставки, что сократит срок доставки заказов   \n",
       "5                      Добавить страницу отзывов клиентов о магазине, что позволит увеличить количество заказов   \n",
       "3           Изменить структура категорий, что увеличит конверсию, т.к. пользователи быстрее найдут нужный товар   \n",
       "4                              Изменить цвет фона главной страницы, чтобы увеличить вовлеченность пользователей   \n",
       "\n",
       "   reach  impact  confidence  efforts    ICE  \n",
       "8      1       9           9        5  16.20  \n",
       "0      3      10           8        6  13.33  \n",
       "7     10       7           8        5  11.20  \n",
       "6      5       3           8        3   8.00  \n",
       "2      8       3           7        3   7.00  \n",
       "1      2       5           4       10   2.00  \n",
       "5      3       2           2        3   1.33  \n",
       "3      8       3           3        8   1.12  \n",
       "4      3       1           1        1   1.00  "
      ]
     },
     "execution_count": 15,
     "metadata": {},
     "output_type": "execute_result"
    }
   ],
   "source": [
    "hypothesis['ICE'] = round(hypothesis['impact'] * hypothesis['confidence'] / hypothesis['efforts'], 2)\n",
    "pd.set_option('display.max_colwidth', None)\n",
    "hypothesis.sort_values('ICE', ascending=False)"
   ]
  },
  {
   "cell_type": "code",
   "execution_count": 16,
   "metadata": {},
   "outputs": [
    {
     "data": {
      "text/html": [
       "<div>\n",
       "<style scoped>\n",
       "    .dataframe tbody tr th:only-of-type {\n",
       "        vertical-align: middle;\n",
       "    }\n",
       "\n",
       "    .dataframe tbody tr th {\n",
       "        vertical-align: top;\n",
       "    }\n",
       "\n",
       "    .dataframe thead th {\n",
       "        text-align: right;\n",
       "    }\n",
       "</style>\n",
       "<table border=\"1\" class=\"dataframe\">\n",
       "  <thead>\n",
       "    <tr style=\"text-align: right;\">\n",
       "      <th></th>\n",
       "      <th>hypothesis</th>\n",
       "      <th>reach</th>\n",
       "      <th>impact</th>\n",
       "      <th>confidence</th>\n",
       "      <th>efforts</th>\n",
       "      <th>ICE</th>\n",
       "      <th>RICE</th>\n",
       "    </tr>\n",
       "  </thead>\n",
       "  <tbody>\n",
       "    <tr>\n",
       "      <th>7</th>\n",
       "      <td>Добавить форму подписки на все основные страницы, чтобы собрать базу клиентов для email-рассылок</td>\n",
       "      <td>10</td>\n",
       "      <td>7</td>\n",
       "      <td>8</td>\n",
       "      <td>5</td>\n",
       "      <td>11.20</td>\n",
       "      <td>112.0</td>\n",
       "    </tr>\n",
       "    <tr>\n",
       "      <th>2</th>\n",
       "      <td>Добавить блоки рекомендаций товаров на сайт интернет магазина, чтобы повысить конверсию и средний чек заказа</td>\n",
       "      <td>8</td>\n",
       "      <td>3</td>\n",
       "      <td>7</td>\n",
       "      <td>3</td>\n",
       "      <td>7.00</td>\n",
       "      <td>56.0</td>\n",
       "    </tr>\n",
       "    <tr>\n",
       "      <th>0</th>\n",
       "      <td>Добавить два новых канала привлечения трафика, что позволит привлекать на 30% больше пользователей</td>\n",
       "      <td>3</td>\n",
       "      <td>10</td>\n",
       "      <td>8</td>\n",
       "      <td>6</td>\n",
       "      <td>13.33</td>\n",
       "      <td>40.0</td>\n",
       "    </tr>\n",
       "    <tr>\n",
       "      <th>6</th>\n",
       "      <td>Показать на главной странице баннеры с актуальными акциями и распродажами, чтобы увеличить конверсию</td>\n",
       "      <td>5</td>\n",
       "      <td>3</td>\n",
       "      <td>8</td>\n",
       "      <td>3</td>\n",
       "      <td>8.00</td>\n",
       "      <td>40.0</td>\n",
       "    </tr>\n",
       "    <tr>\n",
       "      <th>8</th>\n",
       "      <td>Запустить акцию, дающую скидку на товар в день рождения</td>\n",
       "      <td>1</td>\n",
       "      <td>9</td>\n",
       "      <td>9</td>\n",
       "      <td>5</td>\n",
       "      <td>16.20</td>\n",
       "      <td>16.2</td>\n",
       "    </tr>\n",
       "    <tr>\n",
       "      <th>3</th>\n",
       "      <td>Изменить структура категорий, что увеличит конверсию, т.к. пользователи быстрее найдут нужный товар</td>\n",
       "      <td>8</td>\n",
       "      <td>3</td>\n",
       "      <td>3</td>\n",
       "      <td>8</td>\n",
       "      <td>1.12</td>\n",
       "      <td>9.0</td>\n",
       "    </tr>\n",
       "    <tr>\n",
       "      <th>1</th>\n",
       "      <td>Запустить собственную службу доставки, что сократит срок доставки заказов</td>\n",
       "      <td>2</td>\n",
       "      <td>5</td>\n",
       "      <td>4</td>\n",
       "      <td>10</td>\n",
       "      <td>2.00</td>\n",
       "      <td>4.0</td>\n",
       "    </tr>\n",
       "    <tr>\n",
       "      <th>5</th>\n",
       "      <td>Добавить страницу отзывов клиентов о магазине, что позволит увеличить количество заказов</td>\n",
       "      <td>3</td>\n",
       "      <td>2</td>\n",
       "      <td>2</td>\n",
       "      <td>3</td>\n",
       "      <td>1.33</td>\n",
       "      <td>4.0</td>\n",
       "    </tr>\n",
       "    <tr>\n",
       "      <th>4</th>\n",
       "      <td>Изменить цвет фона главной страницы, чтобы увеличить вовлеченность пользователей</td>\n",
       "      <td>3</td>\n",
       "      <td>1</td>\n",
       "      <td>1</td>\n",
       "      <td>1</td>\n",
       "      <td>1.00</td>\n",
       "      <td>3.0</td>\n",
       "    </tr>\n",
       "  </tbody>\n",
       "</table>\n",
       "</div>"
      ],
      "text/plain": [
       "                                                                                                     hypothesis  \\\n",
       "7              Добавить форму подписки на все основные страницы, чтобы собрать базу клиентов для email-рассылок   \n",
       "2  Добавить блоки рекомендаций товаров на сайт интернет магазина, чтобы повысить конверсию и средний чек заказа   \n",
       "0            Добавить два новых канала привлечения трафика, что позволит привлекать на 30% больше пользователей   \n",
       "6          Показать на главной странице баннеры с актуальными акциями и распродажами, чтобы увеличить конверсию   \n",
       "8                                                       Запустить акцию, дающую скидку на товар в день рождения   \n",
       "3           Изменить структура категорий, что увеличит конверсию, т.к. пользователи быстрее найдут нужный товар   \n",
       "1                                     Запустить собственную службу доставки, что сократит срок доставки заказов   \n",
       "5                      Добавить страницу отзывов клиентов о магазине, что позволит увеличить количество заказов   \n",
       "4                              Изменить цвет фона главной страницы, чтобы увеличить вовлеченность пользователей   \n",
       "\n",
       "   reach  impact  confidence  efforts    ICE   RICE  \n",
       "7     10       7           8        5  11.20  112.0  \n",
       "2      8       3           7        3   7.00   56.0  \n",
       "0      3      10           8        6  13.33   40.0  \n",
       "6      5       3           8        3   8.00   40.0  \n",
       "8      1       9           9        5  16.20   16.2  \n",
       "3      8       3           3        8   1.12    9.0  \n",
       "1      2       5           4       10   2.00    4.0  \n",
       "5      3       2           2        3   1.33    4.0  \n",
       "4      3       1           1        1   1.00    3.0  "
      ]
     },
     "execution_count": 16,
     "metadata": {},
     "output_type": "execute_result"
    }
   ],
   "source": [
    "hypothesis['RICE'] = hypothesis['reach'] * hypothesis['impact'] * hypothesis['confidence'] / hypothesis['efforts']\n",
    "pd.set_option('display.max_colwidth', None)\n",
    "hypothesis.sort_values('RICE', ascending=False)"
   ]
  },
  {
   "cell_type": "markdown",
   "metadata": {},
   "source": [
    "При расчете ICE первой по приоритету оказалась гипотеза под номером 8, а при использовании RICE самой приоритетной гипотезой стала под номером 7. Решающим оказалось значение Reach, т.е. число пользователей, которых затронет изменение. Для гипотезы под номером 7 характерно наиболее высокое значение Reach, что вывело ее в лидеры, а для гипотезы под номером 8 - самое маленькое значение Reach, из-за чего она оказалась лишь пятой по приоритету.  \n",
    "\n",
    "Таким образом, первой будем тестировать гипотезу \"Добавить форму подписки на все основные страницы, чтобы собрать базу клиентов для email-рассылок\". Далее анализируем результаты этого А/В-теста."
   ]
  },
  {
   "cell_type": "markdown",
   "metadata": {},
   "source": [
    "## Анализ A/B-теста"
   ]
  },
  {
   "cell_type": "markdown",
   "metadata": {},
   "source": [
    "### График кумулятивной выручки по группам"
   ]
  },
  {
   "cell_type": "code",
   "execution_count": 17,
   "metadata": {},
   "outputs": [
    {
     "data": {
      "text/html": [
       "<div>\n",
       "<style scoped>\n",
       "    .dataframe tbody tr th:only-of-type {\n",
       "        vertical-align: middle;\n",
       "    }\n",
       "\n",
       "    .dataframe tbody tr th {\n",
       "        vertical-align: top;\n",
       "    }\n",
       "\n",
       "    .dataframe thead th {\n",
       "        text-align: right;\n",
       "    }\n",
       "</style>\n",
       "<table border=\"1\" class=\"dataframe\">\n",
       "  <thead>\n",
       "    <tr style=\"text-align: right;\">\n",
       "      <th></th>\n",
       "      <th>group</th>\n",
       "      <th>date</th>\n",
       "      <th>revenue</th>\n",
       "      <th>orders</th>\n",
       "      <th>buyers</th>\n",
       "    </tr>\n",
       "  </thead>\n",
       "  <tbody>\n",
       "    <tr>\n",
       "      <th>0</th>\n",
       "      <td>A</td>\n",
       "      <td>2019-08-01</td>\n",
       "      <td>148579</td>\n",
       "      <td>24</td>\n",
       "      <td>20</td>\n",
       "    </tr>\n",
       "    <tr>\n",
       "      <th>1</th>\n",
       "      <td>A</td>\n",
       "      <td>2019-08-02</td>\n",
       "      <td>93822</td>\n",
       "      <td>20</td>\n",
       "      <td>19</td>\n",
       "    </tr>\n",
       "    <tr>\n",
       "      <th>2</th>\n",
       "      <td>A</td>\n",
       "      <td>2019-08-03</td>\n",
       "      <td>112473</td>\n",
       "      <td>24</td>\n",
       "      <td>24</td>\n",
       "    </tr>\n",
       "    <tr>\n",
       "      <th>3</th>\n",
       "      <td>A</td>\n",
       "      <td>2019-08-04</td>\n",
       "      <td>70825</td>\n",
       "      <td>16</td>\n",
       "      <td>15</td>\n",
       "    </tr>\n",
       "    <tr>\n",
       "      <th>4</th>\n",
       "      <td>A</td>\n",
       "      <td>2019-08-05</td>\n",
       "      <td>124218</td>\n",
       "      <td>25</td>\n",
       "      <td>25</td>\n",
       "    </tr>\n",
       "  </tbody>\n",
       "</table>\n",
       "</div>"
      ],
      "text/plain": [
       "  group       date  revenue  orders  buyers\n",
       "0     A 2019-08-01   148579      24      20\n",
       "1     A 2019-08-02    93822      20      19\n",
       "2     A 2019-08-03   112473      24      24\n",
       "3     A 2019-08-04    70825      16      15\n",
       "4     A 2019-08-05   124218      25      25"
      ]
     },
     "execution_count": 17,
     "metadata": {},
     "output_type": "execute_result"
    }
   ],
   "source": [
    "orders_daily = (\n",
    "    orders.groupby(['group','date'], as_index=False)\n",
    "    .agg({'revenue':'sum', 'transaction_id':'nunique', 'visitor_id':'nunique'})\n",
    ")\n",
    "orders_daily.rename(columns={'transaction_id':'orders', 'visitor_id':'buyers'}, inplace=True)\n",
    "orders_daily.head()"
   ]
  },
  {
   "cell_type": "code",
   "execution_count": 18,
   "metadata": {},
   "outputs": [],
   "source": [
    "ordersA_daily = orders_daily[orders_daily['group'] == 'A']\n",
    "ordersB_daily = orders_daily[orders_daily['group'] == 'B']"
   ]
  },
  {
   "cell_type": "code",
   "execution_count": 19,
   "metadata": {},
   "outputs": [
    {
     "data": {
      "text/html": [
       "<div>\n",
       "<style scoped>\n",
       "    .dataframe tbody tr th:only-of-type {\n",
       "        vertical-align: middle;\n",
       "    }\n",
       "\n",
       "    .dataframe tbody tr th {\n",
       "        vertical-align: top;\n",
       "    }\n",
       "\n",
       "    .dataframe thead th {\n",
       "        text-align: right;\n",
       "    }\n",
       "</style>\n",
       "<table border=\"1\" class=\"dataframe\">\n",
       "  <thead>\n",
       "    <tr style=\"text-align: right;\">\n",
       "      <th></th>\n",
       "      <th>date</th>\n",
       "      <th>revenue</th>\n",
       "      <th>orders</th>\n",
       "      <th>buyers</th>\n",
       "    </tr>\n",
       "  </thead>\n",
       "  <tbody>\n",
       "    <tr>\n",
       "      <th>0</th>\n",
       "      <td>2019-08-01</td>\n",
       "      <td>148579</td>\n",
       "      <td>24</td>\n",
       "      <td>20</td>\n",
       "    </tr>\n",
       "    <tr>\n",
       "      <th>1</th>\n",
       "      <td>2019-08-02</td>\n",
       "      <td>242401</td>\n",
       "      <td>44</td>\n",
       "      <td>39</td>\n",
       "    </tr>\n",
       "    <tr>\n",
       "      <th>2</th>\n",
       "      <td>2019-08-03</td>\n",
       "      <td>354874</td>\n",
       "      <td>68</td>\n",
       "      <td>63</td>\n",
       "    </tr>\n",
       "    <tr>\n",
       "      <th>3</th>\n",
       "      <td>2019-08-04</td>\n",
       "      <td>425699</td>\n",
       "      <td>84</td>\n",
       "      <td>78</td>\n",
       "    </tr>\n",
       "    <tr>\n",
       "      <th>4</th>\n",
       "      <td>2019-08-05</td>\n",
       "      <td>549917</td>\n",
       "      <td>109</td>\n",
       "      <td>103</td>\n",
       "    </tr>\n",
       "  </tbody>\n",
       "</table>\n",
       "</div>"
      ],
      "text/plain": [
       "        date  revenue  orders  buyers\n",
       "0 2019-08-01   148579      24      20\n",
       "1 2019-08-02   242401      44      39\n",
       "2 2019-08-03   354874      68      63\n",
       "3 2019-08-04   425699      84      78\n",
       "4 2019-08-05   549917     109     103"
      ]
     },
     "execution_count": 19,
     "metadata": {},
     "output_type": "execute_result"
    }
   ],
   "source": [
    "ordersA_cumul = ordersA_daily.apply(\n",
    "    lambda x: ordersA_daily[ordersA_daily['date'] <= x['date']]\n",
    "    .agg({'date':'max', 'revenue':'sum', 'orders':'sum', 'buyers':'sum'}), \n",
    "    axis=1\n",
    ")\n",
    "ordersA_cumul.head()"
   ]
  },
  {
   "cell_type": "code",
   "execution_count": 20,
   "metadata": {},
   "outputs": [
    {
     "data": {
      "text/html": [
       "<div>\n",
       "<style scoped>\n",
       "    .dataframe tbody tr th:only-of-type {\n",
       "        vertical-align: middle;\n",
       "    }\n",
       "\n",
       "    .dataframe tbody tr th {\n",
       "        vertical-align: top;\n",
       "    }\n",
       "\n",
       "    .dataframe thead th {\n",
       "        text-align: right;\n",
       "    }\n",
       "</style>\n",
       "<table border=\"1\" class=\"dataframe\">\n",
       "  <thead>\n",
       "    <tr style=\"text-align: right;\">\n",
       "      <th></th>\n",
       "      <th>date</th>\n",
       "      <th>revenue</th>\n",
       "      <th>orders</th>\n",
       "      <th>buyers</th>\n",
       "    </tr>\n",
       "  </thead>\n",
       "  <tbody>\n",
       "    <tr>\n",
       "      <th>31</th>\n",
       "      <td>2019-08-01</td>\n",
       "      <td>101217</td>\n",
       "      <td>21</td>\n",
       "      <td>20</td>\n",
       "    </tr>\n",
       "    <tr>\n",
       "      <th>32</th>\n",
       "      <td>2019-08-02</td>\n",
       "      <td>266748</td>\n",
       "      <td>45</td>\n",
       "      <td>43</td>\n",
       "    </tr>\n",
       "    <tr>\n",
       "      <th>33</th>\n",
       "      <td>2019-08-03</td>\n",
       "      <td>380996</td>\n",
       "      <td>61</td>\n",
       "      <td>59</td>\n",
       "    </tr>\n",
       "    <tr>\n",
       "      <th>34</th>\n",
       "      <td>2019-08-04</td>\n",
       "      <td>489567</td>\n",
       "      <td>78</td>\n",
       "      <td>75</td>\n",
       "    </tr>\n",
       "    <tr>\n",
       "      <th>35</th>\n",
       "      <td>2019-08-05</td>\n",
       "      <td>581995</td>\n",
       "      <td>101</td>\n",
       "      <td>98</td>\n",
       "    </tr>\n",
       "  </tbody>\n",
       "</table>\n",
       "</div>"
      ],
      "text/plain": [
       "         date  revenue  orders  buyers\n",
       "31 2019-08-01   101217      21      20\n",
       "32 2019-08-02   266748      45      43\n",
       "33 2019-08-03   380996      61      59\n",
       "34 2019-08-04   489567      78      75\n",
       "35 2019-08-05   581995     101      98"
      ]
     },
     "execution_count": 20,
     "metadata": {},
     "output_type": "execute_result"
    }
   ],
   "source": [
    "ordersB_cumul = ordersB_daily.apply(\n",
    "    lambda x: ordersB_daily[ordersB_daily['date'] <= x['date']]\n",
    "    .agg({'date':'max', 'revenue':'sum', 'orders':'sum', 'buyers':'sum'}), \n",
    "    axis=1\n",
    ")\n",
    "ordersB_cumul.head()"
   ]
  },
  {
   "cell_type": "code",
   "execution_count": 21,
   "metadata": {},
   "outputs": [
    {
     "data": {
      "image/png": "[encoded data removed]",
      "text/plain": [
       "<Figure size 576x360 with 1 Axes>"
      ]
     },
     "metadata": {
      "needs_background": "light"
     },
     "output_type": "display_data"
    }
   ],
   "source": [
    "plt.figure(figsize=(8,5))\n",
    "plt.plot(ordersA_cumul['date'], ordersA_cumul['revenue'], label='A')\n",
    "plt.plot(ordersB_cumul['date'], ordersB_cumul['revenue'], label='B')\n",
    "plt.legend()\n",
    "plt.xlabel('дата')\n",
    "plt.ylabel('выручка')\n",
    "plt.title('График кумулятивной выручки по группам')\n",
    "plt.xticks(rotation=45);"
   ]
  },
  {
   "cell_type": "markdown",
   "metadata": {},
   "source": [
    "В группе А график выручки равномерно растет, в группе В в середине месяца наблюдается резкий скачок. Возможно появились очень дорогие заказы или увеличилось их количество. В целом на данном графике выручка в группе В несколько выше, чем в группе А. "
   ]
  },
  {
   "cell_type": "markdown",
   "metadata": {},
   "source": [
    "### Графики кумулятивного среднего чека по группам и относительного изменения кумулятивного среднего чека "
   ]
  },
  {
   "cell_type": "code",
   "execution_count": 22,
   "metadata": {},
   "outputs": [
    {
     "data": {
      "image/png": "[encoded data removed]",
      "text/plain": [
       "<Figure size 576x360 with 1 Axes>"
      ]
     },
     "metadata": {
      "needs_background": "light"
     },
     "output_type": "display_data"
    }
   ],
   "source": [
    "plt.figure(figsize=(8,5))\n",
    "plt.plot(ordersA_cumul['date'], ordersA_cumul['revenue'] / ordersA_cumul['orders'], label='A')\n",
    "plt.plot(ordersB_cumul['date'], ordersB_cumul['revenue'] / ordersB_cumul['orders'], label='B')\n",
    "plt.legend()\n",
    "plt.xlabel('дата')\n",
    "plt.ylabel('средний чек')\n",
    "plt.title('График кумулятивного среднего чека по группам')\n",
    "plt.xticks(rotation=45);"
   ]
  },
  {
   "cell_type": "markdown",
   "metadata": {},
   "source": [
    "На графике среднего чека также наблюдается скачок в середине месяца в группе В. Скорее всего в группу В попали дорогие заказы. К концу месяца средний чек в группе А более стабильный по сравнению с начальным периодом."
   ]
  },
  {
   "cell_type": "code",
   "execution_count": 23,
   "metadata": {},
   "outputs": [],
   "source": [
    "orders_cumul = ordersA_cumul.merge(ordersB_cumul, on='date', suffixes=['A', 'B'])"
   ]
  },
  {
   "cell_type": "code",
   "execution_count": 24,
   "metadata": {},
   "outputs": [
    {
     "data": {
      "image/png": "[encoded data removed]",
      "text/plain": [
       "<Figure size 576x360 with 1 Axes>"
      ]
     },
     "metadata": {
      "needs_background": "light"
     },
     "output_type": "display_data"
    }
   ],
   "source": [
    "plt.figure(figsize=(8,5))\n",
    "plt.plot(\n",
    "    orders_cumul['date'], \n",
    "    (orders_cumul['revenueB'] / orders_cumul['ordersB']) / (orders_cumul['revenueA'] / orders_cumul['ordersA']) - 1\n",
    ")\n",
    "plt.xlabel('дата')\n",
    "plt.ylabel('относительное изменение среднего чека')\n",
    "plt.title('График относительного изменения кумулятивного среднего чека')\n",
    "plt.axhline(y=0, color='black', linestyle='--')\n",
    "plt.xticks(rotation=45);"
   ]
  },
  {
   "cell_type": "markdown",
   "metadata": {},
   "source": [
    "График имеет резкие скачки. Необходимо провести анализ выбросов."
   ]
  },
  {
   "cell_type": "markdown",
   "metadata": {},
   "source": [
    "### График кумулятивного среднего количества заказов на посетителя по группам и относительного изменения кумулятивного среднего количества заказов"
   ]
  },
  {
   "cell_type": "code",
   "execution_count": 25,
   "metadata": {},
   "outputs": [
    {
     "data": {
      "text/html": [
       "<div>\n",
       "<style scoped>\n",
       "    .dataframe tbody tr th:only-of-type {\n",
       "        vertical-align: middle;\n",
       "    }\n",
       "\n",
       "    .dataframe tbody tr th {\n",
       "        vertical-align: top;\n",
       "    }\n",
       "\n",
       "    .dataframe thead th {\n",
       "        text-align: right;\n",
       "    }\n",
       "</style>\n",
       "<table border=\"1\" class=\"dataframe\">\n",
       "  <thead>\n",
       "    <tr style=\"text-align: right;\">\n",
       "      <th></th>\n",
       "      <th>group</th>\n",
       "      <th>date</th>\n",
       "      <th>revenue</th>\n",
       "      <th>orders</th>\n",
       "      <th>buyers</th>\n",
       "      <th>visitors</th>\n",
       "    </tr>\n",
       "  </thead>\n",
       "  <tbody>\n",
       "    <tr>\n",
       "      <th>0</th>\n",
       "      <td>A</td>\n",
       "      <td>2019-08-01</td>\n",
       "      <td>148579</td>\n",
       "      <td>24</td>\n",
       "      <td>20</td>\n",
       "      <td>719</td>\n",
       "    </tr>\n",
       "    <tr>\n",
       "      <th>1</th>\n",
       "      <td>A</td>\n",
       "      <td>2019-08-02</td>\n",
       "      <td>93822</td>\n",
       "      <td>20</td>\n",
       "      <td>19</td>\n",
       "      <td>619</td>\n",
       "    </tr>\n",
       "    <tr>\n",
       "      <th>2</th>\n",
       "      <td>A</td>\n",
       "      <td>2019-08-03</td>\n",
       "      <td>112473</td>\n",
       "      <td>24</td>\n",
       "      <td>24</td>\n",
       "      <td>507</td>\n",
       "    </tr>\n",
       "    <tr>\n",
       "      <th>3</th>\n",
       "      <td>A</td>\n",
       "      <td>2019-08-04</td>\n",
       "      <td>70825</td>\n",
       "      <td>16</td>\n",
       "      <td>15</td>\n",
       "      <td>717</td>\n",
       "    </tr>\n",
       "    <tr>\n",
       "      <th>4</th>\n",
       "      <td>A</td>\n",
       "      <td>2019-08-05</td>\n",
       "      <td>124218</td>\n",
       "      <td>25</td>\n",
       "      <td>25</td>\n",
       "      <td>756</td>\n",
       "    </tr>\n",
       "  </tbody>\n",
       "</table>\n",
       "</div>"
      ],
      "text/plain": [
       "  group       date  revenue  orders  buyers  visitors\n",
       "0     A 2019-08-01   148579      24      20       719\n",
       "1     A 2019-08-02    93822      20      19       619\n",
       "2     A 2019-08-03   112473      24      24       507\n",
       "3     A 2019-08-04    70825      16      15       717\n",
       "4     A 2019-08-05   124218      25      25       756"
      ]
     },
     "execution_count": 25,
     "metadata": {},
     "output_type": "execute_result"
    }
   ],
   "source": [
    "data_daily = orders_daily.merge(visits, on=['date','group'])\n",
    "data_daily.head()"
   ]
  },
  {
   "cell_type": "code",
   "execution_count": 26,
   "metadata": {},
   "outputs": [
    {
     "data": {
      "text/html": [
       "<div>\n",
       "<style scoped>\n",
       "    .dataframe tbody tr th:only-of-type {\n",
       "        vertical-align: middle;\n",
       "    }\n",
       "\n",
       "    .dataframe tbody tr th {\n",
       "        vertical-align: top;\n",
       "    }\n",
       "\n",
       "    .dataframe thead th {\n",
       "        text-align: right;\n",
       "    }\n",
       "</style>\n",
       "<table border=\"1\" class=\"dataframe\">\n",
       "  <thead>\n",
       "    <tr style=\"text-align: right;\">\n",
       "      <th></th>\n",
       "      <th>date</th>\n",
       "      <th>group</th>\n",
       "      <th>orders</th>\n",
       "      <th>visitors</th>\n",
       "    </tr>\n",
       "  </thead>\n",
       "  <tbody>\n",
       "    <tr>\n",
       "      <th>0</th>\n",
       "      <td>2019-08-01</td>\n",
       "      <td>A</td>\n",
       "      <td>24</td>\n",
       "      <td>719</td>\n",
       "    </tr>\n",
       "    <tr>\n",
       "      <th>1</th>\n",
       "      <td>2019-08-02</td>\n",
       "      <td>A</td>\n",
       "      <td>44</td>\n",
       "      <td>1338</td>\n",
       "    </tr>\n",
       "    <tr>\n",
       "      <th>2</th>\n",
       "      <td>2019-08-03</td>\n",
       "      <td>A</td>\n",
       "      <td>68</td>\n",
       "      <td>1845</td>\n",
       "    </tr>\n",
       "    <tr>\n",
       "      <th>3</th>\n",
       "      <td>2019-08-04</td>\n",
       "      <td>A</td>\n",
       "      <td>84</td>\n",
       "      <td>2562</td>\n",
       "    </tr>\n",
       "    <tr>\n",
       "      <th>4</th>\n",
       "      <td>2019-08-05</td>\n",
       "      <td>A</td>\n",
       "      <td>109</td>\n",
       "      <td>3318</td>\n",
       "    </tr>\n",
       "    <tr>\n",
       "      <th>...</th>\n",
       "      <td>...</td>\n",
       "      <td>...</td>\n",
       "      <td>...</td>\n",
       "      <td>...</td>\n",
       "    </tr>\n",
       "    <tr>\n",
       "      <th>57</th>\n",
       "      <td>2019-08-27</td>\n",
       "      <td>B</td>\n",
       "      <td>548</td>\n",
       "      <td>16523</td>\n",
       "    </tr>\n",
       "    <tr>\n",
       "      <th>58</th>\n",
       "      <td>2019-08-28</td>\n",
       "      <td>B</td>\n",
       "      <td>576</td>\n",
       "      <td>17177</td>\n",
       "    </tr>\n",
       "    <tr>\n",
       "      <th>59</th>\n",
       "      <td>2019-08-29</td>\n",
       "      <td>B</td>\n",
       "      <td>596</td>\n",
       "      <td>17708</td>\n",
       "    </tr>\n",
       "    <tr>\n",
       "      <th>60</th>\n",
       "      <td>2019-08-30</td>\n",
       "      <td>B</td>\n",
       "      <td>620</td>\n",
       "      <td>18198</td>\n",
       "    </tr>\n",
       "    <tr>\n",
       "      <th>61</th>\n",
       "      <td>2019-08-31</td>\n",
       "      <td>B</td>\n",
       "      <td>640</td>\n",
       "      <td>18916</td>\n",
       "    </tr>\n",
       "  </tbody>\n",
       "</table>\n",
       "<p>62 rows × 4 columns</p>\n",
       "</div>"
      ],
      "text/plain": [
       "         date group  orders  visitors\n",
       "0  2019-08-01     A      24       719\n",
       "1  2019-08-02     A      44      1338\n",
       "2  2019-08-03     A      68      1845\n",
       "3  2019-08-04     A      84      2562\n",
       "4  2019-08-05     A     109      3318\n",
       "..        ...   ...     ...       ...\n",
       "57 2019-08-27     B     548     16523\n",
       "58 2019-08-28     B     576     17177\n",
       "59 2019-08-29     B     596     17708\n",
       "60 2019-08-30     B     620     18198\n",
       "61 2019-08-31     B     640     18916\n",
       "\n",
       "[62 rows x 4 columns]"
      ]
     },
     "execution_count": 26,
     "metadata": {},
     "output_type": "execute_result"
    }
   ],
   "source": [
    "data_cumul = visits[['date', 'group']].apply(\n",
    "    lambda x: data_daily[np.logical_and(\n",
    "        data_daily['date'] <= x['date'],\n",
    "        data_daily['group'] == x['group']\n",
    "        )].agg({'date':'max', 'group':'max', 'orders':'sum', 'visitors':'sum'}), axis=1\n",
    "    )\n",
    "data_cumul"
   ]
  },
  {
   "cell_type": "code",
   "execution_count": 27,
   "metadata": {},
   "outputs": [],
   "source": [
    "data_cumulA = data_cumul[data_cumul['group'] == 'A'][['date', 'orders', 'visitors']]\n",
    "data_cumulB = data_cumul[data_cumul['group'] == 'B'][['date', 'orders', 'visitors']]"
   ]
  },
  {
   "cell_type": "code",
   "execution_count": 28,
   "metadata": {},
   "outputs": [
    {
     "data": {
      "image/png": "[encoded data removed]",
      "text/plain": [
       "<Figure size 576x360 with 1 Axes>"
      ]
     },
     "metadata": {
      "needs_background": "light"
     },
     "output_type": "display_data"
    }
   ],
   "source": [
    "plt.figure(figsize=(8,5))\n",
    "plt.plot(\n",
    "    data_cumulA['date'], \n",
    "    data_cumulA['orders'] / data_cumulA['visitors'],\n",
    "    label='A'\n",
    ")\n",
    "plt.plot(\n",
    "    data_cumulB['date'], \n",
    "    data_cumulB['orders'] / data_cumulB['visitors'],\n",
    "    label='B'\n",
    ")\n",
    "plt.legend()\n",
    "plt.ylim(0, 0.04)\n",
    "plt.xlabel('дата')\n",
    "plt.ylabel('среднее количество заказов на посетителя')\n",
    "plt.title('График кумулятивного среднего количества заказов на посетителя по группам')\n",
    "plt.xticks(rotation=45);"
   ]
  },
  {
   "cell_type": "markdown",
   "metadata": {},
   "source": [
    "К концу периода среднее количество заказов установилось около определенных значений. Среднее количество заказов в группе В больше, чем в группе А."
   ]
  },
  {
   "cell_type": "code",
   "execution_count": 29,
   "metadata": {},
   "outputs": [],
   "source": [
    "data_cumul_merged = data_cumulA.merge(data_cumulB, on='date', suffixes=['A', 'B'])"
   ]
  },
  {
   "cell_type": "code",
   "execution_count": 30,
   "metadata": {},
   "outputs": [
    {
     "data": {
      "image/png": "[encoded data removed]",
      "text/plain": [
       "<Figure size 576x360 with 1 Axes>"
      ]
     },
     "metadata": {
      "needs_background": "light"
     },
     "output_type": "display_data"
    }
   ],
   "source": [
    "plt.figure(figsize=(8,5))\n",
    "plt.plot(\n",
    "    data_cumul_merged['date'], \n",
    "    (\n",
    "        data_cumul_merged['ordersB'] / data_cumul_merged['visitorsB']) / \n",
    "        (data_cumul_merged['ordersA'] / data_cumul_merged['visitorsA']\n",
    "        ) - 1\n",
    ")\n",
    "plt.xlabel('дата')\n",
    "plt.ylabel('относительное изменение среднего количества заказов')\n",
    "plt.title('График относительного изменения кумулятивного среднего количества заказов')\n",
    "plt.axhline(y=0, color='black', linestyle='--')\n",
    "plt.axhline(y=0.15, color='grey', linestyle='--')\n",
    "plt.xticks(rotation=45);"
   ]
  },
  {
   "cell_type": "markdown",
   "metadata": {},
   "source": [
    "Судя по этому графику среднее количество заказов в группе В стабильно лучше чем в группе А. Однако необходимо провести расчет статистической значимости."
   ]
  },
  {
   "cell_type": "markdown",
   "metadata": {},
   "source": [
    "### Анализ выбросов"
   ]
  },
  {
   "cell_type": "code",
   "execution_count": 31,
   "metadata": {},
   "outputs": [],
   "source": [
    "orders_cnt = orders.groupby('visitor_id', as_index=False).agg({'transaction_id':'nunique', 'group':'max'})\n",
    "orders_cnt.columns = ['user_id', 'orders', 'group']"
   ]
  },
  {
   "cell_type": "code",
   "execution_count": 32,
   "metadata": {},
   "outputs": [
    {
     "data": {
      "image/png": "[encoded data removed]",
      "text/plain": [
       "<Figure size 576x360 with 1 Axes>"
      ]
     },
     "metadata": {
      "needs_background": "light"
     },
     "output_type": "display_data"
    }
   ],
   "source": [
    "plt.figure(figsize=(8,5))\n",
    "x_values = pd.Series(range(0, len(orders_cnt['orders'])))\n",
    "plt.scatter(x_values, orders_cnt['orders'])\n",
    "plt.title('График количества заказов по пользователям')\n",
    "plt.ylabel('количество заказов')\n",
    "plt.xlabel('порядковый номер');"
   ]
  },
  {
   "cell_type": "code",
   "execution_count": 33,
   "metadata": {},
   "outputs": [
    {
     "data": {
      "text/plain": [
       "array([2., 4.])"
      ]
     },
     "execution_count": 33,
     "metadata": {},
     "output_type": "execute_result"
    }
   ],
   "source": [
    "np.percentile(orders_cnt['orders'], [95, 99])"
   ]
  },
  {
   "cell_type": "markdown",
   "metadata": {},
   "source": [
    "Не более 5% пользователей делали больше 2 заказов, не более 1% пользователей делали более 4 заказов. \n",
    "Можно отсеять пользователей, сделавших 2 и более заказов."
   ]
  },
  {
   "cell_type": "code",
   "execution_count": 34,
   "metadata": {},
   "outputs": [
    {
     "data": {
      "image/png": "[encoded data removed]",
      "text/plain": [
       "<Figure size 576x360 with 1 Axes>"
      ]
     },
     "metadata": {
      "needs_background": "light"
     },
     "output_type": "display_data"
    }
   ],
   "source": [
    "plt.figure(figsize=(8,5))\n",
    "x_values = pd.Series(range(0, len(orders['revenue'])))\n",
    "plt.scatter(x_values, orders['revenue'])\n",
    "plt.title('График стоимостей заказов')\n",
    "plt.ylabel('стоимость заказа')\n",
    "plt.xlabel('порядковый номер заказа');"
   ]
  },
  {
   "cell_type": "markdown",
   "metadata": {},
   "source": [
    "Один заказ стоит аномально дорого по сравнению со всеми - его стоимость порядка миллиона.   \n",
    "Приблизим масштаб чтобы увидеть как распределена стоимость до 100 тыс:"
   ]
  },
  {
   "cell_type": "code",
   "execution_count": 35,
   "metadata": {},
   "outputs": [
    {
     "data": {
      "image/png": "[encoded data removed]",
      "text/plain": [
       "<Figure size 576x360 with 1 Axes>"
      ]
     },
     "metadata": {
      "needs_background": "light"
     },
     "output_type": "display_data"
    }
   ],
   "source": [
    "plt.figure(figsize=(8,5))\n",
    "x_values = pd.Series(range(0, len(orders['revenue'])))\n",
    "plt.scatter(x_values, orders['revenue'])\n",
    "plt.ylim(0, 100000)\n",
    "plt.title('График стоимостей заказов')\n",
    "plt.ylabel('стоимость заказа')\n",
    "plt.xlabel('порядковый номер заказа');"
   ]
  },
  {
   "cell_type": "code",
   "execution_count": 36,
   "metadata": {},
   "outputs": [
    {
     "data": {
      "text/plain": [
       "array([28000. , 58233.2])"
      ]
     },
     "execution_count": 36,
     "metadata": {},
     "output_type": "execute_result"
    }
   ],
   "source": [
    "np.percentile(orders['revenue'], [95, 99])"
   ]
  },
  {
   "cell_type": "markdown",
   "metadata": {},
   "source": [
    "Не более 5% заказов стоят дороже 28000, не более 1% заказов стоят дороже 58233. \n",
    "Примем за аномальные заказы стоимостью от 28000. Отсеем пользователей совершивших такие заказы. "
   ]
  },
  {
   "cell_type": "markdown",
   "metadata": {},
   "source": [
    "### Расчет статистической значимости по \"сырым\" данным"
   ]
  },
  {
   "cell_type": "markdown",
   "metadata": {},
   "source": [
    "**Посчитаем статистическую значимость различий в среднем количестве заказов на посетителя между группами по «сырым» данным.**"
   ]
  },
  {
   "cell_type": "code",
   "execution_count": 37,
   "metadata": {},
   "outputs": [],
   "source": [
    "orders_by_usersA = (\n",
    "    orders[orders['group'] == 'A']\n",
    "    .groupby('visitor_id', as_index=False)\n",
    "    .agg({'transaction_id':'nunique'})\n",
    ")\n",
    "orders_by_usersA.columns = ['user_id', 'orders']\n",
    "\n",
    "orders_by_usersB = (\n",
    "    orders[orders['group'] == 'B']\n",
    "    .groupby('visitor_id', as_index=False)\n",
    "    .agg({'transaction_id':'nunique'})\n",
    ")\n",
    "orders_by_usersB.columns = ['user_id', 'orders']"
   ]
  },
  {
   "cell_type": "code",
   "execution_count": 38,
   "metadata": {},
   "outputs": [
    {
     "data": {
      "text/plain": [
       "18736"
      ]
     },
     "execution_count": 38,
     "metadata": {},
     "output_type": "execute_result"
    }
   ],
   "source": [
    "# добавим к данным с количеством заказов на покупателей нули для посетителей, которые ничего не купили\n",
    "sampleA = pd.concat(\n",
    "    [\n",
    "        orders_by_usersA['orders'],\n",
    "        pd.Series(\n",
    "            0, \n",
    "            index=np.arange(\n",
    "                visits[visits['group'] == 'A']['visitors'].sum() - len(orders_by_usersA['orders'])\n",
    "            )\n",
    "        )\n",
    "    ],\n",
    "    axis=0\n",
    ")\n",
    "sampleA.count()"
   ]
  },
  {
   "cell_type": "code",
   "execution_count": 39,
   "metadata": {},
   "outputs": [
    {
     "data": {
      "text/plain": [
       "18916"
      ]
     },
     "execution_count": 39,
     "metadata": {},
     "output_type": "execute_result"
    }
   ],
   "source": [
    "sampleB = pd.concat(\n",
    "    [\n",
    "        orders_by_usersB['orders'],\n",
    "        pd.Series(\n",
    "            0, \n",
    "            index=np.arange(\n",
    "                visits[visits['group'] == 'B']['visitors'].sum() - len(orders_by_usersB['orders'])\n",
    "            )\n",
    "        )\n",
    "    ],\n",
    "    axis=0\n",
    ")\n",
    "sampleB.count()"
   ]
  },
  {
   "cell_type": "markdown",
   "metadata": {},
   "source": [
    "Для проверки гипотезы используем критерий Манна-Уитни, поскольку в данных есть значительные выбросы.\n",
    "\n",
    "Сформулируем гипотезы:\n",
    "- Нулевая гипотеза: Нет статистически значимых различий в среднем количестве заказов на посетителя между группами по \"сырым\" данным. \n",
    "- Альтернативная гипотеза: Есть статистически значимые различия в среднем количестве заказов на пользователя между группами по \"сырым\" данным.\n",
    "\n",
    "Выберем уровень статистической значимости - 5%."
   ]
  },
  {
   "cell_type": "code",
   "execution_count": 40,
   "metadata": {},
   "outputs": [
    {
     "name": "stdout",
     "output_type": "stream",
     "text": [
      "p-value: 0.017\n"
     ]
    }
   ],
   "source": [
    "print('p-value:', '{0:.3f}'.format(st.mannwhitneyu(sampleA, sampleB)[1]))"
   ]
  },
  {
   "cell_type": "code",
   "execution_count": 41,
   "metadata": {},
   "outputs": [
    {
     "name": "stdout",
     "output_type": "stream",
     "text": [
      "Относительное изменение среднего количества заказов: 0.14\n"
     ]
    }
   ],
   "source": [
    "print('Относительное изменение среднего количества заказов:', \n",
    "      '{0:.2f}'.format(sampleB.mean() / sampleA.mean() -1)\n",
    ")"
   ]
  },
  {
   "cell_type": "markdown",
   "metadata": {},
   "source": [
    "P-value ниже уровня статистической значимости, значит нулевую гипотезу отвергаем.   \n",
    "Относительный прирост среднего количества заказов в группе В, по сравнению с группой А - 14%, это статистически значимое различие."
   ]
  },
  {
   "cell_type": "markdown",
   "metadata": {},
   "source": [
    "**Посчитаем статистическую значимость различий в средних чеках заказов между группами по «сырым» данным.**"
   ]
  },
  {
   "cell_type": "markdown",
   "metadata": {},
   "source": [
    "Также используем критерий Манна-Уитни для проверки гипотезы.\n",
    "\n",
    "- Нулевая гипотеза: Нет статистически значимых различий в средних чеках между группами по \"сырым\" данным.\n",
    "- Альтернативная гипотеза: Есть статистически значимые различия в средних чеках между группами по \"сырым\" данным. \n",
    "\n",
    "Уровень статистической значимости - 5%."
   ]
  },
  {
   "cell_type": "code",
   "execution_count": 42,
   "metadata": {},
   "outputs": [
    {
     "name": "stdout",
     "output_type": "stream",
     "text": [
      "p-value: 0.729\n"
     ]
    }
   ],
   "source": [
    "print('p-value:', '{0:.3f}'.format(\n",
    "    st.mannwhitneyu(\n",
    "        orders[orders['group'] == 'A']['revenue'], \n",
    "        orders[orders['group'] == 'B']['revenue']\n",
    "    )[1]\n",
    "))"
   ]
  },
  {
   "cell_type": "code",
   "execution_count": 43,
   "metadata": {},
   "outputs": [
    {
     "name": "stdout",
     "output_type": "stream",
     "text": [
      "Относительное отличие средних чеков между группами: 0.26\n"
     ]
    }
   ],
   "source": [
    "print('Относительное отличие средних чеков между группами:', \n",
    "      '{0:.2}'.format(\n",
    "          orders[orders['group'] == 'B']['revenue'].mean() \n",
    "          / orders[orders['group'] == 'A']['revenue'].mean() - 1\n",
    "     )\n",
    ")"
   ]
  },
  {
   "cell_type": "markdown",
   "metadata": {},
   "source": [
    "P-value выше уровня статистической значимости, нулевую гипотезу нельзя отвергнуть. Относительное отличие среднего чека в группе В по отношению к группе А - 26%, оно статистически не значимо."
   ]
  },
  {
   "cell_type": "markdown",
   "metadata": {},
   "source": [
    "### Расчет статистической значимости по \"очищенным\" данным"
   ]
  },
  {
   "cell_type": "markdown",
   "metadata": {},
   "source": [
    "**Посчитаем статистическую значимость различий в среднем количестве заказов на посетителя между группами по «очищенным» данным.**   \n",
    "\n",
    "Удалим данные о пользователях, сделавших 2 и более заказов и заказы на сумму от 28000."
   ]
  },
  {
   "cell_type": "markdown",
   "metadata": {},
   "source": [
    "- Нулевая гипотеза: Нет статистически значимых различий в среднем количестве заказов на посетителя между группами по \"очищенным\" данным. \n",
    "- Альтернативная гипотеза: Есть статистически значимые различия в среднем количестве заказов на пользователя между группами по \"очищенным\" данным.\n",
    "\n",
    "Уровень статистической значимости - 5%."
   ]
  },
  {
   "cell_type": "code",
   "execution_count": 44,
   "metadata": {
    "scrolled": true
   },
   "outputs": [
    {
     "data": {
      "text/plain": [
       "111"
      ]
     },
     "execution_count": 44,
     "metadata": {},
     "output_type": "execute_result"
    }
   ],
   "source": [
    "# Создадим переменную с \"аномальными\" пользователями\n",
    "users_many_orders = pd.concat(\n",
    "    [\n",
    "        orders_by_usersA[orders_by_usersA['orders'] >= np.percentile(orders_cnt['orders'], 95)]['user_id'],\n",
    "        orders_by_usersB[orders_by_usersB['orders'] >= np.percentile(orders_cnt['orders'], 95)]['user_id'],\n",
    "    ],\n",
    "    axis=0,\n",
    ")\n",
    "users_expensive_orders = orders[orders['revenue'] >= np.percentile(orders['revenue'], 95)]['visitor_id']\n",
    "\n",
    "abnormal_users = (\n",
    "    pd.concat([users_many_orders, users_expensive_orders], axis=0)\n",
    "    .drop_duplicates()\n",
    ")\n",
    "\n",
    "abnormal_users.count()"
   ]
  },
  {
   "cell_type": "code",
   "execution_count": 45,
   "metadata": {},
   "outputs": [
    {
     "data": {
      "text/plain": [
       "18669"
      ]
     },
     "execution_count": 45,
     "metadata": {},
     "output_type": "execute_result"
    }
   ],
   "source": [
    "sampleA_purified = pd.concat(\n",
    "    [\n",
    "        orders_by_usersA[np.logical_not(orders_by_usersA['user_id'].isin(abnormal_users))]['orders'],\n",
    "        pd.Series(\n",
    "            0, index=np.arange(visits[visits['group'] == 'A']['visitors'].sum() - len(orders_by_usersA))\n",
    "        )\n",
    "    ], axis=0\n",
    ")\n",
    "sampleA_purified.count()"
   ]
  },
  {
   "cell_type": "code",
   "execution_count": 46,
   "metadata": {},
   "outputs": [
    {
     "data": {
      "text/plain": [
       "18844"
      ]
     },
     "execution_count": 46,
     "metadata": {},
     "output_type": "execute_result"
    }
   ],
   "source": [
    "sampleB_purified = pd.concat(\n",
    "    [\n",
    "        orders_by_usersB[np.logical_not(orders_by_usersB['user_id'].isin(abnormal_users))]['orders'],\n",
    "        pd.Series(\n",
    "            0, index=np.arange(visits[visits['group'] == 'B']['visitors'].sum() - len(orders_by_usersB))\n",
    "        )\n",
    "    ], axis=0\n",
    ")\n",
    "sampleB_purified.count()"
   ]
  },
  {
   "cell_type": "code",
   "execution_count": 47,
   "metadata": {},
   "outputs": [
    {
     "name": "stdout",
     "output_type": "stream",
     "text": [
      "p-value: 0.016\n"
     ]
    }
   ],
   "source": [
    "print('p-value:', '{0:.3f}'.format(st.mannwhitneyu(sampleA_purified, sampleB_purified)[1]))"
   ]
  },
  {
   "cell_type": "code",
   "execution_count": 48,
   "metadata": {},
   "outputs": [
    {
     "name": "stdout",
     "output_type": "stream",
     "text": [
      "Относительное изменение среднего количества заказов: 0.17\n"
     ]
    }
   ],
   "source": [
    "print('Относительное изменение среднего количества заказов:', \n",
    "      '{0:.2}'.format(sampleB_purified.mean() / sampleA_purified.mean() - 1)\n",
    "     )"
   ]
  },
  {
   "cell_type": "markdown",
   "metadata": {},
   "source": [
    "p-value по-прежнему меньше уровня статистической значимости и нулевая гипотеза отвергается. Относительное изменение среднего количества заказов на пользователя по \"очищенным\" данным стало 17%. Это статистически значимое отличие."
   ]
  },
  {
   "cell_type": "markdown",
   "metadata": {},
   "source": [
    "**Посчитаем статистическую значимость различий в среднем чеке заказа между группами по «очищенным» данным.**"
   ]
  },
  {
   "cell_type": "markdown",
   "metadata": {},
   "source": [
    "- Нулевая гипотеза: Нет статистически значимых различий в средних чеках между группами по \"очищенным\" данным.\n",
    "- Альтернативная гипотеза: Есть статистически значимые различия в средних чеках между группами по \"очищенным\" данным.  \n",
    "\n",
    "Уровень статистической значимости - 5%."
   ]
  },
  {
   "cell_type": "code",
   "execution_count": 49,
   "metadata": {},
   "outputs": [
    {
     "name": "stdout",
     "output_type": "stream",
     "text": [
      "p-value: 0.835\n"
     ]
    }
   ],
   "source": [
    "print('p-value:', '{0:.3}'.format(\n",
    "    st.mannwhitneyu(\n",
    "        orders[\n",
    "            np.logical_and(\n",
    "                orders['group'] == 'A', \n",
    "                np.logical_not(\n",
    "                    orders['visitor_id'].isin(abnormal_users)\n",
    "                )\n",
    "            )\n",
    "       ]['revenue'],\n",
    "        orders[\n",
    "            np.logical_and(\n",
    "                orders['group'] == 'B', \n",
    "                np.logical_not(\n",
    "                    orders['visitor_id'].isin(abnormal_users)\n",
    "                )\n",
    "            )\n",
    "       ]['revenue']\n",
    "    )[1]\n",
    "))"
   ]
  },
  {
   "cell_type": "code",
   "execution_count": 50,
   "metadata": {},
   "outputs": [
    {
     "name": "stdout",
     "output_type": "stream",
     "text": [
      "Относительное отличие средних чеков между группами: -0.01\n"
     ]
    }
   ],
   "source": [
    "print('Относительное отличие средних чеков между группами:', \"{0:.2f}\".format(\n",
    "    (\n",
    "    orders[\n",
    "        np.logical_and(\n",
    "            orders['group'] == 'B', \n",
    "            np.logical_not(\n",
    "                orders['visitor_id'].isin(abnormal_users)\n",
    "            )\n",
    "        )\n",
    "    ]['revenue'].mean() /\n",
    "    orders[\n",
    "        np.logical_and(\n",
    "            orders['group'] == 'A', \n",
    "            np.logical_not(\n",
    "                orders['visitor_id'].isin(abnormal_users)\n",
    "            )\n",
    "        )\n",
    "    ]['revenue'].mean()\n",
    "    ) - 1\n",
    "))"
   ]
  },
  {
   "cell_type": "markdown",
   "metadata": {},
   "source": [
    "Так же как при расчете по \"сырым\" данным p-value выше уровня статистической значимости, нулевую гипотезу нельзя отвергнуть. Однако изменилось относительное отличие среднего чека с 26% до 1% с проигрышем группы В."
   ]
  },
  {
   "cell_type": "markdown",
   "metadata": {},
   "source": [
    "Посмотрим как изменились графики кумулятивных метрик при удалении выбросов:"
   ]
  },
  {
   "cell_type": "code",
   "execution_count": 51,
   "metadata": {
    "scrolled": true
   },
   "outputs": [],
   "source": [
    "data_daily_purified = (\n",
    "    orders.query('visitor_id not in @abnormal_users')\n",
    "    .groupby(['group','date'], as_index=False)\n",
    "    .agg({'revenue':'sum', 'transaction_id':'nunique', 'visitor_id':'nunique'})\n",
    "    .merge(visits, on=['date','group'])\n",
    ")\n",
    "data_daily_purified.rename(columns={'transaction_id':'orders', 'visitor_id':'buyers'}, inplace=True)"
   ]
  },
  {
   "cell_type": "code",
   "execution_count": 52,
   "metadata": {},
   "outputs": [],
   "source": [
    "data_cumul_purified = visits[['date', 'group']].apply(\n",
    "    lambda x: data_daily_purified[np.logical_and(\n",
    "        data_daily_purified['date'] <= x['date'],\n",
    "        data_daily_purified['group'] == x['group']\n",
    "        )].agg({'date':'max', 'group':'max', 'revenue':'sum', 'orders':'sum', 'visitors':'sum'}), axis=1\n",
    "    )\n",
    "A_cumul_purified = data_cumul_purified[data_cumul_purified['group'] == 'A']\n",
    "B_cumul_purified = data_cumul_purified[data_cumul_purified['group'] == 'B']"
   ]
  },
  {
   "cell_type": "code",
   "execution_count": 53,
   "metadata": {},
   "outputs": [
    {
     "data": {
      "image/png": "[encoded data removed]",
      "text/plain": [
       "<Figure size 576x360 with 1 Axes>"
      ]
     },
     "metadata": {
      "needs_background": "light"
     },
     "output_type": "display_data"
    }
   ],
   "source": [
    "plt.figure(figsize=(8,5))\n",
    "plt.plot(A_cumul_purified['date'], A_cumul_purified['revenue'] / A_cumul_purified['orders'], label='A')\n",
    "plt.plot(B_cumul_purified['date'], B_cumul_purified['revenue'] / B_cumul_purified['orders'], label='B')\n",
    "plt.legend()\n",
    "plt.xlabel('дата')\n",
    "plt.ylabel('средний чек')\n",
    "plt.title('График кумулятивного среднего чека по группам по \"очищенным\" данным')\n",
    "plt.xticks(rotation=45);"
   ]
  },
  {
   "cell_type": "code",
   "execution_count": 54,
   "metadata": {
    "scrolled": false
   },
   "outputs": [
    {
     "data": {
      "image/png": "[encoded data removed]",
      "text/plain": [
       "<Figure size 576x360 with 1 Axes>"
      ]
     },
     "metadata": {
      "needs_background": "light"
     },
     "output_type": "display_data"
    }
   ],
   "source": [
    "plt.figure(figsize=(8,5))\n",
    "plt.plot(\n",
    "    A_cumul_purified['date'], \n",
    "    A_cumul_purified['orders'] / A_cumul_purified['visitors'],\n",
    "    label='A'\n",
    ")\n",
    "plt.plot(\n",
    "    B_cumul_purified['date'], \n",
    "    B_cumul_purified['orders'] / B_cumul_purified['visitors'],\n",
    "    label='B'\n",
    ")\n",
    "plt.legend()\n",
    "plt.xlabel('дата')\n",
    "plt.ylabel('среднее количество заказов на посетителя')\n",
    "plt.title('График кумулятивного среднего количества заказов по группам по \"очищенным\" данным')\n",
    "plt.ylim(0, 0.04)\n",
    "plt.xticks(rotation=45);"
   ]
  },
  {
   "cell_type": "markdown",
   "metadata": {},
   "source": [
    "## Общий вывод"
   ]
  },
  {
   "cell_type": "markdown",
   "metadata": {},
   "source": [
    "В исследовании были изучены имеющиеся данные, преобразованы названия столбцов, столбцы с датами приведены к соответствующему формату. Пропуски и дубликаты в данных отсутствовали. Проверено равенство трафика в группах.\n",
    "\n",
    "Были приоритизированы гипотезы способами ICE и RICE. С помощью RICE была определена наиболее приоритетная гипотеза, которая затрагивает большее число пользователей. Наиболее приоритетная гипотеза: \"Добавить форму подписки на все основные страницы, чтобы собрать базу клиентов для email-рассылок\". Для ее проверки проанализованы результаты А/В-теста.\n",
    "\n",
    "Построены графики кумулятивных метрик и их относительного изменения. По графикам выручки и среднего чека удалось определить наличие выбросов в данных.\n",
    "\n",
    "Проведен анализ выбросов в стоимости и количестве заказов на пользователя: построены графики и посчитаны перцентили. За аномальных пользователей приняли тех, кто сделал 2 и более заказов и заказы стоимостью от 28000. Получили \"очищенные\" данные после удаления таких покупателей. \n",
    "\n",
    "Проведены расчеты статистической значимости по \"сырым\" и \"очищенным\" данным. В результате установлено, что среднее количество заказов на пользователя в группе В больше, чем в группе А. При этом относительное изменение по \"очищенным\" данным составило 17%. Средний чек не изменился в группе В по сравнению с группой А.  \n",
    "Таким образом, тест можно остановить и зафиксировать победу группы В, так как увеличение прибыли реализуется за счет большего количества заказов."
   ]
  }
 ],
 "metadata": {
  "ExecuteTimeLog": [
   {
    "duration": 1130,
    "start_time": "2023-05-27T14:31:05.871Z"
   },
   {
    "duration": 503,
    "start_time": "2023-05-27T14:34:24.589Z"
   },
   {
    "duration": 211,
    "start_time": "2023-05-27T14:38:55.548Z"
   },
   {
    "duration": 17,
    "start_time": "2023-05-27T14:39:10.409Z"
   },
   {
    "duration": 8,
    "start_time": "2023-05-27T14:39:28.582Z"
   },
   {
    "duration": 8,
    "start_time": "2023-05-27T14:39:36.947Z"
   },
   {
    "duration": 10,
    "start_time": "2023-05-27T14:40:22.982Z"
   },
   {
    "duration": 6,
    "start_time": "2023-05-27T14:40:42.340Z"
   },
   {
    "duration": 10,
    "start_time": "2023-05-27T14:40:47.696Z"
   },
   {
    "duration": 14,
    "start_time": "2023-05-27T14:41:46.380Z"
   },
   {
    "duration": 16,
    "start_time": "2023-05-27T14:42:09.901Z"
   },
   {
    "duration": 9,
    "start_time": "2023-05-27T14:43:00.458Z"
   },
   {
    "duration": 10,
    "start_time": "2023-05-27T14:43:10.307Z"
   },
   {
    "duration": 10,
    "start_time": "2023-05-27T14:43:53.837Z"
   },
   {
    "duration": 4,
    "start_time": "2023-05-27T14:45:49.896Z"
   },
   {
    "duration": 6,
    "start_time": "2023-05-27T14:46:15.870Z"
   },
   {
    "duration": 4,
    "start_time": "2023-05-27T14:46:24.941Z"
   },
   {
    "duration": 102,
    "start_time": "2023-05-27T14:47:42.933Z"
   },
   {
    "duration": 4,
    "start_time": "2023-05-27T14:48:23.499Z"
   },
   {
    "duration": 4,
    "start_time": "2023-05-27T14:48:32.108Z"
   },
   {
    "duration": 10,
    "start_time": "2023-05-27T14:48:42.663Z"
   },
   {
    "duration": 10,
    "start_time": "2023-05-27T14:48:45.501Z"
   },
   {
    "duration": 16,
    "start_time": "2023-05-27T14:48:47.729Z"
   },
   {
    "duration": 54,
    "start_time": "2023-05-28T14:53:27.119Z"
   },
   {
    "duration": 1392,
    "start_time": "2023-05-28T14:53:31.993Z"
   },
   {
    "duration": 241,
    "start_time": "2023-05-28T14:53:33.387Z"
   },
   {
    "duration": 23,
    "start_time": "2023-05-28T14:53:33.630Z"
   },
   {
    "duration": 6,
    "start_time": "2023-05-28T14:53:33.655Z"
   },
   {
    "duration": 19,
    "start_time": "2023-05-28T14:53:33.666Z"
   },
   {
    "duration": 16,
    "start_time": "2023-05-28T14:53:33.687Z"
   },
   {
    "duration": 15,
    "start_time": "2023-05-28T14:53:33.705Z"
   },
   {
    "duration": 15,
    "start_time": "2023-05-28T14:53:35.253Z"
   },
   {
    "duration": 6,
    "start_time": "2023-05-28T14:57:42.106Z"
   },
   {
    "duration": 15,
    "start_time": "2023-05-28T14:57:52.510Z"
   },
   {
    "duration": 13,
    "start_time": "2023-05-28T14:58:19.490Z"
   },
   {
    "duration": 99,
    "start_time": "2023-05-28T14:58:29.840Z"
   },
   {
    "duration": 16,
    "start_time": "2023-05-28T14:58:35.948Z"
   },
   {
    "duration": 18,
    "start_time": "2023-05-28T15:01:23.494Z"
   },
   {
    "duration": 10,
    "start_time": "2023-05-28T15:56:02.105Z"
   },
   {
    "duration": 15,
    "start_time": "2023-05-28T15:59:18.319Z"
   },
   {
    "duration": 12,
    "start_time": "2023-05-28T15:59:26.812Z"
   },
   {
    "duration": 9,
    "start_time": "2023-05-28T16:00:00.784Z"
   },
   {
    "duration": 16,
    "start_time": "2023-05-28T16:00:06.444Z"
   },
   {
    "duration": 13,
    "start_time": "2023-05-28T16:00:15.403Z"
   },
   {
    "duration": 16,
    "start_time": "2023-05-28T16:00:32.359Z"
   },
   {
    "duration": 536,
    "start_time": "2023-05-28T16:02:45.963Z"
   },
   {
    "duration": 4,
    "start_time": "2023-05-28T16:02:54.067Z"
   },
   {
    "duration": 176,
    "start_time": "2023-05-28T16:02:54.074Z"
   },
   {
    "duration": 22,
    "start_time": "2023-05-28T16:02:54.252Z"
   },
   {
    "duration": 4,
    "start_time": "2023-05-28T16:02:54.280Z"
   },
   {
    "duration": 14,
    "start_time": "2023-05-28T16:02:54.286Z"
   },
   {
    "duration": 10,
    "start_time": "2023-05-28T16:02:54.302Z"
   },
   {
    "duration": 11,
    "start_time": "2023-05-28T16:02:54.314Z"
   },
   {
    "duration": 13,
    "start_time": "2023-05-28T16:02:58.312Z"
   },
   {
    "duration": 19,
    "start_time": "2023-05-28T16:03:09.069Z"
   },
   {
    "duration": 12,
    "start_time": "2023-05-28T16:03:15.080Z"
   },
   {
    "duration": 575,
    "start_time": "2023-05-28T16:04:09.468Z"
   },
   {
    "duration": 2,
    "start_time": "2023-05-28T16:04:35.894Z"
   },
   {
    "duration": 89,
    "start_time": "2023-05-28T16:04:35.898Z"
   },
   {
    "duration": 17,
    "start_time": "2023-05-28T16:04:35.989Z"
   },
   {
    "duration": 4,
    "start_time": "2023-05-28T16:04:36.008Z"
   },
   {
    "duration": 15,
    "start_time": "2023-05-28T16:04:36.014Z"
   },
   {
    "duration": 29,
    "start_time": "2023-05-28T16:04:36.031Z"
   },
   {
    "duration": 20,
    "start_time": "2023-05-28T16:04:36.062Z"
   },
   {
    "duration": 13,
    "start_time": "2023-05-28T16:04:38.988Z"
   },
   {
    "duration": 14,
    "start_time": "2023-05-28T16:04:43.509Z"
   },
   {
    "duration": 20,
    "start_time": "2023-05-28T16:04:45.951Z"
   },
   {
    "duration": 11,
    "start_time": "2023-05-28T16:04:48.864Z"
   },
   {
    "duration": 18,
    "start_time": "2023-05-28T16:16:05.867Z"
   },
   {
    "duration": 13,
    "start_time": "2023-05-28T16:16:46.898Z"
   },
   {
    "duration": 1443,
    "start_time": "2023-05-28T16:17:20.068Z"
   },
   {
    "duration": 21,
    "start_time": "2023-05-28T16:22:03.686Z"
   },
   {
    "duration": 14,
    "start_time": "2023-05-28T16:23:09.576Z"
   },
   {
    "duration": 12,
    "start_time": "2023-05-28T16:23:41.963Z"
   },
   {
    "duration": 7,
    "start_time": "2023-05-28T16:24:01.232Z"
   },
   {
    "duration": 12,
    "start_time": "2023-05-28T16:24:07.771Z"
   },
   {
    "duration": 8,
    "start_time": "2023-05-28T16:24:39.165Z"
   },
   {
    "duration": 7,
    "start_time": "2023-05-28T16:24:46.108Z"
   },
   {
    "duration": 7,
    "start_time": "2023-05-28T16:24:50.725Z"
   },
   {
    "duration": 6,
    "start_time": "2023-05-28T16:24:54.961Z"
   },
   {
    "duration": 19,
    "start_time": "2023-05-28T16:26:47.606Z"
   },
   {
    "duration": 24,
    "start_time": "2023-05-28T16:27:14.120Z"
   },
   {
    "duration": 63,
    "start_time": "2023-05-28T16:30:19.359Z"
   },
   {
    "duration": 70,
    "start_time": "2023-05-28T16:31:08.960Z"
   },
   {
    "duration": 25,
    "start_time": "2023-05-28T16:33:46.094Z"
   },
   {
    "duration": 65,
    "start_time": "2023-05-28T16:34:24.673Z"
   },
   {
    "duration": 249,
    "start_time": "2023-05-28T16:35:39.272Z"
   },
   {
    "duration": 170,
    "start_time": "2023-05-28T16:36:04.495Z"
   },
   {
    "duration": 171,
    "start_time": "2023-05-28T16:40:52.545Z"
   },
   {
    "duration": 312,
    "start_time": "2023-05-28T16:41:47.381Z"
   },
   {
    "duration": 208,
    "start_time": "2023-05-28T16:42:15.081Z"
   },
   {
    "duration": 215,
    "start_time": "2023-05-28T16:42:30.448Z"
   },
   {
    "duration": 218,
    "start_time": "2023-05-28T16:42:35.452Z"
   },
   {
    "duration": 203,
    "start_time": "2023-05-28T16:42:42.466Z"
   },
   {
    "duration": 290,
    "start_time": "2023-05-28T16:42:48.848Z"
   },
   {
    "duration": 194,
    "start_time": "2023-05-28T16:42:52.879Z"
   },
   {
    "duration": 248,
    "start_time": "2023-05-28T16:43:01.552Z"
   },
   {
    "duration": 245,
    "start_time": "2023-05-28T16:48:57.803Z"
   },
   {
    "duration": 215,
    "start_time": "2023-05-28T16:49:04.637Z"
   },
   {
    "duration": 217,
    "start_time": "2023-05-28T16:49:16.885Z"
   },
   {
    "duration": 254,
    "start_time": "2023-05-28T16:49:22.448Z"
   },
   {
    "duration": 200,
    "start_time": "2023-05-28T16:49:31.369Z"
   },
   {
    "duration": 227,
    "start_time": "2023-05-28T16:49:35.803Z"
   },
   {
    "duration": 245,
    "start_time": "2023-05-28T16:50:08.597Z"
   },
   {
    "duration": 275,
    "start_time": "2023-05-28T16:50:13.784Z"
   },
   {
    "duration": 177,
    "start_time": "2023-05-28T17:02:13.318Z"
   },
   {
    "duration": 119,
    "start_time": "2023-05-28T17:02:16.089Z"
   },
   {
    "duration": 21,
    "start_time": "2023-05-28T17:02:28.453Z"
   },
   {
    "duration": 15,
    "start_time": "2023-05-28T17:04:34.572Z"
   },
   {
    "duration": 157,
    "start_time": "2023-05-28T17:05:28.254Z"
   },
   {
    "duration": 15,
    "start_time": "2023-05-28T17:07:02.573Z"
   },
   {
    "duration": 68,
    "start_time": "2023-05-28T17:07:32.587Z"
   },
   {
    "duration": 198,
    "start_time": "2023-05-28T17:07:38.055Z"
   },
   {
    "duration": 18,
    "start_time": "2023-05-28T17:09:02.010Z"
   },
   {
    "duration": 5,
    "start_time": "2023-05-28T17:09:32.469Z"
   },
   {
    "duration": 10,
    "start_time": "2023-05-28T17:09:42.395Z"
   },
   {
    "duration": 10,
    "start_time": "2023-05-28T17:10:44.403Z"
   },
   {
    "duration": 17,
    "start_time": "2023-05-28T17:10:51.810Z"
   },
   {
    "duration": 79,
    "start_time": "2023-05-28T17:15:06.392Z"
   },
   {
    "duration": 179,
    "start_time": "2023-05-28T17:15:40.675Z"
   },
   {
    "duration": 72,
    "start_time": "2023-05-28T17:15:46.273Z"
   },
   {
    "duration": 82,
    "start_time": "2023-05-28T17:15:48.392Z"
   },
   {
    "duration": 238,
    "start_time": "2023-05-28T17:15:50.648Z"
   },
   {
    "duration": 206,
    "start_time": "2023-05-28T17:17:07.517Z"
   },
   {
    "duration": 21,
    "start_time": "2023-05-28T17:19:31.866Z"
   },
   {
    "duration": 10,
    "start_time": "2023-05-28T17:19:39.011Z"
   },
   {
    "duration": 15,
    "start_time": "2023-05-28T17:19:44.556Z"
   },
   {
    "duration": 211,
    "start_time": "2023-05-28T17:19:44.716Z"
   },
   {
    "duration": 191,
    "start_time": "2023-05-28T17:29:11.470Z"
   },
   {
    "duration": 10,
    "start_time": "2023-05-28T17:32:46.181Z"
   },
   {
    "duration": 8,
    "start_time": "2023-05-28T17:33:02.909Z"
   },
   {
    "duration": 184,
    "start_time": "2023-05-28T17:33:28.817Z"
   },
   {
    "duration": 322,
    "start_time": "2023-05-28T17:35:25.486Z"
   },
   {
    "duration": 77,
    "start_time": "2023-05-29T08:16:10.794Z"
   },
   {
    "duration": 1657,
    "start_time": "2023-05-29T08:16:14.594Z"
   },
   {
    "duration": 229,
    "start_time": "2023-05-29T08:16:16.253Z"
   },
   {
    "duration": 31,
    "start_time": "2023-05-29T08:16:16.484Z"
   },
   {
    "duration": 24,
    "start_time": "2023-05-29T08:16:16.525Z"
   },
   {
    "duration": 19,
    "start_time": "2023-05-29T08:16:16.552Z"
   },
   {
    "duration": 28,
    "start_time": "2023-05-29T08:16:16.574Z"
   },
   {
    "duration": 13,
    "start_time": "2023-05-29T08:16:16.603Z"
   },
   {
    "duration": 20,
    "start_time": "2023-05-29T08:16:16.620Z"
   },
   {
    "duration": 31,
    "start_time": "2023-05-29T08:16:16.642Z"
   },
   {
    "duration": 12,
    "start_time": "2023-05-29T08:16:16.675Z"
   },
   {
    "duration": 14,
    "start_time": "2023-05-29T08:16:16.689Z"
   },
   {
    "duration": 23,
    "start_time": "2023-05-29T08:16:16.705Z"
   },
   {
    "duration": 17,
    "start_time": "2023-05-29T08:16:16.730Z"
   },
   {
    "duration": 114,
    "start_time": "2023-05-29T08:16:16.750Z"
   },
   {
    "duration": 79,
    "start_time": "2023-05-29T08:16:16.866Z"
   },
   {
    "duration": 389,
    "start_time": "2023-05-29T08:16:16.947Z"
   },
   {
    "duration": 285,
    "start_time": "2023-05-29T08:16:17.338Z"
   },
   {
    "duration": 6,
    "start_time": "2023-05-29T08:16:17.625Z"
   },
   {
    "duration": 398,
    "start_time": "2023-05-29T08:16:17.640Z"
   },
   {
    "duration": 9,
    "start_time": "2023-05-29T08:16:19.864Z"
   },
   {
    "duration": 8,
    "start_time": "2023-05-29T08:18:08.028Z"
   },
   {
    "duration": 21,
    "start_time": "2023-05-29T08:19:02.010Z"
   },
   {
    "duration": 5,
    "start_time": "2023-05-29T08:20:03.997Z"
   },
   {
    "duration": 15,
    "start_time": "2023-05-29T08:20:04.604Z"
   },
   {
    "duration": 10,
    "start_time": "2023-05-29T08:20:50.799Z"
   },
   {
    "duration": 16,
    "start_time": "2023-05-29T08:20:51.560Z"
   },
   {
    "duration": 110,
    "start_time": "2023-05-29T08:25:55.484Z"
   },
   {
    "duration": 66,
    "start_time": "2023-05-29T08:26:09.216Z"
   },
   {
    "duration": 12,
    "start_time": "2023-05-29T08:26:13.155Z"
   },
   {
    "duration": 72,
    "start_time": "2023-05-29T08:27:40.741Z"
   },
   {
    "duration": 13,
    "start_time": "2023-05-29T08:29:19.860Z"
   },
   {
    "duration": 85,
    "start_time": "2023-05-29T08:30:10.292Z"
   },
   {
    "duration": 18,
    "start_time": "2023-05-29T08:33:52.679Z"
   },
   {
    "duration": 21,
    "start_time": "2023-05-29T08:34:03.855Z"
   },
   {
    "duration": 93,
    "start_time": "2023-05-29T08:35:58.549Z"
   },
   {
    "duration": 103,
    "start_time": "2023-05-29T08:37:03.913Z"
   },
   {
    "duration": 259,
    "start_time": "2023-05-29T08:42:43.204Z"
   },
   {
    "duration": 49,
    "start_time": "2023-05-29T08:42:51.294Z"
   },
   {
    "duration": 300,
    "start_time": "2023-05-29T08:45:03.406Z"
   },
   {
    "duration": 54,
    "start_time": "2023-05-29T08:45:16.404Z"
   },
   {
    "duration": 44,
    "start_time": "2023-05-29T08:46:26.392Z"
   },
   {
    "duration": 72,
    "start_time": "2023-05-29T08:48:58.006Z"
   },
   {
    "duration": 259,
    "start_time": "2023-05-29T08:50:05.308Z"
   },
   {
    "duration": 233,
    "start_time": "2023-05-29T08:50:13.820Z"
   },
   {
    "duration": 329,
    "start_time": "2023-05-29T08:54:00.854Z"
   },
   {
    "duration": 81,
    "start_time": "2023-05-29T08:54:29.672Z"
   },
   {
    "duration": 137,
    "start_time": "2023-05-29T08:54:30.834Z"
   },
   {
    "duration": 397,
    "start_time": "2023-05-29T08:56:09.890Z"
   },
   {
    "duration": 306,
    "start_time": "2023-05-29T08:56:25.105Z"
   },
   {
    "duration": 5,
    "start_time": "2023-05-29T08:57:26.883Z"
   },
   {
    "duration": 15,
    "start_time": "2023-05-29T08:57:35.694Z"
   },
   {
    "duration": 25,
    "start_time": "2023-05-29T08:58:24.314Z"
   },
   {
    "duration": 27,
    "start_time": "2023-05-29T08:58:30.348Z"
   },
   {
    "duration": 9,
    "start_time": "2023-05-29T08:58:48.106Z"
   },
   {
    "duration": 314,
    "start_time": "2023-05-29T09:00:47.913Z"
   },
   {
    "duration": 246,
    "start_time": "2023-05-29T09:05:13.160Z"
   },
   {
    "duration": 22,
    "start_time": "2023-05-29T09:07:15.044Z"
   },
   {
    "duration": 11,
    "start_time": "2023-05-29T09:08:10.158Z"
   },
   {
    "duration": 304,
    "start_time": "2023-05-29T09:08:11.808Z"
   },
   {
    "duration": 9,
    "start_time": "2023-05-29T09:08:14.704Z"
   },
   {
    "duration": 25,
    "start_time": "2023-05-29T09:09:19.702Z"
   },
   {
    "duration": 404,
    "start_time": "2023-05-29T09:10:32.809Z"
   },
   {
    "duration": 12,
    "start_time": "2023-05-29T09:11:09.881Z"
   },
   {
    "duration": 15,
    "start_time": "2023-05-29T09:14:51.571Z"
   },
   {
    "duration": 24,
    "start_time": "2023-05-29T09:15:04.011Z"
   },
   {
    "duration": 190,
    "start_time": "2023-05-29T09:15:32.793Z"
   },
   {
    "duration": 203,
    "start_time": "2023-05-29T09:15:54.067Z"
   },
   {
    "duration": 26,
    "start_time": "2023-05-29T09:17:27.444Z"
   },
   {
    "duration": 217,
    "start_time": "2023-05-29T09:18:14.490Z"
   },
   {
    "duration": 209,
    "start_time": "2023-05-29T09:19:12.199Z"
   },
   {
    "duration": 13,
    "start_time": "2023-05-29T09:20:32.969Z"
   },
   {
    "duration": 20,
    "start_time": "2023-05-29T09:26:51.244Z"
   },
   {
    "duration": 14,
    "start_time": "2023-05-29T09:27:29.113Z"
   },
   {
    "duration": 139,
    "start_time": "2023-05-29T09:28:25.375Z"
   },
   {
    "duration": 164,
    "start_time": "2023-05-29T09:29:41.925Z"
   },
   {
    "duration": 169,
    "start_time": "2023-05-29T09:30:43.278Z"
   },
   {
    "duration": 5,
    "start_time": "2023-05-29T09:31:09.479Z"
   },
   {
    "duration": 6,
    "start_time": "2023-05-29T09:51:25.583Z"
   },
   {
    "duration": 25,
    "start_time": "2023-05-29T09:51:30.364Z"
   },
   {
    "duration": 40,
    "start_time": "2023-05-29T09:52:09.208Z"
   },
   {
    "duration": 16,
    "start_time": "2023-05-29T09:52:21.495Z"
   },
   {
    "duration": 9,
    "start_time": "2023-05-29T09:54:23.302Z"
   },
   {
    "duration": 9,
    "start_time": "2023-05-29T09:55:17.958Z"
   },
   {
    "duration": 8,
    "start_time": "2023-05-29T09:55:29.397Z"
   },
   {
    "duration": 14,
    "start_time": "2023-05-29T09:55:33.385Z"
   },
   {
    "duration": 8,
    "start_time": "2023-05-29T09:55:56.872Z"
   },
   {
    "duration": 7,
    "start_time": "2023-05-29T09:56:06.599Z"
   },
   {
    "duration": 24,
    "start_time": "2023-05-29T09:56:42.415Z"
   },
   {
    "duration": 168,
    "start_time": "2023-05-29T09:56:44.699Z"
   },
   {
    "duration": 11,
    "start_time": "2023-05-29T09:57:03.498Z"
   },
   {
    "duration": 186,
    "start_time": "2023-05-29T09:57:08.315Z"
   },
   {
    "duration": 166,
    "start_time": "2023-05-29T09:58:18.487Z"
   },
   {
    "duration": 184,
    "start_time": "2023-05-29T09:59:48.583Z"
   },
   {
    "duration": 190,
    "start_time": "2023-05-29T10:00:44.894Z"
   },
   {
    "duration": 262,
    "start_time": "2023-05-29T10:00:46.346Z"
   },
   {
    "duration": 173,
    "start_time": "2023-05-29T10:00:53.203Z"
   },
   {
    "duration": 124,
    "start_time": "2023-05-29T10:01:11.056Z"
   },
   {
    "duration": 13,
    "start_time": "2023-05-29T10:01:14.672Z"
   },
   {
    "duration": 131,
    "start_time": "2023-05-29T10:02:05.960Z"
   },
   {
    "duration": 11,
    "start_time": "2023-05-29T10:02:08.889Z"
   },
   {
    "duration": 8,
    "start_time": "2023-05-29T10:04:23.687Z"
   },
   {
    "duration": 9,
    "start_time": "2023-05-29T10:05:08.904Z"
   },
   {
    "duration": 7,
    "start_time": "2023-05-29T10:06:02.107Z"
   },
   {
    "duration": 10,
    "start_time": "2023-05-29T10:06:10.558Z"
   },
   {
    "duration": 6,
    "start_time": "2023-05-29T10:06:44.203Z"
   },
   {
    "duration": 16,
    "start_time": "2023-05-29T10:06:46.857Z"
   },
   {
    "duration": 9,
    "start_time": "2023-05-29T14:42:07.275Z"
   },
   {
    "duration": 5,
    "start_time": "2023-05-29T14:42:38.194Z"
   },
   {
    "duration": 11,
    "start_time": "2023-05-29T14:42:47.868Z"
   },
   {
    "duration": 10,
    "start_time": "2023-05-29T14:56:10.693Z"
   },
   {
    "duration": 5,
    "start_time": "2023-05-29T14:56:42.396Z"
   },
   {
    "duration": 8,
    "start_time": "2023-05-29T14:57:47.086Z"
   },
   {
    "duration": 5,
    "start_time": "2023-05-29T14:59:27.160Z"
   },
   {
    "duration": 9,
    "start_time": "2023-05-29T15:01:15.986Z"
   },
   {
    "duration": 9,
    "start_time": "2023-05-29T15:11:31.993Z"
   },
   {
    "duration": 22,
    "start_time": "2023-05-29T15:14:13.777Z"
   },
   {
    "duration": 33,
    "start_time": "2023-05-29T15:22:07.110Z"
   },
   {
    "duration": 8,
    "start_time": "2023-05-29T15:22:17.955Z"
   },
   {
    "duration": 6330,
    "start_time": "2023-05-29T15:30:04.637Z"
   },
   {
    "duration": 2632,
    "start_time": "2023-05-29T15:32:13.775Z"
   },
   {
    "duration": 2142,
    "start_time": "2023-05-29T15:33:02.952Z"
   },
   {
    "duration": 1182,
    "start_time": "2023-05-29T15:33:16.261Z"
   },
   {
    "duration": 132,
    "start_time": "2023-05-29T15:33:17.455Z"
   },
   {
    "duration": 19,
    "start_time": "2023-05-29T15:33:17.589Z"
   },
   {
    "duration": 3,
    "start_time": "2023-05-29T15:33:17.610Z"
   },
   {
    "duration": 56,
    "start_time": "2023-05-29T15:33:17.615Z"
   },
   {
    "duration": 21,
    "start_time": "2023-05-29T15:33:17.673Z"
   },
   {
    "duration": 11,
    "start_time": "2023-05-29T15:33:17.696Z"
   },
   {
    "duration": 52,
    "start_time": "2023-05-29T15:33:17.709Z"
   },
   {
    "duration": 15,
    "start_time": "2023-05-29T15:33:17.762Z"
   },
   {
    "duration": 12,
    "start_time": "2023-05-29T15:33:17.778Z"
   },
   {
    "duration": 18,
    "start_time": "2023-05-29T15:33:17.791Z"
   },
   {
    "duration": 53,
    "start_time": "2023-05-29T15:33:17.810Z"
   },
   {
    "duration": 17,
    "start_time": "2023-05-29T15:33:17.865Z"
   },
   {
    "duration": 80,
    "start_time": "2023-05-29T15:33:17.885Z"
   },
   {
    "duration": 89,
    "start_time": "2023-05-29T15:33:17.967Z"
   },
   {
    "duration": 324,
    "start_time": "2023-05-29T15:33:18.058Z"
   },
   {
    "duration": 224,
    "start_time": "2023-05-29T15:33:18.384Z"
   },
   {
    "duration": 30,
    "start_time": "2023-05-29T15:33:18.609Z"
   },
   {
    "duration": 323,
    "start_time": "2023-05-29T15:33:18.652Z"
   },
   {
    "duration": 21,
    "start_time": "2023-05-29T15:33:18.977Z"
   },
   {
    "duration": 204,
    "start_time": "2023-05-29T15:33:18.999Z"
   },
   {
    "duration": 7,
    "start_time": "2023-05-29T15:33:19.205Z"
   },
   {
    "duration": 263,
    "start_time": "2023-05-29T15:33:19.213Z"
   },
   {
    "duration": 6,
    "start_time": "2023-05-29T15:33:19.477Z"
   },
   {
    "duration": 372,
    "start_time": "2023-05-29T15:33:19.485Z"
   },
   {
    "duration": 109,
    "start_time": "2023-05-29T15:33:19.862Z"
   },
   {
    "duration": 137,
    "start_time": "2023-05-29T15:33:19.973Z"
   },
   {
    "duration": 352,
    "start_time": "2023-05-29T15:33:20.111Z"
   },
   {
    "duration": 0,
    "start_time": "2023-05-29T15:33:20.466Z"
   },
   {
    "duration": 0,
    "start_time": "2023-05-29T15:33:20.467Z"
   },
   {
    "duration": 0,
    "start_time": "2023-05-29T15:33:20.468Z"
   },
   {
    "duration": 0,
    "start_time": "2023-05-29T15:33:20.469Z"
   },
   {
    "duration": 0,
    "start_time": "2023-05-29T15:33:20.470Z"
   },
   {
    "duration": 0,
    "start_time": "2023-05-29T15:33:20.471Z"
   },
   {
    "duration": 0,
    "start_time": "2023-05-29T15:33:20.472Z"
   },
   {
    "duration": 0,
    "start_time": "2023-05-29T15:33:20.473Z"
   },
   {
    "duration": 0,
    "start_time": "2023-05-29T15:33:20.474Z"
   },
   {
    "duration": 5,
    "start_time": "2023-05-29T15:35:02.377Z"
   },
   {
    "duration": 166,
    "start_time": "2023-05-29T15:35:13.393Z"
   },
   {
    "duration": 11,
    "start_time": "2023-05-29T15:35:16.247Z"
   },
   {
    "duration": 5,
    "start_time": "2023-05-29T15:35:20.493Z"
   },
   {
    "duration": 8,
    "start_time": "2023-05-29T15:35:22.772Z"
   },
   {
    "duration": 26,
    "start_time": "2023-05-29T15:35:25.609Z"
   },
   {
    "duration": 24,
    "start_time": "2023-05-29T15:35:31.881Z"
   },
   {
    "duration": 4,
    "start_time": "2023-05-29T15:35:33.375Z"
   },
   {
    "duration": 1815,
    "start_time": "2023-05-29T15:35:36.574Z"
   },
   {
    "duration": 1715,
    "start_time": "2023-05-29T15:35:43.548Z"
   },
   {
    "duration": 6,
    "start_time": "2023-05-29T15:36:03.959Z"
   },
   {
    "duration": 10,
    "start_time": "2023-05-29T15:36:20.459Z"
   },
   {
    "duration": 7,
    "start_time": "2023-05-29T15:37:43.671Z"
   },
   {
    "duration": 19,
    "start_time": "2023-05-29T16:03:22.052Z"
   },
   {
    "duration": 11,
    "start_time": "2023-05-29T16:03:29.599Z"
   },
   {
    "duration": 14,
    "start_time": "2023-05-29T16:04:36.280Z"
   },
   {
    "duration": 34,
    "start_time": "2023-05-29T16:06:25.853Z"
   },
   {
    "duration": 13,
    "start_time": "2023-05-29T16:08:13.286Z"
   },
   {
    "duration": 15,
    "start_time": "2023-05-29T16:08:58.584Z"
   },
   {
    "duration": 15,
    "start_time": "2023-05-29T16:12:13.160Z"
   },
   {
    "duration": 17,
    "start_time": "2023-05-29T16:13:59.252Z"
   },
   {
    "duration": 6,
    "start_time": "2023-05-29T16:15:05.807Z"
   },
   {
    "duration": 9,
    "start_time": "2023-05-29T16:15:12.469Z"
   },
   {
    "duration": 16,
    "start_time": "2023-05-29T16:30:09.854Z"
   },
   {
    "duration": 24,
    "start_time": "2023-05-29T16:42:01.138Z"
   },
   {
    "duration": 14,
    "start_time": "2023-05-29T16:43:04.051Z"
   },
   {
    "duration": 22,
    "start_time": "2023-05-29T16:45:30.179Z"
   },
   {
    "duration": 5,
    "start_time": "2023-05-29T16:46:17.693Z"
   },
   {
    "duration": 10,
    "start_time": "2023-05-29T16:55:27.205Z"
   },
   {
    "duration": 4,
    "start_time": "2023-05-29T16:58:02.207Z"
   },
   {
    "duration": 32,
    "start_time": "2023-05-29T16:59:58.139Z"
   },
   {
    "duration": 19,
    "start_time": "2023-05-29T17:02:31.144Z"
   },
   {
    "duration": 178,
    "start_time": "2023-05-29T17:03:47.665Z"
   },
   {
    "duration": 9,
    "start_time": "2023-05-29T17:05:21.099Z"
   },
   {
    "duration": 6,
    "start_time": "2023-05-29T17:10:42.849Z"
   },
   {
    "duration": 5,
    "start_time": "2023-05-29T17:10:52.108Z"
   },
   {
    "duration": 12,
    "start_time": "2023-05-29T17:11:06.095Z"
   },
   {
    "duration": 11,
    "start_time": "2023-05-29T17:11:42.176Z"
   },
   {
    "duration": 1334,
    "start_time": "2023-05-30T09:06:15.624Z"
   },
   {
    "duration": 285,
    "start_time": "2023-05-30T09:06:16.960Z"
   },
   {
    "duration": 23,
    "start_time": "2023-05-30T09:06:17.247Z"
   },
   {
    "duration": 4,
    "start_time": "2023-05-30T09:06:17.272Z"
   },
   {
    "duration": 40,
    "start_time": "2023-05-30T09:06:17.278Z"
   },
   {
    "duration": 21,
    "start_time": "2023-05-30T09:06:17.319Z"
   },
   {
    "duration": 18,
    "start_time": "2023-05-30T09:06:17.342Z"
   },
   {
    "duration": 13,
    "start_time": "2023-05-30T09:06:21.653Z"
   },
   {
    "duration": 5,
    "start_time": "2023-05-30T09:08:01.432Z"
   },
   {
    "duration": 4,
    "start_time": "2023-05-30T09:08:40.834Z"
   },
   {
    "duration": 5,
    "start_time": "2023-05-30T09:08:46.324Z"
   },
   {
    "duration": 5,
    "start_time": "2023-05-30T09:09:01.858Z"
   },
   {
    "duration": 125,
    "start_time": "2023-05-30T09:09:16.641Z"
   },
   {
    "duration": 5,
    "start_time": "2023-05-30T09:09:19.448Z"
   },
   {
    "duration": 7,
    "start_time": "2023-05-30T09:12:26.145Z"
   },
   {
    "duration": 6,
    "start_time": "2023-05-30T09:12:33.926Z"
   },
   {
    "duration": 7,
    "start_time": "2023-05-30T09:13:56.129Z"
   },
   {
    "duration": 26,
    "start_time": "2023-05-30T09:19:44.488Z"
   },
   {
    "duration": 9,
    "start_time": "2023-05-30T09:23:53.319Z"
   },
   {
    "duration": 11,
    "start_time": "2023-05-30T09:24:10.822Z"
   },
   {
    "duration": 7,
    "start_time": "2023-05-30T10:04:50.930Z"
   },
   {
    "duration": 14,
    "start_time": "2023-05-30T10:05:20.635Z"
   },
   {
    "duration": 11,
    "start_time": "2023-05-30T10:05:22.983Z"
   },
   {
    "duration": 75,
    "start_time": "2023-05-30T10:08:41.366Z"
   },
   {
    "duration": 59,
    "start_time": "2023-05-30T10:08:57.112Z"
   },
   {
    "duration": 292,
    "start_time": "2023-05-30T10:20:04.210Z"
   },
   {
    "duration": 191,
    "start_time": "2023-05-30T10:22:06.716Z"
   },
   {
    "duration": 107,
    "start_time": "2023-05-30T10:26:34.216Z"
   },
   {
    "duration": 6,
    "start_time": "2023-05-30T10:26:51.265Z"
   },
   {
    "duration": 312,
    "start_time": "2023-05-30T10:26:52.423Z"
   },
   {
    "duration": 242,
    "start_time": "2023-05-30T10:27:14.836Z"
   },
   {
    "duration": 11,
    "start_time": "2023-05-30T11:01:21.516Z"
   },
   {
    "duration": 10,
    "start_time": "2023-05-30T11:02:18.514Z"
   },
   {
    "duration": 159,
    "start_time": "2023-05-30T11:03:14.044Z"
   },
   {
    "duration": 11,
    "start_time": "2023-05-30T11:03:50.245Z"
   },
   {
    "duration": 5,
    "start_time": "2023-05-30T11:04:11.713Z"
   },
   {
    "duration": 201,
    "start_time": "2023-05-30T11:08:56.515Z"
   },
   {
    "duration": 6,
    "start_time": "2023-05-30T11:15:41.712Z"
   },
   {
    "duration": 295,
    "start_time": "2023-05-30T11:16:33.623Z"
   },
   {
    "duration": 280,
    "start_time": "2023-05-30T11:18:00.457Z"
   },
   {
    "duration": 102,
    "start_time": "2023-05-30T11:28:14.172Z"
   },
   {
    "duration": 127,
    "start_time": "2023-05-30T11:28:17.724Z"
   },
   {
    "duration": 4,
    "start_time": "2023-05-30T11:28:17.928Z"
   },
   {
    "duration": 214,
    "start_time": "2023-05-30T11:31:00.823Z"
   },
   {
    "duration": 4,
    "start_time": "2023-05-30T11:31:06.576Z"
   },
   {
    "duration": 143,
    "start_time": "2023-05-30T11:38:47.762Z"
   },
   {
    "duration": 126,
    "start_time": "2023-05-30T11:39:02.109Z"
   },
   {
    "duration": 133,
    "start_time": "2023-05-30T11:39:10.404Z"
   },
   {
    "duration": 135,
    "start_time": "2023-05-30T11:39:22.968Z"
   },
   {
    "duration": 132,
    "start_time": "2023-05-30T11:39:27.900Z"
   },
   {
    "duration": 128,
    "start_time": "2023-05-30T11:39:33.691Z"
   },
   {
    "duration": 5,
    "start_time": "2023-05-30T11:45:18.800Z"
   },
   {
    "duration": 5,
    "start_time": "2023-05-30T11:47:31.462Z"
   },
   {
    "duration": 6,
    "start_time": "2023-05-30T11:47:36.301Z"
   },
   {
    "duration": 20,
    "start_time": "2023-05-30T12:01:27.021Z"
   },
   {
    "duration": 4,
    "start_time": "2023-05-30T12:01:29.954Z"
   },
   {
    "duration": 4,
    "start_time": "2023-05-30T15:06:35.861Z"
   },
   {
    "duration": 8,
    "start_time": "2023-05-30T15:06:49.235Z"
   },
   {
    "duration": 5,
    "start_time": "2023-05-30T15:07:01.944Z"
   },
   {
    "duration": 20,
    "start_time": "2023-05-30T15:07:11.197Z"
   },
   {
    "duration": 4,
    "start_time": "2023-05-30T15:12:10.240Z"
   },
   {
    "duration": 7,
    "start_time": "2023-05-30T15:21:54.056Z"
   },
   {
    "duration": 4,
    "start_time": "2023-05-30T15:22:14.723Z"
   },
   {
    "duration": 6,
    "start_time": "2023-05-30T15:22:33.563Z"
   },
   {
    "duration": 6,
    "start_time": "2023-05-30T15:32:44.889Z"
   },
   {
    "duration": 7,
    "start_time": "2023-05-30T15:34:19.970Z"
   },
   {
    "duration": 9,
    "start_time": "2023-05-30T15:34:35.662Z"
   },
   {
    "duration": 7,
    "start_time": "2023-05-30T15:34:52.222Z"
   },
   {
    "duration": 7,
    "start_time": "2023-05-30T15:35:07.588Z"
   },
   {
    "duration": 2,
    "start_time": "2023-05-30T15:35:59.464Z"
   },
   {
    "duration": 76,
    "start_time": "2023-05-30T15:35:59.467Z"
   },
   {
    "duration": 20,
    "start_time": "2023-05-30T15:35:59.545Z"
   },
   {
    "duration": 4,
    "start_time": "2023-05-30T15:35:59.567Z"
   },
   {
    "duration": 18,
    "start_time": "2023-05-30T15:35:59.573Z"
   },
   {
    "duration": 12,
    "start_time": "2023-05-30T15:35:59.593Z"
   },
   {
    "duration": 15,
    "start_time": "2023-05-30T15:35:59.607Z"
   },
   {
    "duration": 16,
    "start_time": "2023-05-30T15:35:59.623Z"
   },
   {
    "duration": 11,
    "start_time": "2023-05-30T15:35:59.641Z"
   },
   {
    "duration": 14,
    "start_time": "2023-05-30T15:35:59.654Z"
   },
   {
    "duration": 6,
    "start_time": "2023-05-30T15:35:59.685Z"
   },
   {
    "duration": 8,
    "start_time": "2023-05-30T15:35:59.692Z"
   },
   {
    "duration": 9,
    "start_time": "2023-05-30T15:35:59.702Z"
   },
   {
    "duration": 18,
    "start_time": "2023-05-30T15:35:59.712Z"
   },
   {
    "duration": 13,
    "start_time": "2023-05-30T15:35:59.732Z"
   },
   {
    "duration": 21,
    "start_time": "2023-05-30T15:35:59.785Z"
   },
   {
    "duration": 4,
    "start_time": "2023-05-30T15:35:59.808Z"
   },
   {
    "duration": 106,
    "start_time": "2023-05-30T15:35:59.814Z"
   },
   {
    "duration": 66,
    "start_time": "2023-05-30T15:35:59.923Z"
   },
   {
    "duration": 197,
    "start_time": "2023-05-30T15:35:59.991Z"
   },
   {
    "duration": 189,
    "start_time": "2023-05-30T15:36:00.190Z"
   },
   {
    "duration": 7,
    "start_time": "2023-05-30T15:36:00.384Z"
   },
   {
    "duration": 285,
    "start_time": "2023-05-30T15:36:00.393Z"
   },
   {
    "duration": 14,
    "start_time": "2023-05-30T15:36:00.679Z"
   },
   {
    "duration": 155,
    "start_time": "2023-05-30T15:36:00.695Z"
   },
   {
    "duration": 10,
    "start_time": "2023-05-30T15:36:00.852Z"
   },
   {
    "duration": 254,
    "start_time": "2023-05-30T15:36:00.864Z"
   },
   {
    "duration": 7,
    "start_time": "2023-05-30T15:36:01.120Z"
   },
   {
    "duration": 398,
    "start_time": "2023-05-30T15:36:01.131Z"
   },
   {
    "duration": 99,
    "start_time": "2023-05-30T15:36:01.531Z"
   },
   {
    "duration": 146,
    "start_time": "2023-05-30T15:36:01.632Z"
   },
   {
    "duration": 6,
    "start_time": "2023-05-30T15:36:01.785Z"
   },
   {
    "duration": 223,
    "start_time": "2023-05-30T15:36:01.793Z"
   },
   {
    "duration": 175,
    "start_time": "2023-05-30T15:36:02.018Z"
   },
   {
    "duration": 4,
    "start_time": "2023-05-30T15:36:02.195Z"
   },
   {
    "duration": 50,
    "start_time": "2023-05-30T15:36:02.200Z"
   },
   {
    "duration": 51,
    "start_time": "2023-05-30T15:36:02.251Z"
   },
   {
    "duration": 82,
    "start_time": "2023-05-30T15:36:02.303Z"
   },
   {
    "duration": 89,
    "start_time": "2023-05-30T15:36:02.387Z"
   },
   {
    "duration": 5,
    "start_time": "2023-05-30T15:36:02.479Z"
   },
   {
    "duration": 23,
    "start_time": "2023-05-30T15:36:02.486Z"
   },
   {
    "duration": 27,
    "start_time": "2023-05-30T15:36:02.511Z"
   },
   {
    "duration": 6,
    "start_time": "2023-05-30T15:36:21.554Z"
   },
   {
    "duration": 10,
    "start_time": "2023-05-30T15:36:24.333Z"
   },
   {
    "duration": 11,
    "start_time": "2023-05-30T15:36:28.078Z"
   },
   {
    "duration": 9,
    "start_time": "2023-05-30T15:36:47.270Z"
   },
   {
    "duration": 20,
    "start_time": "2023-05-30T15:39:17.106Z"
   },
   {
    "duration": 4,
    "start_time": "2023-05-30T15:39:43.792Z"
   },
   {
    "duration": 8,
    "start_time": "2023-05-30T15:42:53.960Z"
   },
   {
    "duration": 7,
    "start_time": "2023-05-30T15:43:06.966Z"
   },
   {
    "duration": 7,
    "start_time": "2023-05-30T15:43:12.550Z"
   },
   {
    "duration": 9,
    "start_time": "2023-05-30T15:44:06.007Z"
   },
   {
    "duration": 10,
    "start_time": "2023-05-30T15:44:14.873Z"
   },
   {
    "duration": 13,
    "start_time": "2023-05-30T15:47:55.541Z"
   },
   {
    "duration": 8,
    "start_time": "2023-05-30T15:49:02.784Z"
   },
   {
    "duration": 8,
    "start_time": "2023-05-30T15:49:10.929Z"
   },
   {
    "duration": 7,
    "start_time": "2023-05-30T15:56:39.951Z"
   },
   {
    "duration": 11,
    "start_time": "2023-05-30T15:56:45.796Z"
   },
   {
    "duration": 14,
    "start_time": "2023-05-30T15:58:53.239Z"
   },
   {
    "duration": 10,
    "start_time": "2023-05-30T16:04:24.193Z"
   },
   {
    "duration": 27,
    "start_time": "2023-05-30T16:07:35.057Z"
   },
   {
    "duration": 26,
    "start_time": "2023-05-30T16:09:19.967Z"
   },
   {
    "duration": 35,
    "start_time": "2023-05-30T16:11:44.214Z"
   },
   {
    "duration": 22,
    "start_time": "2023-05-30T16:12:33.738Z"
   },
   {
    "duration": 23,
    "start_time": "2023-05-30T16:12:52.738Z"
   },
   {
    "duration": 131,
    "start_time": "2023-05-30T16:14:39.856Z"
   },
   {
    "duration": 138,
    "start_time": "2023-05-30T16:16:36.667Z"
   },
   {
    "duration": 172,
    "start_time": "2023-05-30T16:16:38.057Z"
   },
   {
    "duration": 159,
    "start_time": "2023-05-30T16:18:48.715Z"
   },
   {
    "duration": 234,
    "start_time": "2023-05-30T16:20:35.282Z"
   },
   {
    "duration": 177,
    "start_time": "2023-05-30T16:20:38.678Z"
   },
   {
    "duration": 183,
    "start_time": "2023-05-30T16:24:10.013Z"
   },
   {
    "duration": 180,
    "start_time": "2023-05-30T16:28:31.108Z"
   },
   {
    "duration": 187,
    "start_time": "2023-05-30T16:28:53.692Z"
   },
   {
    "duration": 14,
    "start_time": "2023-05-30T16:38:16.844Z"
   },
   {
    "duration": 6,
    "start_time": "2023-05-30T20:32:46.164Z"
   },
   {
    "duration": 323,
    "start_time": "2023-05-30T20:32:53.063Z"
   },
   {
    "duration": 3,
    "start_time": "2023-05-30T20:33:06.159Z"
   },
   {
    "duration": 91,
    "start_time": "2023-05-30T20:33:06.164Z"
   },
   {
    "duration": 14,
    "start_time": "2023-05-30T20:33:06.256Z"
   },
   {
    "duration": 3,
    "start_time": "2023-05-30T20:33:06.271Z"
   },
   {
    "duration": 13,
    "start_time": "2023-05-30T20:33:06.276Z"
   },
   {
    "duration": 20,
    "start_time": "2023-05-30T20:33:06.290Z"
   },
   {
    "duration": 10,
    "start_time": "2023-05-30T20:33:06.311Z"
   },
   {
    "duration": 42,
    "start_time": "2023-05-30T20:33:06.323Z"
   },
   {
    "duration": 21,
    "start_time": "2023-05-30T20:33:06.367Z"
   },
   {
    "duration": 14,
    "start_time": "2023-05-30T20:33:06.390Z"
   },
   {
    "duration": 16,
    "start_time": "2023-05-30T20:33:06.406Z"
   },
   {
    "duration": 9,
    "start_time": "2023-05-30T20:33:06.424Z"
   },
   {
    "duration": 12,
    "start_time": "2023-05-30T20:33:06.435Z"
   },
   {
    "duration": 11,
    "start_time": "2023-05-30T20:33:06.449Z"
   },
   {
    "duration": 14,
    "start_time": "2023-05-30T20:33:06.461Z"
   },
   {
    "duration": 17,
    "start_time": "2023-05-30T20:33:06.476Z"
   },
   {
    "duration": 3,
    "start_time": "2023-05-30T20:33:06.495Z"
   },
   {
    "duration": 64,
    "start_time": "2023-05-30T20:33:06.500Z"
   },
   {
    "duration": 66,
    "start_time": "2023-05-30T20:33:06.566Z"
   },
   {
    "duration": 174,
    "start_time": "2023-05-30T20:33:06.634Z"
   },
   {
    "duration": 177,
    "start_time": "2023-05-30T20:33:06.810Z"
   },
   {
    "duration": 6,
    "start_time": "2023-05-30T20:33:16.228Z"
   },
   {
    "duration": 305,
    "start_time": "2023-05-30T20:33:21.561Z"
   },
   {
    "duration": 7,
    "start_time": "2023-05-30T20:33:46.417Z"
   },
   {
    "duration": 11,
    "start_time": "2023-05-30T20:33:52.932Z"
   },
   {
    "duration": 5,
    "start_time": "2023-05-30T20:34:28.661Z"
   },
   {
    "duration": 13,
    "start_time": "2023-05-30T20:34:58.179Z"
   },
   {
    "duration": 985,
    "start_time": "2023-05-30T20:35:20.012Z"
   },
   {
    "duration": 74,
    "start_time": "2023-05-30T20:35:20.998Z"
   },
   {
    "duration": 18,
    "start_time": "2023-05-30T20:35:21.073Z"
   },
   {
    "duration": 3,
    "start_time": "2023-05-30T20:35:21.093Z"
   },
   {
    "duration": 17,
    "start_time": "2023-05-30T20:35:21.098Z"
   },
   {
    "duration": 9,
    "start_time": "2023-05-30T20:35:21.117Z"
   },
   {
    "duration": 15,
    "start_time": "2023-05-30T20:35:21.127Z"
   },
   {
    "duration": 14,
    "start_time": "2023-05-30T20:35:21.143Z"
   },
   {
    "duration": 7,
    "start_time": "2023-05-30T20:35:21.158Z"
   },
   {
    "duration": 5,
    "start_time": "2023-05-30T20:35:21.185Z"
   },
   {
    "duration": 22,
    "start_time": "2023-05-30T20:35:21.191Z"
   },
   {
    "duration": 14,
    "start_time": "2023-05-30T20:35:21.214Z"
   },
   {
    "duration": 10,
    "start_time": "2023-05-30T20:35:21.229Z"
   },
   {
    "duration": 11,
    "start_time": "2023-05-30T20:35:21.240Z"
   },
   {
    "duration": 14,
    "start_time": "2023-05-30T20:35:21.252Z"
   },
   {
    "duration": 22,
    "start_time": "2023-05-30T20:35:21.267Z"
   },
   {
    "duration": 21,
    "start_time": "2023-05-30T20:35:21.291Z"
   },
   {
    "duration": 59,
    "start_time": "2023-05-30T20:35:21.313Z"
   },
   {
    "duration": 57,
    "start_time": "2023-05-30T20:35:21.374Z"
   },
   {
    "duration": 248,
    "start_time": "2023-05-30T20:35:21.433Z"
   },
   {
    "duration": 175,
    "start_time": "2023-05-30T20:35:21.682Z"
   },
   {
    "duration": 6,
    "start_time": "2023-05-30T20:35:21.859Z"
   },
   {
    "duration": 299,
    "start_time": "2023-05-30T20:35:21.866Z"
   },
   {
    "duration": 21,
    "start_time": "2023-05-30T20:35:22.166Z"
   },
   {
    "duration": 130,
    "start_time": "2023-05-30T20:35:22.188Z"
   },
   {
    "duration": 5,
    "start_time": "2023-05-30T20:35:22.319Z"
   },
   {
    "duration": 197,
    "start_time": "2023-05-30T20:35:22.325Z"
   },
   {
    "duration": 5,
    "start_time": "2023-05-30T20:35:22.525Z"
   },
   {
    "duration": 269,
    "start_time": "2023-05-30T20:35:22.531Z"
   },
   {
    "duration": 96,
    "start_time": "2023-05-30T20:35:22.801Z"
   },
   {
    "duration": 126,
    "start_time": "2023-05-30T20:35:22.899Z"
   },
   {
    "duration": 4,
    "start_time": "2023-05-30T20:35:23.026Z"
   },
   {
    "duration": 134,
    "start_time": "2023-05-30T20:35:23.031Z"
   },
   {
    "duration": 132,
    "start_time": "2023-05-30T20:35:23.166Z"
   },
   {
    "duration": 4,
    "start_time": "2023-05-30T20:35:23.300Z"
   },
   {
    "duration": 26,
    "start_time": "2023-05-30T20:35:23.305Z"
   },
   {
    "duration": 11,
    "start_time": "2023-05-30T20:35:23.333Z"
   },
   {
    "duration": 6,
    "start_time": "2023-05-30T20:35:23.345Z"
   },
   {
    "duration": 19,
    "start_time": "2023-05-30T20:35:23.352Z"
   },
   {
    "duration": 13,
    "start_time": "2023-05-30T20:35:23.373Z"
   },
   {
    "duration": 7,
    "start_time": "2023-05-30T20:35:23.387Z"
   },
   {
    "duration": 12,
    "start_time": "2023-05-30T20:35:23.396Z"
   },
   {
    "duration": 9,
    "start_time": "2023-05-30T20:35:23.410Z"
   },
   {
    "duration": 12,
    "start_time": "2023-05-30T20:35:23.420Z"
   },
   {
    "duration": 86,
    "start_time": "2023-05-30T20:35:23.434Z"
   },
   {
    "duration": 18,
    "start_time": "2023-05-30T20:35:23.521Z"
   },
   {
    "duration": 5,
    "start_time": "2023-05-30T20:35:23.541Z"
   },
   {
    "duration": 38,
    "start_time": "2023-05-30T20:35:23.547Z"
   },
   {
    "duration": 11,
    "start_time": "2023-05-30T20:35:23.587Z"
   },
   {
    "duration": 16,
    "start_time": "2023-05-30T20:35:23.600Z"
   },
   {
    "duration": 149,
    "start_time": "2023-05-30T20:35:23.618Z"
   },
   {
    "duration": 182,
    "start_time": "2023-05-30T20:35:23.769Z"
   },
   {
    "duration": 191,
    "start_time": "2023-05-30T20:35:23.953Z"
   },
   {
    "duration": 6,
    "start_time": "2023-05-30T21:35:50.482Z"
   },
   {
    "duration": 5,
    "start_time": "2023-05-30T21:36:01.062Z"
   },
   {
    "duration": 1087,
    "start_time": "2023-05-31T05:30:05.775Z"
   },
   {
    "duration": 74,
    "start_time": "2023-05-31T05:30:06.864Z"
   },
   {
    "duration": 20,
    "start_time": "2023-05-31T05:30:06.939Z"
   },
   {
    "duration": 5,
    "start_time": "2023-05-31T05:30:06.961Z"
   },
   {
    "duration": 25,
    "start_time": "2023-05-31T05:30:06.968Z"
   },
   {
    "duration": 13,
    "start_time": "2023-05-31T05:30:06.995Z"
   },
   {
    "duration": 14,
    "start_time": "2023-05-31T05:30:07.009Z"
   },
   {
    "duration": 23,
    "start_time": "2023-05-31T05:30:07.024Z"
   },
   {
    "duration": 8,
    "start_time": "2023-05-31T05:30:07.048Z"
   },
   {
    "duration": 7,
    "start_time": "2023-05-31T05:30:07.058Z"
   },
   {
    "duration": 6,
    "start_time": "2023-05-31T05:30:07.067Z"
   },
   {
    "duration": 22,
    "start_time": "2023-05-31T05:30:07.075Z"
   },
   {
    "duration": 8,
    "start_time": "2023-05-31T05:30:07.098Z"
   },
   {
    "duration": 17,
    "start_time": "2023-05-31T05:30:07.109Z"
   },
   {
    "duration": 12,
    "start_time": "2023-05-31T05:30:07.127Z"
   },
   {
    "duration": 23,
    "start_time": "2023-05-31T05:30:07.140Z"
   },
   {
    "duration": 4,
    "start_time": "2023-05-31T05:30:07.165Z"
   },
   {
    "duration": 79,
    "start_time": "2023-05-31T05:30:07.171Z"
   },
   {
    "duration": 64,
    "start_time": "2023-05-31T05:30:07.251Z"
   },
   {
    "duration": 281,
    "start_time": "2023-05-31T05:30:07.317Z"
   },
   {
    "duration": 198,
    "start_time": "2023-05-31T05:30:07.599Z"
   },
   {
    "duration": 6,
    "start_time": "2023-05-31T05:30:07.798Z"
   },
   {
    "duration": 308,
    "start_time": "2023-05-31T05:30:07.806Z"
   },
   {
    "duration": 11,
    "start_time": "2023-05-31T05:30:08.116Z"
   },
   {
    "duration": 169,
    "start_time": "2023-05-31T05:30:08.128Z"
   },
   {
    "duration": 5,
    "start_time": "2023-05-31T05:30:08.299Z"
   },
   {
    "duration": 220,
    "start_time": "2023-05-31T05:30:08.305Z"
   },
   {
    "duration": 6,
    "start_time": "2023-05-31T05:30:08.527Z"
   },
   {
    "duration": 322,
    "start_time": "2023-05-31T05:30:08.534Z"
   },
   {
    "duration": 106,
    "start_time": "2023-05-31T05:30:08.858Z"
   },
   {
    "duration": 137,
    "start_time": "2023-05-31T05:30:08.966Z"
   },
   {
    "duration": 4,
    "start_time": "2023-05-31T05:30:09.105Z"
   },
   {
    "duration": 156,
    "start_time": "2023-05-31T05:30:09.111Z"
   },
   {
    "duration": 139,
    "start_time": "2023-05-31T05:30:09.268Z"
   },
   {
    "duration": 5,
    "start_time": "2023-05-31T05:30:09.408Z"
   },
   {
    "duration": 6,
    "start_time": "2023-05-31T05:30:09.414Z"
   },
   {
    "duration": 8,
    "start_time": "2023-05-31T05:30:09.421Z"
   },
   {
    "duration": 24,
    "start_time": "2023-05-31T05:30:09.430Z"
   },
   {
    "duration": 29,
    "start_time": "2023-05-31T05:30:09.456Z"
   },
   {
    "duration": 5,
    "start_time": "2023-05-31T05:30:09.486Z"
   },
   {
    "duration": 18,
    "start_time": "2023-05-31T05:30:09.494Z"
   },
   {
    "duration": 9,
    "start_time": "2023-05-31T05:30:09.514Z"
   },
   {
    "duration": 10,
    "start_time": "2023-05-31T05:30:09.525Z"
   },
   {
    "duration": 22,
    "start_time": "2023-05-31T05:30:09.537Z"
   },
   {
    "duration": 7,
    "start_time": "2023-05-31T05:30:09.561Z"
   },
   {
    "duration": 36,
    "start_time": "2023-05-31T05:30:09.570Z"
   },
   {
    "duration": 4,
    "start_time": "2023-05-31T05:30:09.608Z"
   },
   {
    "duration": 12,
    "start_time": "2023-05-31T05:30:09.613Z"
   },
   {
    "duration": 7,
    "start_time": "2023-05-31T05:30:09.627Z"
   },
   {
    "duration": 96,
    "start_time": "2023-05-31T05:30:09.635Z"
   },
   {
    "duration": 142,
    "start_time": "2023-05-31T05:30:09.733Z"
   },
   {
    "duration": 189,
    "start_time": "2023-05-31T05:30:09.877Z"
   },
   {
    "duration": 212,
    "start_time": "2023-05-31T05:30:10.068Z"
   },
   {
    "duration": 49,
    "start_time": "2023-05-31T12:30:41.621Z"
   },
   {
    "duration": 1179,
    "start_time": "2023-05-31T12:30:45.730Z"
   },
   {
    "duration": 252,
    "start_time": "2023-05-31T12:30:46.911Z"
   },
   {
    "duration": 23,
    "start_time": "2023-05-31T12:30:47.164Z"
   },
   {
    "duration": 3,
    "start_time": "2023-05-31T12:30:47.189Z"
   },
   {
    "duration": 21,
    "start_time": "2023-05-31T12:30:47.194Z"
   },
   {
    "duration": 19,
    "start_time": "2023-05-31T12:30:47.216Z"
   },
   {
    "duration": 20,
    "start_time": "2023-05-31T12:30:47.237Z"
   },
   {
    "duration": 24,
    "start_time": "2023-05-31T12:30:47.258Z"
   },
   {
    "duration": 17,
    "start_time": "2023-05-31T12:30:47.284Z"
   },
   {
    "duration": 19,
    "start_time": "2023-05-31T12:30:47.303Z"
   },
   {
    "duration": 7,
    "start_time": "2023-05-31T12:30:47.323Z"
   },
   {
    "duration": 21,
    "start_time": "2023-05-31T12:30:47.331Z"
   },
   {
    "duration": 12,
    "start_time": "2023-05-31T12:30:47.353Z"
   },
   {
    "duration": 8,
    "start_time": "2023-05-31T12:30:49.406Z"
   },
   {
    "duration": 7,
    "start_time": "2023-05-31T12:31:04.255Z"
   },
   {
    "duration": 61,
    "start_time": "2023-05-31T12:41:14.480Z"
   },
   {
    "duration": 12,
    "start_time": "2023-05-31T12:41:30.192Z"
   },
   {
    "duration": 3,
    "start_time": "2023-05-31T12:49:21.253Z"
   },
   {
    "duration": 95,
    "start_time": "2023-05-31T12:49:21.258Z"
   },
   {
    "duration": 15,
    "start_time": "2023-05-31T12:49:21.354Z"
   },
   {
    "duration": 5,
    "start_time": "2023-05-31T12:49:21.371Z"
   },
   {
    "duration": 23,
    "start_time": "2023-05-31T12:49:21.378Z"
   },
   {
    "duration": 26,
    "start_time": "2023-05-31T12:49:21.403Z"
   },
   {
    "duration": 28,
    "start_time": "2023-05-31T12:49:21.431Z"
   },
   {
    "duration": 19,
    "start_time": "2023-05-31T12:49:21.461Z"
   },
   {
    "duration": 6,
    "start_time": "2023-05-31T12:49:21.482Z"
   },
   {
    "duration": 11,
    "start_time": "2023-05-31T12:49:21.489Z"
   },
   {
    "duration": 8,
    "start_time": "2023-05-31T12:49:21.502Z"
   },
   {
    "duration": 21,
    "start_time": "2023-05-31T12:49:21.511Z"
   },
   {
    "duration": 7,
    "start_time": "2023-05-31T12:49:21.533Z"
   },
   {
    "duration": 11,
    "start_time": "2023-05-31T12:49:21.542Z"
   },
   {
    "duration": 17,
    "start_time": "2023-05-31T12:49:21.555Z"
   },
   {
    "duration": 14,
    "start_time": "2023-05-31T12:49:21.573Z"
   },
   {
    "duration": 20,
    "start_time": "2023-05-31T12:49:21.588Z"
   },
   {
    "duration": 4,
    "start_time": "2023-05-31T12:49:21.609Z"
   },
   {
    "duration": 57,
    "start_time": "2023-05-31T12:49:21.614Z"
   },
   {
    "duration": 65,
    "start_time": "2023-05-31T12:49:21.672Z"
   },
   {
    "duration": 265,
    "start_time": "2023-05-31T12:49:21.739Z"
   },
   {
    "duration": 194,
    "start_time": "2023-05-31T12:49:22.005Z"
   },
   {
    "duration": 5,
    "start_time": "2023-05-31T12:49:22.201Z"
   },
   {
    "duration": 349,
    "start_time": "2023-05-31T12:49:22.208Z"
   },
   {
    "duration": 11,
    "start_time": "2023-05-31T12:49:22.559Z"
   },
   {
    "duration": 147,
    "start_time": "2023-05-31T12:49:22.572Z"
   },
   {
    "duration": 6,
    "start_time": "2023-05-31T12:49:22.720Z"
   },
   {
    "duration": 195,
    "start_time": "2023-05-31T12:49:22.728Z"
   },
   {
    "duration": 5,
    "start_time": "2023-05-31T12:49:22.926Z"
   },
   {
    "duration": 346,
    "start_time": "2023-05-31T12:49:24.959Z"
   },
   {
    "duration": 81,
    "start_time": "2023-05-31T12:52:25.083Z"
   },
   {
    "duration": 124,
    "start_time": "2023-05-31T12:52:25.984Z"
   },
   {
    "duration": 5,
    "start_time": "2023-05-31T12:52:37.568Z"
   },
   {
    "duration": 4,
    "start_time": "2023-05-31T12:52:46.721Z"
   },
   {
    "duration": 4,
    "start_time": "2023-05-31T12:55:07.118Z"
   },
   {
    "duration": 90,
    "start_time": "2023-05-31T12:56:54.920Z"
   },
   {
    "duration": 9,
    "start_time": "2023-05-31T13:00:13.016Z"
   },
   {
    "duration": 204,
    "start_time": "2023-05-31T14:33:18.222Z"
   },
   {
    "duration": 118,
    "start_time": "2023-05-31T14:36:35.057Z"
   },
   {
    "duration": 12,
    "start_time": "2023-05-31T14:36:37.139Z"
   },
   {
    "duration": 3,
    "start_time": "2023-05-31T14:36:49.410Z"
   },
   {
    "duration": 86,
    "start_time": "2023-05-31T14:36:49.415Z"
   },
   {
    "duration": 17,
    "start_time": "2023-05-31T14:36:49.503Z"
   },
   {
    "duration": 4,
    "start_time": "2023-05-31T14:36:49.522Z"
   },
   {
    "duration": 25,
    "start_time": "2023-05-31T14:36:49.528Z"
   },
   {
    "duration": 15,
    "start_time": "2023-05-31T14:36:49.555Z"
   },
   {
    "duration": 14,
    "start_time": "2023-05-31T14:36:49.572Z"
   },
   {
    "duration": 32,
    "start_time": "2023-05-31T14:36:49.588Z"
   },
   {
    "duration": 14,
    "start_time": "2023-05-31T14:36:49.622Z"
   },
   {
    "duration": 10,
    "start_time": "2023-05-31T14:36:49.638Z"
   },
   {
    "duration": 5,
    "start_time": "2023-05-31T14:36:49.652Z"
   },
   {
    "duration": 7,
    "start_time": "2023-05-31T14:36:49.658Z"
   },
   {
    "duration": 6,
    "start_time": "2023-05-31T14:36:49.667Z"
   },
   {
    "duration": 14,
    "start_time": "2023-05-31T14:36:49.674Z"
   },
   {
    "duration": 13,
    "start_time": "2023-05-31T14:36:49.690Z"
   },
   {
    "duration": 13,
    "start_time": "2023-05-31T14:36:49.704Z"
   },
   {
    "duration": 19,
    "start_time": "2023-05-31T14:36:49.718Z"
   },
   {
    "duration": 4,
    "start_time": "2023-05-31T14:36:49.738Z"
   },
   {
    "duration": 79,
    "start_time": "2023-05-31T14:36:49.744Z"
   },
   {
    "duration": 61,
    "start_time": "2023-05-31T14:36:49.824Z"
   },
   {
    "duration": 176,
    "start_time": "2023-05-31T14:36:49.887Z"
   },
   {
    "duration": 227,
    "start_time": "2023-05-31T14:36:50.064Z"
   },
   {
    "duration": 6,
    "start_time": "2023-05-31T14:36:50.292Z"
   },
   {
    "duration": 288,
    "start_time": "2023-05-31T14:36:50.299Z"
   },
   {
    "duration": 13,
    "start_time": "2023-05-31T14:36:50.588Z"
   },
   {
    "duration": 145,
    "start_time": "2023-05-31T14:36:50.603Z"
   },
   {
    "duration": 6,
    "start_time": "2023-05-31T14:36:50.750Z"
   },
   {
    "duration": 193,
    "start_time": "2023-05-31T14:36:50.757Z"
   },
   {
    "duration": 5,
    "start_time": "2023-05-31T14:36:50.953Z"
   },
   {
    "duration": 300,
    "start_time": "2023-05-31T14:36:50.960Z"
   },
   {
    "duration": 87,
    "start_time": "2023-05-31T14:36:51.262Z"
   },
   {
    "duration": 128,
    "start_time": "2023-05-31T14:36:51.351Z"
   },
   {
    "duration": 5,
    "start_time": "2023-05-31T14:36:51.480Z"
   },
   {
    "duration": 135,
    "start_time": "2023-05-31T14:36:51.486Z"
   },
   {
    "duration": 127,
    "start_time": "2023-05-31T14:36:51.623Z"
   },
   {
    "duration": 5,
    "start_time": "2023-05-31T14:36:51.751Z"
   },
   {
    "duration": 7,
    "start_time": "2023-05-31T14:36:51.757Z"
   },
   {
    "duration": 20,
    "start_time": "2023-05-31T14:36:51.765Z"
   },
   {
    "duration": 6,
    "start_time": "2023-05-31T14:36:51.787Z"
   },
   {
    "duration": 21,
    "start_time": "2023-05-31T14:36:51.794Z"
   },
   {
    "duration": 4,
    "start_time": "2023-05-31T14:36:51.816Z"
   },
   {
    "duration": 14,
    "start_time": "2023-05-31T14:36:51.821Z"
   },
   {
    "duration": 12,
    "start_time": "2023-05-31T14:36:51.836Z"
   },
   {
    "duration": 11,
    "start_time": "2023-05-31T14:36:51.849Z"
   },
   {
    "duration": 6,
    "start_time": "2023-05-31T14:36:51.862Z"
   },
   {
    "duration": 6,
    "start_time": "2023-05-31T14:36:51.885Z"
   },
   {
    "duration": 30,
    "start_time": "2023-05-31T14:36:51.893Z"
   },
   {
    "duration": 4,
    "start_time": "2023-05-31T14:36:51.925Z"
   },
   {
    "duration": 14,
    "start_time": "2023-05-31T14:36:51.930Z"
   },
   {
    "duration": 8,
    "start_time": "2023-05-31T14:36:51.945Z"
   },
   {
    "duration": 29,
    "start_time": "2023-05-31T14:36:51.955Z"
   },
   {
    "duration": 126,
    "start_time": "2023-05-31T14:36:51.985Z"
   },
   {
    "duration": 177,
    "start_time": "2023-05-31T14:36:52.112Z"
   },
   {
    "duration": 196,
    "start_time": "2023-05-31T14:36:52.290Z"
   },
   {
    "duration": 197,
    "start_time": "2023-05-31T14:36:52.488Z"
   },
   {
    "duration": 133,
    "start_time": "2023-05-31T14:36:52.687Z"
   },
   {
    "duration": 13,
    "start_time": "2023-05-31T14:36:52.821Z"
   },
   {
    "duration": 22,
    "start_time": "2023-05-31T14:37:02.483Z"
   },
   {
    "duration": 6,
    "start_time": "2023-05-31T14:41:16.663Z"
   },
   {
    "duration": 9,
    "start_time": "2023-05-31T14:41:34.995Z"
   },
   {
    "duration": 20,
    "start_time": "2023-05-31T14:41:45.613Z"
   },
   {
    "duration": 4,
    "start_time": "2023-05-31T14:41:47.340Z"
   },
   {
    "duration": 3,
    "start_time": "2023-05-31T14:54:53.646Z"
   },
   {
    "duration": 113,
    "start_time": "2023-05-31T14:54:53.651Z"
   },
   {
    "duration": 20,
    "start_time": "2023-05-31T14:54:53.767Z"
   },
   {
    "duration": 24,
    "start_time": "2023-05-31T14:54:53.789Z"
   },
   {
    "duration": 34,
    "start_time": "2023-05-31T14:54:53.815Z"
   },
   {
    "duration": 49,
    "start_time": "2023-05-31T14:54:53.851Z"
   },
   {
    "duration": 55,
    "start_time": "2023-05-31T14:54:53.901Z"
   },
   {
    "duration": 38,
    "start_time": "2023-05-31T14:54:53.958Z"
   },
   {
    "duration": 57,
    "start_time": "2023-05-31T14:54:53.999Z"
   },
   {
    "duration": 43,
    "start_time": "2023-05-31T14:54:54.057Z"
   },
   {
    "duration": 45,
    "start_time": "2023-05-31T14:54:54.102Z"
   },
   {
    "duration": 28,
    "start_time": "2023-05-31T14:54:54.150Z"
   },
   {
    "duration": 47,
    "start_time": "2023-05-31T14:54:54.180Z"
   },
   {
    "duration": 22,
    "start_time": "2023-05-31T14:54:54.233Z"
   },
   {
    "duration": 27,
    "start_time": "2023-05-31T14:54:54.257Z"
   },
   {
    "duration": 15,
    "start_time": "2023-05-31T14:54:54.286Z"
   },
   {
    "duration": 27,
    "start_time": "2023-05-31T14:54:54.303Z"
   },
   {
    "duration": 7,
    "start_time": "2023-05-31T14:54:54.332Z"
   },
   {
    "duration": 107,
    "start_time": "2023-05-31T14:54:54.341Z"
   },
   {
    "duration": 87,
    "start_time": "2023-05-31T14:54:54.450Z"
   },
   {
    "duration": 205,
    "start_time": "2023-05-31T14:54:54.540Z"
   },
   {
    "duration": 227,
    "start_time": "2023-05-31T14:54:54.746Z"
   },
   {
    "duration": 13,
    "start_time": "2023-05-31T14:54:54.975Z"
   },
   {
    "duration": 376,
    "start_time": "2023-05-31T14:54:54.993Z"
   },
   {
    "duration": 19,
    "start_time": "2023-05-31T14:54:55.371Z"
   },
   {
    "duration": 128,
    "start_time": "2023-05-31T14:54:55.391Z"
   },
   {
    "duration": 5,
    "start_time": "2023-05-31T14:54:55.521Z"
   },
   {
    "duration": 197,
    "start_time": "2023-05-31T14:54:55.527Z"
   },
   {
    "duration": 5,
    "start_time": "2023-05-31T14:54:55.725Z"
   },
   {
    "duration": 278,
    "start_time": "2023-05-31T14:54:55.731Z"
   },
   {
    "duration": 102,
    "start_time": "2023-05-31T14:54:56.011Z"
   },
   {
    "duration": 157,
    "start_time": "2023-05-31T14:54:56.115Z"
   },
   {
    "duration": 14,
    "start_time": "2023-05-31T14:54:56.273Z"
   },
   {
    "duration": 158,
    "start_time": "2023-05-31T14:54:56.289Z"
   },
   {
    "duration": 137,
    "start_time": "2023-05-31T14:54:56.449Z"
   },
   {
    "duration": 4,
    "start_time": "2023-05-31T14:54:56.588Z"
   },
   {
    "duration": 5,
    "start_time": "2023-05-31T14:54:58.557Z"
   },
   {
    "duration": 6,
    "start_time": "2023-05-31T14:54:59.821Z"
   },
   {
    "duration": 7,
    "start_time": "2023-05-31T14:55:01.846Z"
   },
   {
    "duration": 18,
    "start_time": "2023-05-31T14:55:06.296Z"
   },
   {
    "duration": 6,
    "start_time": "2023-05-31T14:55:07.270Z"
   },
   {
    "duration": 4,
    "start_time": "2023-05-31T15:30:16.115Z"
   },
   {
    "duration": 88,
    "start_time": "2023-05-31T15:30:16.121Z"
   },
   {
    "duration": 21,
    "start_time": "2023-05-31T15:30:16.211Z"
   },
   {
    "duration": 11,
    "start_time": "2023-05-31T15:30:16.234Z"
   },
   {
    "duration": 16,
    "start_time": "2023-05-31T15:30:16.247Z"
   },
   {
    "duration": 19,
    "start_time": "2023-05-31T15:30:16.265Z"
   },
   {
    "duration": 15,
    "start_time": "2023-05-31T15:30:16.286Z"
   },
   {
    "duration": 28,
    "start_time": "2023-05-31T15:30:16.303Z"
   },
   {
    "duration": 15,
    "start_time": "2023-05-31T15:30:16.333Z"
   },
   {
    "duration": 11,
    "start_time": "2023-05-31T15:30:16.349Z"
   },
   {
    "duration": 9,
    "start_time": "2023-05-31T15:30:16.361Z"
   },
   {
    "duration": 10,
    "start_time": "2023-05-31T15:30:16.372Z"
   },
   {
    "duration": 9,
    "start_time": "2023-05-31T15:30:16.384Z"
   },
   {
    "duration": 20,
    "start_time": "2023-05-31T15:30:16.395Z"
   },
   {
    "duration": 21,
    "start_time": "2023-05-31T15:30:16.416Z"
   },
   {
    "duration": 18,
    "start_time": "2023-05-31T15:30:16.439Z"
   },
   {
    "duration": 20,
    "start_time": "2023-05-31T15:30:16.459Z"
   },
   {
    "duration": 4,
    "start_time": "2023-05-31T15:30:16.481Z"
   },
   {
    "duration": 87,
    "start_time": "2023-05-31T15:30:16.487Z"
   },
   {
    "duration": 76,
    "start_time": "2023-05-31T15:30:16.576Z"
   },
   {
    "duration": 206,
    "start_time": "2023-05-31T15:30:16.654Z"
   },
   {
    "duration": 207,
    "start_time": "2023-05-31T15:30:16.862Z"
   },
   {
    "duration": 14,
    "start_time": "2023-05-31T15:30:17.071Z"
   },
   {
    "duration": 307,
    "start_time": "2023-05-31T15:30:17.088Z"
   },
   {
    "duration": 15,
    "start_time": "2023-05-31T15:30:17.397Z"
   },
   {
    "duration": 147,
    "start_time": "2023-05-31T15:30:17.414Z"
   },
   {
    "duration": 6,
    "start_time": "2023-05-31T15:30:17.562Z"
   },
   {
    "duration": 211,
    "start_time": "2023-05-31T15:30:17.569Z"
   },
   {
    "duration": 6,
    "start_time": "2023-05-31T15:30:17.782Z"
   },
   {
    "duration": 416,
    "start_time": "2023-05-31T15:30:17.789Z"
   },
   {
    "duration": 89,
    "start_time": "2023-05-31T15:30:18.207Z"
   },
   {
    "duration": 11,
    "start_time": "2023-05-31T15:30:20.998Z"
   },
   {
    "duration": 17,
    "start_time": "2023-05-31T15:34:22.614Z"
   },
   {
    "duration": 3,
    "start_time": "2023-05-31T15:34:28.331Z"
   },
   {
    "duration": 83,
    "start_time": "2023-05-31T15:34:28.336Z"
   },
   {
    "duration": 16,
    "start_time": "2023-05-31T15:34:28.421Z"
   },
   {
    "duration": 3,
    "start_time": "2023-05-31T15:34:28.438Z"
   },
   {
    "duration": 9,
    "start_time": "2023-05-31T15:34:28.443Z"
   },
   {
    "duration": 9,
    "start_time": "2023-05-31T15:34:28.454Z"
   },
   {
    "duration": 24,
    "start_time": "2023-05-31T15:34:28.464Z"
   },
   {
    "duration": 17,
    "start_time": "2023-05-31T15:34:28.489Z"
   },
   {
    "duration": 8,
    "start_time": "2023-05-31T15:34:28.507Z"
   },
   {
    "duration": 8,
    "start_time": "2023-05-31T15:34:28.516Z"
   },
   {
    "duration": 6,
    "start_time": "2023-05-31T15:34:28.527Z"
   },
   {
    "duration": 8,
    "start_time": "2023-05-31T15:34:28.535Z"
   },
   {
    "duration": 10,
    "start_time": "2023-05-31T15:34:28.545Z"
   },
   {
    "duration": 28,
    "start_time": "2023-05-31T15:34:28.557Z"
   },
   {
    "duration": 13,
    "start_time": "2023-05-31T15:34:28.587Z"
   },
   {
    "duration": 15,
    "start_time": "2023-05-31T15:34:28.602Z"
   },
   {
    "duration": 17,
    "start_time": "2023-05-31T15:34:28.619Z"
   },
   {
    "duration": 4,
    "start_time": "2023-05-31T15:34:28.638Z"
   },
   {
    "duration": 93,
    "start_time": "2023-05-31T15:34:28.643Z"
   },
   {
    "duration": 66,
    "start_time": "2023-05-31T15:34:28.737Z"
   },
   {
    "duration": 170,
    "start_time": "2023-05-31T15:34:28.805Z"
   },
   {
    "duration": 181,
    "start_time": "2023-05-31T15:34:28.976Z"
   },
   {
    "duration": 7,
    "start_time": "2023-05-31T15:34:29.159Z"
   },
   {
    "duration": 327,
    "start_time": "2023-05-31T15:34:29.168Z"
   },
   {
    "duration": 11,
    "start_time": "2023-05-31T15:34:29.497Z"
   },
   {
    "duration": 143,
    "start_time": "2023-05-31T15:34:29.509Z"
   },
   {
    "duration": 6,
    "start_time": "2023-05-31T15:34:29.653Z"
   },
   {
    "duration": 186,
    "start_time": "2023-05-31T15:34:29.660Z"
   },
   {
    "duration": 4,
    "start_time": "2023-05-31T15:34:29.849Z"
   },
   {
    "duration": 322,
    "start_time": "2023-05-31T15:34:29.855Z"
   },
   {
    "duration": 76,
    "start_time": "2023-05-31T15:34:30.184Z"
   },
   {
    "duration": 124,
    "start_time": "2023-05-31T15:34:30.262Z"
   },
   {
    "duration": 5,
    "start_time": "2023-05-31T15:34:30.388Z"
   },
   {
    "duration": 153,
    "start_time": "2023-05-31T15:34:30.394Z"
   },
   {
    "duration": 149,
    "start_time": "2023-05-31T15:34:30.549Z"
   },
   {
    "duration": 5,
    "start_time": "2023-05-31T15:34:30.699Z"
   },
   {
    "duration": 12,
    "start_time": "2023-05-31T15:34:33.783Z"
   },
   {
    "duration": 12,
    "start_time": "2023-05-31T15:35:48.773Z"
   },
   {
    "duration": 13,
    "start_time": "2023-05-31T15:37:05.773Z"
   },
   {
    "duration": 9,
    "start_time": "2023-05-31T15:37:34.256Z"
   },
   {
    "duration": 9,
    "start_time": "2023-05-31T15:38:03.301Z"
   },
   {
    "duration": 34,
    "start_time": "2023-05-31T15:38:30.245Z"
   },
   {
    "duration": 32,
    "start_time": "2023-05-31T15:38:53.817Z"
   },
   {
    "duration": 33,
    "start_time": "2023-05-31T15:39:01.226Z"
   },
   {
    "duration": 6,
    "start_time": "2023-05-31T15:39:08.525Z"
   },
   {
    "duration": 4,
    "start_time": "2023-05-31T15:39:39.850Z"
   },
   {
    "duration": 8,
    "start_time": "2023-05-31T15:40:43.364Z"
   },
   {
    "duration": 6,
    "start_time": "2023-05-31T15:40:44.969Z"
   },
   {
    "duration": 6,
    "start_time": "2023-05-31T15:40:52.316Z"
   },
   {
    "duration": 6,
    "start_time": "2023-05-31T15:40:56.618Z"
   },
   {
    "duration": 5,
    "start_time": "2023-05-31T15:41:03.783Z"
   },
   {
    "duration": 12,
    "start_time": "2023-05-31T15:43:48.574Z"
   },
   {
    "duration": 9,
    "start_time": "2023-05-31T15:44:01.945Z"
   },
   {
    "duration": 10,
    "start_time": "2023-05-31T15:44:49.544Z"
   },
   {
    "duration": 8,
    "start_time": "2023-05-31T15:45:24.543Z"
   },
   {
    "duration": 12,
    "start_time": "2023-05-31T15:46:43.609Z"
   },
   {
    "duration": 8,
    "start_time": "2023-05-31T15:46:47.256Z"
   },
   {
    "duration": 19,
    "start_time": "2023-05-31T15:46:53.529Z"
   },
   {
    "duration": 6,
    "start_time": "2023-05-31T15:46:55.837Z"
   },
   {
    "duration": 10,
    "start_time": "2023-05-31T15:47:09.191Z"
   },
   {
    "duration": 9,
    "start_time": "2023-05-31T15:47:10.569Z"
   },
   {
    "duration": 14,
    "start_time": "2023-05-31T15:48:21.286Z"
   },
   {
    "duration": 132,
    "start_time": "2023-05-31T15:48:22.064Z"
   },
   {
    "duration": 163,
    "start_time": "2023-05-31T15:48:23.193Z"
   },
   {
    "duration": 188,
    "start_time": "2023-05-31T15:48:34.027Z"
   },
   {
    "duration": 127,
    "start_time": "2023-05-31T15:58:04.399Z"
   },
   {
    "duration": 31,
    "start_time": "2023-05-31T15:58:18.194Z"
   },
   {
    "duration": 4,
    "start_time": "2023-05-31T15:59:13.934Z"
   },
   {
    "duration": 3,
    "start_time": "2023-05-31T15:59:34.702Z"
   },
   {
    "duration": 7,
    "start_time": "2023-05-31T16:04:52.568Z"
   },
   {
    "duration": 6,
    "start_time": "2023-05-31T16:06:53.630Z"
   },
   {
    "duration": 14,
    "start_time": "2023-05-31T19:51:08.148Z"
   },
   {
    "duration": 2,
    "start_time": "2023-05-31T19:51:13.057Z"
   },
   {
    "duration": 95,
    "start_time": "2023-05-31T19:51:13.062Z"
   },
   {
    "duration": 14,
    "start_time": "2023-05-31T19:51:13.158Z"
   },
   {
    "duration": 16,
    "start_time": "2023-05-31T19:51:13.174Z"
   },
   {
    "duration": 31,
    "start_time": "2023-05-31T19:51:13.191Z"
   },
   {
    "duration": 28,
    "start_time": "2023-05-31T19:51:13.224Z"
   },
   {
    "duration": 52,
    "start_time": "2023-05-31T19:51:13.253Z"
   },
   {
    "duration": 88,
    "start_time": "2023-05-31T19:51:13.307Z"
   },
   {
    "duration": 39,
    "start_time": "2023-05-31T19:51:13.396Z"
   },
   {
    "duration": 24,
    "start_time": "2023-05-31T19:51:13.437Z"
   },
   {
    "duration": 18,
    "start_time": "2023-05-31T19:51:13.465Z"
   },
   {
    "duration": 48,
    "start_time": "2023-05-31T19:51:13.484Z"
   },
   {
    "duration": 28,
    "start_time": "2023-05-31T19:51:13.534Z"
   },
   {
    "duration": 17,
    "start_time": "2023-05-31T19:51:13.564Z"
   },
   {
    "duration": 68,
    "start_time": "2023-05-31T19:51:13.583Z"
   },
   {
    "duration": 18,
    "start_time": "2023-05-31T19:51:13.653Z"
   },
   {
    "duration": 41,
    "start_time": "2023-05-31T19:51:13.672Z"
   },
   {
    "duration": 4,
    "start_time": "2023-05-31T19:51:13.715Z"
   },
   {
    "duration": 78,
    "start_time": "2023-05-31T19:51:13.720Z"
   },
   {
    "duration": 59,
    "start_time": "2023-05-31T19:51:13.799Z"
   },
   {
    "duration": 192,
    "start_time": "2023-05-31T19:51:13.859Z"
   },
   {
    "duration": 200,
    "start_time": "2023-05-31T19:51:14.053Z"
   },
   {
    "duration": 9,
    "start_time": "2023-05-31T19:51:14.255Z"
   },
   {
    "duration": 333,
    "start_time": "2023-05-31T19:51:14.265Z"
   },
   {
    "duration": 13,
    "start_time": "2023-05-31T19:51:14.600Z"
   },
   {
    "duration": 145,
    "start_time": "2023-05-31T19:51:14.614Z"
   },
   {
    "duration": 7,
    "start_time": "2023-05-31T19:51:14.760Z"
   },
   {
    "duration": 204,
    "start_time": "2023-05-31T19:51:14.769Z"
   },
   {
    "duration": 18,
    "start_time": "2023-05-31T19:51:14.976Z"
   },
   {
    "duration": 303,
    "start_time": "2023-05-31T19:51:15.003Z"
   },
   {
    "duration": 110,
    "start_time": "2023-05-31T19:51:15.309Z"
   },
   {
    "duration": 150,
    "start_time": "2023-05-31T19:51:15.421Z"
   },
   {
    "duration": 31,
    "start_time": "2023-05-31T19:51:15.572Z"
   },
   {
    "duration": 162,
    "start_time": "2023-05-31T19:51:15.606Z"
   },
   {
    "duration": 131,
    "start_time": "2023-05-31T19:51:15.770Z"
   },
   {
    "duration": 5,
    "start_time": "2023-05-31T19:51:15.903Z"
   },
   {
    "duration": 11,
    "start_time": "2023-05-31T19:51:15.910Z"
   },
   {
    "duration": 6,
    "start_time": "2023-05-31T19:51:15.922Z"
   },
   {
    "duration": 9,
    "start_time": "2023-05-31T19:51:15.929Z"
   },
   {
    "duration": 62,
    "start_time": "2023-05-31T19:51:15.940Z"
   },
   {
    "duration": 3,
    "start_time": "2023-05-31T19:51:16.004Z"
   },
   {
    "duration": 28,
    "start_time": "2023-05-31T19:51:16.009Z"
   },
   {
    "duration": 5,
    "start_time": "2023-05-31T19:51:16.039Z"
   },
   {
    "duration": 15,
    "start_time": "2023-05-31T19:51:19.131Z"
   },
   {
    "duration": 16,
    "start_time": "2023-05-31T19:51:26.523Z"
   },
   {
    "duration": 9,
    "start_time": "2023-05-31T19:53:29.317Z"
   },
   {
    "duration": 9,
    "start_time": "2023-05-31T19:54:21.431Z"
   },
   {
    "duration": 12,
    "start_time": "2023-05-31T19:56:29.899Z"
   },
   {
    "duration": 8,
    "start_time": "2023-05-31T19:57:13.010Z"
   },
   {
    "duration": 19,
    "start_time": "2023-05-31T19:57:15.713Z"
   },
   {
    "duration": 3,
    "start_time": "2023-05-31T19:57:19.131Z"
   },
   {
    "duration": 18,
    "start_time": "2023-05-31T19:57:59.633Z"
   },
   {
    "duration": 19,
    "start_time": "2023-05-31T19:58:11.636Z"
   },
   {
    "duration": 11,
    "start_time": "2023-05-31T19:58:56.406Z"
   },
   {
    "duration": 14,
    "start_time": "2023-05-31T19:59:00.490Z"
   },
   {
    "duration": 8,
    "start_time": "2023-05-31T19:59:13.164Z"
   },
   {
    "duration": 4,
    "start_time": "2023-05-31T20:14:00.319Z"
   },
   {
    "duration": 31,
    "start_time": "2023-05-31T20:14:47.113Z"
   },
   {
    "duration": 9,
    "start_time": "2023-05-31T20:19:05.832Z"
   },
   {
    "duration": 9,
    "start_time": "2023-05-31T20:20:27.846Z"
   },
   {
    "duration": 16,
    "start_time": "2023-05-31T20:23:07.735Z"
   },
   {
    "duration": 138,
    "start_time": "2023-05-31T20:23:08.883Z"
   },
   {
    "duration": 176,
    "start_time": "2023-05-31T20:23:10.503Z"
   },
   {
    "duration": 263,
    "start_time": "2023-05-31T20:23:26.102Z"
   },
   {
    "duration": 1007,
    "start_time": "2023-05-31T20:23:52.111Z"
   },
   {
    "duration": 98,
    "start_time": "2023-05-31T20:23:53.120Z"
   },
   {
    "duration": 19,
    "start_time": "2023-05-31T20:23:53.219Z"
   },
   {
    "duration": 3,
    "start_time": "2023-05-31T20:23:53.240Z"
   },
   {
    "duration": 12,
    "start_time": "2023-05-31T20:23:53.245Z"
   },
   {
    "duration": 8,
    "start_time": "2023-05-31T20:23:53.259Z"
   },
   {
    "duration": 10,
    "start_time": "2023-05-31T20:23:53.269Z"
   },
   {
    "duration": 43,
    "start_time": "2023-05-31T20:23:53.281Z"
   },
   {
    "duration": 10,
    "start_time": "2023-05-31T20:23:53.325Z"
   },
   {
    "duration": 16,
    "start_time": "2023-05-31T20:23:53.338Z"
   },
   {
    "duration": 10,
    "start_time": "2023-05-31T20:23:53.355Z"
   },
   {
    "duration": 9,
    "start_time": "2023-05-31T20:23:53.366Z"
   },
   {
    "duration": 5,
    "start_time": "2023-05-31T20:23:53.377Z"
   },
   {
    "duration": 31,
    "start_time": "2023-05-31T20:23:53.384Z"
   },
   {
    "duration": 16,
    "start_time": "2023-05-31T20:23:53.417Z"
   },
   {
    "duration": 12,
    "start_time": "2023-05-31T20:23:53.434Z"
   },
   {
    "duration": 20,
    "start_time": "2023-05-31T20:23:53.448Z"
   },
   {
    "duration": 6,
    "start_time": "2023-05-31T20:23:53.470Z"
   },
   {
    "duration": 72,
    "start_time": "2023-05-31T20:23:53.477Z"
   },
   {
    "duration": 92,
    "start_time": "2023-05-31T20:23:53.551Z"
   },
   {
    "duration": 338,
    "start_time": "2023-05-31T20:23:53.645Z"
   },
   {
    "duration": 195,
    "start_time": "2023-05-31T20:23:53.984Z"
   },
   {
    "duration": 27,
    "start_time": "2023-05-31T20:23:54.180Z"
   },
   {
    "duration": 290,
    "start_time": "2023-05-31T20:23:54.209Z"
   },
   {
    "duration": 11,
    "start_time": "2023-05-31T20:23:54.503Z"
   },
   {
    "duration": 133,
    "start_time": "2023-05-31T20:23:54.515Z"
   },
   {
    "duration": 6,
    "start_time": "2023-05-31T20:23:54.649Z"
   },
   {
    "duration": 201,
    "start_time": "2023-05-31T20:23:54.658Z"
   },
   {
    "duration": 7,
    "start_time": "2023-05-31T20:23:54.861Z"
   },
   {
    "duration": 312,
    "start_time": "2023-05-31T20:23:54.870Z"
   },
   {
    "duration": 103,
    "start_time": "2023-05-31T20:23:55.187Z"
   },
   {
    "duration": 125,
    "start_time": "2023-05-31T20:23:55.291Z"
   },
   {
    "duration": 5,
    "start_time": "2023-05-31T20:23:55.417Z"
   },
   {
    "duration": 174,
    "start_time": "2023-05-31T20:23:55.424Z"
   },
   {
    "duration": 130,
    "start_time": "2023-05-31T20:23:55.600Z"
   },
   {
    "duration": 4,
    "start_time": "2023-05-31T20:23:55.732Z"
   },
   {
    "duration": 18,
    "start_time": "2023-05-31T20:23:55.737Z"
   },
   {
    "duration": 6,
    "start_time": "2023-05-31T20:23:55.757Z"
   },
   {
    "duration": 40,
    "start_time": "2023-05-31T20:23:55.764Z"
   },
   {
    "duration": 25,
    "start_time": "2023-05-31T20:23:55.806Z"
   },
   {
    "duration": 4,
    "start_time": "2023-05-31T20:23:55.832Z"
   },
   {
    "duration": 11,
    "start_time": "2023-05-31T20:23:55.837Z"
   },
   {
    "duration": 7,
    "start_time": "2023-05-31T20:23:55.849Z"
   },
   {
    "duration": 78,
    "start_time": "2023-05-31T20:23:55.857Z"
   },
   {
    "duration": 19,
    "start_time": "2023-05-31T20:23:55.936Z"
   },
   {
    "duration": 7,
    "start_time": "2023-05-31T20:23:55.956Z"
   },
   {
    "duration": 30,
    "start_time": "2023-05-31T20:23:55.964Z"
   },
   {
    "duration": 6,
    "start_time": "2023-05-31T20:23:55.995Z"
   },
   {
    "duration": 19,
    "start_time": "2023-05-31T20:23:56.005Z"
   },
   {
    "duration": 9,
    "start_time": "2023-05-31T20:23:56.026Z"
   },
   {
    "duration": 32,
    "start_time": "2023-05-31T20:23:56.036Z"
   },
   {
    "duration": 191,
    "start_time": "2023-05-31T20:23:56.070Z"
   },
   {
    "duration": 246,
    "start_time": "2023-05-31T20:23:56.263Z"
   },
   {
    "duration": 194,
    "start_time": "2023-05-31T20:23:56.511Z"
   },
   {
    "duration": 5,
    "start_time": "2023-05-31T20:27:50.362Z"
   },
   {
    "duration": 5,
    "start_time": "2023-05-31T20:28:02.421Z"
   },
   {
    "duration": 1210,
    "start_time": "2023-06-01T01:56:36.822Z"
   },
   {
    "duration": 196,
    "start_time": "2023-06-01T01:56:38.033Z"
   },
   {
    "duration": 17,
    "start_time": "2023-06-01T01:56:38.231Z"
   },
   {
    "duration": 4,
    "start_time": "2023-06-01T01:56:38.250Z"
   },
   {
    "duration": 10,
    "start_time": "2023-06-01T01:56:38.256Z"
   },
   {
    "duration": 15,
    "start_time": "2023-06-01T01:56:38.267Z"
   },
   {
    "duration": 16,
    "start_time": "2023-06-01T01:56:38.283Z"
   },
   {
    "duration": 22,
    "start_time": "2023-06-01T01:56:38.300Z"
   },
   {
    "duration": 6,
    "start_time": "2023-06-01T01:56:38.323Z"
   },
   {
    "duration": 5,
    "start_time": "2023-06-01T01:56:38.332Z"
   },
   {
    "duration": 17,
    "start_time": "2023-06-01T01:56:38.339Z"
   },
   {
    "duration": 5,
    "start_time": "2023-06-01T01:56:38.357Z"
   },
   {
    "duration": 10,
    "start_time": "2023-06-01T01:56:38.364Z"
   },
   {
    "duration": 14,
    "start_time": "2023-06-01T01:56:38.375Z"
   },
   {
    "duration": 18,
    "start_time": "2023-06-01T01:56:38.391Z"
   },
   {
    "duration": 11,
    "start_time": "2023-06-01T01:56:38.411Z"
   },
   {
    "duration": 21,
    "start_time": "2023-06-01T01:56:38.423Z"
   },
   {
    "duration": 4,
    "start_time": "2023-06-01T01:56:38.446Z"
   },
   {
    "duration": 72,
    "start_time": "2023-06-01T01:56:38.451Z"
   },
   {
    "duration": 65,
    "start_time": "2023-06-01T01:56:38.525Z"
   },
   {
    "duration": 257,
    "start_time": "2023-06-01T01:56:38.592Z"
   },
   {
    "duration": 176,
    "start_time": "2023-06-01T01:56:38.850Z"
   },
   {
    "duration": 6,
    "start_time": "2023-06-01T01:56:39.027Z"
   },
   {
    "duration": 337,
    "start_time": "2023-06-01T01:56:39.035Z"
   },
   {
    "duration": 19,
    "start_time": "2023-06-01T01:56:39.373Z"
   },
   {
    "duration": 150,
    "start_time": "2023-06-01T01:56:39.393Z"
   },
   {
    "duration": 6,
    "start_time": "2023-06-01T01:56:39.545Z"
   },
   {
    "duration": 199,
    "start_time": "2023-06-01T01:56:39.555Z"
   },
   {
    "duration": 5,
    "start_time": "2023-06-01T01:56:39.755Z"
   },
   {
    "duration": 330,
    "start_time": "2023-06-01T01:56:39.762Z"
   },
   {
    "duration": 101,
    "start_time": "2023-06-01T01:56:40.095Z"
   },
   {
    "duration": 132,
    "start_time": "2023-06-01T01:56:40.199Z"
   },
   {
    "duration": 7,
    "start_time": "2023-06-01T01:56:40.332Z"
   },
   {
    "duration": 144,
    "start_time": "2023-06-01T01:56:40.340Z"
   },
   {
    "duration": 134,
    "start_time": "2023-06-01T01:56:40.485Z"
   },
   {
    "duration": 5,
    "start_time": "2023-06-01T01:56:40.620Z"
   },
   {
    "duration": 15,
    "start_time": "2023-06-01T01:56:40.627Z"
   },
   {
    "duration": 11,
    "start_time": "2023-06-01T01:56:40.644Z"
   },
   {
    "duration": 6,
    "start_time": "2023-06-01T01:56:40.656Z"
   },
   {
    "duration": 44,
    "start_time": "2023-06-01T01:56:40.663Z"
   },
   {
    "duration": 4,
    "start_time": "2023-06-01T01:56:40.709Z"
   },
   {
    "duration": 9,
    "start_time": "2023-06-01T01:56:40.715Z"
   },
   {
    "duration": 8,
    "start_time": "2023-06-01T01:56:40.726Z"
   },
   {
    "duration": 81,
    "start_time": "2023-06-01T01:56:40.735Z"
   },
   {
    "duration": 10,
    "start_time": "2023-06-01T01:56:40.817Z"
   },
   {
    "duration": 9,
    "start_time": "2023-06-01T01:56:40.828Z"
   },
   {
    "duration": 22,
    "start_time": "2023-06-01T01:56:40.839Z"
   },
   {
    "duration": 3,
    "start_time": "2023-06-01T01:56:40.863Z"
   },
   {
    "duration": 14,
    "start_time": "2023-06-01T01:56:40.885Z"
   },
   {
    "duration": 15,
    "start_time": "2023-06-01T01:56:40.902Z"
   },
   {
    "duration": 13,
    "start_time": "2023-06-01T01:56:40.918Z"
   },
   {
    "duration": 147,
    "start_time": "2023-06-01T01:56:40.932Z"
   },
   {
    "duration": 197,
    "start_time": "2023-06-01T01:56:41.080Z"
   },
   {
    "duration": 207,
    "start_time": "2023-06-01T01:56:41.278Z"
   },
   {
    "duration": 6,
    "start_time": "2023-06-01T01:58:40.545Z"
   },
   {
    "duration": 8,
    "start_time": "2023-06-01T01:58:46.991Z"
   },
   {
    "duration": 7,
    "start_time": "2023-06-01T01:59:08.925Z"
   },
   {
    "duration": 9,
    "start_time": "2023-06-01T01:59:56.291Z"
   },
   {
    "duration": 8,
    "start_time": "2023-06-01T02:00:07.991Z"
   },
   {
    "duration": 7,
    "start_time": "2023-06-01T02:00:23.108Z"
   },
   {
    "duration": 8,
    "start_time": "2023-06-01T02:01:16.205Z"
   },
   {
    "duration": 120,
    "start_time": "2023-06-01T02:01:36.127Z"
   },
   {
    "duration": 64,
    "start_time": "2023-06-01T14:25:09.707Z"
   },
   {
    "duration": 1327,
    "start_time": "2023-06-01T14:25:14.253Z"
   },
   {
    "duration": 234,
    "start_time": "2023-06-01T14:25:15.582Z"
   },
   {
    "duration": 25,
    "start_time": "2023-06-01T14:25:15.818Z"
   },
   {
    "duration": 4,
    "start_time": "2023-06-01T14:25:15.845Z"
   },
   {
    "duration": 24,
    "start_time": "2023-06-01T14:25:15.850Z"
   },
   {
    "duration": 16,
    "start_time": "2023-06-01T14:25:15.876Z"
   },
   {
    "duration": 35,
    "start_time": "2023-06-01T14:25:15.894Z"
   },
   {
    "duration": 25,
    "start_time": "2023-06-01T14:25:15.930Z"
   },
   {
    "duration": 18,
    "start_time": "2023-06-01T14:25:15.956Z"
   },
   {
    "duration": 15,
    "start_time": "2023-06-01T14:25:15.976Z"
   },
   {
    "duration": 4,
    "start_time": "2023-06-01T14:25:15.993Z"
   },
   {
    "duration": 26,
    "start_time": "2023-06-01T14:25:15.998Z"
   },
   {
    "duration": 7,
    "start_time": "2023-06-01T14:25:16.026Z"
   },
   {
    "duration": 13,
    "start_time": "2023-06-01T14:25:17.291Z"
   },
   {
    "duration": 6,
    "start_time": "2023-06-01T14:26:08.494Z"
   },
   {
    "duration": 9,
    "start_time": "2023-06-01T14:27:26.907Z"
   },
   {
    "duration": 62,
    "start_time": "2023-06-01T14:28:45.638Z"
   },
   {
    "duration": 11,
    "start_time": "2023-06-01T14:29:07.181Z"
   },
   {
    "duration": 10,
    "start_time": "2023-06-01T14:29:19.770Z"
   },
   {
    "duration": 6,
    "start_time": "2023-06-01T14:30:41.202Z"
   },
   {
    "duration": 5,
    "start_time": "2023-06-01T14:30:48.656Z"
   },
   {
    "duration": 5,
    "start_time": "2023-06-01T14:30:56.111Z"
   },
   {
    "duration": 7,
    "start_time": "2023-06-01T14:32:19.387Z"
   },
   {
    "duration": 5,
    "start_time": "2023-06-01T14:33:44.595Z"
   },
   {
    "duration": 5,
    "start_time": "2023-06-01T14:34:43.317Z"
   },
   {
    "duration": 1167,
    "start_time": "2023-06-01T15:10:41.806Z"
   },
   {
    "duration": 100,
    "start_time": "2023-06-01T15:10:42.975Z"
   },
   {
    "duration": 22,
    "start_time": "2023-06-01T15:10:43.076Z"
   },
   {
    "duration": 3,
    "start_time": "2023-06-01T15:10:43.100Z"
   },
   {
    "duration": 16,
    "start_time": "2023-06-01T15:10:43.105Z"
   },
   {
    "duration": 19,
    "start_time": "2023-06-01T15:10:43.122Z"
   },
   {
    "duration": 17,
    "start_time": "2023-06-01T15:10:43.146Z"
   },
   {
    "duration": 15,
    "start_time": "2023-06-01T15:10:43.165Z"
   },
   {
    "duration": 11,
    "start_time": "2023-06-01T15:10:43.182Z"
   },
   {
    "duration": 6,
    "start_time": "2023-06-01T15:10:43.195Z"
   },
   {
    "duration": 23,
    "start_time": "2023-06-01T15:10:43.203Z"
   },
   {
    "duration": 7,
    "start_time": "2023-06-01T15:10:43.235Z"
   },
   {
    "duration": 17,
    "start_time": "2023-06-01T15:10:43.243Z"
   },
   {
    "duration": 7,
    "start_time": "2023-06-01T15:10:43.262Z"
   },
   {
    "duration": 12,
    "start_time": "2023-06-01T15:10:43.271Z"
   },
   {
    "duration": 12,
    "start_time": "2023-06-01T15:10:43.284Z"
   },
   {
    "duration": 27,
    "start_time": "2023-06-01T15:10:43.326Z"
   },
   {
    "duration": 5,
    "start_time": "2023-06-01T15:10:43.355Z"
   },
   {
    "duration": 83,
    "start_time": "2023-06-01T15:10:43.361Z"
   },
   {
    "duration": 65,
    "start_time": "2023-06-01T15:10:43.445Z"
   },
   {
    "duration": 287,
    "start_time": "2023-06-01T15:10:43.512Z"
   },
   {
    "duration": 232,
    "start_time": "2023-06-01T15:10:43.801Z"
   },
   {
    "duration": 10,
    "start_time": "2023-06-01T15:10:44.035Z"
   },
   {
    "duration": 327,
    "start_time": "2023-06-01T15:10:44.047Z"
   },
   {
    "duration": 12,
    "start_time": "2023-06-01T15:10:44.376Z"
   },
   {
    "duration": 201,
    "start_time": "2023-06-01T15:10:44.390Z"
   },
   {
    "duration": 6,
    "start_time": "2023-06-01T15:10:44.593Z"
   },
   {
    "duration": 254,
    "start_time": "2023-06-01T15:10:44.602Z"
   },
   {
    "duration": 8,
    "start_time": "2023-06-01T15:10:44.858Z"
   },
   {
    "duration": 332,
    "start_time": "2023-06-01T15:10:44.868Z"
   },
   {
    "duration": 97,
    "start_time": "2023-06-01T15:10:45.202Z"
   },
   {
    "duration": 153,
    "start_time": "2023-06-01T15:10:45.300Z"
   },
   {
    "duration": 5,
    "start_time": "2023-06-01T15:10:45.454Z"
   },
   {
    "duration": 174,
    "start_time": "2023-06-01T15:10:45.461Z"
   },
   {
    "duration": 153,
    "start_time": "2023-06-01T15:10:45.637Z"
   },
   {
    "duration": 5,
    "start_time": "2023-06-01T15:10:45.792Z"
   },
   {
    "duration": 43,
    "start_time": "2023-06-01T15:10:45.799Z"
   },
   {
    "duration": 8,
    "start_time": "2023-06-01T15:10:45.844Z"
   },
   {
    "duration": 9,
    "start_time": "2023-06-01T15:10:45.854Z"
   },
   {
    "duration": 26,
    "start_time": "2023-06-01T15:10:45.865Z"
   },
   {
    "duration": 35,
    "start_time": "2023-06-01T15:10:45.893Z"
   },
   {
    "duration": 16,
    "start_time": "2023-06-01T15:10:45.935Z"
   },
   {
    "duration": 27,
    "start_time": "2023-06-01T15:10:45.953Z"
   },
   {
    "duration": 88,
    "start_time": "2023-06-01T15:10:45.982Z"
   },
   {
    "duration": 7,
    "start_time": "2023-06-01T15:10:46.072Z"
   },
   {
    "duration": 8,
    "start_time": "2023-06-01T15:10:46.081Z"
   },
   {
    "duration": 68,
    "start_time": "2023-06-01T15:10:46.091Z"
   },
   {
    "duration": 6,
    "start_time": "2023-06-01T15:10:46.161Z"
   },
   {
    "duration": 18,
    "start_time": "2023-06-01T15:10:46.169Z"
   },
   {
    "duration": 8,
    "start_time": "2023-06-01T15:10:46.189Z"
   },
   {
    "duration": 30,
    "start_time": "2023-06-01T15:10:46.229Z"
   },
   {
    "duration": 166,
    "start_time": "2023-06-01T15:10:46.261Z"
   },
   {
    "duration": 219,
    "start_time": "2023-06-01T15:10:46.433Z"
   },
   {
    "duration": 305,
    "start_time": "2023-06-01T15:10:46.654Z"
   }
  ],
  "kernelspec": {
   "display_name": "Python 3 (ipykernel)",
   "language": "python",
   "name": "python3"
  },
  "language_info": {
   "codemirror_mode": {
    "name": "ipython",
    "version": 3
   },
   "file_extension": ".py",
   "mimetype": "text/x-python",
   "name": "python",
   "nbconvert_exporter": "python",
   "pygments_lexer": "ipython3",
   "version": "3.9.16"
  },
  "toc": {
   "base_numbering": 1,
   "nav_menu": {
    "height": "198px",
    "width": "554px"
   },
   "number_sections": true,
   "sideBar": true,
   "skip_h1_title": true,
   "title_cell": "Table of Contents",
   "title_sidebar": "Contents",
   "toc_cell": false,
   "toc_position": {
    "height": "calc(100% - 180px)",
    "left": "10px",
    "top": "150px",
    "width": "208.391px"
   },
   "toc_section_display": true,
   "toc_window_display": true
  }
 },
 "nbformat": 4,
 "nbformat_minor": 2
}
